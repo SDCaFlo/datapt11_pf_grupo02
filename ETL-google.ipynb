{
 "cells": [
  {
   "cell_type": "markdown",
   "metadata": {},
   "source": [
    "# EDA dataset Google\n",
    "La finalidad de este notebook es hacer una revisión de los datos actuales, realizar un EDA, para determinar un  SCOPE y posteriormente un ETL.\n",
    "Vamos a trabajar con la libreria SPARK."
   ]
  },
  {
   "cell_type": "code",
   "execution_count": 1,
   "metadata": {},
   "outputs": [],
   "source": [
    "import os\n",
    "os.environ[\"SPARK_HOME\"] = r\"F:\\DataScience\\spark\\spark-3.5.3-bin-hadoop3\\spark-3.5.3-bin-hadoop3\"\n",
    "os.environ[\"HADOOP_HOME\"] = r\"F:\\DataScience\\hadoop\\hadoop-3.4.0\"\n",
    "os.environ[\"HADOOP_CONF_DIR\"] = r\"F:\\DataScience\\hadoop\\hadoop-3.4.0\\etc\\hadoop\"\n",
    "\n",
    "import findspark\n",
    "import pickle\n",
    "import pandas as pd\n",
    "import numpy as np\n",
    "\n",
    "\n",
    "findspark.init()\n",
    "\n",
    "\n",
    "from pyspark.sql import SparkSession\n",
    "\n",
    "spark = SparkSession.builder.master(\"local[4]\").config(\"spark.executor.memory\", \"8g\").appName(\"PySpark\").getOrCreate()\n",
    "#para cerrar la sesión debemos usar spark.stop()"
   ]
  },
  {
   "cell_type": "code",
   "execution_count": 2,
   "metadata": {},
   "outputs": [
    {
     "name": "stdout",
     "output_type": "stream",
     "text": [
      "3.5.3\n"
     ]
    }
   ],
   "source": [
    "print(spark.version)"
   ]
  },
  {
   "cell_type": "code",
   "execution_count": 3,
   "metadata": {},
   "outputs": [],
   "source": [
    "import re\n",
    "from pyspark.sql.functions import explode\n",
    "from pyspark.sql.functions import size, max as spark_max, min as spark_min, avg\n",
    "from pyspark.sql.functions import col\n",
    "from pyspark.sql.functions import regexp_extract\n",
    "from pyspark.sql.functions import sum, when\n",
    "from nltk.corpus import stopwords\n",
    "from nltk.stem import WordNetLemmatizer\n",
    "from sklearn.feature_extraction.text import TfidfVectorizer\n",
    "from sklearn.metrics.pairwise import cosine_similarity\n",
    "import ast\n"
   ]
  },
  {
   "cell_type": "code",
   "execution_count": null,
   "metadata": {},
   "outputs": [],
   "source": [
    "# Creamos la lista de estados unicos en USA.\n",
    "STATES_LIST = ['AZ', 'SC', 'LA', 'MN', 'NJ', 'DC', 'OR', 'VA', 'RI', 'KY', 'NH', 'MI', 'WY', 'FS', 'NW', 'NV', 'WI', 'ID', 'CA', 'NE', 'CT', 'MT', 'NC', 'MD', 'DE', 'MO', 'VT', 'IL', 'ME', 'WA', 'ND', 'MS', 'AL', 'IN', 'OH', 'TN', 'NM', 'IA', 'PA', 'SD', 'CR', 'US', 'NY', 'TX', 'WV', 'GA', 'MA', 'KS', '', 'CO', 'FL', 'AK', 'AR', 'OK', 'UT', 'HI', 'EW']"
   ]
  },
  {
   "cell_type": "markdown",
   "metadata": {},
   "source": [
    "# Datos Google\n",
    "Aqui tenemos basicamente dos datasets.\n",
    "\n",
    "1. metadata-sitios: Metadata de todos los sites. Incluye cantidad de comentarios, descripcion, locación, categoria, rating promedio, etc.\n",
    "2. review-estados: Cada uno de los reviews organizados por estado. Información relevante: usuario, texto, rating, gmap_id (id del negocio) "
   ]
  },
  {
   "cell_type": "markdown",
   "metadata": {},
   "source": [
    "## Metadata Sitios"
   ]
  },
  {
   "cell_type": "code",
   "execution_count": 4,
   "metadata": {},
   "outputs": [],
   "source": [
    "ruta_lectura = r\"F:\\DataScience\\PF - DataNova\\datasets\\Google Maps\\metadata-sitios\\1.json\""
   ]
  },
  {
   "cell_type": "code",
   "execution_count": null,
   "metadata": {},
   "outputs": [],
   "source": [
    "df = spark.read.json(ruta_lectura)\n",
    "# Considerar el uso de persist o cache\n",
    "df_cached = df.cache()"
   ]
  },
  {
   "cell_type": "code",
   "execution_count": 6,
   "metadata": {},
   "outputs": [],
   "source": [
    "#intentamos cargar todos los archivos.\n",
    "#ruta_lectura_full = r\"F:\\DataScience\\PF - DataNova\\datasets\\Google Maps\\metadata-sitios\\*.json\"\n",
    "#df_full = spark.read.json(ruta_lectura_full)\n",
    "# este método no resulta eficiente, toma mas de 20 minutos en cargar todos los archivos."
   ]
  },
  {
   "cell_type": "code",
   "execution_count": 7,
   "metadata": {},
   "outputs": [
    {
     "name": "stdout",
     "output_type": "stream",
     "text": [
      "+--------------------+--------------------+----------+--------------------+--------------------+--------------------+--------------------+------------------+-------------------+--------------------+--------------+-----+--------------------+--------------------+--------------------+\n",
      "|                MISC|             address|avg_rating|            category|         description|             gmap_id|               hours|          latitude|          longitude|                name|num_of_reviews|price|    relative_results|               state|                 url|\n",
      "+--------------------+--------------------+----------+--------------------+--------------------+--------------------+--------------------+------------------+-------------------+--------------------+--------------+-----+--------------------+--------------------+--------------------+\n",
      "|{[Wheelchair acce...|Porter Pharmacy, ...|       4.9|          [Pharmacy]|                NULL|0x88f16e41928ff68...|[[Friday, 8AM–6PM...|           32.3883|           -83.3571|     Porter Pharmacy|            16| NULL|[0x88f16e41929435...|   Open ⋅ Closes 6PM|https://www.googl...|\n",
      "|                NULL|City Textile, 300...|       4.5|  [Textile exporter]|                NULL|0x80c2c98c0e3c16f...|                NULL|        34.0188913|       -118.2152898|        City Textile|             6| NULL|[0x80c2c624136ea8...|            Open now|https://www.googl...|\n",
      "|{[Wheelchair acce...|San Soo Dang, 761...|       4.4| [Korean restaurant]|                NULL|0x80c2c778e3b73d3...|[[Thursday, 6:30A...|        34.0580917|       -118.2921295|        San Soo Dang|            18| NULL|[0x80c2c78249aba6...|   Open ⋅ Closes 6PM|https://www.googl...|\n",
      "|{NULL, NULL, NULL...|Nova Fabrics, 220...|       3.3|      [Fabric store]|                NULL|0x80c2c89923b27a4...|[[Thursday, 9AM–5...|        34.0236689|       -118.2329297|        Nova Fabrics|             6| NULL|[0x80c2c881147725...|   Open ⋅ Closes 5PM|https://www.googl...|\n",
      "|{NULL, NULL, NULL...|Nobel Textile Co,...|       4.3|      [Fabric store]|                NULL|0x80c2c632f933b07...|[[Thursday, 9AM–5...|        34.0366942|       -118.2494208|    Nobel Textile Co|             7| NULL|[0x80c2c62c496083...|   Open ⋅ Closes 5PM|https://www.googl...|\n",
      "|{[Wheelchair acce...|Matrix Internatio...|       3.5|      [Fabric store]|                NULL|0x80c2cf163db6bc8...|[[Thursday, 8:30A...|        34.0155047|       -118.1818394|Matrix Internatio...|             6| NULL|[0x80c2cf042a5d95...|Open ⋅ Closes 5:30PM|https://www.googl...|\n",
      "|{[Wheelchair acce...|Vons Chicken, 127...|       4.5|        [Restaurant]|                NULL|0x80dd2b4c8555edb...|[[Thursday, 11AM–...|        33.9164023|-118.01085499999999|        Vons Chicken|            18| NULL|                NULL|Open ⋅ Closes 9:30PM|https://www.googl...|\n",
      "|{[Wheelchair acce...|Polished Nail Sal...|       4.0|[Nail salon, Waxi...|                NULL|0x87ec238afdd8837...|[[Thursday, 9AM–8...|41.614197999999995|        -93.8472695|Polished Nail Sal...|            86| NULL|[0x87ec2481df68e1...|   Open ⋅ Closes 8PM|https://www.googl...|\n",
      "|{NULL, NULL, NULL...|Sweet Rewards Glu...|       4.7|[Bakery, Health f...|                NULL|0x87ec235c54d25b3...|[[Thursday, 10AM–...|         41.616079|         -93.865487|Sweet Rewards Glu...|            21| NULL|[0x87ee9748692955...|  Permanently closed|https://www.googl...|\n",
      "|                NULL|                NULL|       5.0|[Greeting card sh...|                NULL|0x87ee85ac3cb23b4...|[[Thursday, 7AM–8...|         41.846035|        -93.7561175|           PeepNotes|             1| NULL|[0x87ee915d9604ea...|   Open ⋅ Closes 8PM|https://www.googl...|\n",
      "|{[Wheelchair acce...|Lush Family Denta...|       5.0|[Dentist, Cosmeti...|                NULL|0x87ec2394c2cd9d2...|[[Thursday, 7AM–4...|        41.5852916|        -93.8551126|  Lush Family Dental|           178| NULL|[0x87ec2482098b66...|   Open ⋅ Closes 4PM|https://www.googl...|\n",
      "|{[Wheelchair acce...|515 Auto Shades, ...|       5.0|[Auto glass shop,...|                NULL|0x87ee95d1e474531...|[[Thursday, 9AM–6...|         41.606082|        -93.4986302|     515 Auto Shades|            28| NULL|                NULL|   Open ⋅ Closes 6PM|https://www.googl...|\n",
      "|{[Wheelchair acce...|Lena’s Beauty Nai...|       4.2|      [Beauty salon]|                NULL|0x87ec2481df6626b...|[[Thursday, 9AM–7...|        41.6163101|         -93.858345|Lena’s Beauty Nai...|           128| NULL|[0x87ec20ce836cac...|   Open ⋅ Closes 7PM|https://www.googl...|\n",
      "|{[Wheelchair acce...|Black Tie Ski Ren...|       5.0|[Ski rental servi...|                NULL|0x80960c29f2e3bf2...|[[Thursday, 8AM–5...|37.638754399999996|-118.96605509999999|Black Tie Ski Ren...|            34| NULL|[0x80960dcd6ba767...|   Open ⋅ Closes 5PM|https://www.googl...|\n",
      "|{[Wheelchair acce...|NTK OUTDOOR, 2315...|       5.0|  [Corporate office]|                NULL|0x88d9beb4fe0532c...|[[Thursday, 9AM–6...|        25.7952041|        -80.3660381|         NTK OUTDOOR|            35| NULL|[0x88d9bfd49a624c...|   Open ⋅ Closes 6PM|https://www.googl...|\n",
      "|                NULL|Angel-A Massage, ...|       4.3|[Massage spa, Chi...|                NULL|0x809adef58ae560b...|[[Thursday, 9:30A...|        38.6626297|       -121.3086388|     Angel-A Massage|             6| NULL|[0x809adee9ac6f1b...|Open ⋅ Closes 9:30PM|https://www.googl...|\n",
      "|{[Wheelchair acce...|Dunn-Edwards Pain...|       4.7|[Paint store, Pai...|Chain selling int...|0x809b1ff6d3a60c4...|[[Thursday, 6:30A...|        38.7434619|       -121.2587612| Dunn-Edwards Paints|            26| NULL|[0x809b201630f908...|   Open ⋅ Closes 5PM|https://www.googl...|\n",
      "|                NULL|Elite Massage, 81...|       5.0| [Massage therapist]|                NULL|0x809ae0a7ce91433...|                NULL|        38.6649155|       -121.2601916|       Elite Massage|             1| NULL|[0x809ade27605def...|                NULL|https://www.googl...|\n",
      "|{[Wheelchair acce...|PODS Sacramento H...|       4.0|  [Corporate office]|                NULL|0x809ad95924805cf...|                NULL|         38.658994|       -121.4129579| PODS Sacramento Hub|             8| NULL|[0x809ad8fc85a035...|            Open now|https://www.googl...|\n",
      "|{[Wheelchair acce...|Happy Spa & Massa...|       2.7|[Massage therapis...|                NULL|0x809b217a6cbe4fa...|[[Thursday, 9:30A...|        38.7855482|       -121.2868859|Happy Spa & Massa...|             8| NULL|[0x809b20410d8df0...|  Open ⋅ Closes 10PM|https://www.googl...|\n",
      "+--------------------+--------------------+----------+--------------------+--------------------+--------------------+--------------------+------------------+-------------------+--------------------+--------------+-----+--------------------+--------------------+--------------------+\n",
      "only showing top 20 rows\n",
      "\n"
     ]
    }
   ],
   "source": [
    "# revision del df.\n",
    "df_cached.show()"
   ]
  },
  {
   "cell_type": "code",
   "execution_count": 372,
   "metadata": {},
   "outputs": [
    {
     "data": {
      "text/plain": [
       "275001"
      ]
     },
     "execution_count": 372,
     "metadata": {},
     "output_type": "execute_result"
    }
   ],
   "source": [
    "# cantidad de filas.\n",
    "df_cached.count()"
   ]
  },
  {
   "cell_type": "code",
   "execution_count": 373,
   "metadata": {},
   "outputs": [
    {
     "name": "stdout",
     "output_type": "stream",
     "text": [
      "root\n",
      " |-- MISC: struct (nullable = true)\n",
      " |    |-- Accessibility: array (nullable = true)\n",
      " |    |    |-- element: string (containsNull = true)\n",
      " |    |-- Activities: array (nullable = true)\n",
      " |    |    |-- element: string (containsNull = true)\n",
      " |    |-- Amenities: array (nullable = true)\n",
      " |    |    |-- element: string (containsNull = true)\n",
      " |    |-- Atmosphere: array (nullable = true)\n",
      " |    |    |-- element: string (containsNull = true)\n",
      " |    |-- Crowd: array (nullable = true)\n",
      " |    |    |-- element: string (containsNull = true)\n",
      " |    |-- Dining options: array (nullable = true)\n",
      " |    |    |-- element: string (containsNull = true)\n",
      " |    |-- From the business: array (nullable = true)\n",
      " |    |    |-- element: string (containsNull = true)\n",
      " |    |-- Getting here: array (nullable = true)\n",
      " |    |    |-- element: string (containsNull = true)\n",
      " |    |-- Health & safety: array (nullable = true)\n",
      " |    |    |-- element: string (containsNull = true)\n",
      " |    |-- Highlights: array (nullable = true)\n",
      " |    |    |-- element: string (containsNull = true)\n",
      " |    |-- Offerings: array (nullable = true)\n",
      " |    |    |-- element: string (containsNull = true)\n",
      " |    |-- Payments: array (nullable = true)\n",
      " |    |    |-- element: string (containsNull = true)\n",
      " |    |-- Planning: array (nullable = true)\n",
      " |    |    |-- element: string (containsNull = true)\n",
      " |    |-- Popular for: array (nullable = true)\n",
      " |    |    |-- element: string (containsNull = true)\n",
      " |    |-- Recycling: array (nullable = true)\n",
      " |    |    |-- element: string (containsNull = true)\n",
      " |    |-- Service options: array (nullable = true)\n",
      " |    |    |-- element: string (containsNull = true)\n",
      " |-- address: string (nullable = true)\n",
      " |-- avg_rating: double (nullable = true)\n",
      " |-- category: array (nullable = true)\n",
      " |    |-- element: string (containsNull = true)\n",
      " |-- description: string (nullable = true)\n",
      " |-- gmap_id: string (nullable = true)\n",
      " |-- hours: array (nullable = true)\n",
      " |    |-- element: array (containsNull = true)\n",
      " |    |    |-- element: string (containsNull = true)\n",
      " |-- latitude: double (nullable = true)\n",
      " |-- longitude: double (nullable = true)\n",
      " |-- name: string (nullable = true)\n",
      " |-- num_of_reviews: long (nullable = true)\n",
      " |-- price: string (nullable = true)\n",
      " |-- relative_results: array (nullable = true)\n",
      " |    |-- element: string (containsNull = true)\n",
      " |-- state: string (nullable = true)\n",
      " |-- url: string (nullable = true)\n",
      "\n"
     ]
    }
   ],
   "source": [
    "# Esquema de la tabla. total de 15 columnas\n",
    "df_cached.printSchema()"
   ]
  },
  {
   "cell_type": "code",
   "execution_count": 62,
   "metadata": {},
   "outputs": [
    {
     "name": "stdout",
     "output_type": "stream",
     "text": [
      "+-------+--------------------+------------------+--------------------+--------------------+-------------------+-------------------+--------------------+------------------+-----+------------------+--------------------+\n",
      "|summary|             address|        avg_rating|         description|             gmap_id|           latitude|          longitude|                name|    num_of_reviews|price|             state|                 url|\n",
      "+-------+--------------------+------------------+--------------------+--------------------+-------------------+-------------------+--------------------+------------------+-----+------------------+--------------------+\n",
      "|  count|              264939|            275001|               13155|              275001|             275001|             275001|              274994|            275001|13450|            195523|              275001|\n",
      "|   mean|                NULL| 4.307215610124819|                NULL|                NULL|  37.49011244811361| -92.27470752969505|  111.45454545454545| 19.72275009909055| NULL|              NULL|                NULL|\n",
      "| stddev|                NULL|0.7901014711929062|                NULL|                NULL|  5.405779913612219| 16.414616526884657|  219.33138325788715|37.642092269090824| NULL|              NULL|                NULL|\n",
      "|    min|\"Bill\" Fuchs Park...|               1.0|\"Aphrodisiac\" glo...|0x0:0x1cda8cf8c09...|-1.7660589999999998|-176.64464759999998|   \"Bill\" Fuchs Park|                 1|    $|            Closed|https://www.googl...|\n",
      "|    max|🥇Villa de Vanmar...|               5.0|Zen-like boutique...|0xf5605db11f06f1b...|         70.3985443|              180.0|🥇Villa de Vanmar...|              2114| $$$$|Temporarily closed|https://www.googl...|\n",
      "+-------+--------------------+------------------+--------------------+--------------------+-------------------+-------------------+--------------------+------------------+-----+------------------+--------------------+\n",
      "\n"
     ]
    }
   ],
   "source": [
    "df_cached.describe().show()"
   ]
  },
  {
   "cell_type": "code",
   "execution_count": 374,
   "metadata": {},
   "outputs": [
    {
     "data": {
      "text/plain": [
       "DataFrame[MISC: struct<Accessibility:array<string>,Activities:array<string>,Amenities:array<string>,Atmosphere:array<string>,Crowd:array<string>,Dining options:array<string>,From the business:array<string>,Getting here:array<string>,Health & safety:array<string>,Highlights:array<string>,Offerings:array<string>,Payments:array<string>,Planning:array<string>,Popular for:array<string>,Recycling:array<string>,Service options:array<string>>, address: string, avg_rating: double, category: array<string>, description: string, gmap_id: string, hours: array<array<string>>, latitude: double, longitude: double, name: string, num_of_reviews: bigint, price: string, relative_results: array<string>, state: string, url: string]"
      ]
     },
     "execution_count": 374,
     "metadata": {},
     "output_type": "execute_result"
    }
   ],
   "source": [
    "# liberamos cache\n",
    "df_cached.unpersist()"
   ]
  },
  {
   "cell_type": "markdown",
   "metadata": {},
   "source": [
    "### 1st Look\n",
    "1. Posibles columnas a remover: \n",
    "    - description: No proporciona data relevante. Solo 13155 de 275001 sites tienen un descripcion, es decir, menos del 5%.\n",
    "    - state: No brinda información relevante para nuestro análisis. Solo información del estado (abierto o cerrado) del momento en el cual se extrajo la data.\n",
    "    - url: Dirección url del sitio en google maps.\n",
    "    - price: Demasiados valores nulos.\n",
    "    - hours: Horarios de atención del negocio. (Evaluar remoción, a menos que sea necesario para el análisis.)\n",
    "\n",
    "2. No poseemos información de la ciudad o el estado, podemos extraer de columna address.\n",
    "3. Columnas clave: gmap_id, avg_rating, category.\n",
    "4. MISC: Tiene un esquema definido. Importante validar que data puede ser de utilidad dentro de este esquema.\n",
    "5. CATEGORY: Realizar un análisis de las categorías existentes. (i,e: Nube de palabras)"
   ]
  },
  {
   "cell_type": "markdown",
   "metadata": {},
   "source": [
    "# EDA"
   ]
  },
  {
   "cell_type": "markdown",
   "metadata": {},
   "source": [
    "Comenzazmos definiendo una función para extracción de datos relevantes para el EDA."
   ]
  },
  {
   "cell_type": "code",
   "execution_count": 4,
   "metadata": {},
   "outputs": [],
   "source": [
    "def metadata_analytics_treatment(spark_df):\n",
    "    # Dropeado de columnas no utilizadas en nuestro EDA.\n",
    "    spark_df_modified = spark_df.drop(*[\"description\", \"hours\", \"price\", \"state\", \"url\", \"MISC\", \"latitude\", \"longitude\", \"name\", \"relative_results\"])\n",
    "\n",
    "    # Anexamos la columna \"state\" en referencia al estado . ie. california: CA.\n",
    "    state_regexp = r\",\\s([A-Z]{2})\\s\\d{5}\"\n",
    "    spark_df_modified = spark_df_modified.withColumn(\"state\", regexp_extract(\"address\", state_regexp, 1))\n",
    "    spark_df_modified = spark_df_modified.dropna(subset=\"state\") # Dropeamos nulos en esta columna.\n",
    "    spark_df_modified = spark_df_modified.drop(*[\"address\"]) # Dropeamos address, ya no lo necesitamos.\n",
    "\n",
    "    # Dropeamos duplicados.\n",
    "    spark_df_modified = spark_df_modified.dropDuplicates([\"gmap_id\"])\n",
    "    \n",
    "    return spark_df_modified"
   ]
  },
  {
   "cell_type": "markdown",
   "metadata": {},
   "source": [
    "Creamos una rutina para leer y anexar todos los archivos."
   ]
  },
  {
   "cell_type": "code",
   "execution_count": 5,
   "metadata": {},
   "outputs": [
    {
     "name": "stdout",
     "output_type": "stream",
     "text": [
      "Iteración:  1\n",
      "Iteración:  2\n",
      "Iteración:  3\n",
      "Iteración:  4\n",
      "Iteración:  5\n",
      "Iteración:  6\n",
      "Iteración:  7\n",
      "Iteración:  8\n",
      "Iteración:  9\n",
      "Iteración:  10\n",
      "Iteración:  11\n"
     ]
    }
   ],
   "source": [
    "folder_path = r\"F:\\DataScience\\PF - DataNova\\datasets\\Google Maps\\metadata-sitios\"\n",
    "\n",
    "count = 0\n",
    "\n",
    "for file_name in os.listdir(folder_path):\n",
    "    \n",
    "    # recuperamos el nombre de cada archivo.\n",
    "    file_path = os.path.join(folder_path, file_name)\n",
    "  \n",
    "    # primera lectura: se toma el esquema y se fuerza en los demas archivos.\n",
    "    if count == 0:\n",
    "        df = spark.read.json(file_path)\n",
    "        schema = df.schema\n",
    "        df_ETLed = metadata_analytics_treatment(df)        \n",
    "        union_df = df_ETLed.select(\"*\")\n",
    "    # lecturas posteriores: se fuerza esquema, se anexa dataframe.\n",
    "    else:\n",
    "        df = spark.read.schema(schema).json(file_path)\n",
    "        df_ETLed = metadata_analytics_treatment(df)\n",
    "        union_df = union_df.union(df_ETLed)\n",
    "\n",
    "    count+=1\n",
    "    print(\"Iteración: \", count)\n",
    "    "
   ]
  },
  {
   "cell_type": "code",
   "execution_count": 6,
   "metadata": {},
   "outputs": [
    {
     "data": {
      "text/plain": [
       "2918918"
      ]
     },
     "execution_count": 6,
     "metadata": {},
     "output_type": "execute_result"
    }
   ],
   "source": [
    "# Total de 3millones de entradas. \n",
    "union_df.count()"
   ]
  },
  {
   "cell_type": "code",
   "execution_count": 377,
   "metadata": {},
   "outputs": [
    {
     "name": "stdout",
     "output_type": "stream",
     "text": [
      "+-------+------------------+--------------------+------------------+-------+\n",
      "|summary|        avg_rating|             gmap_id|    num_of_reviews|  state|\n",
      "+-------+------------------+--------------------+------------------+-------+\n",
      "|  count|           2918918|             2918918|           2918918|2918918|\n",
      "|   mean| 4.295948532983802|                NULL|44.133912292157575|   NULL|\n",
      "| stddev|0.7113406120329981|                NULL|144.82764611758535|   NULL|\n",
      "|    min|               1.0|0x0:0x117c7fa8223...|                 1|       |\n",
      "|    max|               5.0|0xc221a717b87a13:...|              9998|     WY|\n",
      "+-------+------------------+--------------------+------------------+-------+\n",
      "\n"
     ]
    }
   ],
   "source": [
    "union_df.describe().show()"
   ]
  },
  {
   "cell_type": "code",
   "execution_count": 378,
   "metadata": {},
   "outputs": [
    {
     "name": "stdout",
     "output_type": "stream",
     "text": [
      "root\n",
      " |-- avg_rating: double (nullable = true)\n",
      " |-- category: array (nullable = true)\n",
      " |    |-- element: string (containsNull = true)\n",
      " |-- gmap_id: string (nullable = true)\n",
      " |-- num_of_reviews: long (nullable = true)\n",
      " |-- state: string (nullable = true)\n",
      "\n"
     ]
    }
   ],
   "source": [
    "union_df.printSchema()"
   ]
  },
  {
   "cell_type": "code",
   "execution_count": 7,
   "metadata": {},
   "outputs": [],
   "source": [
    "# Agrupamos por categorias\n",
    "categories_df = union_df.select(explode(\"category\").alias(\"category\")).groupBy(\"category\").count()\n",
    "# Guardamos en cache\n",
    "categories_df_cached = categories_df.cache()"
   ]
  },
  {
   "cell_type": "code",
   "execution_count": 361,
   "metadata": {},
   "outputs": [
    {
     "name": "stdout",
     "output_type": "stream",
     "text": [
      "+------------------+-----+\n",
      "|category          |count|\n",
      "+------------------+-----+\n",
      "|Restaurant        |96525|\n",
      "|Auto repair shop  |77073|\n",
      "|Gas station       |69668|\n",
      "|Beauty salon      |64889|\n",
      "|Convenience store |61629|\n",
      "|Church            |52560|\n",
      "|Hair salon        |51102|\n",
      "|Nail salon        |44141|\n",
      "|Park              |42142|\n",
      "|ATM               |42019|\n",
      "|Doctor            |36134|\n",
      "|Clothing store    |35944|\n",
      "|Dentist           |35714|\n",
      "|Insurance agency  |35126|\n",
      "|Barber shop       |34947|\n",
      "|Grocery store     |31480|\n",
      "|Bar               |30747|\n",
      "|Cell phone store  |30305|\n",
      "|Tourist attraction|29443|\n",
      "|Tire shop         |29423|\n",
      "+------------------+-----+\n",
      "only showing top 20 rows\n",
      "\n"
     ]
    }
   ],
   "source": [
    "# Top categorias\n",
    "categories_df_cached.orderBy(\"count\", ascending=False).show(truncate=False)"
   ]
  },
  {
   "cell_type": "code",
   "execution_count": null,
   "metadata": {},
   "outputs": [
    {
     "data": {
      "text/plain": [
       "4461"
      ]
     },
     "execution_count": 9,
     "metadata": {},
     "output_type": "execute_result"
    }
   ],
   "source": [
    "# Total categorias 4461\n",
    "categories_df_cached.count()"
   ]
  },
  {
   "cell_type": "code",
   "execution_count": null,
   "metadata": {},
   "outputs": [
    {
     "data": {
      "text/plain": [
       "DataFrame[category: string, count: bigint]"
      ]
     },
     "execution_count": 362,
     "metadata": {},
     "output_type": "execute_result"
    }
   ],
   "source": [
    "# liberamos memoria\n",
    "categories_df_cached.unpersist()"
   ]
  },
  {
   "cell_type": "markdown",
   "metadata": {},
   "source": [
    "### Tratamiento de categorias\n",
    "La problemática aquí es que tenemos cerca de 4461 categorías distintas, y debemos agruparlas de alguna manera en categorías que nos interesen"
   ]
  },
  {
   "cell_type": "code",
   "execution_count": 286,
   "metadata": {},
   "outputs": [],
   "source": [
    "# Teniendo la data resumida , comenzamos a trabajar con pandas.\n",
    "category_pddf = categories_df.toPandas()"
   ]
  },
  {
   "cell_type": "code",
   "execution_count": null,
   "metadata": {},
   "outputs": [],
   "source": [
    "# Definimos una funcion para procesar texto , lemmatizar, tokenizar, remover caracteres especiales\n",
    "# Evaluar remoción.\n",
    "def preprocess_text(text):\n",
    "    stop_words = set(stopwords.words('english'))\n",
    "    lemmatizer = WordNetLemmatizer()\n",
    "    text = re.sub(r'[^a-zA-Z\\s]', '', text)  # Eliminar caracteres especiales\n",
    "    text = text.lower()  # Minúsculas\n",
    "    tokens = text.split()\n",
    "    tokens = [lemmatizer.lemmatize(word) for word in tokens if word not in stop_words]\n",
    "    return ' '.join(tokens)"
   ]
  },
  {
   "cell_type": "code",
   "execution_count": null,
   "metadata": {},
   "outputs": [],
   "source": [
    "# Usaremos google cloud NLP content categorization. \n",
    "import os\n",
    "from google.cloud import language_v1\n",
    "\n",
    "os.environ['GOOGLE_APPLICATION_CREDENTIALS'] = r'F:\\DataScience\\PF - DataNova\\gcp key\\nomadic-bison-443616-m2-d5448cec0026.json'\n",
    "\n",
    "client = language_v1.LanguageServiceClient()\n",
    "\n",
    "def get_category(content):\n",
    "   try:\n",
    "      type_ = language_v1.Document.Type.PLAIN_TEXT\n",
    "      language = \"en\"\n",
    "      document = {\"content\": content, \"type_\": type_}\n",
    "      categories = client.classify_text(document=document)\n",
    "      return ([c.name for c in categories.categories])\n",
    "   #return ([(c.name, round(c.confidence*100)) for c in    categories.categories])\n",
    "   except Exception as e:\n",
    "      return None"
   ]
  },
  {
   "cell_type": "code",
   "execution_count": null,
   "metadata": {},
   "outputs": [],
   "source": [
    "# Creamos una nueva columna multiplicando 20 veces la columna categoria, ya que google necesita por lo menos 20 palabras para categorizar un texto.\n",
    "category_pddf[\"expanded_category\"] = (category_pddf[\"category\"] + \" \" )* 20\n",
    "category_pddf[\"expanded_category\"] = category_pddf[\"expanded_category\"].str.strip()"
   ]
  },
  {
   "cell_type": "code",
   "execution_count": null,
   "metadata": {},
   "outputs": [],
   "source": [
    "# Aplicamos la funcion para categorizar. Tiempo de ejución 18mins.\n",
    "google_categories = category_pddf[\"expanded_category\"].apply(get_category)"
   ]
  },
  {
   "cell_type": "code",
   "execution_count": null,
   "metadata": {},
   "outputs": [
    {
     "data": {
      "text/html": [
       "<div>\n",
       "<style scoped>\n",
       "    .dataframe tbody tr th:only-of-type {\n",
       "        vertical-align: middle;\n",
       "    }\n",
       "\n",
       "    .dataframe tbody tr th {\n",
       "        vertical-align: top;\n",
       "    }\n",
       "\n",
       "    .dataframe thead th {\n",
       "        text-align: right;\n",
       "    }\n",
       "</style>\n",
       "<table border=\"1\" class=\"dataframe\">\n",
       "  <thead>\n",
       "    <tr style=\"text-align: right;\">\n",
       "      <th></th>\n",
       "      <th>category</th>\n",
       "      <th>count</th>\n",
       "      <th>google_categories</th>\n",
       "    </tr>\n",
       "  </thead>\n",
       "  <tbody>\n",
       "    <tr>\n",
       "      <th>0</th>\n",
       "      <td>Art gallery</td>\n",
       "      <td>8545</td>\n",
       "      <td>[/Arts &amp; Entertainment/Visual Art &amp; Design/Art...</td>\n",
       "    </tr>\n",
       "    <tr>\n",
       "      <th>1</th>\n",
       "      <td>Public relations firm</td>\n",
       "      <td>396</td>\n",
       "      <td>[/Business &amp; Industrial/Advertising &amp; Marketin...</td>\n",
       "    </tr>\n",
       "    <tr>\n",
       "      <th>2</th>\n",
       "      <td>Tile store</td>\n",
       "      <td>3038</td>\n",
       "      <td>[/Home &amp; Garden/Home Improvement/Flooring, /Bu...</td>\n",
       "    </tr>\n",
       "    <tr>\n",
       "      <th>3</th>\n",
       "      <td>Basketball club</td>\n",
       "      <td>209</td>\n",
       "      <td>[/Sports/Team Sports/Basketball]</td>\n",
       "    </tr>\n",
       "    <tr>\n",
       "      <th>4</th>\n",
       "      <td>Sports massage therapist</td>\n",
       "      <td>3735</td>\n",
       "      <td>[/Beauty &amp; Fitness/Spas &amp; Beauty Services/Mass...</td>\n",
       "    </tr>\n",
       "    <tr>\n",
       "      <th>5</th>\n",
       "      <td>Dry wall contractor</td>\n",
       "      <td>1199</td>\n",
       "      <td>[/Business &amp; Industrial/Construction &amp; Mainten...</td>\n",
       "    </tr>\n",
       "    <tr>\n",
       "      <th>6</th>\n",
       "      <td>Debt collecting</td>\n",
       "      <td>68</td>\n",
       "      <td>[/Finance/Credit &amp; Lending]</td>\n",
       "    </tr>\n",
       "    <tr>\n",
       "      <th>7</th>\n",
       "      <td>Taxicab Stand</td>\n",
       "      <td>80</td>\n",
       "      <td>[/Travel/Car Rental &amp; Taxi Services]</td>\n",
       "    </tr>\n",
       "    <tr>\n",
       "      <th>8</th>\n",
       "      <td>Leather coats store</td>\n",
       "      <td>47</td>\n",
       "      <td>[/Shopping/Apparel]</td>\n",
       "    </tr>\n",
       "    <tr>\n",
       "      <th>9</th>\n",
       "      <td>Law book store</td>\n",
       "      <td>9</td>\n",
       "      <td>[/Law &amp; Government/Legal]</td>\n",
       "    </tr>\n",
       "    <tr>\n",
       "      <th>10</th>\n",
       "      <td>Wedding dress rental service</td>\n",
       "      <td>50</td>\n",
       "      <td>[/People &amp; Society/Family &amp; Relationships/Marr...</td>\n",
       "    </tr>\n",
       "    <tr>\n",
       "      <th>11</th>\n",
       "      <td>Data entry service</td>\n",
       "      <td>15</td>\n",
       "      <td>[/Business &amp; Industrial, /Computers &amp; Electron...</td>\n",
       "    </tr>\n",
       "    <tr>\n",
       "      <th>12</th>\n",
       "      <td>Central American restaurant</td>\n",
       "      <td>106</td>\n",
       "      <td>[/Food &amp; Drink/Restaurants]</td>\n",
       "    </tr>\n",
       "    <tr>\n",
       "      <th>13</th>\n",
       "      <td>North Eastern Indian restaurant</td>\n",
       "      <td>15</td>\n",
       "      <td>[/Food &amp; Drink/Cooking &amp; Recipes, /Food &amp; Drin...</td>\n",
       "    </tr>\n",
       "    <tr>\n",
       "      <th>14</th>\n",
       "      <td>Gardening products and services</td>\n",
       "      <td>16</td>\n",
       "      <td>[/Home &amp; Garden/Gardening &amp; Landscaping]</td>\n",
       "    </tr>\n",
       "    <tr>\n",
       "      <th>15</th>\n",
       "      <td>Hygiene articles wholesaler</td>\n",
       "      <td>4</td>\n",
       "      <td>[/Shopping]</td>\n",
       "    </tr>\n",
       "    <tr>\n",
       "      <th>16</th>\n",
       "      <td>New England restaurant</td>\n",
       "      <td>23</td>\n",
       "      <td>[/Food &amp; Drink/Restaurants]</td>\n",
       "    </tr>\n",
       "    <tr>\n",
       "      <th>17</th>\n",
       "      <td>Beauty academy</td>\n",
       "      <td>1</td>\n",
       "      <td>[/Beauty &amp; Fitness/Cosmetology &amp; Beauty Profes...</td>\n",
       "    </tr>\n",
       "    <tr>\n",
       "      <th>18</th>\n",
       "      <td>Pediatric gastroenterologist</td>\n",
       "      <td>1</td>\n",
       "      <td>[/Health]</td>\n",
       "    </tr>\n",
       "    <tr>\n",
       "      <th>19</th>\n",
       "      <td>Faculty of arts</td>\n",
       "      <td>2</td>\n",
       "      <td>[/Arts &amp; Entertainment/Visual Art &amp; Design, /J...</td>\n",
       "    </tr>\n",
       "  </tbody>\n",
       "</table>\n",
       "</div>"
      ],
      "text/plain": [
       "                           category  count  \\\n",
       "0                       Art gallery   8545   \n",
       "1             Public relations firm    396   \n",
       "2                        Tile store   3038   \n",
       "3                   Basketball club    209   \n",
       "4          Sports massage therapist   3735   \n",
       "5               Dry wall contractor   1199   \n",
       "6                   Debt collecting     68   \n",
       "7                     Taxicab Stand     80   \n",
       "8               Leather coats store     47   \n",
       "9                    Law book store      9   \n",
       "10     Wedding dress rental service     50   \n",
       "11               Data entry service     15   \n",
       "12      Central American restaurant    106   \n",
       "13  North Eastern Indian restaurant     15   \n",
       "14  Gardening products and services     16   \n",
       "15      Hygiene articles wholesaler      4   \n",
       "16           New England restaurant     23   \n",
       "17                   Beauty academy      1   \n",
       "18     Pediatric gastroenterologist      1   \n",
       "19                  Faculty of arts      2   \n",
       "\n",
       "                                    google_categories  \n",
       "0   [/Arts & Entertainment/Visual Art & Design/Art...  \n",
       "1   [/Business & Industrial/Advertising & Marketin...  \n",
       "2   [/Home & Garden/Home Improvement/Flooring, /Bu...  \n",
       "3                    [/Sports/Team Sports/Basketball]  \n",
       "4   [/Beauty & Fitness/Spas & Beauty Services/Mass...  \n",
       "5   [/Business & Industrial/Construction & Mainten...  \n",
       "6                         [/Finance/Credit & Lending]  \n",
       "7                [/Travel/Car Rental & Taxi Services]  \n",
       "8                                 [/Shopping/Apparel]  \n",
       "9                           [/Law & Government/Legal]  \n",
       "10  [/People & Society/Family & Relationships/Marr...  \n",
       "11  [/Business & Industrial, /Computers & Electron...  \n",
       "12                        [/Food & Drink/Restaurants]  \n",
       "13  [/Food & Drink/Cooking & Recipes, /Food & Drin...  \n",
       "14           [/Home & Garden/Gardening & Landscaping]  \n",
       "15                                        [/Shopping]  \n",
       "16                        [/Food & Drink/Restaurants]  \n",
       "17  [/Beauty & Fitness/Cosmetology & Beauty Profes...  \n",
       "18                                          [/Health]  \n",
       "19  [/Arts & Entertainment/Visual Art & Design, /J...  "
      ]
     },
     "execution_count": 289,
     "metadata": {},
     "output_type": "execute_result"
    }
   ],
   "source": [
    "category_pddf[\"google_categories\"] = google_categories\n",
    "category_pddf.drop(columns=[\"expanded_category\"], inplace=True)\n",
    "\n",
    "# Visualización\n",
    "category_pddf.head(20)"
   ]
  },
  {
   "cell_type": "code",
   "execution_count": 275,
   "metadata": {},
   "outputs": [
    {
     "data": {
      "text/html": [
       "<div>\n",
       "<style scoped>\n",
       "    .dataframe tbody tr th:only-of-type {\n",
       "        vertical-align: middle;\n",
       "    }\n",
       "\n",
       "    .dataframe tbody tr th {\n",
       "        vertical-align: top;\n",
       "    }\n",
       "\n",
       "    .dataframe thead th {\n",
       "        text-align: right;\n",
       "    }\n",
       "</style>\n",
       "<table border=\"1\" class=\"dataframe\">\n",
       "  <thead>\n",
       "    <tr style=\"text-align: right;\">\n",
       "      <th></th>\n",
       "      <th>category</th>\n",
       "      <th>count</th>\n",
       "      <th>google_categories</th>\n",
       "    </tr>\n",
       "  </thead>\n",
       "  <tbody>\n",
       "    <tr>\n",
       "      <th>175</th>\n",
       "      <td>Allergist</td>\n",
       "      <td>1205</td>\n",
       "      <td>None</td>\n",
       "    </tr>\n",
       "    <tr>\n",
       "      <th>268</th>\n",
       "      <td>Parking Souterrain</td>\n",
       "      <td>1</td>\n",
       "      <td>None</td>\n",
       "    </tr>\n",
       "    <tr>\n",
       "      <th>1787</th>\n",
       "      <td>Hat shop</td>\n",
       "      <td>1498</td>\n",
       "      <td>None</td>\n",
       "    </tr>\n",
       "    <tr>\n",
       "      <th>2700</th>\n",
       "      <td>Tool &amp; die shop</td>\n",
       "      <td>79</td>\n",
       "      <td>None</td>\n",
       "    </tr>\n",
       "    <tr>\n",
       "      <th>2796</th>\n",
       "      <td>Assistante maternelle</td>\n",
       "      <td>1</td>\n",
       "      <td>None</td>\n",
       "    </tr>\n",
       "    <tr>\n",
       "      <th>3494</th>\n",
       "      <td>Guardia Di Finanza Police</td>\n",
       "      <td>1</td>\n",
       "      <td>None</td>\n",
       "    </tr>\n",
       "    <tr>\n",
       "      <th>3667</th>\n",
       "      <td>Brasserie</td>\n",
       "      <td>57</td>\n",
       "      <td>None</td>\n",
       "    </tr>\n",
       "    <tr>\n",
       "      <th>4135</th>\n",
       "      <td>Bar tabac</td>\n",
       "      <td>7</td>\n",
       "      <td>None</td>\n",
       "    </tr>\n",
       "  </tbody>\n",
       "</table>\n",
       "</div>"
      ],
      "text/plain": [
       "                       category  count google_categories\n",
       "175                   Allergist   1205              None\n",
       "268          Parking Souterrain      1              None\n",
       "1787                   Hat shop   1498              None\n",
       "2700            Tool & die shop     79              None\n",
       "2796      Assistante maternelle      1              None\n",
       "3494  Guardia Di Finanza Police      1              None\n",
       "3667                  Brasserie     57              None\n",
       "4135                  Bar tabac      7              None"
      ]
     },
     "execution_count": 275,
     "metadata": {},
     "output_type": "execute_result"
    }
   ],
   "source": [
    "#exploramos los valores nulos\n",
    "category_pddf[category_pddf[\"google_categories\"].isnull()]"
   ]
  },
  {
   "cell_type": "code",
   "execution_count": null,
   "metadata": {},
   "outputs": [],
   "source": [
    "# Agregamos manualmente las categorias de interes, y dropeamos las demás.\n",
    "category_pddf.loc[3667, \"google_categories\"] = ['/Food & Drink/Beverages/Alcoholic Beverages']\n",
    "category_pddf.loc[175, \"google_categories\"] = ['/Health/Medical Facilities & Services']\n",
    "category_pddf.loc[1787, \"google_categories\"] = [\"/Shopping/Apparel/Headwear\"]\n",
    "category_pddf.loc[4135, \"google_categories\"] = [\"/Arts & Entertainment/Events & Listings/Bars, Clubs & Nightlife\"]\n",
    "category_pddf.loc[2700, \"google_categories\"] = [\"/Home & Garden/Home Appliances/Other\"]\n",
    "category_pddf.dropna(subset=\"google_categories\", inplace=True)\n"
   ]
  },
  {
   "cell_type": "code",
   "execution_count": null,
   "metadata": {},
   "outputs": [],
   "source": [
    "# Tratamiento sobre la columna \"google_categories\", para poder obtener un árbol de categorias para cada categoria.\n",
    "category_pddf[\"first_match\"] = category_pddf[\"google_categories\"].apply(lambda x : x[0] if x else x)\n",
    "category_pddf[\"category_segmentation\"] = category_pddf[\"first_match\"].str.split(\"/\")\n",
    "category_pddf.dropna(subset=\"category_segmentation\", inplace=True)\n",
    "category_pddf[\"category_len\"] = category_pddf[\"category_segmentation\"].apply(len)\n",
    "category_pddf[\"first_category\"] = category_pddf[\"category_segmentation\"].apply(lambda x : x[1] if x[1] else None)\n",
    "category_pddf[\"second_category\"] = category_pddf[\"category_segmentation\"].apply(lambda x : x[2] if len(x)>2 else None)\n",
    "category_pddf[\"third_category\"] = category_pddf[\"category_segmentation\"].apply(lambda x : x[3] if len(x)>3 else None)"
   ]
  },
  {
   "cell_type": "code",
   "execution_count": null,
   "metadata": {},
   "outputs": [],
   "source": [
    "category_pddf_mapped = category_pddf[[\"category\", \"first_category\", \"second_category\", \"third_category\"]]\n",
    "# guardamos este dataset. \n",
    "category_pddf_mapped.to_json(r\"F:\\DataScience\\PF - DataNova\\datasets\\Google Maps\\category-mapping.json\", index=False)"
   ]
  },
  {
   "cell_type": "code",
   "execution_count": null,
   "metadata": {},
   "outputs": [
    {
     "data": {
      "text/html": [
       "<div>\n",
       "<style scoped>\n",
       "    .dataframe tbody tr th:only-of-type {\n",
       "        vertical-align: middle;\n",
       "    }\n",
       "\n",
       "    .dataframe tbody tr th {\n",
       "        vertical-align: top;\n",
       "    }\n",
       "\n",
       "    .dataframe thead th {\n",
       "        text-align: right;\n",
       "    }\n",
       "</style>\n",
       "<table border=\"1\" class=\"dataframe\">\n",
       "  <thead>\n",
       "    <tr style=\"text-align: right;\">\n",
       "      <th></th>\n",
       "      <th>category</th>\n",
       "      <th>first_category</th>\n",
       "      <th>second_category</th>\n",
       "      <th>third_category</th>\n",
       "    </tr>\n",
       "  </thead>\n",
       "  <tbody>\n",
       "    <tr>\n",
       "      <th>0</th>\n",
       "      <td>Art gallery</td>\n",
       "      <td>Arts &amp; Entertainment</td>\n",
       "      <td>Visual Art &amp; Design</td>\n",
       "      <td>Art Museums &amp; Galleries</td>\n",
       "    </tr>\n",
       "    <tr>\n",
       "      <th>1</th>\n",
       "      <td>Public relations firm</td>\n",
       "      <td>Business &amp; Industrial</td>\n",
       "      <td>Advertising &amp; Marketing</td>\n",
       "      <td>Public Relations</td>\n",
       "    </tr>\n",
       "    <tr>\n",
       "      <th>2</th>\n",
       "      <td>Tile store</td>\n",
       "      <td>Home &amp; Garden</td>\n",
       "      <td>Home Improvement</td>\n",
       "      <td>Flooring</td>\n",
       "    </tr>\n",
       "    <tr>\n",
       "      <th>3</th>\n",
       "      <td>Basketball club</td>\n",
       "      <td>Sports</td>\n",
       "      <td>Team Sports</td>\n",
       "      <td>Basketball</td>\n",
       "    </tr>\n",
       "    <tr>\n",
       "      <th>4</th>\n",
       "      <td>Sports massage therapist</td>\n",
       "      <td>Beauty &amp; Fitness</td>\n",
       "      <td>Spas &amp; Beauty Services</td>\n",
       "      <td>Massage Therapy</td>\n",
       "    </tr>\n",
       "  </tbody>\n",
       "</table>\n",
       "</div>"
      ],
      "text/plain": [
       "                   category         first_category          second_category  \\\n",
       "0               Art gallery   Arts & Entertainment      Visual Art & Design   \n",
       "1     Public relations firm  Business & Industrial  Advertising & Marketing   \n",
       "2                Tile store          Home & Garden         Home Improvement   \n",
       "3           Basketball club                 Sports              Team Sports   \n",
       "4  Sports massage therapist       Beauty & Fitness   Spas & Beauty Services   \n",
       "\n",
       "            third_category  \n",
       "0  Art Museums & Galleries  \n",
       "1         Public Relations  \n",
       "2                 Flooring  \n",
       "3               Basketball  \n",
       "4          Massage Therapy  "
      ]
     },
     "execution_count": 359,
     "metadata": {},
     "output_type": "execute_result"
    }
   ],
   "source": [
    "# visualización.\n",
    "category_pddf_mapped.head(5)"
   ]
  },
  {
   "cell_type": "code",
   "execution_count": null,
   "metadata": {},
   "outputs": [
    {
     "data": {
      "text/plain": [
       "array(['Arts & Entertainment', 'Business & Industrial', 'Home & Garden',\n",
       "       'Sports', 'Beauty & Fitness', 'Finance', 'Travel', 'Shopping',\n",
       "       'Law & Government', 'People & Society', 'Food & Drink', 'Health',\n",
       "       'Autos & Vehicles', 'Hobbies & Leisure', 'Real Estate',\n",
       "       'Computers & Electronics', 'Jobs & Education', 'Games', 'Science',\n",
       "       'Sensitive Subjects', 'News', 'Reference', 'Internet & Telecom',\n",
       "       'Books & Literature', 'Adult', 'Pets & Animals',\n",
       "       'Online Communities'], dtype=object)"
      ]
     },
     "execution_count": 355,
     "metadata": {},
     "output_type": "execute_result"
    }
   ],
   "source": [
    "# Tenemos un total de 27 categorias.\n",
    "category_pddf_mapped[\"first_category\"].unique()"
   ]
  },
  {
   "cell_type": "markdown",
   "metadata": {},
   "source": [
    "### Cruce con Categorias de Google"
   ]
  },
  {
   "cell_type": "code",
   "execution_count": 36,
   "metadata": {},
   "outputs": [],
   "source": [
    "ruta_lectura = r\"F:\\DataScience\\PF - DataNova\\datasets\\Google Maps\\metadata-sitios\\1.json\"\n",
    "df = spark.read.json(ruta_lectura)\n",
    "# Considerar el uso de persist o cache\n",
    "df_cached = df.cache()\n",
    "union_df = metadata_analytics_treatment(df_cached)"
   ]
  },
  {
   "cell_type": "code",
   "execution_count": null,
   "metadata": {},
   "outputs": [],
   "source": [
    "# cargamos en memoria el dataframe union_df\n",
    "union_df_cache = union_df.cache()"
   ]
  },
  {
   "cell_type": "code",
   "execution_count": 8,
   "metadata": {},
   "outputs": [
    {
     "name": "stdout",
     "output_type": "stream",
     "text": [
      "+----------+--------------------------------------------------------------------------------------------------------+-------------------------------------+--------------+-----+\n",
      "|avg_rating|category                                                                                                |gmap_id                              |num_of_reviews|state|\n",
      "+----------+--------------------------------------------------------------------------------------------------------+-------------------------------------+--------------+-----+\n",
      "|5.0       |[Business to business service]                                                                          |0x405532c73fa7ce23:0x543f583f2cf17d6f|4             |OR   |\n",
      "|4.3       |[Consignment shop]                                                                                      |0x4108fee3fd360515:0x526ea25588b1bebf|8             |WA   |\n",
      "|3.8       |[Credit union, ATM, Car finance and loan company, Federal credit union, Financial institution]          |0x4cad876f48719ba7:0xf05be0cfe29483e4|24            |ME   |\n",
      "|5.0       |[Cafe]                                                                                                  |0x4cae4b5f86d43b03:0xb38283b05c370d0f|1             |ME   |\n",
      "|4.4       |[Natural feature]                                                                                       |0x4cb1169012dc6443:0x9f3a0c89836ac1ca|5             |ME   |\n",
      "|5.0       |[United Methodist church]                                                                               |0x4cca89c9f77c14a7:0xa66e03578c7fdd1 |3             |NY   |\n",
      "|3.8       |[Furniture store]                                                                                       |0x4d524b86892e26bf:0x90ce2ef3020e6448|4             |MI   |\n",
      "|4.6       |[Gas station]                                                                                           |0x4d533c5bd35bad91:0x5f2cd274d4e33755|18            |WI   |\n",
      "|3.0       |[River]                                                                                                 |0x4d57aaa64a456b29:0x3dc210f6f8251d3c|2             |MI   |\n",
      "|4.1       |[Truck dealer, Dump truck dealer, Truck parts supplier, Truck repair shop, Used truck dealer]           |0x52ae4da3353914df:0xa8f79fa7fdfe0f4e|24            |MN   |\n",
      "|3.0       |[Park]                                                                                                  |0x52b0871fec5a76d7:0x50df50c1856754aa|3             |MN   |\n",
      "|3.7       |[Nursing home, Rehabilitation center]                                                                   |0x52b25b05861c74af:0x36122280b8ef124d|46            |MN   |\n",
      "|4.8       |[Parking lot]                                                                                           |0x52b2c9ec3678312f:0xdad25810b9296456|4             |MN   |\n",
      "|4.3       |[Mental health service]                                                                                 |0x52b32cdcaa847bc5:0xa8babb016b41d128|15            |MN   |\n",
      "|4.7       |[Loan agency, Check cashing service, Financial institution, Money order service, Money transfer service]|0x52b334369035c08f:0x31ccf1c06359252b|78            |MN   |\n",
      "|5.0       |[Health insurance agency]                                                                               |0x52b3377190f0f943:0x1b3e851643578b7e|1             |MN   |\n",
      "|4.8       |[Pet groomer]                                                                                           |0x52b35d80ffbdaf39:0x4ace448615f09007|18            |MN   |\n",
      "|4.9       |[Horse riding school]                                                                                   |0x52b4a7680852be85:0x4333d9fdeb4b9458|15            |MN   |\n",
      "|5.0       |[Parking lot]                                                                                           |0x52b4ec5d883fa5fb:0xd60c932356b8eeb5|1             |MN   |\n",
      "|5.0       |[Gas station]                                                                                           |0x52b6bdc5bbb7ecb3:0x600086f48cdbc0df|1             |MN   |\n",
      "+----------+--------------------------------------------------------------------------------------------------------+-------------------------------------+--------------+-----+\n",
      "only showing top 20 rows\n",
      "\n"
     ]
    }
   ],
   "source": [
    "union_df_cache.show(20, truncate=False)"
   ]
  },
  {
   "cell_type": "code",
   "execution_count": 9,
   "metadata": {},
   "outputs": [
    {
     "name": "stdout",
     "output_type": "stream",
     "text": [
      "root\n",
      " |-- avg_rating: double (nullable = true)\n",
      " |-- category: array (nullable = true)\n",
      " |    |-- element: string (containsNull = true)\n",
      " |-- gmap_id: string (nullable = true)\n",
      " |-- num_of_reviews: long (nullable = true)\n",
      " |-- state: string (nullable = true)\n",
      "\n"
     ]
    }
   ],
   "source": [
    "union_df_cache.printSchema()"
   ]
  },
  {
   "cell_type": "code",
   "execution_count": 50,
   "metadata": {},
   "outputs": [],
   "source": [
    "# 1 . Ya que cada establecimiento tiene una lista de categorias, vamos a observar las características de estas listas de categorias.\n",
    "stats = (\n",
    "    union_df_cache.select(size(col(\"category\")).alias(\"array_size\"))  # Calcula el tamaño de cada array\n",
    "      .agg(\n",
    "          spark_min(col(\"array_size\")).alias(\"min_size\"),       # max\n",
    "          spark_max(col(\"array_size\")).alias(\"max_size\"),        # Tamaño máximo\n",
    "          avg(col(\"array_size\")).alias(\"avg_size\")        # tamaño promedio.-\n",
    "          )       \n",
    "      .collect()[0]                          \n",
    ")"
   ]
  },
  {
   "cell_type": "code",
   "execution_count": 51,
   "metadata": {},
   "outputs": [
    {
     "data": {
      "text/plain": [
       "Row(min_size=-1, max_size=32, avg_size=2.0449793382342363)"
      ]
     },
     "execution_count": 51,
     "metadata": {},
     "output_type": "execute_result"
    }
   ],
   "source": [
    "stats"
   ]
  },
  {
   "cell_type": "code",
   "execution_count": 10,
   "metadata": {},
   "outputs": [
    {
     "name": "stdout",
     "output_type": "stream",
     "text": [
      "+----------+--------------------+--------------+-----+--------------------+\n",
      "|avg_rating|             gmap_id|num_of_reviews|state|    primary_category|\n",
      "+----------+--------------------+--------------+-----+--------------------+\n",
      "|       5.0|0x405532c73fa7ce2...|             4|   OR|Business to busin...|\n",
      "|       4.3|0x4108fee3fd36051...|             8|   WA|    Consignment shop|\n",
      "|       3.8|0x4cad876f48719ba...|            24|   ME|        Credit union|\n",
      "|       5.0|0x4cae4b5f86d43b0...|             1|   ME|                Cafe|\n",
      "|       4.4|0x4cb1169012dc644...|             5|   ME|     Natural feature|\n",
      "|       5.0|0x4cca89c9f77c14a...|             3|   NY|United Methodist ...|\n",
      "|       3.8|0x4d524b86892e26b...|             4|   MI|     Furniture store|\n",
      "|       4.6|0x4d533c5bd35bad9...|            18|   WI|         Gas station|\n",
      "|       3.0|0x4d57aaa64a456b2...|             2|   MI|               River|\n",
      "|       4.1|0x52ae4da3353914d...|            24|   MN|        Truck dealer|\n",
      "|       3.0|0x52b0871fec5a76d...|             3|   MN|                Park|\n",
      "|       3.7|0x52b25b05861c74a...|            46|   MN|        Nursing home|\n",
      "|       4.8|0x52b2c9ec3678312...|             4|   MN|         Parking lot|\n",
      "|       4.3|0x52b32cdcaa847bc...|            15|   MN|Mental health ser...|\n",
      "|       4.7|0x52b334369035c08...|            78|   MN|         Loan agency|\n",
      "|       5.0|0x52b3377190f0f94...|             1|   MN|Health insurance ...|\n",
      "|       4.8|0x52b35d80ffbdaf3...|            18|   MN|         Pet groomer|\n",
      "|       4.9|0x52b4a7680852be8...|            15|   MN| Horse riding school|\n",
      "|       5.0|0x52b4ec5d883fa5f...|             1|   MN|         Parking lot|\n",
      "|       5.0|0x52b6bdc5bbb7ecb...|             1|   MN|         Gas station|\n",
      "+----------+--------------------+--------------+-----+--------------------+\n",
      "only showing top 20 rows\n",
      "\n"
     ]
    }
   ],
   "source": [
    "# Para simplicidad del análisis, tomaremos la primera categoria de cada establecimiento.\n",
    "union_df_cache = union_df_cache.withColumn(\"primary_category\", col(\"category\")[0])\n",
    "union_df_cache = union_df_cache.drop(\"category\")\n",
    "union_df_cache.show()"
   ]
  },
  {
   "cell_type": "code",
   "execution_count": 11,
   "metadata": {},
   "outputs": [
    {
     "data": {
      "text/plain": [
       "4202"
      ]
     },
     "execution_count": 11,
     "metadata": {},
     "output_type": "execute_result"
    }
   ],
   "source": [
    "# cargamos nuestro dataset de mapeo con spark para poder hacer uniones.\n",
    "#category_pddf_mapped = pd.read_json(r\"F:\\DataScience\\PF - DataNova\\datasets\\Google Maps\\category-mapping.json\")\n",
    "#category_pddf_mapped.to_json(r\"F:\\DataScience\\PF - DataNova\\datasets\\Google Maps\\category-mapping-v2.json\",orient=\"records\", lines=True)\n",
    "#category_mapper_df = spark.createDataFrame(category_pddf_mapped[[\"category\", \"first_category\"]])\n",
    "\n",
    "category_mapper_df = spark.read.json(r\"F:\\DataScience\\PF - DataNova\\datasets\\Google Maps\\category-mapping-v2.json\")\n",
    "category_mapper_df_cached = category_mapper_df.cache()\n",
    "category_mapper_df_cached.count()"
   ]
  },
  {
   "cell_type": "code",
   "execution_count": 12,
   "metadata": {},
   "outputs": [],
   "source": [
    "category_mapper_df_cached = category_mapper_df_cached.withColumnRenamed(\"category\", \"primary_category\")\n",
    "#category_mapper_df_cached = category_mapper_df.cache()\n",
    "#category_mapper_df.show()"
   ]
  },
  {
   "cell_type": "code",
   "execution_count": 13,
   "metadata": {},
   "outputs": [
    {
     "name": "stdout",
     "output_type": "stream",
     "text": [
      "+--------------------+--------------------+--------------------+--------------------+\n",
      "|    primary_category|      first_category|     second_category|      third_category|\n",
      "+--------------------+--------------------+--------------------+--------------------+\n",
      "|         Art gallery|Arts & Entertainment| Visual Art & Design|Art Museums & Gal...|\n",
      "|Public relations ...|Business & Indust...|Advertising & Mar...|    Public Relations|\n",
      "|          Tile store|       Home & Garden|    Home Improvement|            Flooring|\n",
      "|     Basketball club|              Sports|         Team Sports|          Basketball|\n",
      "|Sports massage th...|    Beauty & Fitness|Spas & Beauty Ser...|     Massage Therapy|\n",
      "| Dry wall contractor|Business & Indust...|Construction & Ma...|                NULL|\n",
      "|     Debt collecting|             Finance|    Credit & Lending|                NULL|\n",
      "|       Taxicab Stand|              Travel|Car Rental & Taxi...|                NULL|\n",
      "| Leather coats store|            Shopping|             Apparel|                NULL|\n",
      "|      Law book store|    Law & Government|               Legal|                NULL|\n",
      "|Wedding dress ren...|    People & Society|Family & Relation...|            Marriage|\n",
      "|  Data entry service|Business & Indust...|                NULL|                NULL|\n",
      "|Central American ...|        Food & Drink|         Restaurants|                NULL|\n",
      "|North Eastern Ind...|        Food & Drink|   Cooking & Recipes|                NULL|\n",
      "|Gardening product...|       Home & Garden|Gardening & Lands...|                NULL|\n",
      "|Hygiene articles ...|            Shopping|                NULL|                NULL|\n",
      "|New England resta...|        Food & Drink|         Restaurants|                NULL|\n",
      "|      Beauty academy|    Beauty & Fitness|Cosmetology & Bea...|                NULL|\n",
      "|Pediatric gastroe...|              Health|                NULL|                NULL|\n",
      "|     Faculty of arts|Arts & Entertainment| Visual Art & Design|                NULL|\n",
      "+--------------------+--------------------+--------------------+--------------------+\n",
      "only showing top 20 rows\n",
      "\n"
     ]
    }
   ],
   "source": [
    "category_mapper_df_cached.show()"
   ]
  },
  {
   "cell_type": "code",
   "execution_count": 14,
   "metadata": {},
   "outputs": [],
   "source": [
    "merged_df = union_df_cache.join(category_mapper_df_cached, on=\"primary_category\", how=\"inner\")"
   ]
  },
  {
   "cell_type": "code",
   "execution_count": null,
   "metadata": {},
   "outputs": [],
   "source": [
    "# indicamos que vamos a cargar este valor en cache.\n",
    "merged_df_cache = merged_df.cache()"
   ]
  },
  {
   "cell_type": "code",
   "execution_count": null,
   "metadata": {},
   "outputs": [
    {
     "data": {
      "text/plain": [
       "DataFrame[avg_rating: double, gmap_id: string, num_of_reviews: bigint, state: string, primary_category: string]"
      ]
     },
     "execution_count": 16,
     "metadata": {},
     "output_type": "execute_result"
    }
   ],
   "source": [
    "# liberamos la data usada previamente\n",
    "category_mapper_df_cached.unpersist()\n",
    "union_df_cache.unpersist()"
   ]
  },
  {
   "cell_type": "code",
   "execution_count": 34,
   "metadata": {},
   "outputs": [
    {
     "name": "stdout",
     "output_type": "stream",
     "text": [
      "+--------------------+----------+--------------------+--------------+-----+--------------------+--------------------+--------------------+\n",
      "|    primary_category|avg_rating|             gmap_id|num_of_reviews|state|      first_category|     second_category|      third_category|\n",
      "+--------------------+----------+--------------------+--------------+-----+--------------------+--------------------+--------------------+\n",
      "|Business to busin...|       5.0|0x405532c73fa7ce2...|             4|   OR|Business & Indust...|                NULL|                NULL|\n",
      "|    Consignment shop|       4.3|0x4108fee3fd36051...|             8|   WA|            Shopping|                NULL|                NULL|\n",
      "|        Credit union|       3.8|0x4cad876f48719ba...|            24|   ME|             Finance|    Credit & Lending|                NULL|\n",
      "|                Cafe|       5.0|0x4cae4b5f86d43b0...|             1|   ME|        Food & Drink|         Restaurants|                NULL|\n",
      "|United Methodist ...|       5.0|0x4cca89c9f77c14a...|             3|   NY|    People & Society|   Religion & Belief|                NULL|\n",
      "|     Furniture store|       3.8|0x4d524b86892e26b...|             4|   MI|       Home & Garden|    Home Furnishings|                NULL|\n",
      "|         Gas station|       4.6|0x4d533c5bd35bad9...|            18|   WI|Business & Indust...|  Energy & Utilities|           Oil & Gas|\n",
      "|               River|       3.0|0x4d57aaa64a456b2...|             2|   MI|              Travel|Tourist Destinations|                NULL|\n",
      "|        Truck dealer|       4.1|0x52ae4da3353914d...|            24|   MN|    Autos & Vehicles|    Vehicle Shopping|                NULL|\n",
      "|                Park|       3.0|0x52b0871fec5a76d...|             3|   MN|              Travel|Tourist Destinations|Regional Parks & ...|\n",
      "|        Nursing home|       3.7|0x52b25b05861c74a...|            46|   MN|              Health|             Nursing|Assisted Living &...|\n",
      "|         Parking lot|       4.8|0x52b2c9ec3678312...|             4|   MN|Business & Indust...|Transportation & ...|             Parking|\n",
      "|Mental health ser...|       4.3|0x52b32cdcaa847bc...|            15|   MN|              Health|       Mental Health|                NULL|\n",
      "|         Loan agency|       4.7|0x52b334369035c08...|            78|   MN|             Finance|    Credit & Lending|               Loans|\n",
      "|Health insurance ...|       5.0|0x52b3377190f0f94...|             1|   MN|             Finance|           Insurance|    Health Insurance|\n",
      "|         Pet groomer|       4.8|0x52b35d80ffbdaf3...|            18|   MN|   Hobbies & Leisure|                NULL|                NULL|\n",
      "| Horse riding school|       4.9|0x52b4a7680852be8...|            15|   MN|              Sports|                NULL|                NULL|\n",
      "|         Parking lot|       5.0|0x52b4ec5d883fa5f...|             1|   MN|Business & Indust...|Transportation & ...|             Parking|\n",
      "|         Gas station|       5.0|0x52b6bdc5bbb7ecb...|             1|   MN|Business & Indust...|  Energy & Utilities|           Oil & Gas|\n",
      "|            Magician|       5.0|0x52c8cd270f50bbb...|            58|   ND|Arts & Entertainment|     Performing Arts|               Magic|\n",
      "+--------------------+----------+--------------------+--------------+-----+--------------------+--------------------+--------------------+\n",
      "only showing top 20 rows\n",
      "\n"
     ]
    }
   ],
   "source": [
    "merged_df_cache.show()"
   ]
  },
  {
   "cell_type": "code",
   "execution_count": 18,
   "metadata": {},
   "outputs": [
    {
     "data": {
      "text/plain": [
       "2838112"
      ]
     },
     "execution_count": 18,
     "metadata": {},
     "output_type": "execute_result"
    }
   ],
   "source": [
    "merged_df_cache.count()"
   ]
  },
  {
   "cell_type": "code",
   "execution_count": 35,
   "metadata": {},
   "outputs": [],
   "source": [
    "#Ahora podemos usar este dataframe para nuestro análisis"
   ]
  },
  {
   "cell_type": "markdown",
   "metadata": {},
   "source": [
    "## Cantidad de Negocios por estado"
   ]
  },
  {
   "cell_type": "code",
   "execution_count": 51,
   "metadata": {},
   "outputs": [],
   "source": [
    "from pyspark.sql import functions as F\n",
    "import matplotlib.pyplot as plt\n",
    "import seaborn as sns\n"
   ]
  },
  {
   "cell_type": "code",
   "execution_count": 38,
   "metadata": {},
   "outputs": [],
   "source": [
    "grouped_df = merged_df_cache.groupBy(\"state\").agg(F.sum(\"num_of_reviews\").alias(\"total_reviews\"),\n",
    "                                     F.avg(\"avg_rating\").alias(\"avg_rating\"),\n",
    "                                     F.count(\"gmap_id\").alias(\"total_business\"))"
   ]
  },
  {
   "cell_type": "code",
   "execution_count": null,
   "metadata": {},
   "outputs": [],
   "source": [
    "state_resume = grouped_df.toPandas()"
   ]
  },
  {
   "cell_type": "code",
   "execution_count": 49,
   "metadata": {},
   "outputs": [
    {
     "data": {
      "text/html": [
       "<div>\n",
       "<style scoped>\n",
       "    .dataframe tbody tr th:only-of-type {\n",
       "        vertical-align: middle;\n",
       "    }\n",
       "\n",
       "    .dataframe tbody tr th {\n",
       "        vertical-align: top;\n",
       "    }\n",
       "\n",
       "    .dataframe thead th {\n",
       "        text-align: right;\n",
       "    }\n",
       "</style>\n",
       "<table border=\"1\" class=\"dataframe\">\n",
       "  <thead>\n",
       "    <tr style=\"text-align: right;\">\n",
       "      <th></th>\n",
       "      <th>state</th>\n",
       "      <th>total_reviews</th>\n",
       "      <th>avg_rating</th>\n",
       "      <th>total_business</th>\n",
       "    </tr>\n",
       "  </thead>\n",
       "  <tbody>\n",
       "    <tr>\n",
       "      <th>0</th>\n",
       "      <td>AZ</td>\n",
       "      <td>3057916</td>\n",
       "      <td>4.270468</td>\n",
       "      <td>57978</td>\n",
       "    </tr>\n",
       "    <tr>\n",
       "      <th>1</th>\n",
       "      <td>SC</td>\n",
       "      <td>2089391</td>\n",
       "      <td>4.324197</td>\n",
       "      <td>46448</td>\n",
       "    </tr>\n",
       "    <tr>\n",
       "      <th>2</th>\n",
       "      <td>LA</td>\n",
       "      <td>1490424</td>\n",
       "      <td>4.309179</td>\n",
       "      <td>37051</td>\n",
       "    </tr>\n",
       "    <tr>\n",
       "      <th>3</th>\n",
       "      <td>MN</td>\n",
       "      <td>1871368</td>\n",
       "      <td>4.333401</td>\n",
       "      <td>46987</td>\n",
       "    </tr>\n",
       "    <tr>\n",
       "      <th>4</th>\n",
       "      <td>NJ</td>\n",
       "      <td>3496696</td>\n",
       "      <td>4.284701</td>\n",
       "      <td>74671</td>\n",
       "    </tr>\n",
       "    <tr>\n",
       "      <th>5</th>\n",
       "      <td>DC</td>\n",
       "      <td>311209</td>\n",
       "      <td>4.134979</td>\n",
       "      <td>6298</td>\n",
       "    </tr>\n",
       "    <tr>\n",
       "      <th>6</th>\n",
       "      <td>OR</td>\n",
       "      <td>1797574</td>\n",
       "      <td>4.317996</td>\n",
       "      <td>43370</td>\n",
       "    </tr>\n",
       "    <tr>\n",
       "      <th>7</th>\n",
       "      <td>VA</td>\n",
       "      <td>3266333</td>\n",
       "      <td>4.278711</td>\n",
       "      <td>67482</td>\n",
       "    </tr>\n",
       "    <tr>\n",
       "      <th>8</th>\n",
       "      <td>RI</td>\n",
       "      <td>385016</td>\n",
       "      <td>4.343500</td>\n",
       "      <td>8984</td>\n",
       "    </tr>\n",
       "    <tr>\n",
       "      <th>9</th>\n",
       "      <td>KY</td>\n",
       "      <td>1388936</td>\n",
       "      <td>4.296188</td>\n",
       "      <td>36491</td>\n",
       "    </tr>\n",
       "    <tr>\n",
       "      <th>10</th>\n",
       "      <td>NH</td>\n",
       "      <td>529664</td>\n",
       "      <td>4.380600</td>\n",
       "      <td>14500</td>\n",
       "    </tr>\n",
       "    <tr>\n",
       "      <th>11</th>\n",
       "      <td>MI</td>\n",
       "      <td>3944624</td>\n",
       "      <td>4.304559</td>\n",
       "      <td>88460</td>\n",
       "    </tr>\n",
       "    <tr>\n",
       "      <th>12</th>\n",
       "      <td>WY</td>\n",
       "      <td>216557</td>\n",
       "      <td>4.367151</td>\n",
       "      <td>6612</td>\n",
       "    </tr>\n",
       "    <tr>\n",
       "      <th>15</th>\n",
       "      <td>NV</td>\n",
       "      <td>1374175</td>\n",
       "      <td>4.180476</td>\n",
       "      <td>25799</td>\n",
       "    </tr>\n",
       "    <tr>\n",
       "      <th>16</th>\n",
       "      <td>WI</td>\n",
       "      <td>1977433</td>\n",
       "      <td>4.354947</td>\n",
       "      <td>52997</td>\n",
       "    </tr>\n",
       "    <tr>\n",
       "      <th>17</th>\n",
       "      <td>ID</td>\n",
       "      <td>768999</td>\n",
       "      <td>4.374739</td>\n",
       "      <td>18998</td>\n",
       "    </tr>\n",
       "    <tr>\n",
       "      <th>18</th>\n",
       "      <td>CA</td>\n",
       "      <td>12248402</td>\n",
       "      <td>4.273942</td>\n",
       "      <td>286846</td>\n",
       "    </tr>\n",
       "    <tr>\n",
       "      <th>19</th>\n",
       "      <td>NE</td>\n",
       "      <td>736865</td>\n",
       "      <td>4.337854</td>\n",
       "      <td>17940</td>\n",
       "    </tr>\n",
       "    <tr>\n",
       "      <th>20</th>\n",
       "      <td>CT</td>\n",
       "      <td>1246292</td>\n",
       "      <td>4.322017</td>\n",
       "      <td>29477</td>\n",
       "    </tr>\n",
       "    <tr>\n",
       "      <th>21</th>\n",
       "      <td>MT</td>\n",
       "      <td>412985</td>\n",
       "      <td>4.393527</td>\n",
       "      <td>12451</td>\n",
       "    </tr>\n",
       "    <tr>\n",
       "      <th>22</th>\n",
       "      <td>NC</td>\n",
       "      <td>4108940</td>\n",
       "      <td>4.335816</td>\n",
       "      <td>92509</td>\n",
       "    </tr>\n",
       "    <tr>\n",
       "      <th>23</th>\n",
       "      <td>MD</td>\n",
       "      <td>2220647</td>\n",
       "      <td>4.254688</td>\n",
       "      <td>44308</td>\n",
       "    </tr>\n",
       "    <tr>\n",
       "      <th>24</th>\n",
       "      <td>DE</td>\n",
       "      <td>355556</td>\n",
       "      <td>4.245361</td>\n",
       "      <td>8203</td>\n",
       "    </tr>\n",
       "    <tr>\n",
       "      <th>25</th>\n",
       "      <td>MO</td>\n",
       "      <td>2389034</td>\n",
       "      <td>4.313613</td>\n",
       "      <td>56012</td>\n",
       "    </tr>\n",
       "    <tr>\n",
       "      <th>26</th>\n",
       "      <td>VT</td>\n",
       "      <td>202552</td>\n",
       "      <td>4.400706</td>\n",
       "      <td>6940</td>\n",
       "    </tr>\n",
       "    <tr>\n",
       "      <th>27</th>\n",
       "      <td>IL</td>\n",
       "      <td>4479148</td>\n",
       "      <td>4.283803</td>\n",
       "      <td>101497</td>\n",
       "    </tr>\n",
       "    <tr>\n",
       "      <th>28</th>\n",
       "      <td>ME</td>\n",
       "      <td>443293</td>\n",
       "      <td>4.398776</td>\n",
       "      <td>14464</td>\n",
       "    </tr>\n",
       "    <tr>\n",
       "      <th>29</th>\n",
       "      <td>WA</td>\n",
       "      <td>2912663</td>\n",
       "      <td>4.295325</td>\n",
       "      <td>66137</td>\n",
       "    </tr>\n",
       "    <tr>\n",
       "      <th>30</th>\n",
       "      <td>ND</td>\n",
       "      <td>243727</td>\n",
       "      <td>4.321739</td>\n",
       "      <td>7581</td>\n",
       "    </tr>\n",
       "    <tr>\n",
       "      <th>31</th>\n",
       "      <td>MS</td>\n",
       "      <td>782046</td>\n",
       "      <td>4.292492</td>\n",
       "      <td>21818</td>\n",
       "    </tr>\n",
       "    <tr>\n",
       "      <th>32</th>\n",
       "      <td>AL</td>\n",
       "      <td>1679487</td>\n",
       "      <td>4.317856</td>\n",
       "      <td>43442</td>\n",
       "    </tr>\n",
       "    <tr>\n",
       "      <th>33</th>\n",
       "      <td>IN</td>\n",
       "      <td>2434116</td>\n",
       "      <td>4.291671</td>\n",
       "      <td>57330</td>\n",
       "    </tr>\n",
       "    <tr>\n",
       "      <th>34</th>\n",
       "      <td>OH</td>\n",
       "      <td>4016222</td>\n",
       "      <td>4.285355</td>\n",
       "      <td>97815</td>\n",
       "    </tr>\n",
       "    <tr>\n",
       "      <th>35</th>\n",
       "      <td>TN</td>\n",
       "      <td>2665297</td>\n",
       "      <td>4.315797</td>\n",
       "      <td>62253</td>\n",
       "    </tr>\n",
       "    <tr>\n",
       "      <th>36</th>\n",
       "      <td>NM</td>\n",
       "      <td>818547</td>\n",
       "      <td>4.232816</td>\n",
       "      <td>19253</td>\n",
       "    </tr>\n",
       "    <tr>\n",
       "      <th>37</th>\n",
       "      <td>IA</td>\n",
       "      <td>1054774</td>\n",
       "      <td>4.354746</td>\n",
       "      <td>28563</td>\n",
       "    </tr>\n",
       "    <tr>\n",
       "      <th>38</th>\n",
       "      <td>PA</td>\n",
       "      <td>4194030</td>\n",
       "      <td>4.316256</td>\n",
       "      <td>111364</td>\n",
       "    </tr>\n",
       "    <tr>\n",
       "      <th>39</th>\n",
       "      <td>SD</td>\n",
       "      <td>277010</td>\n",
       "      <td>4.413362</td>\n",
       "      <td>8277</td>\n",
       "    </tr>\n",
       "    <tr>\n",
       "      <th>42</th>\n",
       "      <td>NY</td>\n",
       "      <td>6677094</td>\n",
       "      <td>4.266284</td>\n",
       "      <td>157191</td>\n",
       "    </tr>\n",
       "    <tr>\n",
       "      <th>43</th>\n",
       "      <td>TX</td>\n",
       "      <td>13331650</td>\n",
       "      <td>4.254033</td>\n",
       "      <td>254080</td>\n",
       "    </tr>\n",
       "    <tr>\n",
       "      <th>44</th>\n",
       "      <td>WV</td>\n",
       "      <td>473822</td>\n",
       "      <td>4.292324</td>\n",
       "      <td>13965</td>\n",
       "    </tr>\n",
       "    <tr>\n",
       "      <th>45</th>\n",
       "      <td>GA</td>\n",
       "      <td>4613848</td>\n",
       "      <td>4.271738</td>\n",
       "      <td>92933</td>\n",
       "    </tr>\n",
       "    <tr>\n",
       "      <th>46</th>\n",
       "      <td>MA</td>\n",
       "      <td>2119395</td>\n",
       "      <td>4.323106</td>\n",
       "      <td>53368</td>\n",
       "    </tr>\n",
       "    <tr>\n",
       "      <th>47</th>\n",
       "      <td>KS</td>\n",
       "      <td>1034591</td>\n",
       "      <td>4.328292</td>\n",
       "      <td>26753</td>\n",
       "    </tr>\n",
       "    <tr>\n",
       "      <th>49</th>\n",
       "      <td>CO</td>\n",
       "      <td>2881628</td>\n",
       "      <td>4.280598</td>\n",
       "      <td>57382</td>\n",
       "    </tr>\n",
       "    <tr>\n",
       "      <th>50</th>\n",
       "      <td>FL</td>\n",
       "      <td>11320085</td>\n",
       "      <td>4.304403</td>\n",
       "      <td>209323</td>\n",
       "    </tr>\n",
       "    <tr>\n",
       "      <th>51</th>\n",
       "      <td>AK</td>\n",
       "      <td>232074</td>\n",
       "      <td>4.359440</td>\n",
       "      <td>7717</td>\n",
       "    </tr>\n",
       "    <tr>\n",
       "      <th>52</th>\n",
       "      <td>AR</td>\n",
       "      <td>1021719</td>\n",
       "      <td>4.322622</td>\n",
       "      <td>27876</td>\n",
       "    </tr>\n",
       "    <tr>\n",
       "      <th>53</th>\n",
       "      <td>OK</td>\n",
       "      <td>1610165</td>\n",
       "      <td>4.295341</td>\n",
       "      <td>39405</td>\n",
       "    </tr>\n",
       "    <tr>\n",
       "      <th>54</th>\n",
       "      <td>UT</td>\n",
       "      <td>1799395</td>\n",
       "      <td>4.353941</td>\n",
       "      <td>31848</td>\n",
       "    </tr>\n",
       "    <tr>\n",
       "      <th>55</th>\n",
       "      <td>HI</td>\n",
       "      <td>435525</td>\n",
       "      <td>4.338245</td>\n",
       "      <td>11306</td>\n",
       "    </tr>\n",
       "  </tbody>\n",
       "</table>\n",
       "</div>"
      ],
      "text/plain": [
       "   state  total_reviews  avg_rating  total_business\n",
       "0     AZ        3057916    4.270468           57978\n",
       "1     SC        2089391    4.324197           46448\n",
       "2     LA        1490424    4.309179           37051\n",
       "3     MN        1871368    4.333401           46987\n",
       "4     NJ        3496696    4.284701           74671\n",
       "5     DC         311209    4.134979            6298\n",
       "6     OR        1797574    4.317996           43370\n",
       "7     VA        3266333    4.278711           67482\n",
       "8     RI         385016    4.343500            8984\n",
       "9     KY        1388936    4.296188           36491\n",
       "10    NH         529664    4.380600           14500\n",
       "11    MI        3944624    4.304559           88460\n",
       "12    WY         216557    4.367151            6612\n",
       "15    NV        1374175    4.180476           25799\n",
       "16    WI        1977433    4.354947           52997\n",
       "17    ID         768999    4.374739           18998\n",
       "18    CA       12248402    4.273942          286846\n",
       "19    NE         736865    4.337854           17940\n",
       "20    CT        1246292    4.322017           29477\n",
       "21    MT         412985    4.393527           12451\n",
       "22    NC        4108940    4.335816           92509\n",
       "23    MD        2220647    4.254688           44308\n",
       "24    DE         355556    4.245361            8203\n",
       "25    MO        2389034    4.313613           56012\n",
       "26    VT         202552    4.400706            6940\n",
       "27    IL        4479148    4.283803          101497\n",
       "28    ME         443293    4.398776           14464\n",
       "29    WA        2912663    4.295325           66137\n",
       "30    ND         243727    4.321739            7581\n",
       "31    MS         782046    4.292492           21818\n",
       "32    AL        1679487    4.317856           43442\n",
       "33    IN        2434116    4.291671           57330\n",
       "34    OH        4016222    4.285355           97815\n",
       "35    TN        2665297    4.315797           62253\n",
       "36    NM         818547    4.232816           19253\n",
       "37    IA        1054774    4.354746           28563\n",
       "38    PA        4194030    4.316256          111364\n",
       "39    SD         277010    4.413362            8277\n",
       "42    NY        6677094    4.266284          157191\n",
       "43    TX       13331650    4.254033          254080\n",
       "44    WV         473822    4.292324           13965\n",
       "45    GA        4613848    4.271738           92933\n",
       "46    MA        2119395    4.323106           53368\n",
       "47    KS        1034591    4.328292           26753\n",
       "49    CO        2881628    4.280598           57382\n",
       "50    FL       11320085    4.304403          209323\n",
       "51    AK         232074    4.359440            7717\n",
       "52    AR        1021719    4.322622           27876\n",
       "53    OK        1610165    4.295341           39405\n",
       "54    UT        1799395    4.353941           31848\n",
       "55    HI         435525    4.338245           11306"
      ]
     },
     "execution_count": 49,
     "metadata": {},
     "output_type": "execute_result"
    }
   ],
   "source": [
    "filter = (state_resume[\"total_reviews\"]>1000) & (state_resume[\"state\"]!=\"\")\n",
    "filtered_state_resume = state_resume[filter]\n",
    "filtered_state_resume"
   ]
  },
  {
   "cell_type": "code",
   "execution_count": 53,
   "metadata": {},
   "outputs": [
    {
     "data": {
      "text/html": [
       "<div>\n",
       "<style scoped>\n",
       "    .dataframe tbody tr th:only-of-type {\n",
       "        vertical-align: middle;\n",
       "    }\n",
       "\n",
       "    .dataframe tbody tr th {\n",
       "        vertical-align: top;\n",
       "    }\n",
       "\n",
       "    .dataframe thead th {\n",
       "        text-align: right;\n",
       "    }\n",
       "</style>\n",
       "<table border=\"1\" class=\"dataframe\">\n",
       "  <thead>\n",
       "    <tr style=\"text-align: right;\">\n",
       "      <th></th>\n",
       "      <th>total_reviews</th>\n",
       "      <th>avg_rating</th>\n",
       "      <th>total_business</th>\n",
       "    </tr>\n",
       "  </thead>\n",
       "  <tbody>\n",
       "    <tr>\n",
       "      <th>count</th>\n",
       "      <td>5.100000e+01</td>\n",
       "      <td>51.000000</td>\n",
       "      <td>51.000000</td>\n",
       "    </tr>\n",
       "    <tr>\n",
       "      <th>mean</th>\n",
       "      <td>2.459587e+06</td>\n",
       "      <td>4.310660</td>\n",
       "      <td>55112.803922</td>\n",
       "    </tr>\n",
       "    <tr>\n",
       "      <th>std</th>\n",
       "      <td>2.881908e+06</td>\n",
       "      <td>0.052009</td>\n",
       "      <td>59491.520114</td>\n",
       "    </tr>\n",
       "    <tr>\n",
       "      <th>min</th>\n",
       "      <td>2.025520e+05</td>\n",
       "      <td>4.134979</td>\n",
       "      <td>6298.000000</td>\n",
       "    </tr>\n",
       "    <tr>\n",
       "      <th>25%</th>\n",
       "      <td>6.332645e+05</td>\n",
       "      <td>4.284252</td>\n",
       "      <td>16220.000000</td>\n",
       "    </tr>\n",
       "    <tr>\n",
       "      <th>50%</th>\n",
       "      <td>1.679487e+06</td>\n",
       "      <td>4.315797</td>\n",
       "      <td>39405.000000</td>\n",
       "    </tr>\n",
       "    <tr>\n",
       "      <th>75%</th>\n",
       "      <td>2.985290e+06</td>\n",
       "      <td>4.338050</td>\n",
       "      <td>64195.000000</td>\n",
       "    </tr>\n",
       "    <tr>\n",
       "      <th>max</th>\n",
       "      <td>1.333165e+07</td>\n",
       "      <td>4.413362</td>\n",
       "      <td>286846.000000</td>\n",
       "    </tr>\n",
       "  </tbody>\n",
       "</table>\n",
       "</div>"
      ],
      "text/plain": [
       "       total_reviews  avg_rating  total_business\n",
       "count   5.100000e+01   51.000000       51.000000\n",
       "mean    2.459587e+06    4.310660    55112.803922\n",
       "std     2.881908e+06    0.052009    59491.520114\n",
       "min     2.025520e+05    4.134979     6298.000000\n",
       "25%     6.332645e+05    4.284252    16220.000000\n",
       "50%     1.679487e+06    4.315797    39405.000000\n",
       "75%     2.985290e+06    4.338050    64195.000000\n",
       "max     1.333165e+07    4.413362   286846.000000"
      ]
     },
     "execution_count": 53,
     "metadata": {},
     "output_type": "execute_result"
    }
   ],
   "source": [
    "# Observamos valores atípicos en las columnas total_reviews y total_business, posiblemente estados con mayor cantidad de habitantes o con mayor actividad económica.\n",
    "filtered_state_resume.describe()"
   ]
  },
  {
   "cell_type": "code",
   "execution_count": 55,
   "metadata": {},
   "outputs": [
    {
     "data": {
      "text/plain": [
       "<Axes: ylabel='total_reviews'>"
      ]
     },
     "execution_count": 55,
     "metadata": {},
     "output_type": "execute_result"
    },
    {
     "data": {
      "image/png": "[encoded data removed]",
      "text/plain": [
       "<Figure size 640x480 with 1 Axes>"
      ]
     },
     "metadata": {},
     "output_type": "display_data"
    }
   ],
   "source": [
    "sns.boxplot(data=filtered_state_resume[\"total_reviews\"])"
   ]
  },
  {
   "cell_type": "code",
   "execution_count": null,
   "metadata": {},
   "outputs": [
    {
     "data": {
      "text/plain": [
       "<Axes: xlabel='state', ylabel='total_reviews'>"
      ]
     },
     "execution_count": 68,
     "metadata": {},
     "output_type": "execute_result"
    },
    {
     "data": {
      "image/png": "[encoded data removed]",
      "text/plain": [
       "<Figure size 1000x500 with 1 Axes>"
      ]
     },
     "metadata": {},
     "output_type": "display_data"
    }
   ],
   "source": [
    "plt.figure(figsize=(10,5))\n",
    "sns.barplot(data= filtered_state_resume.sort_values(by=\"total_reviews\", ascending=False).head(10), y=\"total_reviews\", x= \"state\") \n",
    "#Los estados con mayor cantidad de reviews son Texas, California, Florida y New York."
   ]
  },
  {
   "cell_type": "code",
   "execution_count": 56,
   "metadata": {},
   "outputs": [
    {
     "data": {
      "text/plain": [
       "<Axes: ylabel='total_business'>"
      ]
     },
     "execution_count": 56,
     "metadata": {},
     "output_type": "execute_result"
    },
    {
     "data": {
      "image/png": "[encoded data removed]",
      "text/plain": [
       "<Figure size 640x480 with 1 Axes>"
      ]
     },
     "metadata": {},
     "output_type": "display_data"
    }
   ],
   "source": [
    "sns.boxplot(data=filtered_state_resume[\"total_business\"])"
   ]
  },
  {
   "cell_type": "code",
   "execution_count": null,
   "metadata": {},
   "outputs": [
    {
     "data": {
      "text/plain": [
       "<Axes: xlabel='state', ylabel='total_business'>"
      ]
     },
     "execution_count": 70,
     "metadata": {},
     "output_type": "execute_result"
    },
    {
     "data": {
      "image/png": "[encoded data removed]",
      "text/plain": [
       "<Figure size 1000x500 with 1 Axes>"
      ]
     },
     "metadata": {},
     "output_type": "display_data"
    }
   ],
   "source": [
    "plt.figure(figsize=(10,5))\n",
    "sns.barplot(data= filtered_state_resume.sort_values(by=\"total_business\", ascending=False).head(10), y=\"total_business\", x= \"state\") \n",
    "#Nuevamente se repiten los mismos estados: Texas, California, Florida y New York."
   ]
  },
  {
   "cell_type": "markdown",
   "metadata": {},
   "source": [
    "# Finalización tarea de Spark"
   ]
  },
  {
   "cell_type": "code",
   "execution_count": 53,
   "metadata": {},
   "outputs": [],
   "source": [
    "spark.stop()"
   ]
  }
 ],
 "metadata": {
  "kernelspec": {
   "display_name": "datanova_env",
   "language": "python",
   "name": "python3"
  },
  "language_info": {
   "codemirror_mode": {
    "name": "ipython",
    "version": 3
   },
   "file_extension": ".py",
   "mimetype": "text/x-python",
   "name": "python",
   "nbconvert_exporter": "python",
   "pygments_lexer": "ipython3",
   "version": "3.12.6"
  }
 },
 "nbformat": 4,
 "nbformat_minor": 2
}
