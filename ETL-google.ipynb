{
 "cells": [
  {
   "cell_type": "markdown",
   "metadata": {},
   "source": [
    "# EDA dataset Google\n",
    "La finalidad de este notebook es hacer una revisión de los datos actuales, realizar un EDA, para determinar un  SCOPE y posteriormente un ETL.\n",
    "Vamos a trabajar con la libreria SPARK."
   ]
  },
  {
   "cell_type": "code",
   "execution_count": 1,
   "metadata": {},
   "outputs": [],
   "source": [
    "import os\n",
    "os.environ[\"SPARK_HOME\"] = r\"F:\\DataScience\\spark\\spark-3.5.3-bin-hadoop3\\spark-3.5.3-bin-hadoop3\"\n",
    "os.environ[\"HADOOP_HOME\"] = r\"F:\\DataScience\\hadoop\\hadoop-3.4.0\"\n",
    "os.environ[\"HADOOP_CONF_DIR\"] = r\"F:\\DataScience\\hadoop\\hadoop-3.4.0\\etc\\hadoop\"\n",
    "\n",
    "import findspark\n",
    "import pickle\n",
    "import pandas as pd\n",
    "import numpy as np\n",
    "\n",
    "\n",
    "findspark.init()\n",
    "\n",
    "\n",
    "from pyspark.sql import SparkSession\n",
    "\n",
    "spark = SparkSession.builder.master(\"local[4]\").config(\"spark.executor.memory\", \"8g\").appName(\"PySpark\").getOrCreate()\n",
    "#para cerrar la sesión debemos usar spark.stop()"
   ]
  },
  {
   "cell_type": "code",
   "execution_count": 2,
   "metadata": {},
   "outputs": [
    {
     "name": "stdout",
     "output_type": "stream",
     "text": [
      "3.5.3\n"
     ]
    }
   ],
   "source": [
    "print(spark.version)"
   ]
  },
  {
   "cell_type": "code",
   "execution_count": 166,
   "metadata": {},
   "outputs": [],
   "source": [
    "import re\n",
    "from pyspark.sql.functions import explode\n",
    "from pyspark.sql.functions import size, max as spark_max, min as spark_min, avg, isnan\n",
    "from pyspark.sql.functions import col\n",
    "from pyspark.sql.functions import regexp_extract\n",
    "from pyspark.sql.functions import sum, when\n",
    "from pyspark.sql.functions import date_format, from_unixtime, year\n",
    "\n",
    "from nltk.corpus import stopwords\n",
    "from nltk.stem import WordNetLemmatizer\n",
    "from sklearn.feature_extraction.text import TfidfVectorizer\n",
    "from sklearn.metrics.pairwise import cosine_similarity\n",
    "import ast\n"
   ]
  },
  {
   "cell_type": "code",
   "execution_count": null,
   "metadata": {},
   "outputs": [],
   "source": [
    "# Creamos la lista de estados unicos en USA.\n",
    "STATES_LIST = ['AZ', 'SC', 'LA', 'MN', 'NJ', 'DC', 'OR', 'VA', 'RI', 'KY', 'NH', 'MI', 'WY', 'FS', 'NW', 'NV', 'WI', 'ID', 'CA', 'NE', 'CT', 'MT', 'NC', 'MD', 'DE', 'MO', 'VT', 'IL', 'ME', 'WA', 'ND', 'MS', 'AL', 'IN', 'OH', 'TN', 'NM', 'IA', 'PA', 'SD', 'CR', 'US', 'NY', 'TX', 'WV', 'GA', 'MA', 'KS', '', 'CO', 'FL', 'AK', 'AR', 'OK', 'UT', 'HI', 'EW']"
   ]
  },
  {
   "cell_type": "markdown",
   "metadata": {},
   "source": [
    "# Datos Google\n",
    "Aqui tenemos basicamente dos datasets.\n",
    "\n",
    "1. metadata-sitios: Metadata de todos los sites. Incluye cantidad de comentarios, descripcion, locación, categoria, rating promedio, etc.\n",
    "2. review-estados: Cada uno de los reviews organizados por estado. Información relevante: usuario, texto, rating, gmap_id (id del negocio) "
   ]
  },
  {
   "cell_type": "markdown",
   "metadata": {},
   "source": [
    "## Metadata Sitios"
   ]
  },
  {
   "cell_type": "code",
   "execution_count": 4,
   "metadata": {},
   "outputs": [],
   "source": [
    "ruta_lectura = r\"F:\\DataScience\\PF - DataNova\\datasets\\Google Maps\\metadata-sitios\\1.json\""
   ]
  },
  {
   "cell_type": "code",
   "execution_count": null,
   "metadata": {},
   "outputs": [],
   "source": [
    "df = spark.read.json(ruta_lectura)\n",
    "# Considerar el uso de persist o cache\n",
    "df_cached = df.cache()"
   ]
  },
  {
   "cell_type": "code",
   "execution_count": 6,
   "metadata": {},
   "outputs": [],
   "source": [
    "#intentamos cargar todos los archivos.\n",
    "#ruta_lectura_full = r\"F:\\DataScience\\PF - DataNova\\datasets\\Google Maps\\metadata-sitios\\*.json\"\n",
    "#df_full = spark.read.json(ruta_lectura_full)\n",
    "# este método no resulta eficiente, toma mas de 20 minutos en cargar todos los archivos."
   ]
  },
  {
   "cell_type": "code",
   "execution_count": 7,
   "metadata": {},
   "outputs": [
    {
     "name": "stdout",
     "output_type": "stream",
     "text": [
      "+--------------------+--------------------+----------+--------------------+--------------------+--------------------+--------------------+------------------+-------------------+--------------------+--------------+-----+--------------------+--------------------+--------------------+\n",
      "|                MISC|             address|avg_rating|            category|         description|             gmap_id|               hours|          latitude|          longitude|                name|num_of_reviews|price|    relative_results|               state|                 url|\n",
      "+--------------------+--------------------+----------+--------------------+--------------------+--------------------+--------------------+------------------+-------------------+--------------------+--------------+-----+--------------------+--------------------+--------------------+\n",
      "|{[Wheelchair acce...|Porter Pharmacy, ...|       4.9|          [Pharmacy]|                NULL|0x88f16e41928ff68...|[[Friday, 8AM–6PM...|           32.3883|           -83.3571|     Porter Pharmacy|            16| NULL|[0x88f16e41929435...|   Open ⋅ Closes 6PM|https://www.googl...|\n",
      "|                NULL|City Textile, 300...|       4.5|  [Textile exporter]|                NULL|0x80c2c98c0e3c16f...|                NULL|        34.0188913|       -118.2152898|        City Textile|             6| NULL|[0x80c2c624136ea8...|            Open now|https://www.googl...|\n",
      "|{[Wheelchair acce...|San Soo Dang, 761...|       4.4| [Korean restaurant]|                NULL|0x80c2c778e3b73d3...|[[Thursday, 6:30A...|        34.0580917|       -118.2921295|        San Soo Dang|            18| NULL|[0x80c2c78249aba6...|   Open ⋅ Closes 6PM|https://www.googl...|\n",
      "|{NULL, NULL, NULL...|Nova Fabrics, 220...|       3.3|      [Fabric store]|                NULL|0x80c2c89923b27a4...|[[Thursday, 9AM–5...|        34.0236689|       -118.2329297|        Nova Fabrics|             6| NULL|[0x80c2c881147725...|   Open ⋅ Closes 5PM|https://www.googl...|\n",
      "|{NULL, NULL, NULL...|Nobel Textile Co,...|       4.3|      [Fabric store]|                NULL|0x80c2c632f933b07...|[[Thursday, 9AM–5...|        34.0366942|       -118.2494208|    Nobel Textile Co|             7| NULL|[0x80c2c62c496083...|   Open ⋅ Closes 5PM|https://www.googl...|\n",
      "|{[Wheelchair acce...|Matrix Internatio...|       3.5|      [Fabric store]|                NULL|0x80c2cf163db6bc8...|[[Thursday, 8:30A...|        34.0155047|       -118.1818394|Matrix Internatio...|             6| NULL|[0x80c2cf042a5d95...|Open ⋅ Closes 5:30PM|https://www.googl...|\n",
      "|{[Wheelchair acce...|Vons Chicken, 127...|       4.5|        [Restaurant]|                NULL|0x80dd2b4c8555edb...|[[Thursday, 11AM–...|        33.9164023|-118.01085499999999|        Vons Chicken|            18| NULL|                NULL|Open ⋅ Closes 9:30PM|https://www.googl...|\n",
      "|{[Wheelchair acce...|Polished Nail Sal...|       4.0|[Nail salon, Waxi...|                NULL|0x87ec238afdd8837...|[[Thursday, 9AM–8...|41.614197999999995|        -93.8472695|Polished Nail Sal...|            86| NULL|[0x87ec2481df68e1...|   Open ⋅ Closes 8PM|https://www.googl...|\n",
      "|{NULL, NULL, NULL...|Sweet Rewards Glu...|       4.7|[Bakery, Health f...|                NULL|0x87ec235c54d25b3...|[[Thursday, 10AM–...|         41.616079|         -93.865487|Sweet Rewards Glu...|            21| NULL|[0x87ee9748692955...|  Permanently closed|https://www.googl...|\n",
      "|                NULL|                NULL|       5.0|[Greeting card sh...|                NULL|0x87ee85ac3cb23b4...|[[Thursday, 7AM–8...|         41.846035|        -93.7561175|           PeepNotes|             1| NULL|[0x87ee915d9604ea...|   Open ⋅ Closes 8PM|https://www.googl...|\n",
      "|{[Wheelchair acce...|Lush Family Denta...|       5.0|[Dentist, Cosmeti...|                NULL|0x87ec2394c2cd9d2...|[[Thursday, 7AM–4...|        41.5852916|        -93.8551126|  Lush Family Dental|           178| NULL|[0x87ec2482098b66...|   Open ⋅ Closes 4PM|https://www.googl...|\n",
      "|{[Wheelchair acce...|515 Auto Shades, ...|       5.0|[Auto glass shop,...|                NULL|0x87ee95d1e474531...|[[Thursday, 9AM–6...|         41.606082|        -93.4986302|     515 Auto Shades|            28| NULL|                NULL|   Open ⋅ Closes 6PM|https://www.googl...|\n",
      "|{[Wheelchair acce...|Lena’s Beauty Nai...|       4.2|      [Beauty salon]|                NULL|0x87ec2481df6626b...|[[Thursday, 9AM–7...|        41.6163101|         -93.858345|Lena’s Beauty Nai...|           128| NULL|[0x87ec20ce836cac...|   Open ⋅ Closes 7PM|https://www.googl...|\n",
      "|{[Wheelchair acce...|Black Tie Ski Ren...|       5.0|[Ski rental servi...|                NULL|0x80960c29f2e3bf2...|[[Thursday, 8AM–5...|37.638754399999996|-118.96605509999999|Black Tie Ski Ren...|            34| NULL|[0x80960dcd6ba767...|   Open ⋅ Closes 5PM|https://www.googl...|\n",
      "|{[Wheelchair acce...|NTK OUTDOOR, 2315...|       5.0|  [Corporate office]|                NULL|0x88d9beb4fe0532c...|[[Thursday, 9AM–6...|        25.7952041|        -80.3660381|         NTK OUTDOOR|            35| NULL|[0x88d9bfd49a624c...|   Open ⋅ Closes 6PM|https://www.googl...|\n",
      "|                NULL|Angel-A Massage, ...|       4.3|[Massage spa, Chi...|                NULL|0x809adef58ae560b...|[[Thursday, 9:30A...|        38.6626297|       -121.3086388|     Angel-A Massage|             6| NULL|[0x809adee9ac6f1b...|Open ⋅ Closes 9:30PM|https://www.googl...|\n",
      "|{[Wheelchair acce...|Dunn-Edwards Pain...|       4.7|[Paint store, Pai...|Chain selling int...|0x809b1ff6d3a60c4...|[[Thursday, 6:30A...|        38.7434619|       -121.2587612| Dunn-Edwards Paints|            26| NULL|[0x809b201630f908...|   Open ⋅ Closes 5PM|https://www.googl...|\n",
      "|                NULL|Elite Massage, 81...|       5.0| [Massage therapist]|                NULL|0x809ae0a7ce91433...|                NULL|        38.6649155|       -121.2601916|       Elite Massage|             1| NULL|[0x809ade27605def...|                NULL|https://www.googl...|\n",
      "|{[Wheelchair acce...|PODS Sacramento H...|       4.0|  [Corporate office]|                NULL|0x809ad95924805cf...|                NULL|         38.658994|       -121.4129579| PODS Sacramento Hub|             8| NULL|[0x809ad8fc85a035...|            Open now|https://www.googl...|\n",
      "|{[Wheelchair acce...|Happy Spa & Massa...|       2.7|[Massage therapis...|                NULL|0x809b217a6cbe4fa...|[[Thursday, 9:30A...|        38.7855482|       -121.2868859|Happy Spa & Massa...|             8| NULL|[0x809b20410d8df0...|  Open ⋅ Closes 10PM|https://www.googl...|\n",
      "+--------------------+--------------------+----------+--------------------+--------------------+--------------------+--------------------+------------------+-------------------+--------------------+--------------+-----+--------------------+--------------------+--------------------+\n",
      "only showing top 20 rows\n",
      "\n"
     ]
    }
   ],
   "source": [
    "# revision del df.\n",
    "df_cached.show()"
   ]
  },
  {
   "cell_type": "code",
   "execution_count": 372,
   "metadata": {},
   "outputs": [
    {
     "data": {
      "text/plain": [
       "275001"
      ]
     },
     "execution_count": 372,
     "metadata": {},
     "output_type": "execute_result"
    }
   ],
   "source": [
    "# cantidad de filas.\n",
    "df_cached.count()"
   ]
  },
  {
   "cell_type": "code",
   "execution_count": 373,
   "metadata": {},
   "outputs": [
    {
     "name": "stdout",
     "output_type": "stream",
     "text": [
      "root\n",
      " |-- MISC: struct (nullable = true)\n",
      " |    |-- Accessibility: array (nullable = true)\n",
      " |    |    |-- element: string (containsNull = true)\n",
      " |    |-- Activities: array (nullable = true)\n",
      " |    |    |-- element: string (containsNull = true)\n",
      " |    |-- Amenities: array (nullable = true)\n",
      " |    |    |-- element: string (containsNull = true)\n",
      " |    |-- Atmosphere: array (nullable = true)\n",
      " |    |    |-- element: string (containsNull = true)\n",
      " |    |-- Crowd: array (nullable = true)\n",
      " |    |    |-- element: string (containsNull = true)\n",
      " |    |-- Dining options: array (nullable = true)\n",
      " |    |    |-- element: string (containsNull = true)\n",
      " |    |-- From the business: array (nullable = true)\n",
      " |    |    |-- element: string (containsNull = true)\n",
      " |    |-- Getting here: array (nullable = true)\n",
      " |    |    |-- element: string (containsNull = true)\n",
      " |    |-- Health & safety: array (nullable = true)\n",
      " |    |    |-- element: string (containsNull = true)\n",
      " |    |-- Highlights: array (nullable = true)\n",
      " |    |    |-- element: string (containsNull = true)\n",
      " |    |-- Offerings: array (nullable = true)\n",
      " |    |    |-- element: string (containsNull = true)\n",
      " |    |-- Payments: array (nullable = true)\n",
      " |    |    |-- element: string (containsNull = true)\n",
      " |    |-- Planning: array (nullable = true)\n",
      " |    |    |-- element: string (containsNull = true)\n",
      " |    |-- Popular for: array (nullable = true)\n",
      " |    |    |-- element: string (containsNull = true)\n",
      " |    |-- Recycling: array (nullable = true)\n",
      " |    |    |-- element: string (containsNull = true)\n",
      " |    |-- Service options: array (nullable = true)\n",
      " |    |    |-- element: string (containsNull = true)\n",
      " |-- address: string (nullable = true)\n",
      " |-- avg_rating: double (nullable = true)\n",
      " |-- category: array (nullable = true)\n",
      " |    |-- element: string (containsNull = true)\n",
      " |-- description: string (nullable = true)\n",
      " |-- gmap_id: string (nullable = true)\n",
      " |-- hours: array (nullable = true)\n",
      " |    |-- element: array (containsNull = true)\n",
      " |    |    |-- element: string (containsNull = true)\n",
      " |-- latitude: double (nullable = true)\n",
      " |-- longitude: double (nullable = true)\n",
      " |-- name: string (nullable = true)\n",
      " |-- num_of_reviews: long (nullable = true)\n",
      " |-- price: string (nullable = true)\n",
      " |-- relative_results: array (nullable = true)\n",
      " |    |-- element: string (containsNull = true)\n",
      " |-- state: string (nullable = true)\n",
      " |-- url: string (nullable = true)\n",
      "\n"
     ]
    }
   ],
   "source": [
    "# Esquema de la tabla. total de 15 columnas\n",
    "df_cached.printSchema()"
   ]
  },
  {
   "cell_type": "code",
   "execution_count": 62,
   "metadata": {},
   "outputs": [
    {
     "name": "stdout",
     "output_type": "stream",
     "text": [
      "+-------+--------------------+------------------+--------------------+--------------------+-------------------+-------------------+--------------------+------------------+-----+------------------+--------------------+\n",
      "|summary|             address|        avg_rating|         description|             gmap_id|           latitude|          longitude|                name|    num_of_reviews|price|             state|                 url|\n",
      "+-------+--------------------+------------------+--------------------+--------------------+-------------------+-------------------+--------------------+------------------+-----+------------------+--------------------+\n",
      "|  count|              264939|            275001|               13155|              275001|             275001|             275001|              274994|            275001|13450|            195523|              275001|\n",
      "|   mean|                NULL| 4.307215610124819|                NULL|                NULL|  37.49011244811361| -92.27470752969505|  111.45454545454545| 19.72275009909055| NULL|              NULL|                NULL|\n",
      "| stddev|                NULL|0.7901014711929062|                NULL|                NULL|  5.405779913612219| 16.414616526884657|  219.33138325788715|37.642092269090824| NULL|              NULL|                NULL|\n",
      "|    min|\"Bill\" Fuchs Park...|               1.0|\"Aphrodisiac\" glo...|0x0:0x1cda8cf8c09...|-1.7660589999999998|-176.64464759999998|   \"Bill\" Fuchs Park|                 1|    $|            Closed|https://www.googl...|\n",
      "|    max|🥇Villa de Vanmar...|               5.0|Zen-like boutique...|0xf5605db11f06f1b...|         70.3985443|              180.0|🥇Villa de Vanmar...|              2114| $$$$|Temporarily closed|https://www.googl...|\n",
      "+-------+--------------------+------------------+--------------------+--------------------+-------------------+-------------------+--------------------+------------------+-----+------------------+--------------------+\n",
      "\n"
     ]
    }
   ],
   "source": [
    "df_cached.describe().show()"
   ]
  },
  {
   "cell_type": "code",
   "execution_count": 374,
   "metadata": {},
   "outputs": [
    {
     "data": {
      "text/plain": [
       "DataFrame[MISC: struct<Accessibility:array<string>,Activities:array<string>,Amenities:array<string>,Atmosphere:array<string>,Crowd:array<string>,Dining options:array<string>,From the business:array<string>,Getting here:array<string>,Health & safety:array<string>,Highlights:array<string>,Offerings:array<string>,Payments:array<string>,Planning:array<string>,Popular for:array<string>,Recycling:array<string>,Service options:array<string>>, address: string, avg_rating: double, category: array<string>, description: string, gmap_id: string, hours: array<array<string>>, latitude: double, longitude: double, name: string, num_of_reviews: bigint, price: string, relative_results: array<string>, state: string, url: string]"
      ]
     },
     "execution_count": 374,
     "metadata": {},
     "output_type": "execute_result"
    }
   ],
   "source": [
    "# liberamos cache\n",
    "df_cached.unpersist()"
   ]
  },
  {
   "cell_type": "markdown",
   "metadata": {},
   "source": [
    "### 1st Look\n",
    "1. Posibles columnas a remover: \n",
    "    - description: No proporciona data relevante. Solo 13155 de 275001 sites tienen un descripcion, es decir, menos del 5%.\n",
    "    - state: No brinda información relevante para nuestro análisis. Solo información del estado (abierto o cerrado) del momento en el cual se extrajo la data.\n",
    "    - url: Dirección url del sitio en google maps.\n",
    "    - price: Demasiados valores nulos.\n",
    "    - hours: Horarios de atención del negocio. (Evaluar remoción, a menos que sea necesario para el análisis.)\n",
    "\n",
    "2. No poseemos información de la ciudad o el estado, podemos extraer de columna address.\n",
    "3. Columnas clave: gmap_id, avg_rating, category.\n",
    "4. MISC: Tiene un esquema definido. Importante validar que data puede ser de utilidad dentro de este esquema.\n",
    "5. CATEGORY: Realizar un análisis de las categorías existentes. (i,e: Nube de palabras)"
   ]
  },
  {
   "cell_type": "markdown",
   "metadata": {},
   "source": [
    "# EDA"
   ]
  },
  {
   "cell_type": "markdown",
   "metadata": {},
   "source": [
    "Comenzazmos definiendo una función para extracción de datos relevantes para el EDA."
   ]
  },
  {
   "cell_type": "code",
   "execution_count": 4,
   "metadata": {},
   "outputs": [],
   "source": [
    "def metadata_analytics_treatment(spark_df):\n",
    "    # Dropeado de columnas no utilizadas en nuestro EDA.\n",
    "    spark_df_modified = spark_df.drop(*[\"description\", \"hours\", \"price\", \"state\", \"url\", \"MISC\", \"latitude\", \"longitude\", \"name\", \"relative_results\"])\n",
    "\n",
    "    # Anexamos la columna \"state\" en referencia al estado . ie. california: CA.\n",
    "    state_regexp = r\",\\s([A-Z]{2})\\s\\d{5}\"\n",
    "    spark_df_modified = spark_df_modified.withColumn(\"state\", regexp_extract(\"address\", state_regexp, 1))\n",
    "    spark_df_modified = spark_df_modified.dropna(subset=\"state\") # Dropeamos nulos en esta columna.\n",
    "    spark_df_modified = spark_df_modified.drop(*[\"address\"]) # Dropeamos address, ya no lo necesitamos.\n",
    "\n",
    "    # Dropeamos duplicados.\n",
    "    spark_df_modified = spark_df_modified.dropDuplicates([\"gmap_id\"])\n",
    "    \n",
    "    return spark_df_modified"
   ]
  },
  {
   "cell_type": "markdown",
   "metadata": {},
   "source": [
    "Creamos una rutina para leer y anexar todos los archivos."
   ]
  },
  {
   "cell_type": "code",
   "execution_count": null,
   "metadata": {},
   "outputs": [
    {
     "name": "stdout",
     "output_type": "stream",
     "text": [
      "Iteración:  1\n",
      "Iteración:  2\n",
      "Iteración:  3\n",
      "Iteración:  4\n",
      "Iteración:  5\n",
      "Iteración:  6\n",
      "Iteración:  7\n",
      "Iteración:  8\n",
      "Iteración:  9\n",
      "Iteración:  10\n",
      "Iteración:  11\n"
     ]
    }
   ],
   "source": [
    "folder_path = r\"F:\\DataScience\\PF - DataNova\\datasets\\Google Maps\\metadata-sitios\"\n",
    "\n",
    "count_record = 0\n",
    "\n",
    "for file_name in os.listdir(folder_path):\n",
    "    \n",
    "    # recuperamos el nombre de cada archivo.\n",
    "    file_path = os.path.join(folder_path, file_name)\n",
    "  \n",
    "    # primera lectura: se toma el esquema y se fuerza en los demas archivos.\n",
    "    if count_record == 0:\n",
    "        df = spark.read.json(file_path)\n",
    "        schema = df.schema\n",
    "        df_ETLed = metadata_analytics_treatment(df)        \n",
    "        union_df = df_ETLed.select(\"*\")\n",
    "    # lecturas posteriores: se fuerza esquema, se anexa dataframe.\n",
    "    else:\n",
    "        df = spark.read.schema(schema).json(file_path)\n",
    "        df_ETLed = metadata_analytics_treatment(df)\n",
    "        union_df = union_df.union(df_ETLed)\n",
    "\n",
    "    count_record+=1\n",
    "    print(\"Iteración: \", count_record)\n",
    "    "
   ]
  },
  {
   "cell_type": "code",
   "execution_count": 6,
   "metadata": {},
   "outputs": [
    {
     "data": {
      "text/plain": [
       "2918918"
      ]
     },
     "execution_count": 6,
     "metadata": {},
     "output_type": "execute_result"
    }
   ],
   "source": [
    "# Total de 3millones de entradas. \n",
    "union_df.count()"
   ]
  },
  {
   "cell_type": "code",
   "execution_count": 377,
   "metadata": {},
   "outputs": [
    {
     "name": "stdout",
     "output_type": "stream",
     "text": [
      "+-------+------------------+--------------------+------------------+-------+\n",
      "|summary|        avg_rating|             gmap_id|    num_of_reviews|  state|\n",
      "+-------+------------------+--------------------+------------------+-------+\n",
      "|  count|           2918918|             2918918|           2918918|2918918|\n",
      "|   mean| 4.295948532983802|                NULL|44.133912292157575|   NULL|\n",
      "| stddev|0.7113406120329981|                NULL|144.82764611758535|   NULL|\n",
      "|    min|               1.0|0x0:0x117c7fa8223...|                 1|       |\n",
      "|    max|               5.0|0xc221a717b87a13:...|              9998|     WY|\n",
      "+-------+------------------+--------------------+------------------+-------+\n",
      "\n"
     ]
    }
   ],
   "source": [
    "union_df.describe().show()"
   ]
  },
  {
   "cell_type": "code",
   "execution_count": 378,
   "metadata": {},
   "outputs": [
    {
     "name": "stdout",
     "output_type": "stream",
     "text": [
      "root\n",
      " |-- avg_rating: double (nullable = true)\n",
      " |-- category: array (nullable = true)\n",
      " |    |-- element: string (containsNull = true)\n",
      " |-- gmap_id: string (nullable = true)\n",
      " |-- num_of_reviews: long (nullable = true)\n",
      " |-- state: string (nullable = true)\n",
      "\n"
     ]
    }
   ],
   "source": [
    "union_df.printSchema()"
   ]
  },
  {
   "cell_type": "code",
   "execution_count": 7,
   "metadata": {},
   "outputs": [],
   "source": [
    "# Agrupamos por categorias\n",
    "categories_df = union_df.select(explode(\"category\").alias(\"category\")).groupBy(\"category\").count()\n",
    "# Guardamos en cache\n",
    "categories_df_cached = categories_df.cache()"
   ]
  },
  {
   "cell_type": "code",
   "execution_count": 361,
   "metadata": {},
   "outputs": [
    {
     "name": "stdout",
     "output_type": "stream",
     "text": [
      "+------------------+-----+\n",
      "|category          |count|\n",
      "+------------------+-----+\n",
      "|Restaurant        |96525|\n",
      "|Auto repair shop  |77073|\n",
      "|Gas station       |69668|\n",
      "|Beauty salon      |64889|\n",
      "|Convenience store |61629|\n",
      "|Church            |52560|\n",
      "|Hair salon        |51102|\n",
      "|Nail salon        |44141|\n",
      "|Park              |42142|\n",
      "|ATM               |42019|\n",
      "|Doctor            |36134|\n",
      "|Clothing store    |35944|\n",
      "|Dentist           |35714|\n",
      "|Insurance agency  |35126|\n",
      "|Barber shop       |34947|\n",
      "|Grocery store     |31480|\n",
      "|Bar               |30747|\n",
      "|Cell phone store  |30305|\n",
      "|Tourist attraction|29443|\n",
      "|Tire shop         |29423|\n",
      "+------------------+-----+\n",
      "only showing top 20 rows\n",
      "\n"
     ]
    }
   ],
   "source": [
    "# Top categorias\n",
    "categories_df_cached.orderBy(\"count\", ascending=False).show(truncate=False)"
   ]
  },
  {
   "cell_type": "code",
   "execution_count": null,
   "metadata": {},
   "outputs": [
    {
     "data": {
      "text/plain": [
       "4461"
      ]
     },
     "execution_count": 9,
     "metadata": {},
     "output_type": "execute_result"
    }
   ],
   "source": [
    "# Total categorias 4461\n",
    "categories_df_cached.count()"
   ]
  },
  {
   "cell_type": "code",
   "execution_count": null,
   "metadata": {},
   "outputs": [
    {
     "data": {
      "text/plain": [
       "DataFrame[category: string, count: bigint]"
      ]
     },
     "execution_count": 362,
     "metadata": {},
     "output_type": "execute_result"
    }
   ],
   "source": [
    "# liberamos memoria\n",
    "categories_df_cached.unpersist()"
   ]
  },
  {
   "cell_type": "markdown",
   "metadata": {},
   "source": [
    "### Tratamiento de categorias\n",
    "La problemática aquí es que tenemos cerca de 4461 categorías distintas, y debemos agruparlas de alguna manera en categorías que nos interesen"
   ]
  },
  {
   "cell_type": "code",
   "execution_count": 286,
   "metadata": {},
   "outputs": [],
   "source": [
    "# Teniendo la data resumida , comenzamos a trabajar con pandas.\n",
    "category_pddf = categories_df.toPandas()"
   ]
  },
  {
   "cell_type": "code",
   "execution_count": null,
   "metadata": {},
   "outputs": [],
   "source": [
    "# Definimos una funcion para procesar texto , lemmatizar, tokenizar, remover caracteres especiales\n",
    "# Evaluar remoción.\n",
    "def preprocess_text(text):\n",
    "    stop_words = set(stopwords.words('english'))\n",
    "    lemmatizer = WordNetLemmatizer()\n",
    "    text = re.sub(r'[^a-zA-Z\\s]', '', text)  # Eliminar caracteres especiales\n",
    "    text = text.lower()  # Minúsculas\n",
    "    tokens = text.split()\n",
    "    tokens = [lemmatizer.lemmatize(word) for word in tokens if word not in stop_words]\n",
    "    return ' '.join(tokens)"
   ]
  },
  {
   "cell_type": "code",
   "execution_count": null,
   "metadata": {},
   "outputs": [],
   "source": [
    "# Usaremos google cloud NLP content categorization. \n",
    "import os\n",
    "from google.cloud import language_v1\n",
    "\n",
    "os.environ['GOOGLE_APPLICATION_CREDENTIALS'] = r'F:\\DataScience\\PF - DataNova\\gcp key\\nomadic-bison-443616-m2-d5448cec0026.json'\n",
    "\n",
    "client = language_v1.LanguageServiceClient()\n",
    "\n",
    "def get_category(content):\n",
    "   try:\n",
    "      type_ = language_v1.Document.Type.PLAIN_TEXT\n",
    "      language = \"en\"\n",
    "      document = {\"content\": content, \"type_\": type_}\n",
    "      categories = client.classify_text(document=document)\n",
    "      return ([c.name for c in categories.categories])\n",
    "   #return ([(c.name, round(c.confidence*100)) for c in    categories.categories])\n",
    "   except Exception as e:\n",
    "      return None"
   ]
  },
  {
   "cell_type": "code",
   "execution_count": null,
   "metadata": {},
   "outputs": [],
   "source": [
    "# Creamos una nueva columna multiplicando 20 veces la columna categoria, ya que google necesita por lo menos 20 palabras para categorizar un texto.\n",
    "category_pddf[\"expanded_category\"] = (category_pddf[\"category\"] + \" \" )* 20\n",
    "category_pddf[\"expanded_category\"] = category_pddf[\"expanded_category\"].str.strip()"
   ]
  },
  {
   "cell_type": "code",
   "execution_count": null,
   "metadata": {},
   "outputs": [],
   "source": [
    "# Aplicamos la funcion para categorizar. Tiempo de ejución 18mins.\n",
    "google_categories = category_pddf[\"expanded_category\"].apply(get_category)"
   ]
  },
  {
   "cell_type": "code",
   "execution_count": null,
   "metadata": {},
   "outputs": [
    {
     "data": {
      "text/html": [
       "<div>\n",
       "<style scoped>\n",
       "    .dataframe tbody tr th:only-of-type {\n",
       "        vertical-align: middle;\n",
       "    }\n",
       "\n",
       "    .dataframe tbody tr th {\n",
       "        vertical-align: top;\n",
       "    }\n",
       "\n",
       "    .dataframe thead th {\n",
       "        text-align: right;\n",
       "    }\n",
       "</style>\n",
       "<table border=\"1\" class=\"dataframe\">\n",
       "  <thead>\n",
       "    <tr style=\"text-align: right;\">\n",
       "      <th></th>\n",
       "      <th>category</th>\n",
       "      <th>count</th>\n",
       "      <th>google_categories</th>\n",
       "    </tr>\n",
       "  </thead>\n",
       "  <tbody>\n",
       "    <tr>\n",
       "      <th>0</th>\n",
       "      <td>Art gallery</td>\n",
       "      <td>8545</td>\n",
       "      <td>[/Arts &amp; Entertainment/Visual Art &amp; Design/Art...</td>\n",
       "    </tr>\n",
       "    <tr>\n",
       "      <th>1</th>\n",
       "      <td>Public relations firm</td>\n",
       "      <td>396</td>\n",
       "      <td>[/Business &amp; Industrial/Advertising &amp; Marketin...</td>\n",
       "    </tr>\n",
       "    <tr>\n",
       "      <th>2</th>\n",
       "      <td>Tile store</td>\n",
       "      <td>3038</td>\n",
       "      <td>[/Home &amp; Garden/Home Improvement/Flooring, /Bu...</td>\n",
       "    </tr>\n",
       "    <tr>\n",
       "      <th>3</th>\n",
       "      <td>Basketball club</td>\n",
       "      <td>209</td>\n",
       "      <td>[/Sports/Team Sports/Basketball]</td>\n",
       "    </tr>\n",
       "    <tr>\n",
       "      <th>4</th>\n",
       "      <td>Sports massage therapist</td>\n",
       "      <td>3735</td>\n",
       "      <td>[/Beauty &amp; Fitness/Spas &amp; Beauty Services/Mass...</td>\n",
       "    </tr>\n",
       "    <tr>\n",
       "      <th>5</th>\n",
       "      <td>Dry wall contractor</td>\n",
       "      <td>1199</td>\n",
       "      <td>[/Business &amp; Industrial/Construction &amp; Mainten...</td>\n",
       "    </tr>\n",
       "    <tr>\n",
       "      <th>6</th>\n",
       "      <td>Debt collecting</td>\n",
       "      <td>68</td>\n",
       "      <td>[/Finance/Credit &amp; Lending]</td>\n",
       "    </tr>\n",
       "    <tr>\n",
       "      <th>7</th>\n",
       "      <td>Taxicab Stand</td>\n",
       "      <td>80</td>\n",
       "      <td>[/Travel/Car Rental &amp; Taxi Services]</td>\n",
       "    </tr>\n",
       "    <tr>\n",
       "      <th>8</th>\n",
       "      <td>Leather coats store</td>\n",
       "      <td>47</td>\n",
       "      <td>[/Shopping/Apparel]</td>\n",
       "    </tr>\n",
       "    <tr>\n",
       "      <th>9</th>\n",
       "      <td>Law book store</td>\n",
       "      <td>9</td>\n",
       "      <td>[/Law &amp; Government/Legal]</td>\n",
       "    </tr>\n",
       "    <tr>\n",
       "      <th>10</th>\n",
       "      <td>Wedding dress rental service</td>\n",
       "      <td>50</td>\n",
       "      <td>[/People &amp; Society/Family &amp; Relationships/Marr...</td>\n",
       "    </tr>\n",
       "    <tr>\n",
       "      <th>11</th>\n",
       "      <td>Data entry service</td>\n",
       "      <td>15</td>\n",
       "      <td>[/Business &amp; Industrial, /Computers &amp; Electron...</td>\n",
       "    </tr>\n",
       "    <tr>\n",
       "      <th>12</th>\n",
       "      <td>Central American restaurant</td>\n",
       "      <td>106</td>\n",
       "      <td>[/Food &amp; Drink/Restaurants]</td>\n",
       "    </tr>\n",
       "    <tr>\n",
       "      <th>13</th>\n",
       "      <td>North Eastern Indian restaurant</td>\n",
       "      <td>15</td>\n",
       "      <td>[/Food &amp; Drink/Cooking &amp; Recipes, /Food &amp; Drin...</td>\n",
       "    </tr>\n",
       "    <tr>\n",
       "      <th>14</th>\n",
       "      <td>Gardening products and services</td>\n",
       "      <td>16</td>\n",
       "      <td>[/Home &amp; Garden/Gardening &amp; Landscaping]</td>\n",
       "    </tr>\n",
       "    <tr>\n",
       "      <th>15</th>\n",
       "      <td>Hygiene articles wholesaler</td>\n",
       "      <td>4</td>\n",
       "      <td>[/Shopping]</td>\n",
       "    </tr>\n",
       "    <tr>\n",
       "      <th>16</th>\n",
       "      <td>New England restaurant</td>\n",
       "      <td>23</td>\n",
       "      <td>[/Food &amp; Drink/Restaurants]</td>\n",
       "    </tr>\n",
       "    <tr>\n",
       "      <th>17</th>\n",
       "      <td>Beauty academy</td>\n",
       "      <td>1</td>\n",
       "      <td>[/Beauty &amp; Fitness/Cosmetology &amp; Beauty Profes...</td>\n",
       "    </tr>\n",
       "    <tr>\n",
       "      <th>18</th>\n",
       "      <td>Pediatric gastroenterologist</td>\n",
       "      <td>1</td>\n",
       "      <td>[/Health]</td>\n",
       "    </tr>\n",
       "    <tr>\n",
       "      <th>19</th>\n",
       "      <td>Faculty of arts</td>\n",
       "      <td>2</td>\n",
       "      <td>[/Arts &amp; Entertainment/Visual Art &amp; Design, /J...</td>\n",
       "    </tr>\n",
       "  </tbody>\n",
       "</table>\n",
       "</div>"
      ],
      "text/plain": [
       "                           category  count  \\\n",
       "0                       Art gallery   8545   \n",
       "1             Public relations firm    396   \n",
       "2                        Tile store   3038   \n",
       "3                   Basketball club    209   \n",
       "4          Sports massage therapist   3735   \n",
       "5               Dry wall contractor   1199   \n",
       "6                   Debt collecting     68   \n",
       "7                     Taxicab Stand     80   \n",
       "8               Leather coats store     47   \n",
       "9                    Law book store      9   \n",
       "10     Wedding dress rental service     50   \n",
       "11               Data entry service     15   \n",
       "12      Central American restaurant    106   \n",
       "13  North Eastern Indian restaurant     15   \n",
       "14  Gardening products and services     16   \n",
       "15      Hygiene articles wholesaler      4   \n",
       "16           New England restaurant     23   \n",
       "17                   Beauty academy      1   \n",
       "18     Pediatric gastroenterologist      1   \n",
       "19                  Faculty of arts      2   \n",
       "\n",
       "                                    google_categories  \n",
       "0   [/Arts & Entertainment/Visual Art & Design/Art...  \n",
       "1   [/Business & Industrial/Advertising & Marketin...  \n",
       "2   [/Home & Garden/Home Improvement/Flooring, /Bu...  \n",
       "3                    [/Sports/Team Sports/Basketball]  \n",
       "4   [/Beauty & Fitness/Spas & Beauty Services/Mass...  \n",
       "5   [/Business & Industrial/Construction & Mainten...  \n",
       "6                         [/Finance/Credit & Lending]  \n",
       "7                [/Travel/Car Rental & Taxi Services]  \n",
       "8                                 [/Shopping/Apparel]  \n",
       "9                           [/Law & Government/Legal]  \n",
       "10  [/People & Society/Family & Relationships/Marr...  \n",
       "11  [/Business & Industrial, /Computers & Electron...  \n",
       "12                        [/Food & Drink/Restaurants]  \n",
       "13  [/Food & Drink/Cooking & Recipes, /Food & Drin...  \n",
       "14           [/Home & Garden/Gardening & Landscaping]  \n",
       "15                                        [/Shopping]  \n",
       "16                        [/Food & Drink/Restaurants]  \n",
       "17  [/Beauty & Fitness/Cosmetology & Beauty Profes...  \n",
       "18                                          [/Health]  \n",
       "19  [/Arts & Entertainment/Visual Art & Design, /J...  "
      ]
     },
     "execution_count": 289,
     "metadata": {},
     "output_type": "execute_result"
    }
   ],
   "source": [
    "category_pddf[\"google_categories\"] = google_categories\n",
    "category_pddf.drop(columns=[\"expanded_category\"], inplace=True)\n",
    "\n",
    "# Visualización\n",
    "category_pddf.head(20)"
   ]
  },
  {
   "cell_type": "code",
   "execution_count": 275,
   "metadata": {},
   "outputs": [
    {
     "data": {
      "text/html": [
       "<div>\n",
       "<style scoped>\n",
       "    .dataframe tbody tr th:only-of-type {\n",
       "        vertical-align: middle;\n",
       "    }\n",
       "\n",
       "    .dataframe tbody tr th {\n",
       "        vertical-align: top;\n",
       "    }\n",
       "\n",
       "    .dataframe thead th {\n",
       "        text-align: right;\n",
       "    }\n",
       "</style>\n",
       "<table border=\"1\" class=\"dataframe\">\n",
       "  <thead>\n",
       "    <tr style=\"text-align: right;\">\n",
       "      <th></th>\n",
       "      <th>category</th>\n",
       "      <th>count</th>\n",
       "      <th>google_categories</th>\n",
       "    </tr>\n",
       "  </thead>\n",
       "  <tbody>\n",
       "    <tr>\n",
       "      <th>175</th>\n",
       "      <td>Allergist</td>\n",
       "      <td>1205</td>\n",
       "      <td>None</td>\n",
       "    </tr>\n",
       "    <tr>\n",
       "      <th>268</th>\n",
       "      <td>Parking Souterrain</td>\n",
       "      <td>1</td>\n",
       "      <td>None</td>\n",
       "    </tr>\n",
       "    <tr>\n",
       "      <th>1787</th>\n",
       "      <td>Hat shop</td>\n",
       "      <td>1498</td>\n",
       "      <td>None</td>\n",
       "    </tr>\n",
       "    <tr>\n",
       "      <th>2700</th>\n",
       "      <td>Tool &amp; die shop</td>\n",
       "      <td>79</td>\n",
       "      <td>None</td>\n",
       "    </tr>\n",
       "    <tr>\n",
       "      <th>2796</th>\n",
       "      <td>Assistante maternelle</td>\n",
       "      <td>1</td>\n",
       "      <td>None</td>\n",
       "    </tr>\n",
       "    <tr>\n",
       "      <th>3494</th>\n",
       "      <td>Guardia Di Finanza Police</td>\n",
       "      <td>1</td>\n",
       "      <td>None</td>\n",
       "    </tr>\n",
       "    <tr>\n",
       "      <th>3667</th>\n",
       "      <td>Brasserie</td>\n",
       "      <td>57</td>\n",
       "      <td>None</td>\n",
       "    </tr>\n",
       "    <tr>\n",
       "      <th>4135</th>\n",
       "      <td>Bar tabac</td>\n",
       "      <td>7</td>\n",
       "      <td>None</td>\n",
       "    </tr>\n",
       "  </tbody>\n",
       "</table>\n",
       "</div>"
      ],
      "text/plain": [
       "                       category  count google_categories\n",
       "175                   Allergist   1205              None\n",
       "268          Parking Souterrain      1              None\n",
       "1787                   Hat shop   1498              None\n",
       "2700            Tool & die shop     79              None\n",
       "2796      Assistante maternelle      1              None\n",
       "3494  Guardia Di Finanza Police      1              None\n",
       "3667                  Brasserie     57              None\n",
       "4135                  Bar tabac      7              None"
      ]
     },
     "execution_count": 275,
     "metadata": {},
     "output_type": "execute_result"
    }
   ],
   "source": [
    "#exploramos los valores nulos\n",
    "category_pddf[category_pddf[\"google_categories\"].isnull()]"
   ]
  },
  {
   "cell_type": "code",
   "execution_count": null,
   "metadata": {},
   "outputs": [],
   "source": [
    "# Agregamos manualmente las categorias de interes, y dropeamos las demás.\n",
    "category_pddf.loc[3667, \"google_categories\"] = ['/Food & Drink/Beverages/Alcoholic Beverages']\n",
    "category_pddf.loc[175, \"google_categories\"] = ['/Health/Medical Facilities & Services']\n",
    "category_pddf.loc[1787, \"google_categories\"] = [\"/Shopping/Apparel/Headwear\"]\n",
    "category_pddf.loc[4135, \"google_categories\"] = [\"/Arts & Entertainment/Events & Listings/Bars, Clubs & Nightlife\"]\n",
    "category_pddf.loc[2700, \"google_categories\"] = [\"/Home & Garden/Home Appliances/Other\"]\n",
    "category_pddf.dropna(subset=\"google_categories\", inplace=True)\n"
   ]
  },
  {
   "cell_type": "code",
   "execution_count": null,
   "metadata": {},
   "outputs": [],
   "source": [
    "# Tratamiento sobre la columna \"google_categories\", para poder obtener un árbol de categorias para cada categoria.\n",
    "category_pddf[\"first_match\"] = category_pddf[\"google_categories\"].apply(lambda x : x[0] if x else x)\n",
    "category_pddf[\"category_segmentation\"] = category_pddf[\"first_match\"].str.split(\"/\")\n",
    "category_pddf.dropna(subset=\"category_segmentation\", inplace=True)\n",
    "category_pddf[\"category_len\"] = category_pddf[\"category_segmentation\"].apply(len)\n",
    "category_pddf[\"first_category\"] = category_pddf[\"category_segmentation\"].apply(lambda x : x[1] if x[1] else None)\n",
    "category_pddf[\"second_category\"] = category_pddf[\"category_segmentation\"].apply(lambda x : x[2] if len(x)>2 else None)\n",
    "category_pddf[\"third_category\"] = category_pddf[\"category_segmentation\"].apply(lambda x : x[3] if len(x)>3 else None)"
   ]
  },
  {
   "cell_type": "code",
   "execution_count": null,
   "metadata": {},
   "outputs": [],
   "source": [
    "category_pddf_mapped = category_pddf[[\"category\", \"first_category\", \"second_category\", \"third_category\"]]\n",
    "# guardamos este dataset. \n",
    "category_pddf_mapped.to_json(r\"F:\\DataScience\\PF - DataNova\\datasets\\Google Maps\\category-mapping.json\", index=False)"
   ]
  },
  {
   "cell_type": "code",
   "execution_count": null,
   "metadata": {},
   "outputs": [
    {
     "data": {
      "text/html": [
       "<div>\n",
       "<style scoped>\n",
       "    .dataframe tbody tr th:only-of-type {\n",
       "        vertical-align: middle;\n",
       "    }\n",
       "\n",
       "    .dataframe tbody tr th {\n",
       "        vertical-align: top;\n",
       "    }\n",
       "\n",
       "    .dataframe thead th {\n",
       "        text-align: right;\n",
       "    }\n",
       "</style>\n",
       "<table border=\"1\" class=\"dataframe\">\n",
       "  <thead>\n",
       "    <tr style=\"text-align: right;\">\n",
       "      <th></th>\n",
       "      <th>category</th>\n",
       "      <th>first_category</th>\n",
       "      <th>second_category</th>\n",
       "      <th>third_category</th>\n",
       "    </tr>\n",
       "  </thead>\n",
       "  <tbody>\n",
       "    <tr>\n",
       "      <th>0</th>\n",
       "      <td>Art gallery</td>\n",
       "      <td>Arts &amp; Entertainment</td>\n",
       "      <td>Visual Art &amp; Design</td>\n",
       "      <td>Art Museums &amp; Galleries</td>\n",
       "    </tr>\n",
       "    <tr>\n",
       "      <th>1</th>\n",
       "      <td>Public relations firm</td>\n",
       "      <td>Business &amp; Industrial</td>\n",
       "      <td>Advertising &amp; Marketing</td>\n",
       "      <td>Public Relations</td>\n",
       "    </tr>\n",
       "    <tr>\n",
       "      <th>2</th>\n",
       "      <td>Tile store</td>\n",
       "      <td>Home &amp; Garden</td>\n",
       "      <td>Home Improvement</td>\n",
       "      <td>Flooring</td>\n",
       "    </tr>\n",
       "    <tr>\n",
       "      <th>3</th>\n",
       "      <td>Basketball club</td>\n",
       "      <td>Sports</td>\n",
       "      <td>Team Sports</td>\n",
       "      <td>Basketball</td>\n",
       "    </tr>\n",
       "    <tr>\n",
       "      <th>4</th>\n",
       "      <td>Sports massage therapist</td>\n",
       "      <td>Beauty &amp; Fitness</td>\n",
       "      <td>Spas &amp; Beauty Services</td>\n",
       "      <td>Massage Therapy</td>\n",
       "    </tr>\n",
       "  </tbody>\n",
       "</table>\n",
       "</div>"
      ],
      "text/plain": [
       "                   category         first_category          second_category  \\\n",
       "0               Art gallery   Arts & Entertainment      Visual Art & Design   \n",
       "1     Public relations firm  Business & Industrial  Advertising & Marketing   \n",
       "2                Tile store          Home & Garden         Home Improvement   \n",
       "3           Basketball club                 Sports              Team Sports   \n",
       "4  Sports massage therapist       Beauty & Fitness   Spas & Beauty Services   \n",
       "\n",
       "            third_category  \n",
       "0  Art Museums & Galleries  \n",
       "1         Public Relations  \n",
       "2                 Flooring  \n",
       "3               Basketball  \n",
       "4          Massage Therapy  "
      ]
     },
     "execution_count": 359,
     "metadata": {},
     "output_type": "execute_result"
    }
   ],
   "source": [
    "# visualización.\n",
    "category_pddf_mapped.head(5)"
   ]
  },
  {
   "cell_type": "code",
   "execution_count": null,
   "metadata": {},
   "outputs": [
    {
     "data": {
      "text/plain": [
       "array(['Arts & Entertainment', 'Business & Industrial', 'Home & Garden',\n",
       "       'Sports', 'Beauty & Fitness', 'Finance', 'Travel', 'Shopping',\n",
       "       'Law & Government', 'People & Society', 'Food & Drink', 'Health',\n",
       "       'Autos & Vehicles', 'Hobbies & Leisure', 'Real Estate',\n",
       "       'Computers & Electronics', 'Jobs & Education', 'Games', 'Science',\n",
       "       'Sensitive Subjects', 'News', 'Reference', 'Internet & Telecom',\n",
       "       'Books & Literature', 'Adult', 'Pets & Animals',\n",
       "       'Online Communities'], dtype=object)"
      ]
     },
     "execution_count": 355,
     "metadata": {},
     "output_type": "execute_result"
    }
   ],
   "source": [
    "# Tenemos un total de 27 categorias.\n",
    "category_pddf_mapped[\"first_category\"].unique()"
   ]
  },
  {
   "cell_type": "markdown",
   "metadata": {},
   "source": [
    "### Cruce con Categorias de Google"
   ]
  },
  {
   "cell_type": "code",
   "execution_count": 36,
   "metadata": {},
   "outputs": [],
   "source": [
    "ruta_lectura = r\"F:\\DataScience\\PF - DataNova\\datasets\\Google Maps\\metadata-sitios\\1.json\"\n",
    "df = spark.read.json(ruta_lectura)\n",
    "# Considerar el uso de persist o cache\n",
    "df_cached = df.cache()\n",
    "union_df = metadata_analytics_treatment(df_cached)"
   ]
  },
  {
   "cell_type": "code",
   "execution_count": null,
   "metadata": {},
   "outputs": [],
   "source": [
    "# cargamos en memoria el dataframe union_df\n",
    "union_df_cache = union_df.cache()"
   ]
  },
  {
   "cell_type": "code",
   "execution_count": 8,
   "metadata": {},
   "outputs": [
    {
     "name": "stdout",
     "output_type": "stream",
     "text": [
      "+----------+--------------------------------------------------------------------------------------------------------+-------------------------------------+--------------+-----+\n",
      "|avg_rating|category                                                                                                |gmap_id                              |num_of_reviews|state|\n",
      "+----------+--------------------------------------------------------------------------------------------------------+-------------------------------------+--------------+-----+\n",
      "|5.0       |[Business to business service]                                                                          |0x405532c73fa7ce23:0x543f583f2cf17d6f|4             |OR   |\n",
      "|4.3       |[Consignment shop]                                                                                      |0x4108fee3fd360515:0x526ea25588b1bebf|8             |WA   |\n",
      "|3.8       |[Credit union, ATM, Car finance and loan company, Federal credit union, Financial institution]          |0x4cad876f48719ba7:0xf05be0cfe29483e4|24            |ME   |\n",
      "|5.0       |[Cafe]                                                                                                  |0x4cae4b5f86d43b03:0xb38283b05c370d0f|1             |ME   |\n",
      "|4.4       |[Natural feature]                                                                                       |0x4cb1169012dc6443:0x9f3a0c89836ac1ca|5             |ME   |\n",
      "|5.0       |[United Methodist church]                                                                               |0x4cca89c9f77c14a7:0xa66e03578c7fdd1 |3             |NY   |\n",
      "|3.8       |[Furniture store]                                                                                       |0x4d524b86892e26bf:0x90ce2ef3020e6448|4             |MI   |\n",
      "|4.6       |[Gas station]                                                                                           |0x4d533c5bd35bad91:0x5f2cd274d4e33755|18            |WI   |\n",
      "|3.0       |[River]                                                                                                 |0x4d57aaa64a456b29:0x3dc210f6f8251d3c|2             |MI   |\n",
      "|4.1       |[Truck dealer, Dump truck dealer, Truck parts supplier, Truck repair shop, Used truck dealer]           |0x52ae4da3353914df:0xa8f79fa7fdfe0f4e|24            |MN   |\n",
      "|3.0       |[Park]                                                                                                  |0x52b0871fec5a76d7:0x50df50c1856754aa|3             |MN   |\n",
      "|3.7       |[Nursing home, Rehabilitation center]                                                                   |0x52b25b05861c74af:0x36122280b8ef124d|46            |MN   |\n",
      "|4.8       |[Parking lot]                                                                                           |0x52b2c9ec3678312f:0xdad25810b9296456|4             |MN   |\n",
      "|4.3       |[Mental health service]                                                                                 |0x52b32cdcaa847bc5:0xa8babb016b41d128|15            |MN   |\n",
      "|4.7       |[Loan agency, Check cashing service, Financial institution, Money order service, Money transfer service]|0x52b334369035c08f:0x31ccf1c06359252b|78            |MN   |\n",
      "|5.0       |[Health insurance agency]                                                                               |0x52b3377190f0f943:0x1b3e851643578b7e|1             |MN   |\n",
      "|4.8       |[Pet groomer]                                                                                           |0x52b35d80ffbdaf39:0x4ace448615f09007|18            |MN   |\n",
      "|4.9       |[Horse riding school]                                                                                   |0x52b4a7680852be85:0x4333d9fdeb4b9458|15            |MN   |\n",
      "|5.0       |[Parking lot]                                                                                           |0x52b4ec5d883fa5fb:0xd60c932356b8eeb5|1             |MN   |\n",
      "|5.0       |[Gas station]                                                                                           |0x52b6bdc5bbb7ecb3:0x600086f48cdbc0df|1             |MN   |\n",
      "+----------+--------------------------------------------------------------------------------------------------------+-------------------------------------+--------------+-----+\n",
      "only showing top 20 rows\n",
      "\n"
     ]
    }
   ],
   "source": [
    "union_df_cache.show(20, truncate=False)"
   ]
  },
  {
   "cell_type": "code",
   "execution_count": 9,
   "metadata": {},
   "outputs": [
    {
     "name": "stdout",
     "output_type": "stream",
     "text": [
      "root\n",
      " |-- avg_rating: double (nullable = true)\n",
      " |-- category: array (nullable = true)\n",
      " |    |-- element: string (containsNull = true)\n",
      " |-- gmap_id: string (nullable = true)\n",
      " |-- num_of_reviews: long (nullable = true)\n",
      " |-- state: string (nullable = true)\n",
      "\n"
     ]
    }
   ],
   "source": [
    "union_df_cache.printSchema()"
   ]
  },
  {
   "cell_type": "code",
   "execution_count": 50,
   "metadata": {},
   "outputs": [],
   "source": [
    "# 1 . Ya que cada establecimiento tiene una lista de categorias, vamos a observar las características de estas listas de categorias.\n",
    "stats = (\n",
    "    union_df_cache.select(size(col(\"category\")).alias(\"array_size\"))  # Calcula el tamaño de cada array\n",
    "      .agg(\n",
    "          spark_min(col(\"array_size\")).alias(\"min_size\"),       # max\n",
    "          spark_max(col(\"array_size\")).alias(\"max_size\"),        # Tamaño máximo\n",
    "          avg(col(\"array_size\")).alias(\"avg_size\")        # tamaño promedio.-\n",
    "          )       \n",
    "      .collect()[0]                          \n",
    ")"
   ]
  },
  {
   "cell_type": "code",
   "execution_count": 51,
   "metadata": {},
   "outputs": [
    {
     "data": {
      "text/plain": [
       "Row(min_size=-1, max_size=32, avg_size=2.0449793382342363)"
      ]
     },
     "execution_count": 51,
     "metadata": {},
     "output_type": "execute_result"
    }
   ],
   "source": [
    "stats"
   ]
  },
  {
   "cell_type": "code",
   "execution_count": 10,
   "metadata": {},
   "outputs": [
    {
     "name": "stdout",
     "output_type": "stream",
     "text": [
      "+----------+--------------------+--------------+-----+--------------------+\n",
      "|avg_rating|             gmap_id|num_of_reviews|state|    primary_category|\n",
      "+----------+--------------------+--------------+-----+--------------------+\n",
      "|       5.0|0x405532c73fa7ce2...|             4|   OR|Business to busin...|\n",
      "|       4.3|0x4108fee3fd36051...|             8|   WA|    Consignment shop|\n",
      "|       3.8|0x4cad876f48719ba...|            24|   ME|        Credit union|\n",
      "|       5.0|0x4cae4b5f86d43b0...|             1|   ME|                Cafe|\n",
      "|       4.4|0x4cb1169012dc644...|             5|   ME|     Natural feature|\n",
      "|       5.0|0x4cca89c9f77c14a...|             3|   NY|United Methodist ...|\n",
      "|       3.8|0x4d524b86892e26b...|             4|   MI|     Furniture store|\n",
      "|       4.6|0x4d533c5bd35bad9...|            18|   WI|         Gas station|\n",
      "|       3.0|0x4d57aaa64a456b2...|             2|   MI|               River|\n",
      "|       4.1|0x52ae4da3353914d...|            24|   MN|        Truck dealer|\n",
      "|       3.0|0x52b0871fec5a76d...|             3|   MN|                Park|\n",
      "|       3.7|0x52b25b05861c74a...|            46|   MN|        Nursing home|\n",
      "|       4.8|0x52b2c9ec3678312...|             4|   MN|         Parking lot|\n",
      "|       4.3|0x52b32cdcaa847bc...|            15|   MN|Mental health ser...|\n",
      "|       4.7|0x52b334369035c08...|            78|   MN|         Loan agency|\n",
      "|       5.0|0x52b3377190f0f94...|             1|   MN|Health insurance ...|\n",
      "|       4.8|0x52b35d80ffbdaf3...|            18|   MN|         Pet groomer|\n",
      "|       4.9|0x52b4a7680852be8...|            15|   MN| Horse riding school|\n",
      "|       5.0|0x52b4ec5d883fa5f...|             1|   MN|         Parking lot|\n",
      "|       5.0|0x52b6bdc5bbb7ecb...|             1|   MN|         Gas station|\n",
      "+----------+--------------------+--------------+-----+--------------------+\n",
      "only showing top 20 rows\n",
      "\n"
     ]
    }
   ],
   "source": [
    "# Para simplicidad del análisis, tomaremos la primera categoria de cada establecimiento.\n",
    "union_df_cache = union_df_cache.withColumn(\"primary_category\", col(\"category\")[0])\n",
    "union_df_cache = union_df_cache.drop(\"category\")\n",
    "union_df_cache.show()"
   ]
  },
  {
   "cell_type": "code",
   "execution_count": 11,
   "metadata": {},
   "outputs": [
    {
     "data": {
      "text/plain": [
       "4202"
      ]
     },
     "execution_count": 11,
     "metadata": {},
     "output_type": "execute_result"
    }
   ],
   "source": [
    "# cargamos nuestro dataset de mapeo con spark para poder hacer uniones.\n",
    "#category_pddf_mapped = pd.read_json(r\"F:\\DataScience\\PF - DataNova\\datasets\\Google Maps\\category-mapping.json\")\n",
    "#category_pddf_mapped.to_json(r\"F:\\DataScience\\PF - DataNova\\datasets\\Google Maps\\category-mapping-v2.json\",orient=\"records\", lines=True)\n",
    "#category_mapper_df = spark.createDataFrame(category_pddf_mapped[[\"category\", \"first_category\"]])\n",
    "\n",
    "category_mapper_df = spark.read.json(r\"F:\\DataScience\\PF - DataNova\\datasets\\Google Maps\\category-mapping-v2.json\")\n",
    "category_mapper_df_cached = category_mapper_df.cache()\n",
    "category_mapper_df_cached.count()"
   ]
  },
  {
   "cell_type": "code",
   "execution_count": 12,
   "metadata": {},
   "outputs": [],
   "source": [
    "category_mapper_df_cached = category_mapper_df_cached.withColumnRenamed(\"category\", \"primary_category\")\n",
    "#category_mapper_df_cached = category_mapper_df.cache()\n",
    "#category_mapper_df.show()"
   ]
  },
  {
   "cell_type": "code",
   "execution_count": 13,
   "metadata": {},
   "outputs": [
    {
     "name": "stdout",
     "output_type": "stream",
     "text": [
      "+--------------------+--------------------+--------------------+--------------------+\n",
      "|    primary_category|      first_category|     second_category|      third_category|\n",
      "+--------------------+--------------------+--------------------+--------------------+\n",
      "|         Art gallery|Arts & Entertainment| Visual Art & Design|Art Museums & Gal...|\n",
      "|Public relations ...|Business & Indust...|Advertising & Mar...|    Public Relations|\n",
      "|          Tile store|       Home & Garden|    Home Improvement|            Flooring|\n",
      "|     Basketball club|              Sports|         Team Sports|          Basketball|\n",
      "|Sports massage th...|    Beauty & Fitness|Spas & Beauty Ser...|     Massage Therapy|\n",
      "| Dry wall contractor|Business & Indust...|Construction & Ma...|                NULL|\n",
      "|     Debt collecting|             Finance|    Credit & Lending|                NULL|\n",
      "|       Taxicab Stand|              Travel|Car Rental & Taxi...|                NULL|\n",
      "| Leather coats store|            Shopping|             Apparel|                NULL|\n",
      "|      Law book store|    Law & Government|               Legal|                NULL|\n",
      "|Wedding dress ren...|    People & Society|Family & Relation...|            Marriage|\n",
      "|  Data entry service|Business & Indust...|                NULL|                NULL|\n",
      "|Central American ...|        Food & Drink|         Restaurants|                NULL|\n",
      "|North Eastern Ind...|        Food & Drink|   Cooking & Recipes|                NULL|\n",
      "|Gardening product...|       Home & Garden|Gardening & Lands...|                NULL|\n",
      "|Hygiene articles ...|            Shopping|                NULL|                NULL|\n",
      "|New England resta...|        Food & Drink|         Restaurants|                NULL|\n",
      "|      Beauty academy|    Beauty & Fitness|Cosmetology & Bea...|                NULL|\n",
      "|Pediatric gastroe...|              Health|                NULL|                NULL|\n",
      "|     Faculty of arts|Arts & Entertainment| Visual Art & Design|                NULL|\n",
      "+--------------------+--------------------+--------------------+--------------------+\n",
      "only showing top 20 rows\n",
      "\n"
     ]
    }
   ],
   "source": [
    "category_mapper_df_cached.show()"
   ]
  },
  {
   "cell_type": "code",
   "execution_count": 14,
   "metadata": {},
   "outputs": [],
   "source": [
    "merged_df = union_df_cache.join(category_mapper_df_cached, on=\"primary_category\", how=\"inner\")"
   ]
  },
  {
   "cell_type": "code",
   "execution_count": null,
   "metadata": {},
   "outputs": [],
   "source": [
    "# indicamos que vamos a cargar este valor en cache.\n",
    "merged_df_cache = merged_df.cache()"
   ]
  },
  {
   "cell_type": "code",
   "execution_count": null,
   "metadata": {},
   "outputs": [
    {
     "data": {
      "text/plain": [
       "DataFrame[avg_rating: double, gmap_id: string, num_of_reviews: bigint, state: string, primary_category: string]"
      ]
     },
     "execution_count": 16,
     "metadata": {},
     "output_type": "execute_result"
    }
   ],
   "source": [
    "# liberamos la data usada previamente\n",
    "category_mapper_df_cached.unpersist()\n",
    "union_df_cache.unpersist()"
   ]
  },
  {
   "cell_type": "code",
   "execution_count": 34,
   "metadata": {},
   "outputs": [
    {
     "name": "stdout",
     "output_type": "stream",
     "text": [
      "+--------------------+----------+--------------------+--------------+-----+--------------------+--------------------+--------------------+\n",
      "|    primary_category|avg_rating|             gmap_id|num_of_reviews|state|      first_category|     second_category|      third_category|\n",
      "+--------------------+----------+--------------------+--------------+-----+--------------------+--------------------+--------------------+\n",
      "|Business to busin...|       5.0|0x405532c73fa7ce2...|             4|   OR|Business & Indust...|                NULL|                NULL|\n",
      "|    Consignment shop|       4.3|0x4108fee3fd36051...|             8|   WA|            Shopping|                NULL|                NULL|\n",
      "|        Credit union|       3.8|0x4cad876f48719ba...|            24|   ME|             Finance|    Credit & Lending|                NULL|\n",
      "|                Cafe|       5.0|0x4cae4b5f86d43b0...|             1|   ME|        Food & Drink|         Restaurants|                NULL|\n",
      "|United Methodist ...|       5.0|0x4cca89c9f77c14a...|             3|   NY|    People & Society|   Religion & Belief|                NULL|\n",
      "|     Furniture store|       3.8|0x4d524b86892e26b...|             4|   MI|       Home & Garden|    Home Furnishings|                NULL|\n",
      "|         Gas station|       4.6|0x4d533c5bd35bad9...|            18|   WI|Business & Indust...|  Energy & Utilities|           Oil & Gas|\n",
      "|               River|       3.0|0x4d57aaa64a456b2...|             2|   MI|              Travel|Tourist Destinations|                NULL|\n",
      "|        Truck dealer|       4.1|0x52ae4da3353914d...|            24|   MN|    Autos & Vehicles|    Vehicle Shopping|                NULL|\n",
      "|                Park|       3.0|0x52b0871fec5a76d...|             3|   MN|              Travel|Tourist Destinations|Regional Parks & ...|\n",
      "|        Nursing home|       3.7|0x52b25b05861c74a...|            46|   MN|              Health|             Nursing|Assisted Living &...|\n",
      "|         Parking lot|       4.8|0x52b2c9ec3678312...|             4|   MN|Business & Indust...|Transportation & ...|             Parking|\n",
      "|Mental health ser...|       4.3|0x52b32cdcaa847bc...|            15|   MN|              Health|       Mental Health|                NULL|\n",
      "|         Loan agency|       4.7|0x52b334369035c08...|            78|   MN|             Finance|    Credit & Lending|               Loans|\n",
      "|Health insurance ...|       5.0|0x52b3377190f0f94...|             1|   MN|             Finance|           Insurance|    Health Insurance|\n",
      "|         Pet groomer|       4.8|0x52b35d80ffbdaf3...|            18|   MN|   Hobbies & Leisure|                NULL|                NULL|\n",
      "| Horse riding school|       4.9|0x52b4a7680852be8...|            15|   MN|              Sports|                NULL|                NULL|\n",
      "|         Parking lot|       5.0|0x52b4ec5d883fa5f...|             1|   MN|Business & Indust...|Transportation & ...|             Parking|\n",
      "|         Gas station|       5.0|0x52b6bdc5bbb7ecb...|             1|   MN|Business & Indust...|  Energy & Utilities|           Oil & Gas|\n",
      "|            Magician|       5.0|0x52c8cd270f50bbb...|            58|   ND|Arts & Entertainment|     Performing Arts|               Magic|\n",
      "+--------------------+----------+--------------------+--------------+-----+--------------------+--------------------+--------------------+\n",
      "only showing top 20 rows\n",
      "\n"
     ]
    }
   ],
   "source": [
    "merged_df_cache.show()"
   ]
  },
  {
   "cell_type": "code",
   "execution_count": 18,
   "metadata": {},
   "outputs": [
    {
     "data": {
      "text/plain": [
       "2838112"
      ]
     },
     "execution_count": 18,
     "metadata": {},
     "output_type": "execute_result"
    }
   ],
   "source": [
    "merged_df_cache.count()"
   ]
  },
  {
   "cell_type": "code",
   "execution_count": 35,
   "metadata": {},
   "outputs": [],
   "source": [
    "#Ahora podemos usar este dataframe para nuestro análisis"
   ]
  },
  {
   "cell_type": "markdown",
   "metadata": {},
   "source": [
    "## Cantidad de Negocios por estado"
   ]
  },
  {
   "cell_type": "code",
   "execution_count": 51,
   "metadata": {},
   "outputs": [],
   "source": [
    "from pyspark.sql import functions as F\n",
    "import matplotlib.pyplot as plt\n",
    "import seaborn as sns\n"
   ]
  },
  {
   "cell_type": "code",
   "execution_count": 38,
   "metadata": {},
   "outputs": [],
   "source": [
    "grouped_df = merged_df_cache.groupBy(\"state\").agg(F.sum(\"num_of_reviews\").alias(\"total_reviews\"),\n",
    "                                     F.avg(\"avg_rating\").alias(\"avg_rating\"),\n",
    "                                     F.count(\"gmap_id\").alias(\"total_business\"))"
   ]
  },
  {
   "cell_type": "code",
   "execution_count": null,
   "metadata": {},
   "outputs": [],
   "source": [
    "state_resume = grouped_df.toPandas()"
   ]
  },
  {
   "cell_type": "code",
   "execution_count": 49,
   "metadata": {},
   "outputs": [
    {
     "data": {
      "text/html": [
       "<div>\n",
       "<style scoped>\n",
       "    .dataframe tbody tr th:only-of-type {\n",
       "        vertical-align: middle;\n",
       "    }\n",
       "\n",
       "    .dataframe tbody tr th {\n",
       "        vertical-align: top;\n",
       "    }\n",
       "\n",
       "    .dataframe thead th {\n",
       "        text-align: right;\n",
       "    }\n",
       "</style>\n",
       "<table border=\"1\" class=\"dataframe\">\n",
       "  <thead>\n",
       "    <tr style=\"text-align: right;\">\n",
       "      <th></th>\n",
       "      <th>state</th>\n",
       "      <th>total_reviews</th>\n",
       "      <th>avg_rating</th>\n",
       "      <th>total_business</th>\n",
       "    </tr>\n",
       "  </thead>\n",
       "  <tbody>\n",
       "    <tr>\n",
       "      <th>0</th>\n",
       "      <td>AZ</td>\n",
       "      <td>3057916</td>\n",
       "      <td>4.270468</td>\n",
       "      <td>57978</td>\n",
       "    </tr>\n",
       "    <tr>\n",
       "      <th>1</th>\n",
       "      <td>SC</td>\n",
       "      <td>2089391</td>\n",
       "      <td>4.324197</td>\n",
       "      <td>46448</td>\n",
       "    </tr>\n",
       "    <tr>\n",
       "      <th>2</th>\n",
       "      <td>LA</td>\n",
       "      <td>1490424</td>\n",
       "      <td>4.309179</td>\n",
       "      <td>37051</td>\n",
       "    </tr>\n",
       "    <tr>\n",
       "      <th>3</th>\n",
       "      <td>MN</td>\n",
       "      <td>1871368</td>\n",
       "      <td>4.333401</td>\n",
       "      <td>46987</td>\n",
       "    </tr>\n",
       "    <tr>\n",
       "      <th>4</th>\n",
       "      <td>NJ</td>\n",
       "      <td>3496696</td>\n",
       "      <td>4.284701</td>\n",
       "      <td>74671</td>\n",
       "    </tr>\n",
       "    <tr>\n",
       "      <th>5</th>\n",
       "      <td>DC</td>\n",
       "      <td>311209</td>\n",
       "      <td>4.134979</td>\n",
       "      <td>6298</td>\n",
       "    </tr>\n",
       "    <tr>\n",
       "      <th>6</th>\n",
       "      <td>OR</td>\n",
       "      <td>1797574</td>\n",
       "      <td>4.317996</td>\n",
       "      <td>43370</td>\n",
       "    </tr>\n",
       "    <tr>\n",
       "      <th>7</th>\n",
       "      <td>VA</td>\n",
       "      <td>3266333</td>\n",
       "      <td>4.278711</td>\n",
       "      <td>67482</td>\n",
       "    </tr>\n",
       "    <tr>\n",
       "      <th>8</th>\n",
       "      <td>RI</td>\n",
       "      <td>385016</td>\n",
       "      <td>4.343500</td>\n",
       "      <td>8984</td>\n",
       "    </tr>\n",
       "    <tr>\n",
       "      <th>9</th>\n",
       "      <td>KY</td>\n",
       "      <td>1388936</td>\n",
       "      <td>4.296188</td>\n",
       "      <td>36491</td>\n",
       "    </tr>\n",
       "    <tr>\n",
       "      <th>10</th>\n",
       "      <td>NH</td>\n",
       "      <td>529664</td>\n",
       "      <td>4.380600</td>\n",
       "      <td>14500</td>\n",
       "    </tr>\n",
       "    <tr>\n",
       "      <th>11</th>\n",
       "      <td>MI</td>\n",
       "      <td>3944624</td>\n",
       "      <td>4.304559</td>\n",
       "      <td>88460</td>\n",
       "    </tr>\n",
       "    <tr>\n",
       "      <th>12</th>\n",
       "      <td>WY</td>\n",
       "      <td>216557</td>\n",
       "      <td>4.367151</td>\n",
       "      <td>6612</td>\n",
       "    </tr>\n",
       "    <tr>\n",
       "      <th>15</th>\n",
       "      <td>NV</td>\n",
       "      <td>1374175</td>\n",
       "      <td>4.180476</td>\n",
       "      <td>25799</td>\n",
       "    </tr>\n",
       "    <tr>\n",
       "      <th>16</th>\n",
       "      <td>WI</td>\n",
       "      <td>1977433</td>\n",
       "      <td>4.354947</td>\n",
       "      <td>52997</td>\n",
       "    </tr>\n",
       "    <tr>\n",
       "      <th>17</th>\n",
       "      <td>ID</td>\n",
       "      <td>768999</td>\n",
       "      <td>4.374739</td>\n",
       "      <td>18998</td>\n",
       "    </tr>\n",
       "    <tr>\n",
       "      <th>18</th>\n",
       "      <td>CA</td>\n",
       "      <td>12248402</td>\n",
       "      <td>4.273942</td>\n",
       "      <td>286846</td>\n",
       "    </tr>\n",
       "    <tr>\n",
       "      <th>19</th>\n",
       "      <td>NE</td>\n",
       "      <td>736865</td>\n",
       "      <td>4.337854</td>\n",
       "      <td>17940</td>\n",
       "    </tr>\n",
       "    <tr>\n",
       "      <th>20</th>\n",
       "      <td>CT</td>\n",
       "      <td>1246292</td>\n",
       "      <td>4.322017</td>\n",
       "      <td>29477</td>\n",
       "    </tr>\n",
       "    <tr>\n",
       "      <th>21</th>\n",
       "      <td>MT</td>\n",
       "      <td>412985</td>\n",
       "      <td>4.393527</td>\n",
       "      <td>12451</td>\n",
       "    </tr>\n",
       "    <tr>\n",
       "      <th>22</th>\n",
       "      <td>NC</td>\n",
       "      <td>4108940</td>\n",
       "      <td>4.335816</td>\n",
       "      <td>92509</td>\n",
       "    </tr>\n",
       "    <tr>\n",
       "      <th>23</th>\n",
       "      <td>MD</td>\n",
       "      <td>2220647</td>\n",
       "      <td>4.254688</td>\n",
       "      <td>44308</td>\n",
       "    </tr>\n",
       "    <tr>\n",
       "      <th>24</th>\n",
       "      <td>DE</td>\n",
       "      <td>355556</td>\n",
       "      <td>4.245361</td>\n",
       "      <td>8203</td>\n",
       "    </tr>\n",
       "    <tr>\n",
       "      <th>25</th>\n",
       "      <td>MO</td>\n",
       "      <td>2389034</td>\n",
       "      <td>4.313613</td>\n",
       "      <td>56012</td>\n",
       "    </tr>\n",
       "    <tr>\n",
       "      <th>26</th>\n",
       "      <td>VT</td>\n",
       "      <td>202552</td>\n",
       "      <td>4.400706</td>\n",
       "      <td>6940</td>\n",
       "    </tr>\n",
       "    <tr>\n",
       "      <th>27</th>\n",
       "      <td>IL</td>\n",
       "      <td>4479148</td>\n",
       "      <td>4.283803</td>\n",
       "      <td>101497</td>\n",
       "    </tr>\n",
       "    <tr>\n",
       "      <th>28</th>\n",
       "      <td>ME</td>\n",
       "      <td>443293</td>\n",
       "      <td>4.398776</td>\n",
       "      <td>14464</td>\n",
       "    </tr>\n",
       "    <tr>\n",
       "      <th>29</th>\n",
       "      <td>WA</td>\n",
       "      <td>2912663</td>\n",
       "      <td>4.295325</td>\n",
       "      <td>66137</td>\n",
       "    </tr>\n",
       "    <tr>\n",
       "      <th>30</th>\n",
       "      <td>ND</td>\n",
       "      <td>243727</td>\n",
       "      <td>4.321739</td>\n",
       "      <td>7581</td>\n",
       "    </tr>\n",
       "    <tr>\n",
       "      <th>31</th>\n",
       "      <td>MS</td>\n",
       "      <td>782046</td>\n",
       "      <td>4.292492</td>\n",
       "      <td>21818</td>\n",
       "    </tr>\n",
       "    <tr>\n",
       "      <th>32</th>\n",
       "      <td>AL</td>\n",
       "      <td>1679487</td>\n",
       "      <td>4.317856</td>\n",
       "      <td>43442</td>\n",
       "    </tr>\n",
       "    <tr>\n",
       "      <th>33</th>\n",
       "      <td>IN</td>\n",
       "      <td>2434116</td>\n",
       "      <td>4.291671</td>\n",
       "      <td>57330</td>\n",
       "    </tr>\n",
       "    <tr>\n",
       "      <th>34</th>\n",
       "      <td>OH</td>\n",
       "      <td>4016222</td>\n",
       "      <td>4.285355</td>\n",
       "      <td>97815</td>\n",
       "    </tr>\n",
       "    <tr>\n",
       "      <th>35</th>\n",
       "      <td>TN</td>\n",
       "      <td>2665297</td>\n",
       "      <td>4.315797</td>\n",
       "      <td>62253</td>\n",
       "    </tr>\n",
       "    <tr>\n",
       "      <th>36</th>\n",
       "      <td>NM</td>\n",
       "      <td>818547</td>\n",
       "      <td>4.232816</td>\n",
       "      <td>19253</td>\n",
       "    </tr>\n",
       "    <tr>\n",
       "      <th>37</th>\n",
       "      <td>IA</td>\n",
       "      <td>1054774</td>\n",
       "      <td>4.354746</td>\n",
       "      <td>28563</td>\n",
       "    </tr>\n",
       "    <tr>\n",
       "      <th>38</th>\n",
       "      <td>PA</td>\n",
       "      <td>4194030</td>\n",
       "      <td>4.316256</td>\n",
       "      <td>111364</td>\n",
       "    </tr>\n",
       "    <tr>\n",
       "      <th>39</th>\n",
       "      <td>SD</td>\n",
       "      <td>277010</td>\n",
       "      <td>4.413362</td>\n",
       "      <td>8277</td>\n",
       "    </tr>\n",
       "    <tr>\n",
       "      <th>42</th>\n",
       "      <td>NY</td>\n",
       "      <td>6677094</td>\n",
       "      <td>4.266284</td>\n",
       "      <td>157191</td>\n",
       "    </tr>\n",
       "    <tr>\n",
       "      <th>43</th>\n",
       "      <td>TX</td>\n",
       "      <td>13331650</td>\n",
       "      <td>4.254033</td>\n",
       "      <td>254080</td>\n",
       "    </tr>\n",
       "    <tr>\n",
       "      <th>44</th>\n",
       "      <td>WV</td>\n",
       "      <td>473822</td>\n",
       "      <td>4.292324</td>\n",
       "      <td>13965</td>\n",
       "    </tr>\n",
       "    <tr>\n",
       "      <th>45</th>\n",
       "      <td>GA</td>\n",
       "      <td>4613848</td>\n",
       "      <td>4.271738</td>\n",
       "      <td>92933</td>\n",
       "    </tr>\n",
       "    <tr>\n",
       "      <th>46</th>\n",
       "      <td>MA</td>\n",
       "      <td>2119395</td>\n",
       "      <td>4.323106</td>\n",
       "      <td>53368</td>\n",
       "    </tr>\n",
       "    <tr>\n",
       "      <th>47</th>\n",
       "      <td>KS</td>\n",
       "      <td>1034591</td>\n",
       "      <td>4.328292</td>\n",
       "      <td>26753</td>\n",
       "    </tr>\n",
       "    <tr>\n",
       "      <th>49</th>\n",
       "      <td>CO</td>\n",
       "      <td>2881628</td>\n",
       "      <td>4.280598</td>\n",
       "      <td>57382</td>\n",
       "    </tr>\n",
       "    <tr>\n",
       "      <th>50</th>\n",
       "      <td>FL</td>\n",
       "      <td>11320085</td>\n",
       "      <td>4.304403</td>\n",
       "      <td>209323</td>\n",
       "    </tr>\n",
       "    <tr>\n",
       "      <th>51</th>\n",
       "      <td>AK</td>\n",
       "      <td>232074</td>\n",
       "      <td>4.359440</td>\n",
       "      <td>7717</td>\n",
       "    </tr>\n",
       "    <tr>\n",
       "      <th>52</th>\n",
       "      <td>AR</td>\n",
       "      <td>1021719</td>\n",
       "      <td>4.322622</td>\n",
       "      <td>27876</td>\n",
       "    </tr>\n",
       "    <tr>\n",
       "      <th>53</th>\n",
       "      <td>OK</td>\n",
       "      <td>1610165</td>\n",
       "      <td>4.295341</td>\n",
       "      <td>39405</td>\n",
       "    </tr>\n",
       "    <tr>\n",
       "      <th>54</th>\n",
       "      <td>UT</td>\n",
       "      <td>1799395</td>\n",
       "      <td>4.353941</td>\n",
       "      <td>31848</td>\n",
       "    </tr>\n",
       "    <tr>\n",
       "      <th>55</th>\n",
       "      <td>HI</td>\n",
       "      <td>435525</td>\n",
       "      <td>4.338245</td>\n",
       "      <td>11306</td>\n",
       "    </tr>\n",
       "  </tbody>\n",
       "</table>\n",
       "</div>"
      ],
      "text/plain": [
       "   state  total_reviews  avg_rating  total_business\n",
       "0     AZ        3057916    4.270468           57978\n",
       "1     SC        2089391    4.324197           46448\n",
       "2     LA        1490424    4.309179           37051\n",
       "3     MN        1871368    4.333401           46987\n",
       "4     NJ        3496696    4.284701           74671\n",
       "5     DC         311209    4.134979            6298\n",
       "6     OR        1797574    4.317996           43370\n",
       "7     VA        3266333    4.278711           67482\n",
       "8     RI         385016    4.343500            8984\n",
       "9     KY        1388936    4.296188           36491\n",
       "10    NH         529664    4.380600           14500\n",
       "11    MI        3944624    4.304559           88460\n",
       "12    WY         216557    4.367151            6612\n",
       "15    NV        1374175    4.180476           25799\n",
       "16    WI        1977433    4.354947           52997\n",
       "17    ID         768999    4.374739           18998\n",
       "18    CA       12248402    4.273942          286846\n",
       "19    NE         736865    4.337854           17940\n",
       "20    CT        1246292    4.322017           29477\n",
       "21    MT         412985    4.393527           12451\n",
       "22    NC        4108940    4.335816           92509\n",
       "23    MD        2220647    4.254688           44308\n",
       "24    DE         355556    4.245361            8203\n",
       "25    MO        2389034    4.313613           56012\n",
       "26    VT         202552    4.400706            6940\n",
       "27    IL        4479148    4.283803          101497\n",
       "28    ME         443293    4.398776           14464\n",
       "29    WA        2912663    4.295325           66137\n",
       "30    ND         243727    4.321739            7581\n",
       "31    MS         782046    4.292492           21818\n",
       "32    AL        1679487    4.317856           43442\n",
       "33    IN        2434116    4.291671           57330\n",
       "34    OH        4016222    4.285355           97815\n",
       "35    TN        2665297    4.315797           62253\n",
       "36    NM         818547    4.232816           19253\n",
       "37    IA        1054774    4.354746           28563\n",
       "38    PA        4194030    4.316256          111364\n",
       "39    SD         277010    4.413362            8277\n",
       "42    NY        6677094    4.266284          157191\n",
       "43    TX       13331650    4.254033          254080\n",
       "44    WV         473822    4.292324           13965\n",
       "45    GA        4613848    4.271738           92933\n",
       "46    MA        2119395    4.323106           53368\n",
       "47    KS        1034591    4.328292           26753\n",
       "49    CO        2881628    4.280598           57382\n",
       "50    FL       11320085    4.304403          209323\n",
       "51    AK         232074    4.359440            7717\n",
       "52    AR        1021719    4.322622           27876\n",
       "53    OK        1610165    4.295341           39405\n",
       "54    UT        1799395    4.353941           31848\n",
       "55    HI         435525    4.338245           11306"
      ]
     },
     "execution_count": 49,
     "metadata": {},
     "output_type": "execute_result"
    }
   ],
   "source": [
    "filter = (state_resume[\"total_reviews\"]>1000) & (state_resume[\"state\"]!=\"\")\n",
    "filtered_state_resume = state_resume[filter]\n",
    "filtered_state_resume"
   ]
  },
  {
   "cell_type": "code",
   "execution_count": 53,
   "metadata": {},
   "outputs": [
    {
     "data": {
      "text/html": [
       "<div>\n",
       "<style scoped>\n",
       "    .dataframe tbody tr th:only-of-type {\n",
       "        vertical-align: middle;\n",
       "    }\n",
       "\n",
       "    .dataframe tbody tr th {\n",
       "        vertical-align: top;\n",
       "    }\n",
       "\n",
       "    .dataframe thead th {\n",
       "        text-align: right;\n",
       "    }\n",
       "</style>\n",
       "<table border=\"1\" class=\"dataframe\">\n",
       "  <thead>\n",
       "    <tr style=\"text-align: right;\">\n",
       "      <th></th>\n",
       "      <th>total_reviews</th>\n",
       "      <th>avg_rating</th>\n",
       "      <th>total_business</th>\n",
       "    </tr>\n",
       "  </thead>\n",
       "  <tbody>\n",
       "    <tr>\n",
       "      <th>count</th>\n",
       "      <td>5.100000e+01</td>\n",
       "      <td>51.000000</td>\n",
       "      <td>51.000000</td>\n",
       "    </tr>\n",
       "    <tr>\n",
       "      <th>mean</th>\n",
       "      <td>2.459587e+06</td>\n",
       "      <td>4.310660</td>\n",
       "      <td>55112.803922</td>\n",
       "    </tr>\n",
       "    <tr>\n",
       "      <th>std</th>\n",
       "      <td>2.881908e+06</td>\n",
       "      <td>0.052009</td>\n",
       "      <td>59491.520114</td>\n",
       "    </tr>\n",
       "    <tr>\n",
       "      <th>min</th>\n",
       "      <td>2.025520e+05</td>\n",
       "      <td>4.134979</td>\n",
       "      <td>6298.000000</td>\n",
       "    </tr>\n",
       "    <tr>\n",
       "      <th>25%</th>\n",
       "      <td>6.332645e+05</td>\n",
       "      <td>4.284252</td>\n",
       "      <td>16220.000000</td>\n",
       "    </tr>\n",
       "    <tr>\n",
       "      <th>50%</th>\n",
       "      <td>1.679487e+06</td>\n",
       "      <td>4.315797</td>\n",
       "      <td>39405.000000</td>\n",
       "    </tr>\n",
       "    <tr>\n",
       "      <th>75%</th>\n",
       "      <td>2.985290e+06</td>\n",
       "      <td>4.338050</td>\n",
       "      <td>64195.000000</td>\n",
       "    </tr>\n",
       "    <tr>\n",
       "      <th>max</th>\n",
       "      <td>1.333165e+07</td>\n",
       "      <td>4.413362</td>\n",
       "      <td>286846.000000</td>\n",
       "    </tr>\n",
       "  </tbody>\n",
       "</table>\n",
       "</div>"
      ],
      "text/plain": [
       "       total_reviews  avg_rating  total_business\n",
       "count   5.100000e+01   51.000000       51.000000\n",
       "mean    2.459587e+06    4.310660    55112.803922\n",
       "std     2.881908e+06    0.052009    59491.520114\n",
       "min     2.025520e+05    4.134979     6298.000000\n",
       "25%     6.332645e+05    4.284252    16220.000000\n",
       "50%     1.679487e+06    4.315797    39405.000000\n",
       "75%     2.985290e+06    4.338050    64195.000000\n",
       "max     1.333165e+07    4.413362   286846.000000"
      ]
     },
     "execution_count": 53,
     "metadata": {},
     "output_type": "execute_result"
    }
   ],
   "source": [
    "# Observamos valores atípicos en las columnas total_reviews y total_business, posiblemente estados con mayor cantidad de habitantes o con mayor actividad económica.\n",
    "filtered_state_resume.describe()"
   ]
  },
  {
   "cell_type": "code",
   "execution_count": 55,
   "metadata": {},
   "outputs": [
    {
     "data": {
      "text/plain": [
       "<Axes: ylabel='total_reviews'>"
      ]
     },
     "execution_count": 55,
     "metadata": {},
     "output_type": "execute_result"
    },
    {
     "data": {
      "image/png": "[encoded data removed]",
      "text/plain": [
       "<Figure size 640x480 with 1 Axes>"
      ]
     },
     "metadata": {},
     "output_type": "display_data"
    }
   ],
   "source": [
    "sns.boxplot(data=filtered_state_resume[\"total_reviews\"])"
   ]
  },
  {
   "cell_type": "code",
   "execution_count": null,
   "metadata": {},
   "outputs": [
    {
     "data": {
      "text/plain": [
       "<Axes: xlabel='state', ylabel='total_reviews'>"
      ]
     },
     "execution_count": 68,
     "metadata": {},
     "output_type": "execute_result"
    },
    {
     "data": {
      "image/png": "[encoded data removed]",
      "text/plain": [
       "<Figure size 1000x500 with 1 Axes>"
      ]
     },
     "metadata": {},
     "output_type": "display_data"
    }
   ],
   "source": [
    "plt.figure(figsize=(10,5))\n",
    "sns.barplot(data= filtered_state_resume.sort_values(by=\"total_reviews\", ascending=False).head(10), y=\"total_reviews\", x= \"state\") \n",
    "#Los estados con mayor cantidad de reviews son Texas, California, Florida y New York."
   ]
  },
  {
   "cell_type": "code",
   "execution_count": 56,
   "metadata": {},
   "outputs": [
    {
     "data": {
      "text/plain": [
       "<Axes: ylabel='total_business'>"
      ]
     },
     "execution_count": 56,
     "metadata": {},
     "output_type": "execute_result"
    },
    {
     "data": {
      "image/png": "[encoded data removed]",
      "text/plain": [
       "<Figure size 640x480 with 1 Axes>"
      ]
     },
     "metadata": {},
     "output_type": "display_data"
    }
   ],
   "source": [
    "sns.boxplot(data=filtered_state_resume[\"total_business\"])"
   ]
  },
  {
   "cell_type": "code",
   "execution_count": null,
   "metadata": {},
   "outputs": [
    {
     "data": {
      "text/plain": [
       "<Axes: xlabel='state', ylabel='total_business'>"
      ]
     },
     "execution_count": 70,
     "metadata": {},
     "output_type": "execute_result"
    },
    {
     "data": {
      "image/png": "[encoded data removed]",
      "text/plain": [
       "<Figure size 1000x500 with 1 Axes>"
      ]
     },
     "metadata": {},
     "output_type": "display_data"
    }
   ],
   "source": [
    "plt.figure(figsize=(10,5))\n",
    "sns.barplot(data= filtered_state_resume.sort_values(by=\"total_business\", ascending=False).head(10), y=\"total_business\", x= \"state\") \n",
    "#Nuevamente se repiten los mismos estados: Texas, California, Florida y New York."
   ]
  },
  {
   "cell_type": "code",
   "execution_count": null,
   "metadata": {},
   "outputs": [
    {
     "data": {
      "text/plain": [
       "<Axes: ylabel='avg_rating'>"
      ]
     },
     "execution_count": 71,
     "metadata": {},
     "output_type": "execute_result"
    },
    {
     "data": {
      "image/png": "[encoded data removed]",
      "text/plain": [
       "<Figure size 640x480 with 1 Axes>"
      ]
     },
     "metadata": {},
     "output_type": "display_data"
    }
   ],
   "source": [
    "sns.boxplot(data=filtered_state_resume[\"avg_rating\"])\n",
    "# Vemos que existen dos estados con ratings por debajo de la media."
   ]
  },
  {
   "cell_type": "code",
   "execution_count": null,
   "metadata": {},
   "outputs": [
    {
     "data": {
      "text/plain": [
       "<Axes: xlabel='avg_rating', ylabel='state'>"
      ]
     },
     "execution_count": 78,
     "metadata": {},
     "output_type": "execute_result"
    },
    {
     "data": {
      "image/png": "[encoded data removed]",
      "text/plain": [
       "<Figure size 640x480 with 1 Axes>"
      ]
     },
     "metadata": {},
     "output_type": "display_data"
    }
   ],
   "source": [
    "sns.barplot(data= filtered_state_resume.sort_values(by=\"avg_rating\", ascending=True).head(5), x=\"avg_rating\", y= \"state\") \n",
    "# Los estados con menor puntuacion: Distrito de Columbia, y Nevada."
   ]
  },
  {
   "cell_type": "code",
   "execution_count": 79,
   "metadata": {},
   "outputs": [
    {
     "data": {
      "text/plain": [
       "<seaborn.axisgrid.PairGrid at 0x1e73b1d4590>"
      ]
     },
     "execution_count": 79,
     "metadata": {},
     "output_type": "execute_result"
    },
    {
     "data": {
      "image/png": "[encoded data removed]",
      "text/plain": [
       "<Figure size 750x750 with 12 Axes>"
      ]
     },
     "metadata": {},
     "output_type": "display_data"
    }
   ],
   "source": [
    "sns.pairplot(data=filtered_state_resume)"
   ]
  },
  {
   "cell_type": "code",
   "execution_count": 80,
   "metadata": {},
   "outputs": [],
   "source": [
    "# Aqui solo observamos una correlación entre total_business y total_reviews, como era de esperarse."
   ]
  },
  {
   "cell_type": "markdown",
   "metadata": {},
   "source": [
    "# Análisis por Categoría de Negocio"
   ]
  },
  {
   "cell_type": "code",
   "execution_count": 82,
   "metadata": {},
   "outputs": [
    {
     "name": "stdout",
     "output_type": "stream",
     "text": [
      "+--------------------+----------+--------------------+--------------+-----+--------------------+--------------------+--------------------+\n",
      "|    primary_category|avg_rating|             gmap_id|num_of_reviews|state|      first_category|     second_category|      third_category|\n",
      "+--------------------+----------+--------------------+--------------+-----+--------------------+--------------------+--------------------+\n",
      "|Business to busin...|       5.0|0x405532c73fa7ce2...|             4|   OR|Business & Indust...|                NULL|                NULL|\n",
      "|    Consignment shop|       4.3|0x4108fee3fd36051...|             8|   WA|            Shopping|                NULL|                NULL|\n",
      "|        Credit union|       3.8|0x4cad876f48719ba...|            24|   ME|             Finance|    Credit & Lending|                NULL|\n",
      "|                Cafe|       5.0|0x4cae4b5f86d43b0...|             1|   ME|        Food & Drink|         Restaurants|                NULL|\n",
      "|United Methodist ...|       5.0|0x4cca89c9f77c14a...|             3|   NY|    People & Society|   Religion & Belief|                NULL|\n",
      "|     Furniture store|       3.8|0x4d524b86892e26b...|             4|   MI|       Home & Garden|    Home Furnishings|                NULL|\n",
      "|         Gas station|       4.6|0x4d533c5bd35bad9...|            18|   WI|Business & Indust...|  Energy & Utilities|           Oil & Gas|\n",
      "|               River|       3.0|0x4d57aaa64a456b2...|             2|   MI|              Travel|Tourist Destinations|                NULL|\n",
      "|        Truck dealer|       4.1|0x52ae4da3353914d...|            24|   MN|    Autos & Vehicles|    Vehicle Shopping|                NULL|\n",
      "|                Park|       3.0|0x52b0871fec5a76d...|             3|   MN|              Travel|Tourist Destinations|Regional Parks & ...|\n",
      "|        Nursing home|       3.7|0x52b25b05861c74a...|            46|   MN|              Health|             Nursing|Assisted Living &...|\n",
      "|         Parking lot|       4.8|0x52b2c9ec3678312...|             4|   MN|Business & Indust...|Transportation & ...|             Parking|\n",
      "|Mental health ser...|       4.3|0x52b32cdcaa847bc...|            15|   MN|              Health|       Mental Health|                NULL|\n",
      "|         Loan agency|       4.7|0x52b334369035c08...|            78|   MN|             Finance|    Credit & Lending|               Loans|\n",
      "|Health insurance ...|       5.0|0x52b3377190f0f94...|             1|   MN|             Finance|           Insurance|    Health Insurance|\n",
      "|         Pet groomer|       4.8|0x52b35d80ffbdaf3...|            18|   MN|   Hobbies & Leisure|                NULL|                NULL|\n",
      "| Horse riding school|       4.9|0x52b4a7680852be8...|            15|   MN|              Sports|                NULL|                NULL|\n",
      "|         Parking lot|       5.0|0x52b4ec5d883fa5f...|             1|   MN|Business & Indust...|Transportation & ...|             Parking|\n",
      "|         Gas station|       5.0|0x52b6bdc5bbb7ecb...|             1|   MN|Business & Indust...|  Energy & Utilities|           Oil & Gas|\n",
      "|            Magician|       5.0|0x52c8cd270f50bbb...|            58|   ND|Arts & Entertainment|     Performing Arts|               Magic|\n",
      "+--------------------+----------+--------------------+--------------+-----+--------------------+--------------------+--------------------+\n",
      "only showing top 20 rows\n",
      "\n"
     ]
    }
   ],
   "source": [
    "merged_df_cache.show()"
   ]
  },
  {
   "cell_type": "code",
   "execution_count": 83,
   "metadata": {},
   "outputs": [],
   "source": [
    "category_grouped_df = merged_df_cache.groupBy(\"first_category\", \"second_category\", \"third_category\").agg(\n",
    "    F.sum(\"num_of_reviews\").alias(\"total_reviews\"),\n",
    "    F.avg(\"avg_rating\").alias(\"avg_rating\"),\n",
    "    F.count(\"gmap_id\").alias(\"total_business\")\n",
    ")"
   ]
  },
  {
   "cell_type": "code",
   "execution_count": 84,
   "metadata": {},
   "outputs": [],
   "source": [
    "category_resume = category_grouped_df.toPandas()"
   ]
  },
  {
   "cell_type": "code",
   "execution_count": 89,
   "metadata": {},
   "outputs": [
    {
     "data": {
      "text/html": [
       "<div>\n",
       "<style scoped>\n",
       "    .dataframe tbody tr th:only-of-type {\n",
       "        vertical-align: middle;\n",
       "    }\n",
       "\n",
       "    .dataframe tbody tr th {\n",
       "        vertical-align: top;\n",
       "    }\n",
       "\n",
       "    .dataframe thead th {\n",
       "        text-align: right;\n",
       "    }\n",
       "</style>\n",
       "<table border=\"1\" class=\"dataframe\">\n",
       "  <thead>\n",
       "    <tr style=\"text-align: right;\">\n",
       "      <th></th>\n",
       "      <th>first_category</th>\n",
       "      <th>second_category</th>\n",
       "      <th>third_category</th>\n",
       "      <th>total_reviews</th>\n",
       "      <th>avg_rating</th>\n",
       "      <th>total_business</th>\n",
       "    </tr>\n",
       "  </thead>\n",
       "  <tbody>\n",
       "    <tr>\n",
       "      <th>230</th>\n",
       "      <td>Adult</td>\n",
       "      <td>None</td>\n",
       "      <td>None</td>\n",
       "      <td>81339</td>\n",
       "      <td>3.836600</td>\n",
       "      <td>1612</td>\n",
       "    </tr>\n",
       "    <tr>\n",
       "      <th>320</th>\n",
       "      <td>Arts &amp; Entertainment</td>\n",
       "      <td>Comics &amp; Animation</td>\n",
       "      <td>Anime &amp; Manga</td>\n",
       "      <td>38</td>\n",
       "      <td>4.420000</td>\n",
       "      <td>5</td>\n",
       "    </tr>\n",
       "    <tr>\n",
       "      <th>63</th>\n",
       "      <td>Arts &amp; Entertainment</td>\n",
       "      <td>Comics &amp; Animation</td>\n",
       "      <td>Comics</td>\n",
       "      <td>60995</td>\n",
       "      <td>4.512620</td>\n",
       "      <td>832</td>\n",
       "    </tr>\n",
       "    <tr>\n",
       "      <th>391</th>\n",
       "      <td>Arts &amp; Entertainment</td>\n",
       "      <td>Entertainment Industry</td>\n",
       "      <td>Film &amp; TV Industry</td>\n",
       "      <td>16306</td>\n",
       "      <td>4.692372</td>\n",
       "      <td>1311</td>\n",
       "    </tr>\n",
       "    <tr>\n",
       "      <th>220</th>\n",
       "      <td>Arts &amp; Entertainment</td>\n",
       "      <td>Entertainment Industry</td>\n",
       "      <td>Recording Industry</td>\n",
       "      <td>71524</td>\n",
       "      <td>4.698433</td>\n",
       "      <td>2489</td>\n",
       "    </tr>\n",
       "    <tr>\n",
       "      <th>158</th>\n",
       "      <td>Arts &amp; Entertainment</td>\n",
       "      <td>Entertainment Industry</td>\n",
       "      <td>None</td>\n",
       "      <td>12827</td>\n",
       "      <td>4.468257</td>\n",
       "      <td>482</td>\n",
       "    </tr>\n",
       "    <tr>\n",
       "      <th>376</th>\n",
       "      <td>Arts &amp; Entertainment</td>\n",
       "      <td>Events &amp; Listings</td>\n",
       "      <td>Bars, Clubs &amp; Nightlife</td>\n",
       "      <td>1426183</td>\n",
       "      <td>4.274775</td>\n",
       "      <td>24765</td>\n",
       "    </tr>\n",
       "    <tr>\n",
       "      <th>278</th>\n",
       "      <td>Arts &amp; Entertainment</td>\n",
       "      <td>Events &amp; Listings</td>\n",
       "      <td>Concerts &amp; Music Festivals</td>\n",
       "      <td>76921</td>\n",
       "      <td>4.469712</td>\n",
       "      <td>1248</td>\n",
       "    </tr>\n",
       "    <tr>\n",
       "      <th>265</th>\n",
       "      <td>Arts &amp; Entertainment</td>\n",
       "      <td>Events &amp; Listings</td>\n",
       "      <td>Expos &amp; Conventions</td>\n",
       "      <td>62943</td>\n",
       "      <td>4.324373</td>\n",
       "      <td>1116</td>\n",
       "    </tr>\n",
       "    <tr>\n",
       "      <th>218</th>\n",
       "      <td>Arts &amp; Entertainment</td>\n",
       "      <td>Events &amp; Listings</td>\n",
       "      <td>Movie Listings &amp; Theater Showtimes</td>\n",
       "      <td>2345</td>\n",
       "      <td>4.500000</td>\n",
       "      <td>7</td>\n",
       "    </tr>\n",
       "    <tr>\n",
       "      <th>248</th>\n",
       "      <td>Arts &amp; Entertainment</td>\n",
       "      <td>Events &amp; Listings</td>\n",
       "      <td>None</td>\n",
       "      <td>452025</td>\n",
       "      <td>4.362661</td>\n",
       "      <td>5426</td>\n",
       "    </tr>\n",
       "    <tr>\n",
       "      <th>189</th>\n",
       "      <td>Arts &amp; Entertainment</td>\n",
       "      <td>Humor</td>\n",
       "      <td>None</td>\n",
       "      <td>12805</td>\n",
       "      <td>4.437634</td>\n",
       "      <td>186</td>\n",
       "    </tr>\n",
       "    <tr>\n",
       "      <th>152</th>\n",
       "      <td>Arts &amp; Entertainment</td>\n",
       "      <td>Movies</td>\n",
       "      <td>None</td>\n",
       "      <td>446099</td>\n",
       "      <td>4.209890</td>\n",
       "      <td>6532</td>\n",
       "    </tr>\n",
       "    <tr>\n",
       "      <th>316</th>\n",
       "      <td>Arts &amp; Entertainment</td>\n",
       "      <td>Music &amp; Audio</td>\n",
       "      <td>CD &amp; Audio Shopping</td>\n",
       "      <td>1215</td>\n",
       "      <td>4.365217</td>\n",
       "      <td>23</td>\n",
       "    </tr>\n",
       "    <tr>\n",
       "      <th>258</th>\n",
       "      <td>Arts &amp; Entertainment</td>\n",
       "      <td>Music &amp; Audio</td>\n",
       "      <td>Classical Music</td>\n",
       "      <td>2632</td>\n",
       "      <td>4.689908</td>\n",
       "      <td>109</td>\n",
       "    </tr>\n",
       "    <tr>\n",
       "      <th>434</th>\n",
       "      <td>Arts &amp; Entertainment</td>\n",
       "      <td>Music &amp; Audio</td>\n",
       "      <td>Dance &amp; Electronic Music</td>\n",
       "      <td>710</td>\n",
       "      <td>4.300000</td>\n",
       "      <td>15</td>\n",
       "    </tr>\n",
       "    <tr>\n",
       "      <th>194</th>\n",
       "      <td>Arts &amp; Entertainment</td>\n",
       "      <td>Music &amp; Audio</td>\n",
       "      <td>Jazz &amp; Blues</td>\n",
       "      <td>2158</td>\n",
       "      <td>4.556250</td>\n",
       "      <td>48</td>\n",
       "    </tr>\n",
       "    <tr>\n",
       "      <th>428</th>\n",
       "      <td>Arts &amp; Entertainment</td>\n",
       "      <td>Music &amp; Audio</td>\n",
       "      <td>Music Education &amp; Instruction</td>\n",
       "      <td>6</td>\n",
       "      <td>5.000000</td>\n",
       "      <td>2</td>\n",
       "    </tr>\n",
       "    <tr>\n",
       "      <th>75</th>\n",
       "      <td>Arts &amp; Entertainment</td>\n",
       "      <td>Music &amp; Audio</td>\n",
       "      <td>Music Equipment &amp; Technology</td>\n",
       "      <td>137394</td>\n",
       "      <td>4.607782</td>\n",
       "      <td>3675</td>\n",
       "    </tr>\n",
       "    <tr>\n",
       "      <th>425</th>\n",
       "      <td>Arts &amp; Entertainment</td>\n",
       "      <td>Music &amp; Audio</td>\n",
       "      <td>Music Reference</td>\n",
       "      <td>644</td>\n",
       "      <td>4.711429</td>\n",
       "      <td>35</td>\n",
       "    </tr>\n",
       "  </tbody>\n",
       "</table>\n",
       "</div>"
      ],
      "text/plain": [
       "           first_category         second_category  \\\n",
       "230                 Adult                    None   \n",
       "320  Arts & Entertainment      Comics & Animation   \n",
       "63   Arts & Entertainment      Comics & Animation   \n",
       "391  Arts & Entertainment  Entertainment Industry   \n",
       "220  Arts & Entertainment  Entertainment Industry   \n",
       "158  Arts & Entertainment  Entertainment Industry   \n",
       "376  Arts & Entertainment       Events & Listings   \n",
       "278  Arts & Entertainment       Events & Listings   \n",
       "265  Arts & Entertainment       Events & Listings   \n",
       "218  Arts & Entertainment       Events & Listings   \n",
       "248  Arts & Entertainment       Events & Listings   \n",
       "189  Arts & Entertainment                   Humor   \n",
       "152  Arts & Entertainment                  Movies   \n",
       "316  Arts & Entertainment           Music & Audio   \n",
       "258  Arts & Entertainment           Music & Audio   \n",
       "434  Arts & Entertainment           Music & Audio   \n",
       "194  Arts & Entertainment           Music & Audio   \n",
       "428  Arts & Entertainment           Music & Audio   \n",
       "75   Arts & Entertainment           Music & Audio   \n",
       "425  Arts & Entertainment           Music & Audio   \n",
       "\n",
       "                         third_category  total_reviews  avg_rating  \\\n",
       "230                                None          81339    3.836600   \n",
       "320                       Anime & Manga             38    4.420000   \n",
       "63                               Comics          60995    4.512620   \n",
       "391                  Film & TV Industry          16306    4.692372   \n",
       "220                  Recording Industry          71524    4.698433   \n",
       "158                                None          12827    4.468257   \n",
       "376             Bars, Clubs & Nightlife        1426183    4.274775   \n",
       "278          Concerts & Music Festivals          76921    4.469712   \n",
       "265                 Expos & Conventions          62943    4.324373   \n",
       "218  Movie Listings & Theater Showtimes           2345    4.500000   \n",
       "248                                None         452025    4.362661   \n",
       "189                                None          12805    4.437634   \n",
       "152                                None         446099    4.209890   \n",
       "316                 CD & Audio Shopping           1215    4.365217   \n",
       "258                     Classical Music           2632    4.689908   \n",
       "434            Dance & Electronic Music            710    4.300000   \n",
       "194                        Jazz & Blues           2158    4.556250   \n",
       "428       Music Education & Instruction              6    5.000000   \n",
       "75         Music Equipment & Technology         137394    4.607782   \n",
       "425                     Music Reference            644    4.711429   \n",
       "\n",
       "     total_business  \n",
       "230            1612  \n",
       "320               5  \n",
       "63              832  \n",
       "391            1311  \n",
       "220            2489  \n",
       "158             482  \n",
       "376           24765  \n",
       "278            1248  \n",
       "265            1116  \n",
       "218               7  \n",
       "248            5426  \n",
       "189             186  \n",
       "152            6532  \n",
       "316              23  \n",
       "258             109  \n",
       "434              15  \n",
       "194              48  \n",
       "428               2  \n",
       "75             3675  \n",
       "425              35  "
      ]
     },
     "execution_count": 89,
     "metadata": {},
     "output_type": "execute_result"
    }
   ],
   "source": [
    "category_resume.sort_values(by=[\"first_category\", \"second_category\", \"third_category\"]).head(20)"
   ]
  },
  {
   "cell_type": "code",
   "execution_count": 91,
   "metadata": {},
   "outputs": [
    {
     "name": "stderr",
     "output_type": "stream",
     "text": [
      "C:\\Users\\Une\\AppData\\Local\\Temp\\ipykernel_6384\\1889549603.py:2: DeprecationWarning: DataFrameGroupBy.apply operated on the grouping columns. This behavior is deprecated, and in a future version of pandas the grouping columns will be excluded from the operation. Either pass `include_groups=False` to exclude the groupings or explicitly select the grouping columns after groupby to silence this warning.\n",
      "  grouped_df = category_resume.groupby(\"first_category\").apply(\n"
     ]
    }
   ],
   "source": [
    "# \n",
    "grouped_df = category_resume.groupby(\"first_category\").apply(\n",
    "    lambda group: pd.Series({\n",
    "        \"weighted_avg_rating\": (group[\"total_reviews\"] * group[\"avg_rating\"]).sum() / group[\"total_reviews\"].sum(),\n",
    "        \"total_reviews\": group[\"total_reviews\"].sum(),\n",
    "        \"total_business\": group[\"total_business\"].sum()\n",
    "    })\n",
    ").reset_index()"
   ]
  },
  {
   "cell_type": "code",
   "execution_count": 92,
   "metadata": {},
   "outputs": [
    {
     "data": {
      "text/html": [
       "<div>\n",
       "<style scoped>\n",
       "    .dataframe tbody tr th:only-of-type {\n",
       "        vertical-align: middle;\n",
       "    }\n",
       "\n",
       "    .dataframe tbody tr th {\n",
       "        vertical-align: top;\n",
       "    }\n",
       "\n",
       "    .dataframe thead th {\n",
       "        text-align: right;\n",
       "    }\n",
       "</style>\n",
       "<table border=\"1\" class=\"dataframe\">\n",
       "  <thead>\n",
       "    <tr style=\"text-align: right;\">\n",
       "      <th></th>\n",
       "      <th>first_category</th>\n",
       "      <th>weighted_avg_rating</th>\n",
       "      <th>total_reviews</th>\n",
       "      <th>total_business</th>\n",
       "    </tr>\n",
       "  </thead>\n",
       "  <tbody>\n",
       "    <tr>\n",
       "      <th>0</th>\n",
       "      <td>Adult</td>\n",
       "      <td>3.836600</td>\n",
       "      <td>81339.0</td>\n",
       "      <td>1612.0</td>\n",
       "    </tr>\n",
       "    <tr>\n",
       "      <th>1</th>\n",
       "      <td>Arts &amp; Entertainment</td>\n",
       "      <td>4.380648</td>\n",
       "      <td>3569775.0</td>\n",
       "      <td>82317.0</td>\n",
       "    </tr>\n",
       "    <tr>\n",
       "      <th>2</th>\n",
       "      <td>Autos &amp; Vehicles</td>\n",
       "      <td>4.343066</td>\n",
       "      <td>11491759.0</td>\n",
       "      <td>222610.0</td>\n",
       "    </tr>\n",
       "    <tr>\n",
       "      <th>3</th>\n",
       "      <td>Beauty &amp; Fitness</td>\n",
       "      <td>4.476816</td>\n",
       "      <td>10533556.0</td>\n",
       "      <td>230793.0</td>\n",
       "    </tr>\n",
       "    <tr>\n",
       "      <th>4</th>\n",
       "      <td>Books &amp; Literature</td>\n",
       "      <td>4.423077</td>\n",
       "      <td>214207.0</td>\n",
       "      <td>3780.0</td>\n",
       "    </tr>\n",
       "    <tr>\n",
       "      <th>5</th>\n",
       "      <td>Business &amp; Industrial</td>\n",
       "      <td>4.163736</td>\n",
       "      <td>11454080.0</td>\n",
       "      <td>407129.0</td>\n",
       "    </tr>\n",
       "    <tr>\n",
       "      <th>6</th>\n",
       "      <td>Computers &amp; Electronics</td>\n",
       "      <td>4.177554</td>\n",
       "      <td>2480353.0</td>\n",
       "      <td>49073.0</td>\n",
       "    </tr>\n",
       "    <tr>\n",
       "      <th>7</th>\n",
       "      <td>Finance</td>\n",
       "      <td>4.258909</td>\n",
       "      <td>3601778.0</td>\n",
       "      <td>109800.0</td>\n",
       "    </tr>\n",
       "    <tr>\n",
       "      <th>8</th>\n",
       "      <td>Food &amp; Drink</td>\n",
       "      <td>4.173802</td>\n",
       "      <td>30233912.0</td>\n",
       "      <td>358880.0</td>\n",
       "    </tr>\n",
       "    <tr>\n",
       "      <th>9</th>\n",
       "      <td>Games</td>\n",
       "      <td>4.291946</td>\n",
       "      <td>463076.0</td>\n",
       "      <td>6516.0</td>\n",
       "    </tr>\n",
       "    <tr>\n",
       "      <th>10</th>\n",
       "      <td>Health</td>\n",
       "      <td>4.341270</td>\n",
       "      <td>12920455.0</td>\n",
       "      <td>223378.0</td>\n",
       "    </tr>\n",
       "    <tr>\n",
       "      <th>11</th>\n",
       "      <td>Hobbies &amp; Leisure</td>\n",
       "      <td>4.517523</td>\n",
       "      <td>5553273.0</td>\n",
       "      <td>135200.0</td>\n",
       "    </tr>\n",
       "    <tr>\n",
       "      <th>12</th>\n",
       "      <td>Home &amp; Garden</td>\n",
       "      <td>4.417462</td>\n",
       "      <td>7079909.0</td>\n",
       "      <td>169808.0</td>\n",
       "    </tr>\n",
       "    <tr>\n",
       "      <th>13</th>\n",
       "      <td>Internet &amp; Telecom</td>\n",
       "      <td>4.156719</td>\n",
       "      <td>561461.0</td>\n",
       "      <td>10051.0</td>\n",
       "    </tr>\n",
       "    <tr>\n",
       "      <th>14</th>\n",
       "      <td>Jobs &amp; Education</td>\n",
       "      <td>4.228993</td>\n",
       "      <td>746151.0</td>\n",
       "      <td>37430.0</td>\n",
       "    </tr>\n",
       "    <tr>\n",
       "      <th>15</th>\n",
       "      <td>Law &amp; Government</td>\n",
       "      <td>4.184632</td>\n",
       "      <td>1970796.0</td>\n",
       "      <td>82664.0</td>\n",
       "    </tr>\n",
       "    <tr>\n",
       "      <th>16</th>\n",
       "      <td>News</td>\n",
       "      <td>4.110852</td>\n",
       "      <td>11073.0</td>\n",
       "      <td>868.0</td>\n",
       "    </tr>\n",
       "    <tr>\n",
       "      <th>17</th>\n",
       "      <td>Online Communities</td>\n",
       "      <td>4.146223</td>\n",
       "      <td>182725.0</td>\n",
       "      <td>9254.0</td>\n",
       "    </tr>\n",
       "    <tr>\n",
       "      <th>18</th>\n",
       "      <td>People &amp; Society</td>\n",
       "      <td>4.550029</td>\n",
       "      <td>2900114.0</td>\n",
       "      <td>170356.0</td>\n",
       "    </tr>\n",
       "    <tr>\n",
       "      <th>19</th>\n",
       "      <td>Pets &amp; Animals</td>\n",
       "      <td>4.394990</td>\n",
       "      <td>100864.0</td>\n",
       "      <td>2833.0</td>\n",
       "    </tr>\n",
       "    <tr>\n",
       "      <th>20</th>\n",
       "      <td>Real Estate</td>\n",
       "      <td>3.897618</td>\n",
       "      <td>3441782.0</td>\n",
       "      <td>109071.0</td>\n",
       "    </tr>\n",
       "    <tr>\n",
       "      <th>21</th>\n",
       "      <td>Reference</td>\n",
       "      <td>4.477579</td>\n",
       "      <td>983557.0</td>\n",
       "      <td>27994.0</td>\n",
       "    </tr>\n",
       "    <tr>\n",
       "      <th>22</th>\n",
       "      <td>Science</td>\n",
       "      <td>4.476008</td>\n",
       "      <td>185604.0</td>\n",
       "      <td>11171.0</td>\n",
       "    </tr>\n",
       "    <tr>\n",
       "      <th>23</th>\n",
       "      <td>Sensitive Subjects</td>\n",
       "      <td>3.950809</td>\n",
       "      <td>934097.0</td>\n",
       "      <td>26749.0</td>\n",
       "    </tr>\n",
       "    <tr>\n",
       "      <th>24</th>\n",
       "      <td>Shopping</td>\n",
       "      <td>4.297061</td>\n",
       "      <td>7758224.0</td>\n",
       "      <td>165059.0</td>\n",
       "    </tr>\n",
       "    <tr>\n",
       "      <th>25</th>\n",
       "      <td>Sports</td>\n",
       "      <td>4.440723</td>\n",
       "      <td>1535546.0</td>\n",
       "      <td>40160.0</td>\n",
       "    </tr>\n",
       "    <tr>\n",
       "      <th>26</th>\n",
       "      <td>Travel</td>\n",
       "      <td>4.315120</td>\n",
       "      <td>4808648.0</td>\n",
       "      <td>143556.0</td>\n",
       "    </tr>\n",
       "  </tbody>\n",
       "</table>\n",
       "</div>"
      ],
      "text/plain": [
       "             first_category  weighted_avg_rating  total_reviews  \\\n",
       "0                     Adult             3.836600        81339.0   \n",
       "1      Arts & Entertainment             4.380648      3569775.0   \n",
       "2          Autos & Vehicles             4.343066     11491759.0   \n",
       "3          Beauty & Fitness             4.476816     10533556.0   \n",
       "4        Books & Literature             4.423077       214207.0   \n",
       "5     Business & Industrial             4.163736     11454080.0   \n",
       "6   Computers & Electronics             4.177554      2480353.0   \n",
       "7                   Finance             4.258909      3601778.0   \n",
       "8              Food & Drink             4.173802     30233912.0   \n",
       "9                     Games             4.291946       463076.0   \n",
       "10                   Health             4.341270     12920455.0   \n",
       "11        Hobbies & Leisure             4.517523      5553273.0   \n",
       "12            Home & Garden             4.417462      7079909.0   \n",
       "13       Internet & Telecom             4.156719       561461.0   \n",
       "14         Jobs & Education             4.228993       746151.0   \n",
       "15         Law & Government             4.184632      1970796.0   \n",
       "16                     News             4.110852        11073.0   \n",
       "17       Online Communities             4.146223       182725.0   \n",
       "18         People & Society             4.550029      2900114.0   \n",
       "19           Pets & Animals             4.394990       100864.0   \n",
       "20              Real Estate             3.897618      3441782.0   \n",
       "21                Reference             4.477579       983557.0   \n",
       "22                  Science             4.476008       185604.0   \n",
       "23       Sensitive Subjects             3.950809       934097.0   \n",
       "24                 Shopping             4.297061      7758224.0   \n",
       "25                   Sports             4.440723      1535546.0   \n",
       "26                   Travel             4.315120      4808648.0   \n",
       "\n",
       "    total_business  \n",
       "0           1612.0  \n",
       "1          82317.0  \n",
       "2         222610.0  \n",
       "3         230793.0  \n",
       "4           3780.0  \n",
       "5         407129.0  \n",
       "6          49073.0  \n",
       "7         109800.0  \n",
       "8         358880.0  \n",
       "9           6516.0  \n",
       "10        223378.0  \n",
       "11        135200.0  \n",
       "12        169808.0  \n",
       "13         10051.0  \n",
       "14         37430.0  \n",
       "15         82664.0  \n",
       "16           868.0  \n",
       "17          9254.0  \n",
       "18        170356.0  \n",
       "19          2833.0  \n",
       "20        109071.0  \n",
       "21         27994.0  \n",
       "22         11171.0  \n",
       "23         26749.0  \n",
       "24        165059.0  \n",
       "25         40160.0  \n",
       "26        143556.0  "
      ]
     },
     "execution_count": 92,
     "metadata": {},
     "output_type": "execute_result"
    }
   ],
   "source": [
    "grouped_df"
   ]
  },
  {
   "cell_type": "code",
   "execution_count": 95,
   "metadata": {},
   "outputs": [
    {
     "data": {
      "text/plain": [
       "<Axes: xlabel='total_reviews', ylabel='first_category'>"
      ]
     },
     "execution_count": 95,
     "metadata": {},
     "output_type": "execute_result"
    },
    {
     "data": {
      "image/png": "[encoded data removed]",
      "text/plain": [
       "<Figure size 640x480 with 1 Axes>"
      ]
     },
     "metadata": {},
     "output_type": "display_data"
    }
   ],
   "source": [
    "sns.barplot(data=grouped_df.sort_values(by=\"total_reviews\", ascending=False), x=\"total_reviews\", y=\"first_category\")"
   ]
  },
  {
   "cell_type": "code",
   "execution_count": 96,
   "metadata": {},
   "outputs": [
    {
     "data": {
      "text/plain": [
       "<Axes: xlabel='total_business', ylabel='first_category'>"
      ]
     },
     "execution_count": 96,
     "metadata": {},
     "output_type": "execute_result"
    },
    {
     "data": {
      "image/png": "[encoded data removed]",
      "text/plain": [
       "<Figure size 640x480 with 1 Axes>"
      ]
     },
     "metadata": {},
     "output_type": "display_data"
    }
   ],
   "source": [
    "sns.barplot(data=grouped_df.sort_values(by=\"total_business\", ascending=False), x=\"total_business\", y=\"first_category\")"
   ]
  },
  {
   "cell_type": "markdown",
   "metadata": {},
   "source": [
    "Observamos que los negocios con mayor cantidad de establecimientos y reviews son:\n",
    "- Business & Industrial\n",
    "- Food & Drink\n",
    "- Beauty & Fitness\n",
    "- Heakth\n",
    "- Autos & Vehicles\n",
    "- People & Society\n",
    "- Home & Garden\n",
    "- Shopping\n",
    "- Travel\n",
    "- Hobbies & Leisure"
   ]
  },
  {
   "cell_type": "code",
   "execution_count": 99,
   "metadata": {},
   "outputs": [
    {
     "data": {
      "text/html": [
       "<div>\n",
       "<style scoped>\n",
       "    .dataframe tbody tr th:only-of-type {\n",
       "        vertical-align: middle;\n",
       "    }\n",
       "\n",
       "    .dataframe tbody tr th {\n",
       "        vertical-align: top;\n",
       "    }\n",
       "\n",
       "    .dataframe thead th {\n",
       "        text-align: right;\n",
       "    }\n",
       "</style>\n",
       "<table border=\"1\" class=\"dataframe\">\n",
       "  <thead>\n",
       "    <tr style=\"text-align: right;\">\n",
       "      <th></th>\n",
       "      <th>weighted_avg_rating</th>\n",
       "      <th>total_reviews</th>\n",
       "      <th>total_business</th>\n",
       "    </tr>\n",
       "  </thead>\n",
       "  <tbody>\n",
       "    <tr>\n",
       "      <th>count</th>\n",
       "      <td>27.000000</td>\n",
       "      <td>2.700000e+01</td>\n",
       "      <td>27.000000</td>\n",
       "    </tr>\n",
       "    <tr>\n",
       "      <th>mean</th>\n",
       "      <td>4.275177</td>\n",
       "      <td>4.659189e+06</td>\n",
       "      <td>105115.259259</td>\n",
       "    </tr>\n",
       "    <tr>\n",
       "      <th>std</th>\n",
       "      <td>0.186380</td>\n",
       "      <td>6.489113e+06</td>\n",
       "      <td>110556.076716</td>\n",
       "    </tr>\n",
       "    <tr>\n",
       "      <th>min</th>\n",
       "      <td>3.836600</td>\n",
       "      <td>1.107300e+04</td>\n",
       "      <td>868.000000</td>\n",
       "    </tr>\n",
       "    <tr>\n",
       "      <th>25%</th>\n",
       "      <td>4.168769</td>\n",
       "      <td>5.122685e+05</td>\n",
       "      <td>10611.000000</td>\n",
       "    </tr>\n",
       "    <tr>\n",
       "      <th>50%</th>\n",
       "      <td>4.297061</td>\n",
       "      <td>2.480353e+06</td>\n",
       "      <td>82317.000000</td>\n",
       "    </tr>\n",
       "    <tr>\n",
       "      <th>75%</th>\n",
       "      <td>4.420269</td>\n",
       "      <td>6.316591e+06</td>\n",
       "      <td>167433.500000</td>\n",
       "    </tr>\n",
       "    <tr>\n",
       "      <th>max</th>\n",
       "      <td>4.550029</td>\n",
       "      <td>3.023391e+07</td>\n",
       "      <td>407129.000000</td>\n",
       "    </tr>\n",
       "  </tbody>\n",
       "</table>\n",
       "</div>"
      ],
      "text/plain": [
       "       weighted_avg_rating  total_reviews  total_business\n",
       "count            27.000000   2.700000e+01       27.000000\n",
       "mean              4.275177   4.659189e+06   105115.259259\n",
       "std               0.186380   6.489113e+06   110556.076716\n",
       "min               3.836600   1.107300e+04      868.000000\n",
       "25%               4.168769   5.122685e+05    10611.000000\n",
       "50%               4.297061   2.480353e+06    82317.000000\n",
       "75%               4.420269   6.316591e+06   167433.500000\n",
       "max               4.550029   3.023391e+07   407129.000000"
      ]
     },
     "execution_count": 99,
     "metadata": {},
     "output_type": "execute_result"
    }
   ],
   "source": [
    "grouped_df.describe()"
   ]
  },
  {
   "cell_type": "code",
   "execution_count": 101,
   "metadata": {},
   "outputs": [
    {
     "data": {
      "text/html": [
       "<div>\n",
       "<style scoped>\n",
       "    .dataframe tbody tr th:only-of-type {\n",
       "        vertical-align: middle;\n",
       "    }\n",
       "\n",
       "    .dataframe tbody tr th {\n",
       "        vertical-align: top;\n",
       "    }\n",
       "\n",
       "    .dataframe thead th {\n",
       "        text-align: right;\n",
       "    }\n",
       "</style>\n",
       "<table border=\"1\" class=\"dataframe\">\n",
       "  <thead>\n",
       "    <tr style=\"text-align: right;\">\n",
       "      <th></th>\n",
       "      <th>first_category</th>\n",
       "      <th>weighted_avg_rating</th>\n",
       "      <th>total_reviews</th>\n",
       "      <th>total_business</th>\n",
       "    </tr>\n",
       "  </thead>\n",
       "  <tbody>\n",
       "    <tr>\n",
       "      <th>0</th>\n",
       "      <td>Adult</td>\n",
       "      <td>3.836600</td>\n",
       "      <td>81339.0</td>\n",
       "      <td>1612.0</td>\n",
       "    </tr>\n",
       "    <tr>\n",
       "      <th>20</th>\n",
       "      <td>Real Estate</td>\n",
       "      <td>3.897618</td>\n",
       "      <td>3441782.0</td>\n",
       "      <td>109071.0</td>\n",
       "    </tr>\n",
       "    <tr>\n",
       "      <th>23</th>\n",
       "      <td>Sensitive Subjects</td>\n",
       "      <td>3.950809</td>\n",
       "      <td>934097.0</td>\n",
       "      <td>26749.0</td>\n",
       "    </tr>\n",
       "  </tbody>\n",
       "</table>\n",
       "</div>"
      ],
      "text/plain": [
       "        first_category  weighted_avg_rating  total_reviews  total_business\n",
       "0                Adult             3.836600        81339.0          1612.0\n",
       "20         Real Estate             3.897618      3441782.0        109071.0\n",
       "23  Sensitive Subjects             3.950809       934097.0         26749.0"
      ]
     },
     "execution_count": 101,
     "metadata": {},
     "output_type": "execute_result"
    }
   ],
   "source": [
    "grouped_df[grouped_df[\"weighted_avg_rating\"]<4.1]"
   ]
  },
  {
   "cell_type": "code",
   "execution_count": 102,
   "metadata": {},
   "outputs": [
    {
     "data": {
      "text/html": [
       "<div>\n",
       "<style scoped>\n",
       "    .dataframe tbody tr th:only-of-type {\n",
       "        vertical-align: middle;\n",
       "    }\n",
       "\n",
       "    .dataframe tbody tr th {\n",
       "        vertical-align: top;\n",
       "    }\n",
       "\n",
       "    .dataframe thead th {\n",
       "        text-align: right;\n",
       "    }\n",
       "</style>\n",
       "<table border=\"1\" class=\"dataframe\">\n",
       "  <thead>\n",
       "    <tr style=\"text-align: right;\">\n",
       "      <th></th>\n",
       "      <th>first_category</th>\n",
       "      <th>weighted_avg_rating</th>\n",
       "      <th>total_reviews</th>\n",
       "      <th>total_business</th>\n",
       "    </tr>\n",
       "  </thead>\n",
       "  <tbody>\n",
       "    <tr>\n",
       "      <th>3</th>\n",
       "      <td>Beauty &amp; Fitness</td>\n",
       "      <td>4.476816</td>\n",
       "      <td>10533556.0</td>\n",
       "      <td>230793.0</td>\n",
       "    </tr>\n",
       "    <tr>\n",
       "      <th>4</th>\n",
       "      <td>Books &amp; Literature</td>\n",
       "      <td>4.423077</td>\n",
       "      <td>214207.0</td>\n",
       "      <td>3780.0</td>\n",
       "    </tr>\n",
       "    <tr>\n",
       "      <th>11</th>\n",
       "      <td>Hobbies &amp; Leisure</td>\n",
       "      <td>4.517523</td>\n",
       "      <td>5553273.0</td>\n",
       "      <td>135200.0</td>\n",
       "    </tr>\n",
       "    <tr>\n",
       "      <th>12</th>\n",
       "      <td>Home &amp; Garden</td>\n",
       "      <td>4.417462</td>\n",
       "      <td>7079909.0</td>\n",
       "      <td>169808.0</td>\n",
       "    </tr>\n",
       "    <tr>\n",
       "      <th>18</th>\n",
       "      <td>People &amp; Society</td>\n",
       "      <td>4.550029</td>\n",
       "      <td>2900114.0</td>\n",
       "      <td>170356.0</td>\n",
       "    </tr>\n",
       "    <tr>\n",
       "      <th>21</th>\n",
       "      <td>Reference</td>\n",
       "      <td>4.477579</td>\n",
       "      <td>983557.0</td>\n",
       "      <td>27994.0</td>\n",
       "    </tr>\n",
       "    <tr>\n",
       "      <th>22</th>\n",
       "      <td>Science</td>\n",
       "      <td>4.476008</td>\n",
       "      <td>185604.0</td>\n",
       "      <td>11171.0</td>\n",
       "    </tr>\n",
       "    <tr>\n",
       "      <th>25</th>\n",
       "      <td>Sports</td>\n",
       "      <td>4.440723</td>\n",
       "      <td>1535546.0</td>\n",
       "      <td>40160.0</td>\n",
       "    </tr>\n",
       "  </tbody>\n",
       "</table>\n",
       "</div>"
      ],
      "text/plain": [
       "        first_category  weighted_avg_rating  total_reviews  total_business\n",
       "3     Beauty & Fitness             4.476816     10533556.0        230793.0\n",
       "4   Books & Literature             4.423077       214207.0          3780.0\n",
       "11   Hobbies & Leisure             4.517523      5553273.0        135200.0\n",
       "12       Home & Garden             4.417462      7079909.0        169808.0\n",
       "18    People & Society             4.550029      2900114.0        170356.0\n",
       "21           Reference             4.477579       983557.0         27994.0\n",
       "22             Science             4.476008       185604.0         11171.0\n",
       "25              Sports             4.440723      1535546.0         40160.0"
      ]
     },
     "execution_count": 102,
     "metadata": {},
     "output_type": "execute_result"
    }
   ],
   "source": [
    "grouped_df[grouped_df[\"weighted_avg_rating\"]>4.4]"
   ]
  },
  {
   "cell_type": "markdown",
   "metadata": {},
   "source": [
    "## Analisis por sub-categoria"
   ]
  },
  {
   "cell_type": "code",
   "execution_count": 130,
   "metadata": {},
   "outputs": [
    {
     "name": "stderr",
     "output_type": "stream",
     "text": [
      "C:\\Users\\Une\\AppData\\Local\\Temp\\ipykernel_6384\\3673612760.py:1: DeprecationWarning: DataFrameGroupBy.apply operated on the grouping columns. This behavior is deprecated, and in a future version of pandas the grouping columns will be excluded from the operation. Either pass `include_groups=False` to exclude the groupings or explicitly select the grouping columns after groupby to silence this warning.\n",
      "  grouped_df = category_resume.groupby([\"first_category\", \"second_category\"]).apply(\n"
     ]
    }
   ],
   "source": [
    "grouped_df = category_resume.groupby([\"first_category\", \"second_category\"]).apply(\n",
    "    lambda group: pd.Series({\n",
    "        \"weighted_avg_rating\": (group[\"total_reviews\"] * group[\"avg_rating\"]).sum() / group[\"total_reviews\"].sum(),\n",
    "        \"total_reviews\": group[\"total_reviews\"].sum(),\n",
    "        \"total_business\": group[\"total_business\"].sum()\n",
    "    })\n",
    ").reset_index()"
   ]
  },
  {
   "cell_type": "code",
   "execution_count": 131,
   "metadata": {},
   "outputs": [
    {
     "data": {
      "text/html": [
       "<div>\n",
       "<style scoped>\n",
       "    .dataframe tbody tr th:only-of-type {\n",
       "        vertical-align: middle;\n",
       "    }\n",
       "\n",
       "    .dataframe tbody tr th {\n",
       "        vertical-align: top;\n",
       "    }\n",
       "\n",
       "    .dataframe thead th {\n",
       "        text-align: right;\n",
       "    }\n",
       "</style>\n",
       "<table border=\"1\" class=\"dataframe\">\n",
       "  <thead>\n",
       "    <tr style=\"text-align: right;\">\n",
       "      <th></th>\n",
       "      <th>first_category</th>\n",
       "      <th>second_category</th>\n",
       "      <th>weighted_avg_rating</th>\n",
       "      <th>total_reviews</th>\n",
       "      <th>total_business</th>\n",
       "    </tr>\n",
       "  </thead>\n",
       "  <tbody>\n",
       "    <tr>\n",
       "      <th>0</th>\n",
       "      <td>Arts &amp; Entertainment</td>\n",
       "      <td>Comics &amp; Animation</td>\n",
       "      <td>4.512563</td>\n",
       "      <td>61033.0</td>\n",
       "      <td>837.0</td>\n",
       "    </tr>\n",
       "    <tr>\n",
       "      <th>1</th>\n",
       "      <td>Arts &amp; Entertainment</td>\n",
       "      <td>Entertainment Industry</td>\n",
       "      <td>4.668119</td>\n",
       "      <td>100657.0</td>\n",
       "      <td>4282.0</td>\n",
       "    </tr>\n",
       "    <tr>\n",
       "      <th>2</th>\n",
       "      <td>Arts &amp; Entertainment</td>\n",
       "      <td>Events &amp; Listings</td>\n",
       "      <td>4.303666</td>\n",
       "      <td>2020417.0</td>\n",
       "      <td>32562.0</td>\n",
       "    </tr>\n",
       "    <tr>\n",
       "      <th>3</th>\n",
       "      <td>Arts &amp; Entertainment</td>\n",
       "      <td>Humor</td>\n",
       "      <td>4.437634</td>\n",
       "      <td>12805.0</td>\n",
       "      <td>186.0</td>\n",
       "    </tr>\n",
       "    <tr>\n",
       "      <th>4</th>\n",
       "      <td>Arts &amp; Entertainment</td>\n",
       "      <td>Movies</td>\n",
       "      <td>4.209890</td>\n",
       "      <td>446099.0</td>\n",
       "      <td>6532.0</td>\n",
       "    </tr>\n",
       "    <tr>\n",
       "      <th>...</th>\n",
       "      <td>...</td>\n",
       "      <td>...</td>\n",
       "      <td>...</td>\n",
       "      <td>...</td>\n",
       "      <td>...</td>\n",
       "    </tr>\n",
       "    <tr>\n",
       "      <th>163</th>\n",
       "      <td>Travel</td>\n",
       "      <td>Car Rental &amp; Taxi Services</td>\n",
       "      <td>3.692413</td>\n",
       "      <td>513663.0</td>\n",
       "      <td>7539.0</td>\n",
       "    </tr>\n",
       "    <tr>\n",
       "      <th>164</th>\n",
       "      <td>Travel</td>\n",
       "      <td>Cruises &amp; Charters</td>\n",
       "      <td>4.372093</td>\n",
       "      <td>35367.0</td>\n",
       "      <td>645.0</td>\n",
       "    </tr>\n",
       "    <tr>\n",
       "      <th>165</th>\n",
       "      <td>Travel</td>\n",
       "      <td>Hotels &amp; Accommodations</td>\n",
       "      <td>4.179690</td>\n",
       "      <td>386604.0</td>\n",
       "      <td>17244.0</td>\n",
       "    </tr>\n",
       "    <tr>\n",
       "      <th>166</th>\n",
       "      <td>Travel</td>\n",
       "      <td>Specialty Travel</td>\n",
       "      <td>4.666306</td>\n",
       "      <td>121178.0</td>\n",
       "      <td>3416.0</td>\n",
       "    </tr>\n",
       "    <tr>\n",
       "      <th>167</th>\n",
       "      <td>Travel</td>\n",
       "      <td>Tourist Destinations</td>\n",
       "      <td>4.411280</td>\n",
       "      <td>3356326.0</td>\n",
       "      <td>91414.0</td>\n",
       "    </tr>\n",
       "  </tbody>\n",
       "</table>\n",
       "<p>168 rows × 5 columns</p>\n",
       "</div>"
      ],
      "text/plain": [
       "           first_category             second_category  weighted_avg_rating  \\\n",
       "0    Arts & Entertainment          Comics & Animation             4.512563   \n",
       "1    Arts & Entertainment      Entertainment Industry             4.668119   \n",
       "2    Arts & Entertainment           Events & Listings             4.303666   \n",
       "3    Arts & Entertainment                       Humor             4.437634   \n",
       "4    Arts & Entertainment                      Movies             4.209890   \n",
       "..                    ...                         ...                  ...   \n",
       "163                Travel  Car Rental & Taxi Services             3.692413   \n",
       "164                Travel          Cruises & Charters             4.372093   \n",
       "165                Travel     Hotels & Accommodations             4.179690   \n",
       "166                Travel            Specialty Travel             4.666306   \n",
       "167                Travel        Tourist Destinations             4.411280   \n",
       "\n",
       "     total_reviews  total_business  \n",
       "0          61033.0           837.0  \n",
       "1         100657.0          4282.0  \n",
       "2        2020417.0         32562.0  \n",
       "3          12805.0           186.0  \n",
       "4         446099.0          6532.0  \n",
       "..             ...             ...  \n",
       "163       513663.0          7539.0  \n",
       "164        35367.0           645.0  \n",
       "165       386604.0         17244.0  \n",
       "166       121178.0          3416.0  \n",
       "167      3356326.0         91414.0  \n",
       "\n",
       "[168 rows x 5 columns]"
      ]
     },
     "execution_count": 131,
     "metadata": {},
     "output_type": "execute_result"
    }
   ],
   "source": [
    "grouped_df"
   ]
  },
  {
   "cell_type": "code",
   "execution_count": 132,
   "metadata": {},
   "outputs": [
    {
     "data": {
      "text/html": [
       "<div>\n",
       "<style scoped>\n",
       "    .dataframe tbody tr th:only-of-type {\n",
       "        vertical-align: middle;\n",
       "    }\n",
       "\n",
       "    .dataframe tbody tr th {\n",
       "        vertical-align: top;\n",
       "    }\n",
       "\n",
       "    .dataframe thead th {\n",
       "        text-align: right;\n",
       "    }\n",
       "</style>\n",
       "<table border=\"1\" class=\"dataframe\">\n",
       "  <thead>\n",
       "    <tr style=\"text-align: right;\">\n",
       "      <th></th>\n",
       "      <th>first_category</th>\n",
       "      <th>second_category</th>\n",
       "      <th>weighted_avg_rating</th>\n",
       "      <th>total_reviews</th>\n",
       "      <th>total_business</th>\n",
       "    </tr>\n",
       "  </thead>\n",
       "  <tbody>\n",
       "    <tr>\n",
       "      <th>61</th>\n",
       "      <td>Food &amp; Drink</td>\n",
       "      <td>Restaurants</td>\n",
       "      <td>4.139928</td>\n",
       "      <td>17690919.0</td>\n",
       "      <td>165140.0</td>\n",
       "    </tr>\n",
       "    <tr>\n",
       "      <th>15</th>\n",
       "      <td>Autos &amp; Vehicles</td>\n",
       "      <td>Vehicle Parts &amp; Services</td>\n",
       "      <td>4.402566</td>\n",
       "      <td>7284934.0</td>\n",
       "      <td>164739.0</td>\n",
       "    </tr>\n",
       "    <tr>\n",
       "      <th>122</th>\n",
       "      <td>People &amp; Society</td>\n",
       "      <td>Religion &amp; Belief</td>\n",
       "      <td>4.648761</td>\n",
       "      <td>1797032.0</td>\n",
       "      <td>119582.0</td>\n",
       "    </tr>\n",
       "    <tr>\n",
       "      <th>44</th>\n",
       "      <td>Business &amp; Industrial</td>\n",
       "      <td>Transportation &amp; Logistics</td>\n",
       "      <td>4.045280</td>\n",
       "      <td>3592619.0</td>\n",
       "      <td>99429.0</td>\n",
       "    </tr>\n",
       "    <tr>\n",
       "      <th>167</th>\n",
       "      <td>Travel</td>\n",
       "      <td>Tourist Destinations</td>\n",
       "      <td>4.411280</td>\n",
       "      <td>3356326.0</td>\n",
       "      <td>91414.0</td>\n",
       "    </tr>\n",
       "    <tr>\n",
       "      <th>72</th>\n",
       "      <td>Health</td>\n",
       "      <td>Medical Facilities &amp; Services</td>\n",
       "      <td>4.024154</td>\n",
       "      <td>4126364.0</td>\n",
       "      <td>86573.0</td>\n",
       "    </tr>\n",
       "    <tr>\n",
       "      <th>145</th>\n",
       "      <td>Shopping</td>\n",
       "      <td>Apparel</td>\n",
       "      <td>4.279559</td>\n",
       "      <td>3093669.0</td>\n",
       "      <td>84222.0</td>\n",
       "    </tr>\n",
       "    <tr>\n",
       "      <th>24</th>\n",
       "      <td>Beauty &amp; Fitness</td>\n",
       "      <td>Spas &amp; Beauty Services</td>\n",
       "      <td>4.579755</td>\n",
       "      <td>2685022.0</td>\n",
       "      <td>77920.0</td>\n",
       "    </tr>\n",
       "    <tr>\n",
       "      <th>35</th>\n",
       "      <td>Business &amp; Industrial</td>\n",
       "      <td>Energy &amp; Utilities</td>\n",
       "      <td>3.928432</td>\n",
       "      <td>2244236.0</td>\n",
       "      <td>77675.0</td>\n",
       "    </tr>\n",
       "    <tr>\n",
       "      <th>129</th>\n",
       "      <td>Real Estate</td>\n",
       "      <td>Real Estate Listings</td>\n",
       "      <td>3.747694</td>\n",
       "      <td>2333272.0</td>\n",
       "      <td>68670.0</td>\n",
       "    </tr>\n",
       "    <tr>\n",
       "      <th>60</th>\n",
       "      <td>Food &amp; Drink</td>\n",
       "      <td>Food &amp; Grocery Retailers</td>\n",
       "      <td>4.076829</td>\n",
       "      <td>3298088.0</td>\n",
       "      <td>68380.0</td>\n",
       "    </tr>\n",
       "    <tr>\n",
       "      <th>34</th>\n",
       "      <td>Business &amp; Industrial</td>\n",
       "      <td>Construction &amp; Maintenance</td>\n",
       "      <td>4.392611</td>\n",
       "      <td>1958442.0</td>\n",
       "      <td>63348.0</td>\n",
       "    </tr>\n",
       "    <tr>\n",
       "      <th>23</th>\n",
       "      <td>Beauty &amp; Fitness</td>\n",
       "      <td>Hair Care</td>\n",
       "      <td>4.561921</td>\n",
       "      <td>2867764.0</td>\n",
       "      <td>62403.0</td>\n",
       "    </tr>\n",
       "    <tr>\n",
       "      <th>58</th>\n",
       "      <td>Food &amp; Drink</td>\n",
       "      <td>Cooking &amp; Recipes</td>\n",
       "      <td>4.208518</td>\n",
       "      <td>5264548.0</td>\n",
       "      <td>51330.0</td>\n",
       "    </tr>\n",
       "    <tr>\n",
       "      <th>32</th>\n",
       "      <td>Business &amp; Industrial</td>\n",
       "      <td>Business Services</td>\n",
       "      <td>4.320589</td>\n",
       "      <td>975946.0</td>\n",
       "      <td>48801.0</td>\n",
       "    </tr>\n",
       "    <tr>\n",
       "      <th>20</th>\n",
       "      <td>Beauty &amp; Fitness</td>\n",
       "      <td>Face &amp; Body Care</td>\n",
       "      <td>4.221602</td>\n",
       "      <td>2921009.0</td>\n",
       "      <td>47638.0</td>\n",
       "    </tr>\n",
       "    <tr>\n",
       "      <th>57</th>\n",
       "      <td>Food &amp; Drink</td>\n",
       "      <td>Beverages</td>\n",
       "      <td>4.362979</td>\n",
       "      <td>2375967.0</td>\n",
       "      <td>46706.0</td>\n",
       "    </tr>\n",
       "    <tr>\n",
       "      <th>76</th>\n",
       "      <td>Health</td>\n",
       "      <td>Oral &amp; Dental Care</td>\n",
       "      <td>4.620424</td>\n",
       "      <td>5003786.0</td>\n",
       "      <td>43405.0</td>\n",
       "    </tr>\n",
       "    <tr>\n",
       "      <th>112</th>\n",
       "      <td>Law &amp; Government</td>\n",
       "      <td>Legal</td>\n",
       "      <td>4.360312</td>\n",
       "      <td>1139218.0</td>\n",
       "      <td>43288.0</td>\n",
       "    </tr>\n",
       "    <tr>\n",
       "      <th>97</th>\n",
       "      <td>Home &amp; Garden</td>\n",
       "      <td>Home Improvement</td>\n",
       "      <td>4.443870</td>\n",
       "      <td>1900378.0</td>\n",
       "      <td>43133.0</td>\n",
       "    </tr>\n",
       "    <tr>\n",
       "      <th>130</th>\n",
       "      <td>Real Estate</td>\n",
       "      <td>Real Estate Services</td>\n",
       "      <td>4.208137</td>\n",
       "      <td>1051012.0</td>\n",
       "      <td>37754.0</td>\n",
       "    </tr>\n",
       "    <tr>\n",
       "      <th>55</th>\n",
       "      <td>Finance</td>\n",
       "      <td>Insurance</td>\n",
       "      <td>4.446159</td>\n",
       "      <td>1157292.0</td>\n",
       "      <td>37661.0</td>\n",
       "    </tr>\n",
       "    <tr>\n",
       "      <th>109</th>\n",
       "      <td>Jobs &amp; Education</td>\n",
       "      <td>Education</td>\n",
       "      <td>4.237572</td>\n",
       "      <td>726832.0</td>\n",
       "      <td>36776.0</td>\n",
       "    </tr>\n",
       "    <tr>\n",
       "      <th>16</th>\n",
       "      <td>Autos &amp; Vehicles</td>\n",
       "      <td>Vehicle Shopping</td>\n",
       "      <td>4.217780</td>\n",
       "      <td>3256445.0</td>\n",
       "      <td>35006.0</td>\n",
       "    </tr>\n",
       "    <tr>\n",
       "      <th>52</th>\n",
       "      <td>Finance</td>\n",
       "      <td>Banking</td>\n",
       "      <td>3.487211</td>\n",
       "      <td>431178.0</td>\n",
       "      <td>33115.0</td>\n",
       "    </tr>\n",
       "    <tr>\n",
       "      <th>2</th>\n",
       "      <td>Arts &amp; Entertainment</td>\n",
       "      <td>Events &amp; Listings</td>\n",
       "      <td>4.303666</td>\n",
       "      <td>2020417.0</td>\n",
       "      <td>32562.0</td>\n",
       "    </tr>\n",
       "    <tr>\n",
       "      <th>47</th>\n",
       "      <td>Computers &amp; Electronics</td>\n",
       "      <td>Consumer Electronics</td>\n",
       "      <td>4.130750</td>\n",
       "      <td>2040673.0</td>\n",
       "      <td>30688.0</td>\n",
       "    </tr>\n",
       "    <tr>\n",
       "      <th>124</th>\n",
       "      <td>People &amp; Society</td>\n",
       "      <td>Social Issues &amp; Advocacy</td>\n",
       "      <td>4.346080</td>\n",
       "      <td>575854.0</td>\n",
       "      <td>28670.0</td>\n",
       "    </tr>\n",
       "    <tr>\n",
       "      <th>22</th>\n",
       "      <td>Beauty &amp; Fitness</td>\n",
       "      <td>Fitness</td>\n",
       "      <td>4.582080</td>\n",
       "      <td>1112229.0</td>\n",
       "      <td>27662.0</td>\n",
       "    </tr>\n",
       "    <tr>\n",
       "      <th>92</th>\n",
       "      <td>Home &amp; Garden</td>\n",
       "      <td>Gardening &amp; Landscaping</td>\n",
       "      <td>4.408765</td>\n",
       "      <td>679158.0</td>\n",
       "      <td>27097.0</td>\n",
       "    </tr>\n",
       "  </tbody>\n",
       "</table>\n",
       "</div>"
      ],
      "text/plain": [
       "              first_category                second_category  \\\n",
       "61              Food & Drink                    Restaurants   \n",
       "15          Autos & Vehicles       Vehicle Parts & Services   \n",
       "122         People & Society              Religion & Belief   \n",
       "44     Business & Industrial     Transportation & Logistics   \n",
       "167                   Travel           Tourist Destinations   \n",
       "72                    Health  Medical Facilities & Services   \n",
       "145                 Shopping                        Apparel   \n",
       "24          Beauty & Fitness         Spas & Beauty Services   \n",
       "35     Business & Industrial             Energy & Utilities   \n",
       "129              Real Estate           Real Estate Listings   \n",
       "60              Food & Drink       Food & Grocery Retailers   \n",
       "34     Business & Industrial     Construction & Maintenance   \n",
       "23          Beauty & Fitness                      Hair Care   \n",
       "58              Food & Drink              Cooking & Recipes   \n",
       "32     Business & Industrial              Business Services   \n",
       "20          Beauty & Fitness               Face & Body Care   \n",
       "57              Food & Drink                      Beverages   \n",
       "76                    Health             Oral & Dental Care   \n",
       "112         Law & Government                          Legal   \n",
       "97             Home & Garden               Home Improvement   \n",
       "130              Real Estate           Real Estate Services   \n",
       "55                   Finance                      Insurance   \n",
       "109         Jobs & Education                      Education   \n",
       "16          Autos & Vehicles               Vehicle Shopping   \n",
       "52                   Finance                        Banking   \n",
       "2       Arts & Entertainment              Events & Listings   \n",
       "47   Computers & Electronics           Consumer Electronics   \n",
       "124         People & Society       Social Issues & Advocacy   \n",
       "22          Beauty & Fitness                        Fitness   \n",
       "92             Home & Garden        Gardening & Landscaping   \n",
       "\n",
       "     weighted_avg_rating  total_reviews  total_business  \n",
       "61              4.139928     17690919.0        165140.0  \n",
       "15              4.402566      7284934.0        164739.0  \n",
       "122             4.648761      1797032.0        119582.0  \n",
       "44              4.045280      3592619.0         99429.0  \n",
       "167             4.411280      3356326.0         91414.0  \n",
       "72              4.024154      4126364.0         86573.0  \n",
       "145             4.279559      3093669.0         84222.0  \n",
       "24              4.579755      2685022.0         77920.0  \n",
       "35              3.928432      2244236.0         77675.0  \n",
       "129             3.747694      2333272.0         68670.0  \n",
       "60              4.076829      3298088.0         68380.0  \n",
       "34              4.392611      1958442.0         63348.0  \n",
       "23              4.561921      2867764.0         62403.0  \n",
       "58              4.208518      5264548.0         51330.0  \n",
       "32              4.320589       975946.0         48801.0  \n",
       "20              4.221602      2921009.0         47638.0  \n",
       "57              4.362979      2375967.0         46706.0  \n",
       "76              4.620424      5003786.0         43405.0  \n",
       "112             4.360312      1139218.0         43288.0  \n",
       "97              4.443870      1900378.0         43133.0  \n",
       "130             4.208137      1051012.0         37754.0  \n",
       "55              4.446159      1157292.0         37661.0  \n",
       "109             4.237572       726832.0         36776.0  \n",
       "16              4.217780      3256445.0         35006.0  \n",
       "52              3.487211       431178.0         33115.0  \n",
       "2               4.303666      2020417.0         32562.0  \n",
       "47              4.130750      2040673.0         30688.0  \n",
       "124             4.346080       575854.0         28670.0  \n",
       "22              4.582080      1112229.0         27662.0  \n",
       "92              4.408765       679158.0         27097.0  "
      ]
     },
     "execution_count": 132,
     "metadata": {},
     "output_type": "execute_result"
    }
   ],
   "source": [
    "grouped_df.sort_values(by=\"total_business\",ascending=False).head(30)"
   ]
  },
  {
   "cell_type": "code",
   "execution_count": 134,
   "metadata": {},
   "outputs": [
    {
     "data": {
      "text/plain": [
       "<Axes: xlabel='total_business', ylabel='second_category'>"
      ]
     },
     "execution_count": 134,
     "metadata": {},
     "output_type": "execute_result"
    },
    {
     "data": {
      "image/png": "[encoded data removed]",
      "text/plain": [
       "<Figure size 640x480 with 1 Axes>"
      ]
     },
     "metadata": {},
     "output_type": "display_data"
    }
   ],
   "source": [
    "sns.barplot(data=grouped_df.sort_values(by=\"total_business\", ascending=False).head(20), x=\"total_business\", y=\"second_category\")"
   ]
  },
  {
   "cell_type": "markdown",
   "metadata": {},
   "source": [
    "A nivel de 2da categoria, los restaurantes son los que tienen mayor cantidad de negocios. Otro negocio que nos puede interesar: Beverages."
   ]
  },
  {
   "cell_type": "code",
   "execution_count": 135,
   "metadata": {},
   "outputs": [],
   "source": [
    "# Pendiente mayor revision de categorias."
   ]
  },
  {
   "cell_type": "code",
   "execution_count": null,
   "metadata": {},
   "outputs": [],
   "source": [
    "# Reviews spark cache\n",
    "cached_rdds = spark.sparkContext._jsc.getPersistentRDDs()\n",
    "for rdd_id, rdd in cached_rdds.items():\n",
    "    print(f\"RDD ID: {rdd_id}, Name: {rdd.name()}\")"
   ]
  },
  {
   "cell_type": "code",
   "execution_count": null,
   "metadata": {},
   "outputs": [],
   "source": [
    "# Clear sparks cache.\n",
    "spark.catalog.clearCache()"
   ]
  },
  {
   "cell_type": "markdown",
   "metadata": {},
   "source": [
    "# Dataset reviews"
   ]
  },
  {
   "cell_type": "markdown",
   "metadata": {},
   "source": [
    "Hay que tener en cuenta que la estructura de archivos de path esta segmentada por Estados."
   ]
  },
  {
   "cell_type": "code",
   "execution_count": 141,
   "metadata": {},
   "outputs": [],
   "source": [
    "reviews_path = r\"F:\\DataScience\\PF - DataNova\\datasets\\Google Maps\\reviews-estados\""
   ]
  },
  {
   "cell_type": "code",
   "execution_count": 143,
   "metadata": {},
   "outputs": [
    {
     "data": {
      "text/plain": [
       "51"
      ]
     },
     "execution_count": 143,
     "metadata": {},
     "output_type": "execute_result"
    }
   ],
   "source": [
    "folders = [name for name in os.listdir(reviews_path) if os.path.isdir(os.path.join(reviews_path, name))]\n",
    "len(folders)"
   ]
  },
  {
   "cell_type": "markdown",
   "metadata": {},
   "source": [
    "## Estrategia\n",
    "\n",
    "Debido a que son 51 estados y cerca de 24 gigas en total, información que no podemos cargar en memoria, vamos a crear un plan de analisis por estado y luego resumir data con técnicas de agregación por estado"
   ]
  },
  {
   "cell_type": "markdown",
   "metadata": {},
   "source": [
    "#### Analisis de esquema\n",
    "Vamos a cargar data de 1 de los estados con el fin de validar su esquema, estructura, y determinar columnas relevantes y prescindibles"
   ]
  },
  {
   "cell_type": "code",
   "execution_count": 148,
   "metadata": {},
   "outputs": [
    {
     "data": {
      "text/plain": [
       "'F:\\\\DataScience\\\\PF - DataNova\\\\datasets\\\\Google Maps\\\\reviews-estados\\\\review-Colorado'"
      ]
     },
     "execution_count": 148,
     "metadata": {},
     "output_type": "execute_result"
    }
   ],
   "source": [
    "# Definimos un file para leer.\n",
    "files_path = reviews_path+ \"\\\\\" + folders[5] \n",
    "files_path"
   ]
  },
  {
   "cell_type": "code",
   "execution_count": 165,
   "metadata": {},
   "outputs": [],
   "source": [
    "# Rutina para leer archivos dentro de la carpeta.\n",
    "\n",
    "def batch_file_read(folder_path):\n",
    "    \"Lee varios archivos JSON dentro de una carpeta especifica, output: Dataframe Spark.\"\n",
    "    count_record = 0\n",
    "\n",
    "    for file_name in os.listdir(folder_path):\n",
    "        \n",
    "        # recuperamos el nombre de cada archivo.\n",
    "        file_path = os.path.join(folder_path, file_name)\n",
    "    \n",
    "        # primera lectura: se toma el esquema y se fuerza en los demas archivos.\n",
    "        if count_record == 0:\n",
    "            df = spark.read.json(file_path)\n",
    "            schema = df.schema      \n",
    "            union_df = df.select(\"*\")\n",
    "        # lecturas posteriores: se fuerza esquema, se anexa dataframe.\n",
    "        else:\n",
    "            df = spark.read.schema(schema).json(file_path)\n",
    "            union_df = union_df.union(df)\n",
    "\n",
    "        count_record+=1\n",
    "        print(\"Iteración: \", count_record)\n",
    "    \n",
    "    return union_df"
   ]
  },
  {
   "cell_type": "code",
   "execution_count": 152,
   "metadata": {},
   "outputs": [
    {
     "name": "stdout",
     "output_type": "stream",
     "text": [
      "Iteración:  1\n",
      "Iteración:  2\n",
      "Iteración:  3\n",
      "Iteración:  4\n",
      "Iteración:  5\n",
      "Iteración:  6\n",
      "Iteración:  7\n",
      "Iteración:  8\n",
      "Iteración:  9\n",
      "Iteración:  10\n",
      "Iteración:  11\n",
      "Iteración:  12\n",
      "Iteración:  13\n",
      "Iteración:  14\n",
      "Iteración:  15\n",
      "Iteración:  16\n"
     ]
    }
   ],
   "source": [
    "reviews_df = batch_file_read(files_path)"
   ]
  },
  {
   "cell_type": "code",
   "execution_count": 153,
   "metadata": {},
   "outputs": [
    {
     "data": {
      "text/plain": [
       "DataFrame[gmap_id: string, name: string, pics: array<struct<url:array<string>>>, rating: bigint, resp: struct<text:string,time:bigint>, text: string, time: bigint, user_id: string]"
      ]
     },
     "execution_count": 153,
     "metadata": {},
     "output_type": "execute_result"
    }
   ],
   "source": [
    "# cargamos en memoria\n",
    "reviews_df.cache()"
   ]
  },
  {
   "cell_type": "code",
   "execution_count": null,
   "metadata": {},
   "outputs": [
    {
     "name": "stdout",
     "output_type": "stream",
     "text": [
      "root\n",
      " |-- gmap_id: string (nullable = true)\n",
      " |-- name: string (nullable = true)\n",
      " |-- pics: array (nullable = true)\n",
      " |    |-- element: struct (containsNull = true)\n",
      " |    |    |-- url: array (nullable = true)\n",
      " |    |    |    |-- element: string (containsNull = true)\n",
      " |-- rating: long (nullable = true)\n",
      " |-- resp: struct (nullable = true)\n",
      " |    |-- text: string (nullable = true)\n",
      " |    |-- time: long (nullable = true)\n",
      " |-- text: string (nullable = true)\n",
      " |-- time: long (nullable = true)\n",
      " |-- user_id: string (nullable = true)\n",
      "\n"
     ]
    }
   ],
   "source": [
    "reviews_df.printSchema()\n",
    "# Esquema."
   ]
  },
  {
   "cell_type": "code",
   "execution_count": null,
   "metadata": {},
   "outputs": [
    {
     "data": {
      "text/plain": [
       "2400000"
      ]
     },
     "execution_count": 155,
     "metadata": {},
     "output_type": "execute_result"
    }
   ],
   "source": [
    "reviews_df.count()\n",
    "#Tenemos 2,4 millones de entradas."
   ]
  },
  {
   "cell_type": "code",
   "execution_count": 156,
   "metadata": {},
   "outputs": [
    {
     "name": "stdout",
     "output_type": "stream",
     "text": [
      "+--------------------+--------------------+----+------+--------------------+--------------------+-------------+--------------------+\n",
      "|             gmap_id|                name|pics|rating|                resp|                text|         time|             user_id|\n",
      "+--------------------+--------------------+----+------+--------------------+--------------------+-------------+--------------------+\n",
      "|0x876c75945568003...|         mgshouldice|NULL|     3|                NULL|Don't mix this up...|1484353876202|10899045731676311...|\n",
      "|0x876c75945568003...|   Sabrina Holsinger|NULL|     4|                NULL|Teachers are grea...|1484195642287|10740396647478613...|\n",
      "|0x876c75945568003...|           Tad Amore|NULL|     5|                NULL|Great school can'...|1459554530689|11281981894504357...|\n",
      "|0x876c75945568003...|Victoria Elizabet...|NULL|     1|                NULL|                NULL|1483746469128|10259175743371735...|\n",
      "|0x876c75945568003...|   Luis Garcia-Lopez|NULL|     5|                NULL|                NULL|1542782383361|10400894186445593...|\n",
      "|0x876c87f681db8d4...|        Lyda Preston|NULL|     5|{Thank you so muc...|Very friendly atm...|1627648451803|10982658427519137...|\n",
      "|0x876c87f681db8d4...|     Chong-Deok Choe|NULL|     5|{Thank you, Mr. C...|Super courteous a...|1605626911038|11364574968889931...|\n",
      "|0x876c87f681db8d4...|         Eric Eichel|NULL|     5|{Wow Eric! Hearin...|Dr. Kim and the t...|1583596411489|11450053324101255...|\n",
      "|0x876c87f681db8d4...|     Debbie Castagna|NULL|     5|{Thanks for the f...|Dr Kim is the bes...|1560913666996|11813236134846245...|\n",
      "|0x876c87f681db8d4...|     Harvey Bolshoun|NULL|     5|{We're lucky to h...|I've been a patie...|1584141376219|10684017154610166...|\n",
      "|0x876c87f681db8d4...|         mgshouldice|NULL|     5|{Thank you for be...|I've been a patie...|1591937054740|10899045731676311...|\n",
      "|0x876c87f681db8d4...|      Shannah Eichel|NULL|     5|{Thank you for th...|                NULL|1590616553639|11536207122881659...|\n",
      "|0x876c87f681db8d4...|         Tom Pfeifer|NULL|     5|{Thanks Tom!, 155...|                NULL|1562819795661|10111321607891627...|\n",
      "|0x876c87f681db8d4...|      David Bolshoun|NULL|     5|{Thanks, David!, ...|                NULL|1566699647491|11325422972246978...|\n",
      "|0x876b81ca88f8746...|       Brandi Barela|NULL|     4|{Thank you for th...|I've been at Del ...|1629216800001|11369685942903439...|\n",
      "|0x876b81ca88f8746...|      MiLynda Montez|NULL|     5|{Hi MiLynda,\\n\\nT...|Toured with a gen...|1600879831188|10373300928954000...|\n",
      "|0x876b81ca88f8746...|      BabyCakes Tate|NULL|     5|{Hello and thank ...|They are awesome ...|1532650560967|10417912953442020...|\n",
      "|0x876b81ca88f8746...|       Serinity Rose|NULL|     5|{Hello and thank ...|Clean environment...|1532650605298|11209890557799397...|\n",
      "|0x876b81ca88f8746...|   Patrick Stumpf II|NULL|     4|{Hello Patrick,\\n...|Beautiful Little ...|1558622836438|11782150464159480...|\n",
      "|0x876b81ca88f8746...|         Blanca Mata|NULL|     5|{Hello and thank ...|                NULL|1520813586820|10445424238042022...|\n",
      "+--------------------+--------------------+----+------+--------------------+--------------------+-------------+--------------------+\n",
      "only showing top 20 rows\n",
      "\n"
     ]
    }
   ],
   "source": [
    "reviews_df.show()"
   ]
  },
  {
   "cell_type": "markdown",
   "metadata": {},
   "source": [
    "### 1st Look\n",
    "- Columnas a remover para nuestro análisis EDA: \n",
    "    - name (nombre del usuario)\n",
    "    - user_id (id del usuario)\n",
    "    - pics (fotos)\n",
    "    - resp (respuestas al review): se puede usar luego para sentiment analysis\n",
    "    - text (texto del comentario del usuario): se puede usar luego para sentiment analysis"
   ]
  },
  {
   "cell_type": "code",
   "execution_count": 157,
   "metadata": {},
   "outputs": [],
   "source": [
    "reviews_df_modified = reviews_df.drop(*[\"name\", \"pics\", \"user_id\", \"resp\", \"text\"])"
   ]
  },
  {
   "cell_type": "code",
   "execution_count": 158,
   "metadata": {},
   "outputs": [
    {
     "name": "stdout",
     "output_type": "stream",
     "text": [
      "+--------------------+------+-------------+\n",
      "|             gmap_id|rating|         time|\n",
      "+--------------------+------+-------------+\n",
      "|0x876c75945568003...|     3|1484353876202|\n",
      "|0x876c75945568003...|     4|1484195642287|\n",
      "|0x876c75945568003...|     5|1459554530689|\n",
      "|0x876c75945568003...|     1|1483746469128|\n",
      "|0x876c75945568003...|     5|1542782383361|\n",
      "|0x876c87f681db8d4...|     5|1627648451803|\n",
      "|0x876c87f681db8d4...|     5|1605626911038|\n",
      "|0x876c87f681db8d4...|     5|1583596411489|\n",
      "|0x876c87f681db8d4...|     5|1560913666996|\n",
      "|0x876c87f681db8d4...|     5|1584141376219|\n",
      "|0x876c87f681db8d4...|     5|1591937054740|\n",
      "|0x876c87f681db8d4...|     5|1590616553639|\n",
      "|0x876c87f681db8d4...|     5|1562819795661|\n",
      "|0x876c87f681db8d4...|     5|1566699647491|\n",
      "|0x876b81ca88f8746...|     4|1629216800001|\n",
      "|0x876b81ca88f8746...|     5|1600879831188|\n",
      "|0x876b81ca88f8746...|     5|1532650560967|\n",
      "|0x876b81ca88f8746...|     5|1532650605298|\n",
      "|0x876b81ca88f8746...|     4|1558622836438|\n",
      "|0x876b81ca88f8746...|     5|1520813586820|\n",
      "+--------------------+------+-------------+\n",
      "only showing top 20 rows\n",
      "\n"
     ]
    }
   ],
   "source": [
    "reviews_df_modified.show()"
   ]
  },
  {
   "cell_type": "code",
   "execution_count": null,
   "metadata": {},
   "outputs": [
    {
     "name": "stdout",
     "output_type": "stream",
     "text": [
      "+-------+------+----+\n",
      "|gmap_id|rating|time|\n",
      "+-------+------+----+\n",
      "|      0|     0|   0|\n",
      "+-------+------+----+\n",
      "\n"
     ]
    }
   ],
   "source": [
    "reviews_df_modified.select([F.count(when(isnan(c), c)).alias(c) for c in reviews_df_modified.columns]).show()\n",
    "# Sin valores nulos"
   ]
  },
  {
   "cell_type": "code",
   "execution_count": 168,
   "metadata": {},
   "outputs": [],
   "source": [
    "# Conversion de la columna time a un formato de fecha\n",
    "reviews_df_modified = reviews_df_modified.withColumn(\"formatted_time\", from_unixtime(col(\"time\") / 1000))\n",
    "reviews_df_modified = reviews_df_modified.withColumn(\"year\", year(col(\"formatted_time\")))"
   ]
  },
  {
   "cell_type": "code",
   "execution_count": null,
   "metadata": {},
   "outputs": [
    {
     "name": "stdout",
     "output_type": "stream",
     "text": [
      "+--------------------+------+-------------+-------------------+----+\n",
      "|             gmap_id|rating|         time|     formatted_time|year|\n",
      "+--------------------+------+-------------+-------------------+----+\n",
      "|0x876c75945568003...|     3|1484353876202|2017-01-13 19:31:16|2017|\n",
      "|0x876c75945568003...|     4|1484195642287|2017-01-11 23:34:02|2017|\n",
      "|0x876c75945568003...|     5|1459554530689|2016-04-01 18:48:50|2016|\n",
      "|0x876c75945568003...|     1|1483746469128|2017-01-06 18:47:49|2017|\n",
      "|0x876c75945568003...|     5|1542782383361|2018-11-21 01:39:43|2018|\n",
      "|0x876c87f681db8d4...|     5|1627648451803|2021-07-30 07:34:11|2021|\n",
      "|0x876c87f681db8d4...|     5|1605626911038|2020-11-17 10:28:31|2020|\n",
      "|0x876c87f681db8d4...|     5|1583596411489|2020-03-07 10:53:31|2020|\n",
      "|0x876c87f681db8d4...|     5|1560913666996|2019-06-18 22:07:46|2019|\n",
      "|0x876c87f681db8d4...|     5|1584141376219|2020-03-13 18:16:16|2020|\n",
      "|0x876c87f681db8d4...|     5|1591937054740|2020-06-11 23:44:14|2020|\n",
      "|0x876c87f681db8d4...|     5|1590616553639|2020-05-27 16:55:53|2020|\n",
      "|0x876c87f681db8d4...|     5|1562819795661|2019-07-10 23:36:35|2019|\n",
      "|0x876c87f681db8d4...|     5|1566699647491|2019-08-24 21:20:47|2019|\n",
      "|0x876b81ca88f8746...|     4|1629216800001|2021-08-17 11:13:20|2021|\n",
      "|0x876b81ca88f8746...|     5|1600879831188|2020-09-23 11:50:31|2020|\n",
      "|0x876b81ca88f8746...|     5|1532650560967|2018-07-26 19:16:00|2018|\n",
      "|0x876b81ca88f8746...|     5|1532650605298|2018-07-26 19:16:45|2018|\n",
      "|0x876b81ca88f8746...|     4|1558622836438|2019-05-23 09:47:16|2019|\n",
      "|0x876b81ca88f8746...|     5|1520813586820|2018-03-11 19:13:06|2018|\n",
      "+--------------------+------+-------------+-------------------+----+\n",
      "only showing top 20 rows\n",
      "\n"
     ]
    }
   ],
   "source": [
    "# Visualizacion,\n",
    "reviews_df_modified.show()"
   ]
  },
  {
   "cell_type": "code",
   "execution_count": 174,
   "metadata": {},
   "outputs": [],
   "source": [
    "# Ahora podemos agrupar por año para visualizar la evolución en este estado.\n",
    "reviews_df_agg = reviews_df_modified.groupBy(\"year\").agg(\n",
    "    avg(\"rating\").alias(\"avg_rating\"),\n",
    "    F.count(\"gmap_id\").alias(\"total_reviews\")\n",
    ")"
   ]
  },
  {
   "cell_type": "code",
   "execution_count": 175,
   "metadata": {},
   "outputs": [
    {
     "name": "stdout",
     "output_type": "stream",
     "text": [
      "+----+------------------+-------------+\n",
      "|year|        avg_rating|total_reviews|\n",
      "+----+------------------+-------------+\n",
      "|2018| 4.259524745399321|       559700|\n",
      "|2015|3.9261709907713738|        22972|\n",
      "|2013| 3.964925100474973|         5474|\n",
      "|2014|3.9490288404944085|         8495|\n",
      "|2019| 4.307230048850508|       691088|\n",
      "|2020| 4.365693578741993|       463336|\n",
      "|2012| 4.102533460803059|         4184|\n",
      "|2009|3.5304347826086957|          115|\n",
      "|2016|4.0810251481031035|       101956|\n",
      "|2010|3.7639553429027113|          627|\n",
      "|2011|3.9607379375591294|         2114|\n",
      "|2008|3.8974358974358974|           39|\n",
      "|2017| 4.186101191695637|       317279|\n",
      "|2021|  4.40108621433192|       222608|\n",
      "|2007|3.5454545454545454|           11|\n",
      "|1990|               4.0|            2|\n",
      "+----+------------------+-------------+\n",
      "\n"
     ]
    }
   ],
   "source": [
    "reviews_df_agg.show()"
   ]
  },
  {
   "cell_type": "code",
   "execution_count": 176,
   "metadata": {},
   "outputs": [],
   "source": [
    "#Pasamos a pandas para poder graficar con seaborn.\n",
    "reviews_pd_df = reviews_df_agg.toPandas()"
   ]
  },
  {
   "cell_type": "code",
   "execution_count": 182,
   "metadata": {},
   "outputs": [],
   "source": [
    "reviews_pd_df = reviews_pd_df.sort_values(by=\"year\", ascending=False).reset_index(drop=True)"
   ]
  },
  {
   "cell_type": "code",
   "execution_count": 184,
   "metadata": {},
   "outputs": [
    {
     "data": {
      "text/plain": [
       "<Axes: xlabel='year', ylabel='total_reviews'>"
      ]
     },
     "execution_count": 184,
     "metadata": {},
     "output_type": "execute_result"
    },
    {
     "data": {
      "image/png": "[encoded data removed]",
      "text/plain": [
       "<Figure size 640x480 with 1 Axes>"
      ]
     },
     "metadata": {},
     "output_type": "display_data"
    }
   ],
   "source": [
    "sns.lineplot(data=reviews_pd_df.head(10), x=\"year\", y=\"total_reviews\")"
   ]
  },
  {
   "cell_type": "code",
   "execution_count": 185,
   "metadata": {},
   "outputs": [
    {
     "data": {
      "text/plain": [
       "<Axes: xlabel='year', ylabel='avg_rating'>"
      ]
     },
     "execution_count": 185,
     "metadata": {},
     "output_type": "execute_result"
    },
    {
     "data": {
      "image/png": "[encoded data removed]",
      "text/plain": [
       "<Figure size 640x480 with 1 Axes>"
      ]
     },
     "metadata": {},
     "output_type": "display_data"
    }
   ],
   "source": [
    "sns.lineplot(data=reviews_pd_df.head(10), x=\"year\", y=\"avg_rating\")"
   ]
  },
  {
   "cell_type": "markdown",
   "metadata": {},
   "source": [
    "## Cruce con restaurantes"
   ]
  },
  {
   "cell_type": "markdown",
   "metadata": {},
   "source": [
    "# Finalización tarea de Spark"
   ]
  },
  {
   "cell_type": "code",
   "execution_count": 53,
   "metadata": {},
   "outputs": [],
   "source": [
    "spark.stop()"
   ]
  }
 ],
 "metadata": {
  "kernelspec": {
   "display_name": "datanova_env",
   "language": "python",
   "name": "python3"
  },
  "language_info": {
   "codemirror_mode": {
    "name": "ipython",
    "version": 3
   },
   "file_extension": ".py",
   "mimetype": "text/x-python",
   "name": "python",
   "nbconvert_exporter": "python",
   "pygments_lexer": "ipython3",
   "version": "3.12.6"
  }
 },
 "nbformat": 4,
 "nbformat_minor": 2
}
