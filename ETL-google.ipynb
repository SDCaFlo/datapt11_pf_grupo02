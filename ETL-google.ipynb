{
 "cells": [
  {
   "cell_type": "markdown",
   "metadata": {},
   "source": [
    "# Revisión de datos para ETL y E/R\n",
    "La finalidad de este notebook es hacer una revisión de los datos actuales para definir un esquema E/R y pipeline ETL.\n",
    "Vamos a trabajar con la libreria SPARK."
   ]
  },
  {
   "cell_type": "code",
   "execution_count": 1,
   "metadata": {},
   "outputs": [],
   "source": [
    "import findspark\n",
    "import pickle\n",
    "import pandas as pd\n",
    "import os\n",
    "os.environ[\"SPARK_HOME\"] = r\"F:\\DataScience\\spark\\spark-3.5.3-bin-hadoop3\\spark-3.5.3-bin-hadoop3\"\n",
    "\n",
    "findspark.init()\n",
    "\n",
    "\n",
    "from pyspark.sql import SparkSession\n",
    "spark = SparkSession.builder.master(\"local[4]\").config(\"spark.executor.memory\", \"8g\").appName(\"PySpark\").getOrCreate()\n",
    "#para cerrar la sesión debemos usar spark.stop()"
   ]
  },
  {
   "cell_type": "code",
   "execution_count": 37,
   "metadata": {},
   "outputs": [],
   "source": [
    "from pyspark.sql.functions import explode"
   ]
  },
  {
   "cell_type": "code",
   "execution_count": 2,
   "metadata": {},
   "outputs": [
    {
     "name": "stdout",
     "output_type": "stream",
     "text": [
      "3.5.3\n"
     ]
    }
   ],
   "source": [
    "print(spark.version)"
   ]
  },
  {
   "cell_type": "markdown",
   "metadata": {},
   "source": [
    "# Datos Google\n",
    "Aqui tenemos basicamente dos datasets.\n",
    "\n",
    "1. metadata-sitios: Metadata de todos los sites. Incluye cantidad de comentarios, descripcion, locación, categoria, rating promedio, etc.\n",
    "2. review-estados: Cada uno de los reviews organizados por estado. Información relevante: usuario, texto, rating, gmap_id (id del negocio) "
   ]
  },
  {
   "cell_type": "markdown",
   "metadata": {},
   "source": [
    "## Metadata Sitios"
   ]
  },
  {
   "cell_type": "code",
   "execution_count": 4,
   "metadata": {},
   "outputs": [],
   "source": [
    "ruta_lectura = r\"F:\\DataScience\\PF - DataNova\\datasets\\Google Maps\\metadata-sitios\\1.json\""
   ]
  },
  {
   "cell_type": "code",
   "execution_count": null,
   "metadata": {},
   "outputs": [],
   "source": [
    "df = spark.read.json(ruta_lectura)\n",
    "# Considerar el uso de persist o cache"
   ]
  },
  {
   "cell_type": "code",
   "execution_count": null,
   "metadata": {},
   "outputs": [
    {
     "name": "stdout",
     "output_type": "stream",
     "text": [
      "root\n",
      " |-- MISC: struct (nullable = true)\n",
      " |    |-- Accessibility: array (nullable = true)\n",
      " |    |    |-- element: string (containsNull = true)\n",
      " |    |-- Activities: array (nullable = true)\n",
      " |    |    |-- element: string (containsNull = true)\n",
      " |    |-- Amenities: array (nullable = true)\n",
      " |    |    |-- element: string (containsNull = true)\n",
      " |    |-- Atmosphere: array (nullable = true)\n",
      " |    |    |-- element: string (containsNull = true)\n",
      " |    |-- Crowd: array (nullable = true)\n",
      " |    |    |-- element: string (containsNull = true)\n",
      " |    |-- Dining options: array (nullable = true)\n",
      " |    |    |-- element: string (containsNull = true)\n",
      " |    |-- From the business: array (nullable = true)\n",
      " |    |    |-- element: string (containsNull = true)\n",
      " |    |-- Getting here: array (nullable = true)\n",
      " |    |    |-- element: string (containsNull = true)\n",
      " |    |-- Health & safety: array (nullable = true)\n",
      " |    |    |-- element: string (containsNull = true)\n",
      " |    |-- Highlights: array (nullable = true)\n",
      " |    |    |-- element: string (containsNull = true)\n",
      " |    |-- Offerings: array (nullable = true)\n",
      " |    |    |-- element: string (containsNull = true)\n",
      " |    |-- Payments: array (nullable = true)\n",
      " |    |    |-- element: string (containsNull = true)\n",
      " |    |-- Planning: array (nullable = true)\n",
      " |    |    |-- element: string (containsNull = true)\n",
      " |    |-- Popular for: array (nullable = true)\n",
      " |    |    |-- element: string (containsNull = true)\n",
      " |    |-- Recycling: array (nullable = true)\n",
      " |    |    |-- element: string (containsNull = true)\n",
      " |    |-- Service options: array (nullable = true)\n",
      " |    |    |-- element: string (containsNull = true)\n",
      " |-- address: string (nullable = true)\n",
      " |-- avg_rating: double (nullable = true)\n",
      " |-- category: array (nullable = true)\n",
      " |    |-- element: string (containsNull = true)\n",
      " |-- description: string (nullable = true)\n",
      " |-- gmap_id: string (nullable = true)\n",
      " |-- hours: array (nullable = true)\n",
      " |    |-- element: array (containsNull = true)\n",
      " |    |    |-- element: string (containsNull = true)\n",
      " |-- latitude: double (nullable = true)\n",
      " |-- longitude: double (nullable = true)\n",
      " |-- name: string (nullable = true)\n",
      " |-- num_of_reviews: long (nullable = true)\n",
      " |-- price: string (nullable = true)\n",
      " |-- relative_results: array (nullable = true)\n",
      " |    |-- element: string (containsNull = true)\n",
      " |-- state: string (nullable = true)\n",
      " |-- url: string (nullable = true)\n",
      "\n"
     ]
    }
   ],
   "source": [
    "# Esquema de la tabla. total de 15 columnas\n",
    "df.printSchema()"
   ]
  },
  {
   "cell_type": "code",
   "execution_count": null,
   "metadata": {},
   "outputs": [
    {
     "name": "stdout",
     "output_type": "stream",
     "text": [
      "+--------------------+--------------------+----------+--------------------+-----------+--------------------+--------------------+------------------+-------------------+--------------------+--------------+-----+--------------------+--------------------+--------------------+\n",
      "|                MISC|             address|avg_rating|            category|description|             gmap_id|               hours|          latitude|          longitude|                name|num_of_reviews|price|    relative_results|               state|                 url|\n",
      "+--------------------+--------------------+----------+--------------------+-----------+--------------------+--------------------+------------------+-------------------+--------------------+--------------+-----+--------------------+--------------------+--------------------+\n",
      "|{[Wheelchair acce...|Porter Pharmacy, ...|       4.9|          [Pharmacy]|       NULL|0x88f16e41928ff68...|[[Friday, 8AM–6PM...|           32.3883|           -83.3571|     Porter Pharmacy|            16| NULL|[0x88f16e41929435...|   Open ⋅ Closes 6PM|https://www.googl...|\n",
      "|                NULL|City Textile, 300...|       4.5|  [Textile exporter]|       NULL|0x80c2c98c0e3c16f...|                NULL|        34.0188913|       -118.2152898|        City Textile|             6| NULL|[0x80c2c624136ea8...|            Open now|https://www.googl...|\n",
      "|{[Wheelchair acce...|San Soo Dang, 761...|       4.4| [Korean restaurant]|       NULL|0x80c2c778e3b73d3...|[[Thursday, 6:30A...|        34.0580917|       -118.2921295|        San Soo Dang|            18| NULL|[0x80c2c78249aba6...|   Open ⋅ Closes 6PM|https://www.googl...|\n",
      "|{NULL, NULL, NULL...|Nova Fabrics, 220...|       3.3|      [Fabric store]|       NULL|0x80c2c89923b27a4...|[[Thursday, 9AM–5...|        34.0236689|       -118.2329297|        Nova Fabrics|             6| NULL|[0x80c2c881147725...|   Open ⋅ Closes 5PM|https://www.googl...|\n",
      "|{NULL, NULL, NULL...|Nobel Textile Co,...|       4.3|      [Fabric store]|       NULL|0x80c2c632f933b07...|[[Thursday, 9AM–5...|        34.0366942|       -118.2494208|    Nobel Textile Co|             7| NULL|[0x80c2c62c496083...|   Open ⋅ Closes 5PM|https://www.googl...|\n",
      "|{[Wheelchair acce...|Matrix Internatio...|       3.5|      [Fabric store]|       NULL|0x80c2cf163db6bc8...|[[Thursday, 8:30A...|        34.0155047|       -118.1818394|Matrix Internatio...|             6| NULL|[0x80c2cf042a5d95...|Open ⋅ Closes 5:30PM|https://www.googl...|\n",
      "|{[Wheelchair acce...|Vons Chicken, 127...|       4.5|        [Restaurant]|       NULL|0x80dd2b4c8555edb...|[[Thursday, 11AM–...|        33.9164023|-118.01085499999999|        Vons Chicken|            18| NULL|                NULL|Open ⋅ Closes 9:30PM|https://www.googl...|\n",
      "|{[Wheelchair acce...|Polished Nail Sal...|       4.0|[Nail salon, Waxi...|       NULL|0x87ec238afdd8837...|[[Thursday, 9AM–8...|41.614197999999995|        -93.8472695|Polished Nail Sal...|            86| NULL|[0x87ec2481df68e1...|   Open ⋅ Closes 8PM|https://www.googl...|\n",
      "|{NULL, NULL, NULL...|Sweet Rewards Glu...|       4.7|[Bakery, Health f...|       NULL|0x87ec235c54d25b3...|[[Thursday, 10AM–...|         41.616079|         -93.865487|Sweet Rewards Glu...|            21| NULL|[0x87ee9748692955...|  Permanently closed|https://www.googl...|\n",
      "|                NULL|                NULL|       5.0|[Greeting card sh...|       NULL|0x87ee85ac3cb23b4...|[[Thursday, 7AM–8...|         41.846035|        -93.7561175|           PeepNotes|             1| NULL|[0x87ee915d9604ea...|   Open ⋅ Closes 8PM|https://www.googl...|\n",
      "+--------------------+--------------------+----------+--------------------+-----------+--------------------+--------------------+------------------+-------------------+--------------------+--------------+-----+--------------------+--------------------+--------------------+\n",
      "only showing top 10 rows\n",
      "\n"
     ]
    }
   ],
   "source": [
    "#preview\n",
    "df.show(10)"
   ]
  },
  {
   "cell_type": "code",
   "execution_count": null,
   "metadata": {},
   "outputs": [
    {
     "data": {
      "text/plain": [
       "275001"
      ]
     },
     "execution_count": 8,
     "metadata": {},
     "output_type": "execute_result"
    }
   ],
   "source": [
    "# Cantidad de filas del archivo.\n",
    "df.count()"
   ]
  },
  {
   "cell_type": "code",
   "execution_count": 12,
   "metadata": {},
   "outputs": [
    {
     "name": "stdout",
     "output_type": "stream",
     "text": [
      "+-------+--------------------+------------------+--------------------+--------------------+-------------------+-------------------+--------------------+------------------+-----+------------------+--------------------+\n",
      "|summary|             address|        avg_rating|         description|             gmap_id|           latitude|          longitude|                name|    num_of_reviews|price|             state|                 url|\n",
      "+-------+--------------------+------------------+--------------------+--------------------+-------------------+-------------------+--------------------+------------------+-----+------------------+--------------------+\n",
      "|  count|              264939|            275001|               13155|              275001|             275001|             275001|              274994|            275001|13450|            195523|              275001|\n",
      "|   mean|                NULL| 4.307215610124819|                NULL|                NULL|  37.49011244811361| -92.27470752969505|  111.45454545454545| 19.72275009909055| NULL|              NULL|                NULL|\n",
      "| stddev|                NULL|0.7901014711929062|                NULL|                NULL|  5.405779913612219| 16.414616526884657|  219.33138325788715|37.642092269090824| NULL|              NULL|                NULL|\n",
      "|    min|\"Bill\" Fuchs Park...|               1.0|\"Aphrodisiac\" glo...|0x0:0x1cda8cf8c09...|-1.7660589999999998|-176.64464759999998|   \"Bill\" Fuchs Park|                 1|    $|            Closed|https://www.googl...|\n",
      "|    max|🥇Villa de Vanmar...|               5.0|Zen-like boutique...|0xf5605db11f06f1b...|         70.3985443|              180.0|🥇Villa de Vanmar...|              2114| $$$$|Temporarily closed|https://www.googl...|\n",
      "+-------+--------------------+------------------+--------------------+--------------------+-------------------+-------------------+--------------------+------------------+-----+------------------+--------------------+\n",
      "\n"
     ]
    }
   ],
   "source": [
    "df.describe().show()"
   ]
  },
  {
   "cell_type": "markdown",
   "metadata": {},
   "source": [
    "### 1st Look\n",
    "1. Posibles columnas a remover: \n",
    "    - description: No proporciona data relevante. Solo 13155 de 275001 sites tienen un descripcion, es decir, menos del 5%.\n",
    "    - state: No brinda información relevante para nuestro análisis. Solo información del estado (abierto o cerrado) del momento en el cual se extrajo la data.\n",
    "    - url: Dirección url del sitio en google maps.\n",
    "    - price: Demasiados valores nulos.\n",
    "    - hours: Horarios de atención del negocio. (Evaluar remoción, a menos que sea necesario para el análisis.)\n",
    "\n",
    "2. No poseemos información de la ciudad o el estado, podemos usar una libreria como 'geopy' o 'geocoder' para obtener esta data a partir de latitude y longitud. Opcional: (Extraer de columna address)\n",
    "3. Columnas clave: gmap_id, avg_rating, category, \n",
    "4. MISC: Tiene un esquema definido. Importante validar que data puede ser de utilidad dentro de este esquema.\n",
    "5. CATEGORY: Realizar un análisis de las categorías existentes. (i,e: Nube de palabras)"
   ]
  },
  {
   "cell_type": "markdown",
   "metadata": {},
   "source": [
    "### MISC"
   ]
  },
  {
   "cell_type": "code",
   "execution_count": 33,
   "metadata": {},
   "outputs": [
    {
     "name": "stdout",
     "output_type": "stream",
     "text": [
      "+--------------------+----------+--------------------+----------+------------------+---------------+--------------------+------------+--------------------+----------------+--------------------+--------------------+--------------------+--------------------+---------+--------------------+\n",
      "|       Accessibility|Activities|           Amenities|Atmosphere|             Crowd| Dining options|   From the business|Getting here|     Health & safety|      Highlights|           Offerings|            Payments|            Planning|         Popular for|Recycling|     Service options|\n",
      "+--------------------+----------+--------------------+----------+------------------+---------------+--------------------+------------+--------------------+----------------+--------------------+--------------------+--------------------+--------------------+---------+--------------------+\n",
      "|[Wheelchair acces...|      NULL|                NULL|      NULL|              NULL|           NULL|                NULL|        NULL|[Mask required, S...|            NULL|                NULL|                NULL|       [Quick visit]|                NULL|     NULL|[In-store shoppin...|\n",
      "|                NULL|      NULL|                NULL|      NULL|              NULL|           NULL|                NULL|        NULL|                NULL|            NULL|                NULL|                NULL|                NULL|                NULL|     NULL|                NULL|\n",
      "|[Wheelchair acces...|      NULL|     [Good for kids]|  [Casual]|              NULL|           NULL|                NULL|        NULL|                NULL|            NULL|      [Comfort food]|                NULL|                NULL|                NULL|     NULL|[Takeout, Dine-in...|\n",
      "|                NULL|      NULL|                NULL|      NULL|              NULL|           NULL|                NULL|        NULL|                NULL|            NULL|                NULL|[Checks, Debit ca...|                NULL|                NULL|     NULL| [In-store shopping]|\n",
      "|                NULL|      NULL|                NULL|      NULL|              NULL|           NULL|                NULL|        NULL|                NULL|            NULL|                NULL|                NULL|                NULL|                NULL|     NULL|   [In-store pickup]|\n",
      "|[Wheelchair acces...|      NULL|                NULL|      NULL|              NULL|           NULL|                NULL|        NULL|                NULL|            NULL|                NULL|                NULL|                NULL|                NULL|     NULL|                NULL|\n",
      "|[Wheelchair acces...|      NULL|     [Good for kids]|  [Casual]|[College students]|[Lunch, Dinner]|                NULL|        NULL|[Mask required, S...|            NULL|[Comfort food, Qu...|                NULL|                NULL|[Lunch, Dinner, S...|     NULL|[Outdoor seating,...|\n",
      "|[Wheelchair acces...|      NULL|[Gender-neutral r...|      NULL|              NULL|           NULL|[Identifies as wo...|        NULL|                NULL|[LGBTQ friendly]|                NULL|[Debit cards, Cre...|                NULL|                NULL|     NULL|                NULL|\n",
      "|                NULL|      NULL|                NULL|      NULL|              NULL|           NULL|                NULL|        NULL|                NULL|            NULL|                NULL|                NULL|                NULL|                NULL|     NULL|          [Delivery]|\n",
      "|                NULL|      NULL|                NULL|      NULL|              NULL|           NULL|                NULL|        NULL|                NULL|            NULL|                NULL|                NULL|                NULL|                NULL|     NULL|                NULL|\n",
      "|[Wheelchair acces...|      NULL|                NULL|      NULL|              NULL|           NULL|                NULL|        NULL|                NULL|            NULL|                NULL|                NULL|[Appointments rec...|                NULL|     NULL|                NULL|\n",
      "|[Wheelchair acces...|      NULL|                NULL|      NULL|              NULL|           NULL|                NULL|        NULL|                NULL|            NULL|                NULL|                NULL|[Appointments rec...|                NULL|     NULL|                NULL|\n",
      "|[Wheelchair acces...|      NULL|                NULL|      NULL|              NULL|           NULL|                NULL|        NULL|[Appointment requ...|            NULL|                NULL|                NULL|[Appointments rec...|                NULL|     NULL|                NULL|\n",
      "|[Wheelchair acces...|      NULL|                NULL|      NULL|              NULL|           NULL|                NULL|        NULL|                NULL|            NULL|                NULL|                NULL|                NULL|                NULL|     NULL|                NULL|\n",
      "|[Wheelchair acces...|      NULL|                NULL|      NULL|              NULL|           NULL|                NULL|        NULL|                NULL|            NULL|                NULL|                NULL|                NULL|                NULL|     NULL|                NULL|\n",
      "|                NULL|      NULL|                NULL|      NULL|              NULL|           NULL|                NULL|        NULL|                NULL|            NULL|                NULL|                NULL|                NULL|                NULL|     NULL|                NULL|\n",
      "|[Wheelchair acces...|      NULL|                NULL|      NULL|              NULL|           NULL|                NULL|        NULL|                NULL|            NULL| [Service guarantee]|[Checks, Debit ca...|       [Quick visit]|                NULL|     NULL|[Curbside pickup,...|\n",
      "|                NULL|      NULL|                NULL|      NULL|              NULL|           NULL|                NULL|        NULL|                NULL|            NULL|                NULL|                NULL|                NULL|                NULL|     NULL|                NULL|\n",
      "|[Wheelchair acces...|      NULL|                NULL|      NULL|              NULL|           NULL|                NULL|        NULL|                NULL|            NULL|                NULL|                NULL|                NULL|                NULL|     NULL|                NULL|\n",
      "|[Wheelchair acces...|      NULL|                NULL|      NULL|              NULL|           NULL|                NULL|        NULL|                NULL|            NULL|                NULL|                NULL|                NULL|                NULL|     NULL|                NULL|\n",
      "+--------------------+----------+--------------------+----------+------------------+---------------+--------------------+------------+--------------------+----------------+--------------------+--------------------+--------------------+--------------------+---------+--------------------+\n",
      "only showing top 20 rows\n",
      "\n"
     ]
    }
   ],
   "source": [
    "df.select(\"MISC.*\").show()"
   ]
  },
  {
   "cell_type": "code",
   "execution_count": 44,
   "metadata": {},
   "outputs": [],
   "source": [
    "pass"
   ]
  },
  {
   "cell_type": "markdown",
   "metadata": {},
   "source": [
    "### CATEGORY\n",
    "Se trata de una columna de tipo ARRAY"
   ]
  },
  {
   "cell_type": "code",
   "execution_count": null,
   "metadata": {},
   "outputs": [
    {
     "name": "stdout",
     "output_type": "stream",
     "text": [
      "+-----------------------------------------------------------------------+\n",
      "|category                                                               |\n",
      "+-----------------------------------------------------------------------+\n",
      "|[Pharmacy]                                                             |\n",
      "|[Textile exporter]                                                     |\n",
      "|[Korean restaurant]                                                    |\n",
      "|[Fabric store]                                                         |\n",
      "|[Fabric store]                                                         |\n",
      "|[Fabric store]                                                         |\n",
      "|[Restaurant]                                                           |\n",
      "|[Nail salon, Waxing hair removal service]                              |\n",
      "|[Bakery, Health food restaurant]                                       |\n",
      "|[Greeting card shop, Service establishment]                            |\n",
      "|[Dentist, Cosmetic dentist, Dental clinic]                             |\n",
      "|[Auto glass shop, Window tinting service]                              |\n",
      "|[Beauty salon]                                                         |\n",
      "|[Ski rental service, Snowboard rental service]                         |\n",
      "|[Corporate office]                                                     |\n",
      "|[Massage spa, Chiropractor, Massage, Massage therapist, Medical clinic]|\n",
      "|[Paint store, Paint manufacturer]                                      |\n",
      "|[Massage therapist]                                                    |\n",
      "|[Corporate office]                                                     |\n",
      "|[Massage therapist, Massage spa, Spa]                                  |\n",
      "+-----------------------------------------------------------------------+\n",
      "only showing top 20 rows\n",
      "\n"
     ]
    }
   ],
   "source": [
    "# Visualización\n",
    "category_df = df.select(\"category\")\n",
    "category_df.show(truncate=False)"
   ]
  },
  {
   "cell_type": "code",
   "execution_count": 42,
   "metadata": {},
   "outputs": [
    {
     "data": {
      "text/plain": [
       "530472"
      ]
     },
     "execution_count": 42,
     "metadata": {},
     "output_type": "execute_result"
    }
   ],
   "source": [
    "# Explode\n",
    "category_df_exploded = category_df.select(explode(\"category\").alias(\"element\"))\n",
    "category_df_exploded.count()"
   ]
  },
  {
   "cell_type": "code",
   "execution_count": 43,
   "metadata": {},
   "outputs": [
    {
     "name": "stdout",
     "output_type": "stream",
     "text": [
      "+---------------------------+\n",
      "|element                    |\n",
      "+---------------------------+\n",
      "|Pharmacy                   |\n",
      "|Textile exporter           |\n",
      "|Korean restaurant          |\n",
      "|Fabric store               |\n",
      "|Fabric store               |\n",
      "|Fabric store               |\n",
      "|Restaurant                 |\n",
      "|Nail salon                 |\n",
      "|Waxing hair removal service|\n",
      "|Bakery                     |\n",
      "|Health food restaurant     |\n",
      "|Greeting card shop         |\n",
      "|Service establishment      |\n",
      "|Dentist                    |\n",
      "|Cosmetic dentist           |\n",
      "|Dental clinic              |\n",
      "|Auto glass shop            |\n",
      "|Window tinting service     |\n",
      "|Beauty salon               |\n",
      "|Ski rental service         |\n",
      "+---------------------------+\n",
      "only showing top 20 rows\n",
      "\n"
     ]
    }
   ],
   "source": [
    "category_df_exploded.show(truncate=False)"
   ]
  },
  {
   "cell_type": "code",
   "execution_count": 47,
   "metadata": {},
   "outputs": [],
   "source": [
    "category_df_exploded_count = category_df_exploded.groupBy(\"element\").count()"
   ]
  },
  {
   "cell_type": "code",
   "execution_count": null,
   "metadata": {},
   "outputs": [
    {
     "data": {
      "text/plain": [
       "3769"
      ]
     },
     "execution_count": 48,
     "metadata": {},
     "output_type": "execute_result"
    }
   ],
   "source": [
    "# 3769 valores distintos.\n",
    "category_df_exploded_count.count()"
   ]
  },
  {
   "cell_type": "code",
   "execution_count": 51,
   "metadata": {},
   "outputs": [
    {
     "name": "stdout",
     "output_type": "stream",
     "text": [
      "+-----------------------------------------+-----+\n",
      "|element                                  |count|\n",
      "+-----------------------------------------+-----+\n",
      "|Pueblan restaurant                       |1    |\n",
      "|Smart Car dealer                         |1    |\n",
      "|Pottery                                  |1    |\n",
      "|Festival hall                            |1    |\n",
      "|Video                                    |1    |\n",
      "|Rehearsal studio                         |1    |\n",
      "|TB clinic                                |1    |\n",
      "|Fire fighters academy                    |1    |\n",
      "|Confectionery wholesaler                 |1    |\n",
      "|Chemical exporter                        |1    |\n",
      "|CNG fittment center                      |1    |\n",
      "|Piano maker                              |1    |\n",
      "|Motocross                                |1    |\n",
      "|Chamber of handicrafts                   |1    |\n",
      "|Orchid farm                              |1    |\n",
      "|Microbiologist                           |1    |\n",
      "|Port                                     |1    |\n",
      "|Iron and steel industry                  |1    |\n",
      "|Sexologist                               |1    |\n",
      "|Appliances                               |1    |\n",
      "|Swedish restaurant                       |1    |\n",
      "|Height works                             |1    |\n",
      "|Luggage wholesaler                       |1    |\n",
      "|National health foundation               |1    |\n",
      "|Veterans                                 |1    |\n",
      "|Alcohol retail monopoly                  |1    |\n",
      "|Faculty of science                       |1    |\n",
      "|Handicraft museum                        |1    |\n",
      "|Wind farm                                |1    |\n",
      "|Dance restaurant                         |1    |\n",
      "|Child center                             |1    |\n",
      "|Drone shop                               |1    |\n",
      "|Yakiniku restaurant                      |1    |\n",
      "|Abundant Life church                     |1    |\n",
      "|Australian goods store                   |1    |\n",
      "|Surf lifesaving club                     |1    |\n",
      "|Hypermarket                              |1    |\n",
      "|Company registry                         |1    |\n",
      "|Energy                                   |1    |\n",
      "|Pig farm                                 |1    |\n",
      "|Argentinian restaurant                   |1    |\n",
      "|Stationery wholesaler                    |1    |\n",
      "|Municipal Department of Sports           |1    |\n",
      "|Ukrainian restaurant                     |1    |\n",
      "|Skin care                                |1    |\n",
      "|Municipal Department of Tourism          |1    |\n",
      "|Emergency call booth                     |1    |\n",
      "|Film and photograph library              |1    |\n",
      "|Bookmaker                                |1    |\n",
      "|Intellectual property registry           |1    |\n",
      "|BMX club                                 |1    |\n",
      "|Customs department                       |1    |\n",
      "|Rolled metal products supplier           |1    |\n",
      "|Co-ed school                             |1    |\n",
      "|Cathedral                                |1    |\n",
      "|Surgical oncologist                      |1    |\n",
      "|Tea market place                         |1    |\n",
      "|Chemistry faculty                        |1    |\n",
      "|Nursery                                  |1    |\n",
      "|Sake brewery                             |1    |\n",
      "|Customs office                           |1    |\n",
      "|Agricultural high school                 |1    |\n",
      "|Chophouse restaurant                     |1    |\n",
      "|Bar PMU                                  |1    |\n",
      "|Western restaurant                       |1    |\n",
      "|Swimming competition                     |1    |\n",
      "|Buses                                    |1    |\n",
      "|Grassland                                |1    |\n",
      "|Wok restaurant                           |1    |\n",
      "|Anime club                               |1    |\n",
      "|Music box store                          |1    |\n",
      "|Table                                    |1    |\n",
      "|Model portfolio studio                   |1    |\n",
      "|Dog care                                 |1    |\n",
      "|Horse transport supplier                 |1    |\n",
      "|State Department Agricultural Development|1    |\n",
      "|Pets                                     |1    |\n",
      "|Psychosomatic medical practitioner       |1    |\n",
      "|State Department of Tourism              |1    |\n",
      "|Soapland                                 |1    |\n",
      "|Chess club                               |1    |\n",
      "|Acrobatic diving pool                    |1    |\n",
      "|Stereo rental store                      |1    |\n",
      "|Water polo pool                          |1    |\n",
      "|Staffing agency                          |1    |\n",
      "|Pozole restaurant                        |1    |\n",
      "|Jewish restaurant                        |1    |\n",
      "|Ferris wheel                             |1    |\n",
      "|Insolvency service                       |1    |\n",
      "|Cosmetics                                |1    |\n",
      "|Armed forces association                 |1    |\n",
      "|Technology museum                        |1    |\n",
      "|Seafood donburi restaurant               |1    |\n",
      "|Norwegian restaurant                     |1    |\n",
      "|Personal repair service                  |1    |\n",
      "|Gymnasium Cz                             |1    |\n",
      "|Shopfitter                               |1    |\n",
      "|City Department of Environment           |1    |\n",
      "|Canadian restaurant                      |1    |\n",
      "|Meat dish restaurant                     |1    |\n",
      "+-----------------------------------------+-----+\n",
      "only showing top 100 rows\n",
      "\n"
     ]
    }
   ],
   "source": [
    "# Mostramos los valores de manera descendente. (Top 100)\n",
    "category_df_exploded_count.orderBy(\"count\", ascending=True).show(100, truncate=False)"
   ]
  },
  {
   "cell_type": "code",
   "execution_count": 52,
   "metadata": {},
   "outputs": [],
   "source": [
    "# Pensar en el tratamiento adicional de esta columna. "
   ]
  },
  {
   "cell_type": "markdown",
   "metadata": {},
   "source": [
    "# Finalización tarea de Spark"
   ]
  },
  {
   "cell_type": "code",
   "execution_count": 53,
   "metadata": {},
   "outputs": [],
   "source": [
    "spark.stop()"
   ]
  },
  {
   "cell_type": "code",
   "execution_count": null,
   "metadata": {},
   "outputs": [],
   "source": []
  }
 ],
 "metadata": {
  "kernelspec": {
   "display_name": "datanova_env",
   "language": "python",
   "name": "python3"
  },
  "language_info": {
   "codemirror_mode": {
    "name": "ipython",
    "version": 3
   },
   "file_extension": ".py",
   "mimetype": "text/x-python",
   "name": "python",
   "nbconvert_exporter": "python",
   "pygments_lexer": "ipython3",
   "version": "3.12.6"
  }
 },
 "nbformat": 4,
 "nbformat_minor": 2
}
