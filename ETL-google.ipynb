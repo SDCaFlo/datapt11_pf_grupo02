{
 "cells": [
  {
   "cell_type": "markdown",
   "metadata": {},
   "source": [
    "# Revisión de datos para ETL y E/R\n",
    "La finalidad de este notebook es hacer una revisión de los datos actuales para definir un esquema E/R y pipeline ETL.\n",
    "Vamos a trabajar con la libreria SPARK."
   ]
  },
  {
   "cell_type": "code",
   "execution_count": 1,
   "metadata": {},
   "outputs": [],
   "source": [
    "import findspark\n",
    "import pickle\n",
    "import pandas as pd\n",
    "import os\n",
    "os.environ[\"SPARK_HOME\"] = r\"F:\\DataScience\\spark\\spark-3.5.3-bin-hadoop3\\spark-3.5.3-bin-hadoop3\"\n",
    "\n",
    "findspark.init()\n",
    "\n",
    "\n",
    "from pyspark.sql import SparkSession\n",
    "spark = SparkSession.builder.master(\"local[4]\").config(\"spark.executor.memory\", \"8g\").appName(\"PySpark\").getOrCreate()\n",
    "#para cerrar la sesión debemos usar spark.stop()"
   ]
  },
  {
   "cell_type": "code",
   "execution_count": 2,
   "metadata": {},
   "outputs": [
    {
     "name": "stdout",
     "output_type": "stream",
     "text": [
      "3.5.3\n"
     ]
    }
   ],
   "source": [
    "print(spark.version)"
   ]
  },
  {
   "cell_type": "code",
   "execution_count": 3,
   "metadata": {},
   "outputs": [],
   "source": [
    "import re\n",
    "from pyspark.sql.functions import explode\n",
    "from pyspark.sql.functions import col\n",
    "from pyspark.sql.functions import regexp_extract\n",
    "from pyspark.sql.functions import sum, when\n"
   ]
  },
  {
   "cell_type": "markdown",
   "metadata": {},
   "source": [
    "# Datos Google\n",
    "Aqui tenemos basicamente dos datasets.\n",
    "\n",
    "1. metadata-sitios: Metadata de todos los sites. Incluye cantidad de comentarios, descripcion, locación, categoria, rating promedio, etc.\n",
    "2. review-estados: Cada uno de los reviews organizados por estado. Información relevante: usuario, texto, rating, gmap_id (id del negocio) "
   ]
  },
  {
   "cell_type": "markdown",
   "metadata": {},
   "source": [
    "## Metadata Sitios"
   ]
  },
  {
   "cell_type": "code",
   "execution_count": 7,
   "metadata": {},
   "outputs": [],
   "source": [
    "ruta_lectura = r\"F:\\DataScience\\PF - DataNova\\datasets\\Google Maps\\metadata-sitios\\1.json\""
   ]
  },
  {
   "cell_type": "code",
   "execution_count": 8,
   "metadata": {},
   "outputs": [],
   "source": [
    "df = spark.read.json(ruta_lectura)\n",
    "# Considerar el uso de persist o cache\n",
    "df_cached = df.cache()"
   ]
  },
  {
   "cell_type": "code",
   "execution_count": null,
   "metadata": {},
   "outputs": [],
   "source": [
    "#intentamos cargar todos los archivos.\n",
    "#ruta_lectura_full = r\"F:\\DataScience\\PF - DataNova\\datasets\\Google Maps\\metadata-sitios\\*.json\"\n",
    "#df_full = spark.read.json(ruta_lectura_full)\n",
    "# este método no resulta eficiente, toma mas de 20 minutos en cargar todos los archivos."
   ]
  },
  {
   "cell_type": "code",
   "execution_count": 8,
   "metadata": {},
   "outputs": [
    {
     "name": "stdout",
     "output_type": "stream",
     "text": [
      "+--------------------+--------------------+----------+--------------------+--------------------+--------------------+--------------------+------------------+-------------------+--------------------+--------------+-----+--------------------+--------------------+--------------------+\n",
      "|                MISC|             address|avg_rating|            category|         description|             gmap_id|               hours|          latitude|          longitude|                name|num_of_reviews|price|    relative_results|               state|                 url|\n",
      "+--------------------+--------------------+----------+--------------------+--------------------+--------------------+--------------------+------------------+-------------------+--------------------+--------------+-----+--------------------+--------------------+--------------------+\n",
      "|{[Wheelchair acce...|Porter Pharmacy, ...|       4.9|          [Pharmacy]|                NULL|0x88f16e41928ff68...|[[Friday, 8AM–6PM...|           32.3883|           -83.3571|     Porter Pharmacy|            16| NULL|[0x88f16e41929435...|   Open ⋅ Closes 6PM|https://www.googl...|\n",
      "|                NULL|City Textile, 300...|       4.5|  [Textile exporter]|                NULL|0x80c2c98c0e3c16f...|                NULL|        34.0188913|       -118.2152898|        City Textile|             6| NULL|[0x80c2c624136ea8...|            Open now|https://www.googl...|\n",
      "|{[Wheelchair acce...|San Soo Dang, 761...|       4.4| [Korean restaurant]|                NULL|0x80c2c778e3b73d3...|[[Thursday, 6:30A...|        34.0580917|       -118.2921295|        San Soo Dang|            18| NULL|[0x80c2c78249aba6...|   Open ⋅ Closes 6PM|https://www.googl...|\n",
      "|{NULL, NULL, NULL...|Nova Fabrics, 220...|       3.3|      [Fabric store]|                NULL|0x80c2c89923b27a4...|[[Thursday, 9AM–5...|        34.0236689|       -118.2329297|        Nova Fabrics|             6| NULL|[0x80c2c881147725...|   Open ⋅ Closes 5PM|https://www.googl...|\n",
      "|{NULL, NULL, NULL...|Nobel Textile Co,...|       4.3|      [Fabric store]|                NULL|0x80c2c632f933b07...|[[Thursday, 9AM–5...|        34.0366942|       -118.2494208|    Nobel Textile Co|             7| NULL|[0x80c2c62c496083...|   Open ⋅ Closes 5PM|https://www.googl...|\n",
      "|{[Wheelchair acce...|Matrix Internatio...|       3.5|      [Fabric store]|                NULL|0x80c2cf163db6bc8...|[[Thursday, 8:30A...|        34.0155047|       -118.1818394|Matrix Internatio...|             6| NULL|[0x80c2cf042a5d95...|Open ⋅ Closes 5:30PM|https://www.googl...|\n",
      "|{[Wheelchair acce...|Vons Chicken, 127...|       4.5|        [Restaurant]|                NULL|0x80dd2b4c8555edb...|[[Thursday, 11AM–...|        33.9164023|-118.01085499999999|        Vons Chicken|            18| NULL|                NULL|Open ⋅ Closes 9:30PM|https://www.googl...|\n",
      "|{[Wheelchair acce...|Polished Nail Sal...|       4.0|[Nail salon, Waxi...|                NULL|0x87ec238afdd8837...|[[Thursday, 9AM–8...|41.614197999999995|        -93.8472695|Polished Nail Sal...|            86| NULL|[0x87ec2481df68e1...|   Open ⋅ Closes 8PM|https://www.googl...|\n",
      "|{NULL, NULL, NULL...|Sweet Rewards Glu...|       4.7|[Bakery, Health f...|                NULL|0x87ec235c54d25b3...|[[Thursday, 10AM–...|         41.616079|         -93.865487|Sweet Rewards Glu...|            21| NULL|[0x87ee9748692955...|  Permanently closed|https://www.googl...|\n",
      "|                NULL|                NULL|       5.0|[Greeting card sh...|                NULL|0x87ee85ac3cb23b4...|[[Thursday, 7AM–8...|         41.846035|        -93.7561175|           PeepNotes|             1| NULL|[0x87ee915d9604ea...|   Open ⋅ Closes 8PM|https://www.googl...|\n",
      "|{[Wheelchair acce...|Lush Family Denta...|       5.0|[Dentist, Cosmeti...|                NULL|0x87ec2394c2cd9d2...|[[Thursday, 7AM–4...|        41.5852916|        -93.8551126|  Lush Family Dental|           178| NULL|[0x87ec2482098b66...|   Open ⋅ Closes 4PM|https://www.googl...|\n",
      "|{[Wheelchair acce...|515 Auto Shades, ...|       5.0|[Auto glass shop,...|                NULL|0x87ee95d1e474531...|[[Thursday, 9AM–6...|         41.606082|        -93.4986302|     515 Auto Shades|            28| NULL|                NULL|   Open ⋅ Closes 6PM|https://www.googl...|\n",
      "|{[Wheelchair acce...|Lena’s Beauty Nai...|       4.2|      [Beauty salon]|                NULL|0x87ec2481df6626b...|[[Thursday, 9AM–7...|        41.6163101|         -93.858345|Lena’s Beauty Nai...|           128| NULL|[0x87ec20ce836cac...|   Open ⋅ Closes 7PM|https://www.googl...|\n",
      "|{[Wheelchair acce...|Black Tie Ski Ren...|       5.0|[Ski rental servi...|                NULL|0x80960c29f2e3bf2...|[[Thursday, 8AM–5...|37.638754399999996|-118.96605509999999|Black Tie Ski Ren...|            34| NULL|[0x80960dcd6ba767...|   Open ⋅ Closes 5PM|https://www.googl...|\n",
      "|{[Wheelchair acce...|NTK OUTDOOR, 2315...|       5.0|  [Corporate office]|                NULL|0x88d9beb4fe0532c...|[[Thursday, 9AM–6...|        25.7952041|        -80.3660381|         NTK OUTDOOR|            35| NULL|[0x88d9bfd49a624c...|   Open ⋅ Closes 6PM|https://www.googl...|\n",
      "|                NULL|Angel-A Massage, ...|       4.3|[Massage spa, Chi...|                NULL|0x809adef58ae560b...|[[Thursday, 9:30A...|        38.6626297|       -121.3086388|     Angel-A Massage|             6| NULL|[0x809adee9ac6f1b...|Open ⋅ Closes 9:30PM|https://www.googl...|\n",
      "|{[Wheelchair acce...|Dunn-Edwards Pain...|       4.7|[Paint store, Pai...|Chain selling int...|0x809b1ff6d3a60c4...|[[Thursday, 6:30A...|        38.7434619|       -121.2587612| Dunn-Edwards Paints|            26| NULL|[0x809b201630f908...|   Open ⋅ Closes 5PM|https://www.googl...|\n",
      "|                NULL|Elite Massage, 81...|       5.0| [Massage therapist]|                NULL|0x809ae0a7ce91433...|                NULL|        38.6649155|       -121.2601916|       Elite Massage|             1| NULL|[0x809ade27605def...|                NULL|https://www.googl...|\n",
      "|{[Wheelchair acce...|PODS Sacramento H...|       4.0|  [Corporate office]|                NULL|0x809ad95924805cf...|                NULL|         38.658994|       -121.4129579| PODS Sacramento Hub|             8| NULL|[0x809ad8fc85a035...|            Open now|https://www.googl...|\n",
      "|{[Wheelchair acce...|Happy Spa & Massa...|       2.7|[Massage therapis...|                NULL|0x809b217a6cbe4fa...|[[Thursday, 9:30A...|        38.7855482|       -121.2868859|Happy Spa & Massa...|             8| NULL|[0x809b20410d8df0...|  Open ⋅ Closes 10PM|https://www.googl...|\n",
      "+--------------------+--------------------+----------+--------------------+--------------------+--------------------+--------------------+------------------+-------------------+--------------------+--------------+-----+--------------------+--------------------+--------------------+\n",
      "only showing top 20 rows\n",
      "\n"
     ]
    }
   ],
   "source": [
    "# revision del df.\n",
    "df_cached.show()"
   ]
  },
  {
   "cell_type": "code",
   "execution_count": null,
   "metadata": {},
   "outputs": [
    {
     "data": {
      "text/plain": [
       "275001"
      ]
     },
     "execution_count": 60,
     "metadata": {},
     "output_type": "execute_result"
    }
   ],
   "source": [
    "# cantidad de filas.\n",
    "df_cached.count()"
   ]
  },
  {
   "cell_type": "code",
   "execution_count": 61,
   "metadata": {},
   "outputs": [
    {
     "name": "stdout",
     "output_type": "stream",
     "text": [
      "root\n",
      " |-- MISC: struct (nullable = true)\n",
      " |    |-- Accessibility: array (nullable = true)\n",
      " |    |    |-- element: string (containsNull = true)\n",
      " |    |-- Activities: array (nullable = true)\n",
      " |    |    |-- element: string (containsNull = true)\n",
      " |    |-- Amenities: array (nullable = true)\n",
      " |    |    |-- element: string (containsNull = true)\n",
      " |    |-- Atmosphere: array (nullable = true)\n",
      " |    |    |-- element: string (containsNull = true)\n",
      " |    |-- Crowd: array (nullable = true)\n",
      " |    |    |-- element: string (containsNull = true)\n",
      " |    |-- Dining options: array (nullable = true)\n",
      " |    |    |-- element: string (containsNull = true)\n",
      " |    |-- From the business: array (nullable = true)\n",
      " |    |    |-- element: string (containsNull = true)\n",
      " |    |-- Getting here: array (nullable = true)\n",
      " |    |    |-- element: string (containsNull = true)\n",
      " |    |-- Health & safety: array (nullable = true)\n",
      " |    |    |-- element: string (containsNull = true)\n",
      " |    |-- Highlights: array (nullable = true)\n",
      " |    |    |-- element: string (containsNull = true)\n",
      " |    |-- Offerings: array (nullable = true)\n",
      " |    |    |-- element: string (containsNull = true)\n",
      " |    |-- Payments: array (nullable = true)\n",
      " |    |    |-- element: string (containsNull = true)\n",
      " |    |-- Planning: array (nullable = true)\n",
      " |    |    |-- element: string (containsNull = true)\n",
      " |    |-- Popular for: array (nullable = true)\n",
      " |    |    |-- element: string (containsNull = true)\n",
      " |    |-- Recycling: array (nullable = true)\n",
      " |    |    |-- element: string (containsNull = true)\n",
      " |    |-- Service options: array (nullable = true)\n",
      " |    |    |-- element: string (containsNull = true)\n",
      " |-- address: string (nullable = true)\n",
      " |-- avg_rating: double (nullable = true)\n",
      " |-- category: array (nullable = true)\n",
      " |    |-- element: string (containsNull = true)\n",
      " |-- description: string (nullable = true)\n",
      " |-- gmap_id: string (nullable = true)\n",
      " |-- hours: array (nullable = true)\n",
      " |    |-- element: array (containsNull = true)\n",
      " |    |    |-- element: string (containsNull = true)\n",
      " |-- latitude: double (nullable = true)\n",
      " |-- longitude: double (nullable = true)\n",
      " |-- name: string (nullable = true)\n",
      " |-- num_of_reviews: long (nullable = true)\n",
      " |-- price: string (nullable = true)\n",
      " |-- relative_results: array (nullable = true)\n",
      " |    |-- element: string (containsNull = true)\n",
      " |-- state: string (nullable = true)\n",
      " |-- url: string (nullable = true)\n",
      "\n"
     ]
    }
   ],
   "source": [
    "# Esquema de la tabla. total de 15 columnas\n",
    "df_cached.printSchema()"
   ]
  },
  {
   "cell_type": "code",
   "execution_count": 62,
   "metadata": {},
   "outputs": [
    {
     "name": "stdout",
     "output_type": "stream",
     "text": [
      "+-------+--------------------+------------------+--------------------+--------------------+-------------------+-------------------+--------------------+------------------+-----+------------------+--------------------+\n",
      "|summary|             address|        avg_rating|         description|             gmap_id|           latitude|          longitude|                name|    num_of_reviews|price|             state|                 url|\n",
      "+-------+--------------------+------------------+--------------------+--------------------+-------------------+-------------------+--------------------+------------------+-----+------------------+--------------------+\n",
      "|  count|              264939|            275001|               13155|              275001|             275001|             275001|              274994|            275001|13450|            195523|              275001|\n",
      "|   mean|                NULL| 4.307215610124819|                NULL|                NULL|  37.49011244811361| -92.27470752969505|  111.45454545454545| 19.72275009909055| NULL|              NULL|                NULL|\n",
      "| stddev|                NULL|0.7901014711929062|                NULL|                NULL|  5.405779913612219| 16.414616526884657|  219.33138325788715|37.642092269090824| NULL|              NULL|                NULL|\n",
      "|    min|\"Bill\" Fuchs Park...|               1.0|\"Aphrodisiac\" glo...|0x0:0x1cda8cf8c09...|-1.7660589999999998|-176.64464759999998|   \"Bill\" Fuchs Park|                 1|    $|            Closed|https://www.googl...|\n",
      "|    max|🥇Villa de Vanmar...|               5.0|Zen-like boutique...|0xf5605db11f06f1b...|         70.3985443|              180.0|🥇Villa de Vanmar...|              2114| $$$$|Temporarily closed|https://www.googl...|\n",
      "+-------+--------------------+------------------+--------------------+--------------------+-------------------+-------------------+--------------------+------------------+-----+------------------+--------------------+\n",
      "\n"
     ]
    }
   ],
   "source": [
    "df_cached.describe().show()"
   ]
  },
  {
   "cell_type": "markdown",
   "metadata": {},
   "source": [
    "### 1st Look\n",
    "1. Posibles columnas a remover: \n",
    "    - description: No proporciona data relevante. Solo 13155 de 275001 sites tienen un descripcion, es decir, menos del 5%.\n",
    "    - state: No brinda información relevante para nuestro análisis. Solo información del estado (abierto o cerrado) del momento en el cual se extrajo la data.\n",
    "    - url: Dirección url del sitio en google maps.\n",
    "    - price: Demasiados valores nulos.\n",
    "    - hours: Horarios de atención del negocio. (Evaluar remoción, a menos que sea necesario para el análisis.)\n",
    "\n",
    "2. No poseemos información de la ciudad o el estado, podemos usar una libreria como 'geopy' o 'geocoder' para obtener esta data a partir de latitude y longitud. Opcional: (Extraer de columna address)\n",
    "3. Columnas clave: gmap_id, avg_rating, category, \n",
    "4. MISC: Tiene un esquema definido. Importante validar que data puede ser de utilidad dentro de este esquema.\n",
    "5. CATEGORY: Realizar un análisis de las categorías existentes. (i,e: Nube de palabras)"
   ]
  },
  {
   "cell_type": "markdown",
   "metadata": {},
   "source": [
    "### Remoción de valores"
   ]
  },
  {
   "cell_type": "code",
   "execution_count": 30,
   "metadata": {},
   "outputs": [
    {
     "data": {
      "text/plain": [
       "['MISC',\n",
       " 'address',\n",
       " 'avg_rating',\n",
       " 'category',\n",
       " 'gmap_id',\n",
       " 'latitude',\n",
       " 'longitude',\n",
       " 'name',\n",
       " 'num_of_reviews',\n",
       " 'relative_results']"
      ]
     },
     "execution_count": 30,
     "metadata": {},
     "output_type": "execute_result"
    }
   ],
   "source": [
    "df_cached = df_cached.drop(*[\"description\", \"hours\", \"price\", \"state\", \"url\"])\n",
    "df_cached.columns"
   ]
  },
  {
   "cell_type": "markdown",
   "metadata": {},
   "source": [
    "### Creacion de columna region"
   ]
  },
  {
   "cell_type": "code",
   "execution_count": 51,
   "metadata": {},
   "outputs": [
    {
     "name": "stdout",
     "output_type": "stream",
     "text": [
      "+--------------------+--------------------+----------+--------------------+--------------------+------------------+-------------------+--------------------+--------------+--------------------+-----+\n",
      "|                MISC|             address|avg_rating|            category|             gmap_id|          latitude|          longitude|                name|num_of_reviews|    relative_results|state|\n",
      "+--------------------+--------------------+----------+--------------------+--------------------+------------------+-------------------+--------------------+--------------+--------------------+-----+\n",
      "|{[Wheelchair acce...|Porter Pharmacy, ...|       4.9|          [Pharmacy]|0x88f16e41928ff68...|           32.3883|           -83.3571|     Porter Pharmacy|            16|[0x88f16e41929435...|   GA|\n",
      "|                NULL|City Textile, 300...|       4.5|  [Textile exporter]|0x80c2c98c0e3c16f...|        34.0188913|       -118.2152898|        City Textile|             6|[0x80c2c624136ea8...|   CA|\n",
      "|{[Wheelchair acce...|San Soo Dang, 761...|       4.4| [Korean restaurant]|0x80c2c778e3b73d3...|        34.0580917|       -118.2921295|        San Soo Dang|            18|[0x80c2c78249aba6...|   CA|\n",
      "|{NULL, NULL, NULL...|Nova Fabrics, 220...|       3.3|      [Fabric store]|0x80c2c89923b27a4...|        34.0236689|       -118.2329297|        Nova Fabrics|             6|[0x80c2c881147725...|   CA|\n",
      "|{NULL, NULL, NULL...|Nobel Textile Co,...|       4.3|      [Fabric store]|0x80c2c632f933b07...|        34.0366942|       -118.2494208|    Nobel Textile Co|             7|[0x80c2c62c496083...|   CA|\n",
      "|{[Wheelchair acce...|Matrix Internatio...|       3.5|      [Fabric store]|0x80c2cf163db6bc8...|        34.0155047|       -118.1818394|Matrix Internatio...|             6|[0x80c2cf042a5d95...|   CA|\n",
      "|{[Wheelchair acce...|Vons Chicken, 127...|       4.5|        [Restaurant]|0x80dd2b4c8555edb...|        33.9164023|-118.01085499999999|        Vons Chicken|            18|                NULL|   CA|\n",
      "|{[Wheelchair acce...|Polished Nail Sal...|       4.0|[Nail salon, Waxi...|0x87ec238afdd8837...|41.614197999999995|        -93.8472695|Polished Nail Sal...|            86|[0x87ec2481df68e1...|   IA|\n",
      "|{NULL, NULL, NULL...|Sweet Rewards Glu...|       4.7|[Bakery, Health f...|0x87ec235c54d25b3...|         41.616079|         -93.865487|Sweet Rewards Glu...|            21|[0x87ee9748692955...|   IA|\n",
      "|                NULL|                NULL|       5.0|[Greeting card sh...|0x87ee85ac3cb23b4...|         41.846035|        -93.7561175|           PeepNotes|             1|[0x87ee915d9604ea...| NULL|\n",
      "|{[Wheelchair acce...|Lush Family Denta...|       5.0|[Dentist, Cosmeti...|0x87ec2394c2cd9d2...|        41.5852916|        -93.8551126|  Lush Family Dental|           178|[0x87ec2482098b66...|   IA|\n",
      "|{[Wheelchair acce...|515 Auto Shades, ...|       5.0|[Auto glass shop,...|0x87ee95d1e474531...|         41.606082|        -93.4986302|     515 Auto Shades|            28|                NULL|   IA|\n",
      "|{[Wheelchair acce...|Lena’s Beauty Nai...|       4.2|      [Beauty salon]|0x87ec2481df6626b...|        41.6163101|         -93.858345|Lena’s Beauty Nai...|           128|[0x87ec20ce836cac...|   IA|\n",
      "|{[Wheelchair acce...|Black Tie Ski Ren...|       5.0|[Ski rental servi...|0x80960c29f2e3bf2...|37.638754399999996|-118.96605509999999|Black Tie Ski Ren...|            34|[0x80960dcd6ba767...|   CA|\n",
      "|{[Wheelchair acce...|NTK OUTDOOR, 2315...|       5.0|  [Corporate office]|0x88d9beb4fe0532c...|        25.7952041|        -80.3660381|         NTK OUTDOOR|            35|[0x88d9bfd49a624c...|   FL|\n",
      "|                NULL|Angel-A Massage, ...|       4.3|[Massage spa, Chi...|0x809adef58ae560b...|        38.6626297|       -121.3086388|     Angel-A Massage|             6|[0x809adee9ac6f1b...|   CA|\n",
      "|{[Wheelchair acce...|Dunn-Edwards Pain...|       4.7|[Paint store, Pai...|0x809b1ff6d3a60c4...|        38.7434619|       -121.2587612| Dunn-Edwards Paints|            26|[0x809b201630f908...|   CA|\n",
      "|                NULL|Elite Massage, 81...|       5.0| [Massage therapist]|0x809ae0a7ce91433...|        38.6649155|       -121.2601916|       Elite Massage|             1|[0x809ade27605def...|   CA|\n",
      "|{[Wheelchair acce...|PODS Sacramento H...|       4.0|  [Corporate office]|0x809ad95924805cf...|         38.658994|       -121.4129579| PODS Sacramento Hub|             8|[0x809ad8fc85a035...|   CA|\n",
      "|{[Wheelchair acce...|Happy Spa & Massa...|       2.7|[Massage therapis...|0x809b217a6cbe4fa...|        38.7855482|       -121.2868859|Happy Spa & Massa...|             8|[0x809b20410d8df0...|   CA|\n",
      "+--------------------+--------------------+----------+--------------------+--------------------+------------------+-------------------+--------------------+--------------+--------------------+-----+\n",
      "only showing top 20 rows\n",
      "\n"
     ]
    }
   ],
   "source": [
    "# Debido a que la API geopy tiene un limite de peticiones, tendremos que usar la columna address para obtener el estado.\n",
    "state_regexp = r\",\\s([A-Z]{2})\\s\\d{5}\"\n",
    "df_cached = df_cached.withColumn(\"state\", regexp_extract(\"address\", state_regexp, 1))\n",
    "df_cached.show()"
   ]
  },
  {
   "cell_type": "markdown",
   "metadata": {},
   "source": [
    "### MISC\n"
   ]
  },
  {
   "cell_type": "code",
   "execution_count": 65,
   "metadata": {},
   "outputs": [
    {
     "name": "stdout",
     "output_type": "stream",
     "text": [
      "+--------------------+----------+--------------------+----------+------------------+---------------+--------------------+------------+--------------------+----------------+--------------------+--------------------+--------------------+--------------------+---------+--------------------+\n",
      "|       Accessibility|Activities|           Amenities|Atmosphere|             Crowd| Dining options|   From the business|Getting here|     Health & safety|      Highlights|           Offerings|            Payments|            Planning|         Popular for|Recycling|     Service options|\n",
      "+--------------------+----------+--------------------+----------+------------------+---------------+--------------------+------------+--------------------+----------------+--------------------+--------------------+--------------------+--------------------+---------+--------------------+\n",
      "|[Wheelchair acces...|      NULL|                NULL|      NULL|              NULL|           NULL|                NULL|        NULL|[Mask required, S...|            NULL|                NULL|                NULL|       [Quick visit]|                NULL|     NULL|[In-store shoppin...|\n",
      "|                NULL|      NULL|                NULL|      NULL|              NULL|           NULL|                NULL|        NULL|                NULL|            NULL|                NULL|                NULL|                NULL|                NULL|     NULL|                NULL|\n",
      "|[Wheelchair acces...|      NULL|     [Good for kids]|  [Casual]|              NULL|           NULL|                NULL|        NULL|                NULL|            NULL|      [Comfort food]|                NULL|                NULL|                NULL|     NULL|[Takeout, Dine-in...|\n",
      "|                NULL|      NULL|                NULL|      NULL|              NULL|           NULL|                NULL|        NULL|                NULL|            NULL|                NULL|[Checks, Debit ca...|                NULL|                NULL|     NULL| [In-store shopping]|\n",
      "|                NULL|      NULL|                NULL|      NULL|              NULL|           NULL|                NULL|        NULL|                NULL|            NULL|                NULL|                NULL|                NULL|                NULL|     NULL|   [In-store pickup]|\n",
      "|[Wheelchair acces...|      NULL|                NULL|      NULL|              NULL|           NULL|                NULL|        NULL|                NULL|            NULL|                NULL|                NULL|                NULL|                NULL|     NULL|                NULL|\n",
      "|[Wheelchair acces...|      NULL|     [Good for kids]|  [Casual]|[College students]|[Lunch, Dinner]|                NULL|        NULL|[Mask required, S...|            NULL|[Comfort food, Qu...|                NULL|                NULL|[Lunch, Dinner, S...|     NULL|[Outdoor seating,...|\n",
      "|[Wheelchair acces...|      NULL|[Gender-neutral r...|      NULL|              NULL|           NULL|[Identifies as wo...|        NULL|                NULL|[LGBTQ friendly]|                NULL|[Debit cards, Cre...|                NULL|                NULL|     NULL|                NULL|\n",
      "|                NULL|      NULL|                NULL|      NULL|              NULL|           NULL|                NULL|        NULL|                NULL|            NULL|                NULL|                NULL|                NULL|                NULL|     NULL|          [Delivery]|\n",
      "|                NULL|      NULL|                NULL|      NULL|              NULL|           NULL|                NULL|        NULL|                NULL|            NULL|                NULL|                NULL|                NULL|                NULL|     NULL|                NULL|\n",
      "|[Wheelchair acces...|      NULL|                NULL|      NULL|              NULL|           NULL|                NULL|        NULL|                NULL|            NULL|                NULL|                NULL|[Appointments rec...|                NULL|     NULL|                NULL|\n",
      "|[Wheelchair acces...|      NULL|                NULL|      NULL|              NULL|           NULL|                NULL|        NULL|                NULL|            NULL|                NULL|                NULL|[Appointments rec...|                NULL|     NULL|                NULL|\n",
      "|[Wheelchair acces...|      NULL|                NULL|      NULL|              NULL|           NULL|                NULL|        NULL|[Appointment requ...|            NULL|                NULL|                NULL|[Appointments rec...|                NULL|     NULL|                NULL|\n",
      "|[Wheelchair acces...|      NULL|                NULL|      NULL|              NULL|           NULL|                NULL|        NULL|                NULL|            NULL|                NULL|                NULL|                NULL|                NULL|     NULL|                NULL|\n",
      "|[Wheelchair acces...|      NULL|                NULL|      NULL|              NULL|           NULL|                NULL|        NULL|                NULL|            NULL|                NULL|                NULL|                NULL|                NULL|     NULL|                NULL|\n",
      "|                NULL|      NULL|                NULL|      NULL|              NULL|           NULL|                NULL|        NULL|                NULL|            NULL|                NULL|                NULL|                NULL|                NULL|     NULL|                NULL|\n",
      "|[Wheelchair acces...|      NULL|                NULL|      NULL|              NULL|           NULL|                NULL|        NULL|                NULL|            NULL| [Service guarantee]|[Checks, Debit ca...|       [Quick visit]|                NULL|     NULL|[Curbside pickup,...|\n",
      "|                NULL|      NULL|                NULL|      NULL|              NULL|           NULL|                NULL|        NULL|                NULL|            NULL|                NULL|                NULL|                NULL|                NULL|     NULL|                NULL|\n",
      "|[Wheelchair acces...|      NULL|                NULL|      NULL|              NULL|           NULL|                NULL|        NULL|                NULL|            NULL|                NULL|                NULL|                NULL|                NULL|     NULL|                NULL|\n",
      "|[Wheelchair acces...|      NULL|                NULL|      NULL|              NULL|           NULL|                NULL|        NULL|                NULL|            NULL|                NULL|                NULL|                NULL|                NULL|     NULL|                NULL|\n",
      "+--------------------+----------+--------------------+----------+------------------+---------------+--------------------+------------+--------------------+----------------+--------------------+--------------------+--------------------+--------------------+---------+--------------------+\n",
      "only showing top 20 rows\n",
      "\n"
     ]
    }
   ],
   "source": [
    "# Mostramos el esquema expandido de la columna misc.\n",
    "expanded_misc_df = df_cached.select(\"MISC.*\")\n",
    "expanded_misc_df.show()"
   ]
  },
  {
   "cell_type": "code",
   "execution_count": null,
   "metadata": {},
   "outputs": [],
   "source": [
    "# Metodo para conteo de nulos por columna. Hay un gran número de nulos. Sin embargo, de momento mantendremos la columna.\n",
    "summary = expanded_misc_df.select([\n",
    "    sum(when(col(c).isNull(), 1).otherwise(0)).alias(f\"n_nulls_{c}\") for c in expanded_misc_df.columns\n",
    "])"
   ]
  },
  {
   "cell_type": "code",
   "execution_count": 71,
   "metadata": {},
   "outputs": [
    {
     "name": "stdout",
     "output_type": "stream",
     "text": [
      "+---------------------+------------------+-----------------+------------------+-------------+----------------------+-------------------------+--------------------+-----------------------+------------------+-----------------+----------------+----------------+-------------------+-----------------+-----------------------+\n",
      "|n_nulls_Accessibility|n_nulls_Activities|n_nulls_Amenities|n_nulls_Atmosphere|n_nulls_Crowd|n_nulls_Dining options|n_nulls_From the business|n_nulls_Getting here|n_nulls_Health & safety|n_nulls_Highlights|n_nulls_Offerings|n_nulls_Payments|n_nulls_Planning|n_nulls_Popular for|n_nulls_Recycling|n_nulls_Service options|\n",
      "+---------------------+------------------+-----------------+------------------+-------------+----------------------+-------------------------+--------------------+-----------------------+------------------+-----------------+----------------+----------------+-------------------+-----------------+-----------------------+\n",
      "|               116316|            274973|           239472|            265243|       268039|                268704|                   266302|              274872|                 250003|            262915|           250273|          252884|          212349|             268358|           274876|                 210981|\n",
      "+---------------------+------------------+-----------------+------------------+-------------+----------------------+-------------------------+--------------------+-----------------------+------------------+-----------------+----------------+----------------+-------------------+-----------------+-----------------------+\n",
      "\n"
     ]
    }
   ],
   "source": [
    "summary.show()"
   ]
  },
  {
   "cell_type": "markdown",
   "metadata": {},
   "source": [
    "### CATEGORY\n",
    "Se trata de una columna de tipo ARRAY\n",
    "Cada establecimiento tiene una lista de categorias. \n",
    "Las categorías, pueden ser palabras o frases."
   ]
  },
  {
   "cell_type": "code",
   "execution_count": 63,
   "metadata": {},
   "outputs": [
    {
     "name": "stdout",
     "output_type": "stream",
     "text": [
      "+-----------------------------------------------------------------------+\n",
      "|category                                                               |\n",
      "+-----------------------------------------------------------------------+\n",
      "|[Pharmacy]                                                             |\n",
      "|[Textile exporter]                                                     |\n",
      "|[Korean restaurant]                                                    |\n",
      "|[Fabric store]                                                         |\n",
      "|[Fabric store]                                                         |\n",
      "|[Fabric store]                                                         |\n",
      "|[Restaurant]                                                           |\n",
      "|[Nail salon, Waxing hair removal service]                              |\n",
      "|[Bakery, Health food restaurant]                                       |\n",
      "|[Greeting card shop, Service establishment]                            |\n",
      "|[Dentist, Cosmetic dentist, Dental clinic]                             |\n",
      "|[Auto glass shop, Window tinting service]                              |\n",
      "|[Beauty salon]                                                         |\n",
      "|[Ski rental service, Snowboard rental service]                         |\n",
      "|[Corporate office]                                                     |\n",
      "|[Massage spa, Chiropractor, Massage, Massage therapist, Medical clinic]|\n",
      "|[Paint store, Paint manufacturer]                                      |\n",
      "|[Massage therapist]                                                    |\n",
      "|[Corporate office]                                                     |\n",
      "|[Massage therapist, Massage spa, Spa]                                  |\n",
      "+-----------------------------------------------------------------------+\n",
      "only showing top 20 rows\n",
      "\n"
     ]
    }
   ],
   "source": [
    "# Visualización\n",
    "category_df = df_cached.select(\"category\")\n",
    "category_df.show(truncate=False)"
   ]
  },
  {
   "cell_type": "code",
   "execution_count": null,
   "metadata": {},
   "outputs": [
    {
     "data": {
      "text/plain": [
       "530472"
      ]
     },
     "execution_count": 65,
     "metadata": {},
     "output_type": "execute_result"
    }
   ],
   "source": [
    "# Explode. Expandimos las listas para visualizar los valores en categoria\n",
    "category_df_exploded = category_df.select(explode(\"category\").alias(\"category\"))\n",
    "category_df_exploded.count() #se cuenta la cantidad de datos posterior al explode."
   ]
  },
  {
   "cell_type": "code",
   "execution_count": 66,
   "metadata": {},
   "outputs": [
    {
     "name": "stdout",
     "output_type": "stream",
     "text": [
      "+---------------------------+\n",
      "|category                   |\n",
      "+---------------------------+\n",
      "|Pharmacy                   |\n",
      "|Textile exporter           |\n",
      "|Korean restaurant          |\n",
      "|Fabric store               |\n",
      "|Fabric store               |\n",
      "|Fabric store               |\n",
      "|Restaurant                 |\n",
      "|Nail salon                 |\n",
      "|Waxing hair removal service|\n",
      "|Bakery                     |\n",
      "|Health food restaurant     |\n",
      "|Greeting card shop         |\n",
      "|Service establishment      |\n",
      "|Dentist                    |\n",
      "|Cosmetic dentist           |\n",
      "|Dental clinic              |\n",
      "|Auto glass shop            |\n",
      "|Window tinting service     |\n",
      "|Beauty salon               |\n",
      "|Ski rental service         |\n",
      "+---------------------------+\n",
      "only showing top 20 rows\n",
      "\n"
     ]
    }
   ],
   "source": [
    "#visualizamos las categorias\n",
    "category_df_exploded.show(truncate=False)"
   ]
  },
  {
   "cell_type": "code",
   "execution_count": 71,
   "metadata": {},
   "outputs": [
    {
     "data": {
      "text/plain": [
       "3769"
      ]
     },
     "execution_count": 71,
     "metadata": {},
     "output_type": "execute_result"
    }
   ],
   "source": [
    "# agrupamos por categoria\n",
    "category_df_exploded_count = category_df_exploded.groupBy(\"category\").count()\n",
    "# valores distintos.\n",
    "category_df_exploded_count.count()"
   ]
  },
  {
   "cell_type": "code",
   "execution_count": 72,
   "metadata": {},
   "outputs": [
    {
     "name": "stdout",
     "output_type": "stream",
     "text": [
      "+----------------------------+-----+\n",
      "|category                    |count|\n",
      "+----------------------------+-----+\n",
      "|Service establishment       |10055|\n",
      "|Beauty salon                |5612 |\n",
      "|Auto repair shop            |5499 |\n",
      "|Restaurant                  |5386 |\n",
      "|Church                      |5349 |\n",
      "|Convenience store           |5122 |\n",
      "|Gas station                 |4786 |\n",
      "|Doctor                      |4492 |\n",
      "|ATM                         |4285 |\n",
      "|Insurance agency            |4094 |\n",
      "|Hair salon                  |3963 |\n",
      "|Dentist                     |3806 |\n",
      "|Nail salon                  |2930 |\n",
      "|Bank                        |2853 |\n",
      "|Auto insurance agency       |2835 |\n",
      "|Park                        |2767 |\n",
      "|Attorney                    |2754 |\n",
      "|Real estate agency          |2695 |\n",
      "|Home insurance agency       |2537 |\n",
      "|Corporate office            |2517 |\n",
      "|Non-profit organization     |2501 |\n",
      "|Life insurance agency       |2438 |\n",
      "|Barber shop                 |2379 |\n",
      "|Massage therapist           |2362 |\n",
      "|Apartment building          |2362 |\n",
      "|Clothing store              |2356 |\n",
      "|Pharmacy                    |2225 |\n",
      "|Baptist church              |2163 |\n",
      "|Renter's insurance agency   |2137 |\n",
      "|Gift shop                   |2116 |\n",
      "|Cell phone store            |2033 |\n",
      "|Used car dealer             |1998 |\n",
      "|Apartment complex           |1965 |\n",
      "|Medical clinic              |1944 |\n",
      "|Gym                         |1899 |\n",
      "|Auto body shop              |1837 |\n",
      "|Grocery store               |1779 |\n",
      "|Chiropractor                |1666 |\n",
      "|Self-storage facility       |1648 |\n",
      "|General contractor          |1631 |\n",
      "|River                       |1607 |\n",
      "|Store                       |1598 |\n",
      "|Plumber                     |1597 |\n",
      "|Bar                         |1596 |\n",
      "|Cosmetic dentist            |1550 |\n",
      "|Shipping and mailing service|1521 |\n",
      "|Manufacturer                |1503 |\n",
      "|Electronics store           |1455 |\n",
      "|Tire shop                   |1427 |\n",
      "|Construction company        |1398 |\n",
      "|Women's clothing store      |1395 |\n",
      "|School                      |1385 |\n",
      "|Real estate agents          |1383 |\n",
      "|Coffee shop                 |1373 |\n",
      "|Furniture store             |1364 |\n",
      "|Truck rental agency         |1347 |\n",
      "|Motorcycle insurance agency |1341 |\n",
      "|Home builder                |1341 |\n",
      "|Lake                        |1334 |\n",
      "|Tourist attraction          |1333 |\n",
      "|Loan agency                 |1327 |\n",
      "|Mortgage lender             |1308 |\n",
      "|Auto parts store            |1306 |\n",
      "|Roofing contractor          |1282 |\n",
      "|Law firm                    |1265 |\n",
      "|HVAC contractor             |1259 |\n",
      "|Car repair and maintenance  |1207 |\n",
      "|Beauty supply store         |1205 |\n",
      "|Dental clinic               |1201 |\n",
      "|Air conditioning contractor |1194 |\n",
      "|Bakery                      |1186 |\n",
      "|Pet groomer                 |1179 |\n",
      "|Landscaper                  |1172 |\n",
      "|Drug store                  |1170 |\n",
      "|Money order service         |1163 |\n",
      "|Contractor                  |1160 |\n",
      "|Jewelry store               |1158 |\n",
      "|Cafe                        |1154 |\n",
      "|Optometrist                 |1150 |\n",
      "|Electrician                 |1145 |\n",
      "|Moving and storage service  |1145 |\n",
      "|Cosmetics store             |1141 |\n",
      "|Van rental agency           |1139 |\n",
      "|Trucking company            |1137 |\n",
      "|Tax preparation service     |1137 |\n",
      "|Family practice physician   |1121 |\n",
      "|Property management company |1092 |\n",
      "|Trailer rental service      |1087 |\n",
      "|Shoe store                  |1083 |\n",
      "|Home goods store            |1079 |\n",
      "|Heating contractor          |1069 |\n",
      "|Farm                        |1062 |\n",
      "|Car dealer                  |1061 |\n",
      "|Logistics service           |1058 |\n",
      "|Bus stop                    |1048 |\n",
      "|Towing service              |1040 |\n",
      "|Dry cleaner                 |1027 |\n",
      "|Physical fitness program    |1026 |\n",
      "|Personal injury attorney    |1019 |\n",
      "|Business center             |1015 |\n",
      "+----------------------------+-----+\n",
      "only showing top 100 rows\n",
      "\n"
     ]
    }
   ],
   "source": [
    "# Mostramos los valores de manera descendente. (Top 100)\n",
    "category_df_exploded_count.orderBy(\"count\", ascending=False).show(100, truncate=False)"
   ]
  },
  {
   "cell_type": "code",
   "execution_count": 77,
   "metadata": {},
   "outputs": [],
   "source": [
    "# Vamos a tokenizar para tener palabras por separado.\n",
    "from pyspark.sql.functions import split, col, lower"
   ]
  },
  {
   "cell_type": "code",
   "execution_count": null,
   "metadata": {},
   "outputs": [
    {
     "name": "stdout",
     "output_type": "stream",
     "text": [
      "+---------------------------+--------------------------------+\n",
      "|category                   |WORDS                           |\n",
      "+---------------------------+--------------------------------+\n",
      "|Pharmacy                   |[pharmacy]                      |\n",
      "|Textile exporter           |[textile, exporter]             |\n",
      "|Korean restaurant          |[korean, restaurant]            |\n",
      "|Fabric store               |[fabric, store]                 |\n",
      "|Fabric store               |[fabric, store]                 |\n",
      "|Fabric store               |[fabric, store]                 |\n",
      "|Restaurant                 |[restaurant]                    |\n",
      "|Nail salon                 |[nail, salon]                   |\n",
      "|Waxing hair removal service|[waxing, hair, removal, service]|\n",
      "|Bakery                     |[bakery]                        |\n",
      "|Health food restaurant     |[health, food, restaurant]      |\n",
      "|Greeting card shop         |[greeting, card, shop]          |\n",
      "|Service establishment      |[service, establishment]        |\n",
      "|Dentist                    |[dentist]                       |\n",
      "|Cosmetic dentist           |[cosmetic, dentist]             |\n",
      "|Dental clinic              |[dental, clinic]                |\n",
      "|Auto glass shop            |[auto, glass, shop]             |\n",
      "|Window tinting service     |[window, tinting, service]      |\n",
      "|Beauty salon               |[beauty, salon]                 |\n",
      "|Ski rental service         |[ski, rental, service]          |\n",
      "+---------------------------+--------------------------------+\n",
      "only showing top 20 rows\n",
      "\n"
     ]
    }
   ],
   "source": [
    "# se aplica tokenización, y lower()\n",
    "category_df_exploded_tokenized =  category_df_exploded.withColumn(\"WORDS\", split(lower(col(\"category\")), \" \"))\n",
    "category_df_exploded_tokenized.show(truncate=False)"
   ]
  },
  {
   "cell_type": "code",
   "execution_count": 83,
   "metadata": {},
   "outputs": [
    {
     "name": "stdout",
     "output_type": "stream",
     "text": [
      "+----------+\n",
      "|WORD      |\n",
      "+----------+\n",
      "|pharmacy  |\n",
      "|textile   |\n",
      "|exporter  |\n",
      "|korean    |\n",
      "|restaurant|\n",
      "|fabric    |\n",
      "|store     |\n",
      "|fabric    |\n",
      "|store     |\n",
      "|fabric    |\n",
      "|store     |\n",
      "|restaurant|\n",
      "|nail      |\n",
      "|salon     |\n",
      "|waxing    |\n",
      "|hair      |\n",
      "|removal   |\n",
      "|service   |\n",
      "|bakery    |\n",
      "|health    |\n",
      "+----------+\n",
      "only showing top 20 rows\n",
      "\n"
     ]
    }
   ],
   "source": [
    "category_df_exploded_tokenized_exploded = category_df_exploded_tokenized.select(explode(col(\"WORDS\")).alias(\"WORD\"))\n",
    "#mostramos un preview\n",
    "category_df_exploded_tokenized_exploded.show(truncate=False)"
   ]
  },
  {
   "cell_type": "code",
   "execution_count": 84,
   "metadata": {},
   "outputs": [
    {
     "data": {
      "text/plain": [
       "1159882"
      ]
     },
     "execution_count": 84,
     "metadata": {},
     "output_type": "execute_result"
    }
   ],
   "source": [
    "# contamos la cantidad total de filas.\n",
    "category_df_exploded_tokenized_exploded.count()"
   ]
  },
  {
   "cell_type": "code",
   "execution_count": 92,
   "metadata": {},
   "outputs": [
    {
     "name": "stdout",
     "output_type": "stream",
     "text": [
      "Total palabras:  2533\n",
      "Top: \n",
      "+------------------+-----+\n",
      "|              WORD|count|\n",
      "+------------------+-----+\n",
      "|             store|67760|\n",
      "|           service|66700|\n",
      "|              shop|35682|\n",
      "|            agency|29369|\n",
      "|            repair|17459|\n",
      "|         insurance|17189|\n",
      "|        restaurant|16466|\n",
      "|              auto|15231|\n",
      "|          supplier|14137|\n",
      "|        contractor|13340|\n",
      "|             salon|13165|\n",
      "|            center|12740|\n",
      "|            church|12329|\n",
      "|            rental|10254|\n",
      "|     establishment|10084|\n",
      "|           company| 9856|\n",
      "|              home| 9122|\n",
      "|            supply| 8709|\n",
      "|          attorney| 8611|\n",
      "|               car| 7936|\n",
      "|            school| 7574|\n",
      "|            estate| 7405|\n",
      "|            beauty| 7353|\n",
      "|            clinic| 7182|\n",
      "|            office| 6893|\n",
      "|              real| 6740|\n",
      "|            dealer| 6673|\n",
      "|      organization| 6522|\n",
      "|           station| 6392|\n",
      "|               and| 6311|\n",
      "|           dentist| 5989|\n",
      "|          clothing| 5755|\n",
      "|              hair| 5731|\n",
      "|               gas| 5477|\n",
      "|              care| 5372|\n",
      "|        consultant| 5353|\n",
      "|         apartment| 5327|\n",
      "|       convenience| 5129|\n",
      "|           medical| 5054|\n",
      "|         equipment| 4690|\n",
      "|          facility| 4522|\n",
      "|            doctor| 4492|\n",
      "|               atm| 4309|\n",
      "|              park| 4283|\n",
      "|          building| 3829|\n",
      "|             truck| 3801|\n",
      "|         therapist| 3790|\n",
      "|              used| 3600|\n",
      "|           massage| 3576|\n",
      "|          cleaning| 3508|\n",
      "|           storage| 3430|\n",
      "|            health| 3427|\n",
      "|          services| 3425|\n",
      "|               bar| 3357|\n",
      "|         furniture| 3299|\n",
      "|              bank| 3298|\n",
      "|               spa| 3295|\n",
      "|          business| 3279|\n",
      "|           complex| 3236|\n",
      "|            dental| 3176|\n",
      "|          designer| 3170|\n",
      "|             phone| 2980|\n",
      "|               air| 2936|\n",
      "|              nail| 2930|\n",
      "|             parts| 2911|\n",
      "|          computer| 2809|\n",
      "|                 &| 2768|\n",
      "|         corporate| 2749|\n",
      "|        management| 2582|\n",
      "|              food| 2542|\n",
      "|            barber| 2537|\n",
      "|               tax| 2534|\n",
      "|          physical| 2527|\n",
      "|              life| 2524|\n",
      "|               pet| 2518|\n",
      "|        non-profit| 2501|\n",
      "|           general| 2480|\n",
      "|               law| 2458|\n",
      "|          shipping| 2446|\n",
      "|           builder| 2438|\n",
      "|      conditioning| 2438|\n",
      "|      manufacturer| 2420|\n",
      "|              gift| 2412|\n",
      "|           jewelry| 2392|\n",
      "|              cell| 2392|\n",
      "|            family| 2389|\n",
      "|          pharmacy| 2273|\n",
      "|            public| 2271|\n",
      "|         financial| 2267|\n",
      "|           trailer| 2261|\n",
      "|           surgeon| 2197|\n",
      "|      construction| 2179|\n",
      "|           baptist| 2163|\n",
      "|              body| 2144|\n",
      "|          renter's| 2137|\n",
      "|           removal| 2129|\n",
      "|            moving| 2126|\n",
      "|               gym| 2108|\n",
      "|        motorcycle| 2107|\n",
      "|           grocery| 2095|\n",
      "|           mailing| 2060|\n",
      "|            sports| 1992|\n",
      "|             goods| 1972|\n",
      "|              farm| 1921|\n",
      "|       electronics| 1918|\n",
      "|         physician| 1911|\n",
      "|           fitness| 1911|\n",
      "|         remodeler| 1870|\n",
      "|          personal| 1858|\n",
      "|             money| 1816|\n",
      "|        commercial| 1806|\n",
      "|            window| 1806|\n",
      "|              club| 1795|\n",
      "|              lawn| 1766|\n",
      "|            coffee| 1762|\n",
      "|           program| 1760|\n",
      "|       accessories| 1740|\n",
      "|           wedding| 1722|\n",
      "|           women's| 1708|\n",
      "|       preparation| 1685|\n",
      "|            studio| 1685|\n",
      "|      chiropractor| 1666|\n",
      "|             water| 1665|\n",
      "|                of| 1657|\n",
      "|              loan| 1650|\n",
      "|      self-storage| 1648|\n",
      "|              boat| 1640|\n",
      "|               day| 1613|\n",
      "|             river| 1612|\n",
      "|          mortgage| 1597|\n",
      "|           plumber| 1597|\n",
      "|              tire| 1593|\n",
      "|               bus| 1588|\n",
      "|           planner| 1575|\n",
      "|          cosmetic| 1562|\n",
      "|          provider| 1561|\n",
      "|              firm| 1556|\n",
      "|        government| 1555|\n",
      "|           printer| 1532|\n",
      "|       institution| 1531|\n",
      "|             pizza| 1518|\n",
      "|             event| 1504|\n",
      "|           roofing| 1497|\n",
      "|           heating| 1479|\n",
      "|        wholesaler| 1476|\n",
      "|             venue| 1470|\n",
      "|           tourist| 1453|\n",
      "|         marketing| 1444|\n",
      "|               art| 1438|\n",
      "|       restoration| 1436|\n",
      "|          swimming| 1432|\n",
      "|      photographer| 1428|\n",
      "|          practice| 1423|\n",
      "|           trainer| 1421|\n",
      "|              pool| 1413|\n",
      "|       maintenance| 1400|\n",
      "|              drug| 1397|\n",
      "|             movie| 1394|\n",
      "|         emergency| 1392|\n",
      "|              lake| 1389|\n",
      "|            agents| 1383|\n",
      "|            bakery| 1383|\n",
      "|               dry| 1368|\n",
      "|             photo| 1352|\n",
      "|            system| 1333|\n",
      "|        attraction| 1333|\n",
      "|          medicine| 1332|\n",
      "|         appliance| 1316|\n",
      "|        department| 1315|\n",
      "|          security| 1310|\n",
      "|            lender| 1308|\n",
      "|              shoe| 1305|\n",
      "|            social| 1304|\n",
      "|             glass| 1294|\n",
      "|          property| 1266|\n",
      "|              cafe| 1265|\n",
      "|              hvac| 1259|\n",
      "|          flooring| 1222|\n",
      "|           cleaner| 1219|\n",
      "|           parking| 1201|\n",
      "|            carpet| 1193|\n",
      "|              stop| 1183|\n",
      "|           groomer| 1179|\n",
      "|               oil| 1179|\n",
      "|         cosmetics| 1175|\n",
      "|          trucking| 1173|\n",
      "|        landscaper| 1172|\n",
      "|             order| 1163|\n",
      "|        employment| 1163|\n",
      "|          delivery| 1160|\n",
      "|             house| 1155|\n",
      "|              tree| 1150|\n",
      "|       optometrist| 1150|\n",
      "|            broker| 1148|\n",
      "|               dog| 1147|\n",
      "|       electrician| 1145|\n",
      "|               van| 1139|\n",
      "|           takeout| 1133|\n",
      "|telecommunications| 1124|\n",
      "|                or| 1120|\n",
      "+------------------+-----+\n",
      "only showing top 200 rows\n",
      "\n"
     ]
    }
   ],
   "source": [
    "# agrupamos y contamos\n",
    "category_df_exploded_tokenized_exploded_count = category_df_exploded_tokenized_exploded.groupBy(\"WORD\").count()\n",
    "\n",
    "print(\"Total palabras: \",category_df_exploded_tokenized_exploded_count.count()) \n",
    "\n",
    "print(\"Top: \")\n",
    "category_df_exploded_tokenized_exploded_count.orderBy(\"count\", ascending=False).show(200)"
   ]
  },
  {
   "cell_type": "markdown",
   "metadata": {},
   "source": [
    "#### Filtrado de negocios\n",
    "En este apartado vamos a filtrar los negocios que nos interesan basados en sus categorías."
   ]
  },
  {
   "cell_type": "code",
   "execution_count": 78,
   "metadata": {},
   "outputs": [],
   "source": [
    "# Toca validar que servicios nos interesa filtrar:\n",
    "categories = [\"resort\", \"bar\", \"hotel\", \"sport\", \"turism\", \"gym\", \"theater\", \"pub\", \"restaurant\", \"food\"]\n",
    "#  filtro Diana: 'resort|bar|hotel|sport|turism|gym|theater|pubs|restaurant|food'"
   ]
  },
  {
   "cell_type": "code",
   "execution_count": 79,
   "metadata": {},
   "outputs": [
    {
     "name": "stdout",
     "output_type": "stream",
     "text": [
      "+-------------------------------------+-----------------------+\n",
      "|gmap_id                              |category               |\n",
      "+-------------------------------------+-----------------------+\n",
      "|0x1412bcfc0336fce9:0x33da3c68ef2176ac|Food products supplier |\n",
      "|0x145c2bc56025f085:0xc0703bf29e3f5869|Mexican restaurant     |\n",
      "|0x146c6711a70d7991:0xe478335f760c8ccc|Bar & grill            |\n",
      "|0x14e0372676eb0cb1:0x1fb6b46c7e6aadf4|Hookah bar             |\n",
      "|0x14e198ad826a1173:0xf5e0b932f6da828b|Fish & chips restaurant|\n",
      "|0x14e3db43e40a22fb:0xaaa14b01a99cb9a |Gym                    |\n",
      "|0x14faf9b542b970ff:0x6197fddb303864af|Gym                    |\n",
      "|0x1525d35eb74ccdf3:0xd40c297f66eefede|Breakfast restaurant   |\n",
      "|0x152682cdb239941d:0xe982e9f65d30ce09|Bar                    |\n",
      "|0x40569e72d3c238e5:0x177ebe23bd0003d3|Restaurant             |\n",
      "|0x406607f9019940bd:0x8f897fe6fbeaec74|Pizza restaurant       |\n",
      "|0x40660fd6818fdb1d:0xa7dc46c3beab855b|Gym                    |\n",
      "|0x4070c364e137a8a7:0x6931d81237468391|Pizza restaurant       |\n",
      "|0x407636ffaaab4947:0xc54d1edff24104cf|Restaurant             |\n",
      "|0x4108778147262b9d:0x903f7ef267ec79b8|Performing arts theater|\n",
      "|0x410be70215274303:0xbe0d2a93d5a0a4d1|Gym                    |\n",
      "|0x438e3003f933c30b:0xb1dd23b8c07dd843|Hotel                  |\n",
      "|0x4ca5fecdf839b931:0x4207d7666c7f772d|Snack bar              |\n",
      "|0x4ca8ad3fffffffa1:0x14e63dd5f68adbda|Restaurant             |\n",
      "|0x4ca8bcc4c9f3b7f3:0x19d8869d5375063b|Performing arts theater|\n",
      "+-------------------------------------+-----------------------+\n",
      "only showing top 20 rows\n",
      "\n",
      "Business count:  15838\n"
     ]
    }
   ],
   "source": [
    "##### Filtro Incluyente ##### \n",
    "# Definimos el patrón de regular expresion\n",
    "regex_pattern = r\"(?i)\\b(\" + \"|\".join([re.escape(word) for word in categories]) + r\")\\b\"\n",
    "# Filtramos.\n",
    "df_filtered = df_cached.select(\"gmap_id\", explode(\"category\").alias(\"category\")).filter(col(\"category\").rlike(regex_pattern))\n",
    "# Remover duplicados\n",
    "df_filtered_uniques = df_filtered.dropDuplicates([\"gmap_id\"])\n",
    "df_filtered_uniques.show(truncate=False)\n",
    "\n",
    "print(\"Business count: \", df_filtered_uniques.count())\n"
   ]
  },
  {
   "cell_type": "code",
   "execution_count": 80,
   "metadata": {},
   "outputs": [
    {
     "name": "stdout",
     "output_type": "stream",
     "text": [
      "+--------------------+--------------------+\n",
      "|             gmap_id|            category|\n",
      "+--------------------+--------------------+\n",
      "|0x145c2bc56025f08...|  Mexican restaurant|\n",
      "|0x146c6711a70d799...|         Bar & grill|\n",
      "|0x14e0372676eb0cb...|          Hookah bar|\n",
      "|0x14e198ad826a117...|Fish & chips rest...|\n",
      "|0x14e3db43e40a22f...|                 Gym|\n",
      "|0x14faf9b542b970f...|                 Gym|\n",
      "|0x1525d35eb74ccdf...|Breakfast restaurant|\n",
      "|0x152682cdb239941...|                 Bar|\n",
      "|0x40569e72d3c238e...|          Restaurant|\n",
      "|0x406607f9019940b...|    Pizza restaurant|\n",
      "|0x40660fd6818fdb1...|                 Gym|\n",
      "|0x4070c364e137a8a...|    Pizza restaurant|\n",
      "|0x407636ffaaab494...|          Restaurant|\n",
      "|0x4108778147262b9...|Performing arts t...|\n",
      "|0x410be7021527430...|                 Gym|\n",
      "|0x438e3003f933c30...|               Hotel|\n",
      "|0x4ca5fecdf839b93...|           Snack bar|\n",
      "|0x4ca8ad3fffffffa...|          Restaurant|\n",
      "|0x4ca8bcc4c9f3b7f...|Performing arts t...|\n",
      "|0x4cad85e6d5f862d...|          Restaurant|\n",
      "+--------------------+--------------------+\n",
      "only showing top 20 rows\n",
      "\n"
     ]
    },
    {
     "data": {
      "text/plain": [
       "15586"
      ]
     },
     "execution_count": 80,
     "metadata": {},
     "output_type": "execute_result"
    }
   ],
   "source": [
    "##### Filtro Excluyente ##### \n",
    "# removemos los proveedores.\n",
    "df_further_filtered = df_filtered_uniques.filter(~df_filtered_uniques[\"category\"].contains(\"supplier\"))\n",
    "df_further_filtered.show()\n",
    "df_further_filtered.count()"
   ]
  },
  {
   "cell_type": "code",
   "execution_count": 81,
   "metadata": {},
   "outputs": [],
   "source": [
    "df_selected_gmap_id = df_further_filtered.select(\"gmap_id\")"
   ]
  },
  {
   "cell_type": "code",
   "execution_count": 82,
   "metadata": {},
   "outputs": [
    {
     "name": "stdout",
     "output_type": "stream",
     "text": [
      "+--------------------+--------------------+--------------------+----------+--------------------+------------------+------------------+--------------------+--------------+--------------------+\n",
      "|             gmap_id|                MISC|             address|avg_rating|            category|          latitude|         longitude|                name|num_of_reviews|    relative_results|\n",
      "+--------------------+--------------------+--------------------+----------+--------------------+------------------+------------------+--------------------+--------------+--------------------+\n",
      "|0x145c2bc56025f08...|{[Wheelchair acce...|La Posada Del Rey...|       4.8|[Mexican restaurant]|        29.5051316|       -98.4581639|   La Posada Del Rey|             8|[0x865cf6cdb7fee6...|\n",
      "|0x14e198ad826a117...|{[Wheelchair acce...|Bellflower Fish &...|       4.2|[Fish & chips res...|         33.888707|      -118.1377589|Bellflower Fish &...|             5|                NULL|\n",
      "|0x407636ffaaab494...|{NULL, NULL, NULL...|Rob's Lunch Box D...|       4.8|[Restaurant, Rest...|        38.3551241|      -122.7086001|Rob's Lunch Box D...|             4|[0x808435fc75063e...|\n",
      "|0x4cad85e6d5f862d...|{NULL, NULL, NULL...|New Meadows Seafo...|       4.8|[Seafood market, ...|        43.9280587|       -69.8585195|New Meadows Seafo...|             8|[0x4cad85aba0a97d...|\n",
      "|0x4cad87dbad1b7c5...|{[Wheelchair acce...|Maine St. Steak &...|       4.7|        [Restaurant]|43.914668299999995|-69.96528889999999|Maine St. Steak &...|            47|                NULL|\n",
      "|0x4cadd1b6ebb70ed...|{[Wheelchair acce...|Taco Bell, 1096 C...|       3.4|[Mexican restaura...|        44.1287491|       -69.0952696|           Taco Bell|            24|[0x4cadd1b6ebb70e...|\n",
      "|0x4cae0f2aa4c8596...|{[Wheelchair acce...|Circle K, 498 Bel...|       3.8|[Convenience stor...|        44.3854665|-69.35962119999999|            Circle K|             8|[0x4cae08d54da07b...|\n",
      "|0x4cae45b3bcbcbc7...|{[Wheelchair acce...|Rosie's Diner, 13...|       1.0|        [Restaurant]|44.637535299999996|        -68.845534|       Rosie's Diner|             1|[0x4cae45b3e864ea...|\n",
      "|0x4caebd15f22f56e...|{[Wheelchair acce...|Joey's Place Spor...|       4.6|[Sports bar, Bar,...|44.282329499999996|       -68.3264567|Joey's Place Spor...|            78|[0x4caebd3b2f73ed...|\n",
      "|0x4caebf47c3cd88b...|{NULL, NULL, [Bar...|The Annex - by Si...|       4.9|        [Restaurant]|44.388207799999996|       -68.2063757|The Annex - by Si...|            18|[0x4caebf634eab03...|\n",
      "|0x4caef02f3d37ad2...|{[Wheelchair acce...|Hancock Food Inc,...|       4.5|[Food processing ...|        44.5527648|       -68.3836441|    Hancock Food Inc|             4|[0x4caeef05d56ff8...|\n",
      "|0x4cb02ed870ec6dd...|{NULL, NULL, [Goo...|All Aboard Restau...|       3.4|        [Restaurant]|        45.0297285|-69.28741219999999|All Aboard Restau...|            33|[0x4cb02ecfc28a5b...|\n",
      "|0x4cb20135e1ed609...|{[Wheelchair acce...|The Gin Mill, 302...|       4.6|         [Mill, Bar]|        44.3143118|       -69.7749062|        The Gin Mill|             8|[0x4cb203ff80d085...|\n",
      "|0x4cb206edd808421...|{NULL, NULL, [Goo...|Kennebec Pizza Co...|       4.2|  [Pizza restaurant]|        44.2857199|       -69.7899789|   Kennebec Pizza Co|            18|[0x4cb20808c32310...|\n",
      "|0x4cb278a2163dd72...|{NULL, NULL, NULL...|Thai Villa Restau...|       4.6|[Takeout Restaura...|         43.911804|-69.99602999999999|Thai Villa Restau...|            38|[0x4cad876c377a64...|\n",
      "|0x4cb27ce253de87f...|{NULL, NULL, [Goo...|Edna & Lucy's, 40...|       4.7|        [Restaurant]|        43.8915576|       -70.1845117|       Edna & Lucy's|            28|[0x4cb27eefb7b13a...|\n",
      "|0x4cb29bf96216f9a...|{NULL, NULL, [Goo...|Big J's Chicken S...|       3.5|[Fried chicken ta...|        43.6515947|       -70.2905482|Big J's Chicken S...|            36|[0x4cb29c063c04e2...|\n",
      "|0x4cb29c1dea53f29...|{NULL, NULL, [Goo...|Benny's Famous Fr...|       2.8|        [Restaurant]|43.643365499999994|       -70.2724568|Benny's Famous Fr...|            17|[0x4cb29ebe47f077...|\n",
      "|0x4cb2a1cb2889a9d...|{[Wheelchair acce...|Domino's Pizza, 8...|       3.9|[Pizza delivery, ...|43.514828099999995|       -70.3785523|      Domino's Pizza|            24|                NULL|\n",
      "|0x4cb30993e09e7d0...|{[Wheelchair acce...|Core Community Fi...|       4.7|  [Gym, Yoga studio]|44.006169299999996|       -71.0756634|Core Community Fi...|             8|[0x4cb309be9ceba8...|\n",
      "+--------------------+--------------------+--------------------+----------+--------------------+------------------+------------------+--------------------+--------------+--------------------+\n",
      "only showing top 20 rows\n",
      "\n"
     ]
    },
    {
     "data": {
      "text/plain": [
       "15586"
      ]
     },
     "execution_count": 82,
     "metadata": {},
     "output_type": "execute_result"
    }
   ],
   "source": [
    "# Filtramos el dataset original con las ocurrencias encontradas.\n",
    "df_filtered = df_cached.join(df_selected_gmap_id, on=\"gmap_id\", how=\"inner\").dropDuplicates([\"gmap_id\"])\n",
    "df_filtered.show()\n",
    "df_filtered.count()"
   ]
  },
  {
   "cell_type": "code",
   "execution_count": 83,
   "metadata": {},
   "outputs": [
    {
     "data": {
      "text/plain": [
       "DataFrame[MISC: struct<Accessibility:array<string>,Activities:array<string>,Amenities:array<string>,Atmosphere:array<string>,Crowd:array<string>,Dining options:array<string>,From the business:array<string>,Getting here:array<string>,Health & safety:array<string>,Highlights:array<string>,Offerings:array<string>,Payments:array<string>,Planning:array<string>,Popular for:array<string>,Recycling:array<string>,Service options:array<string>>, address: string, avg_rating: double, category: array<string>, gmap_id: string, latitude: double, longitude: double, name: string, num_of_reviews: bigint, relative_results: array<string>]"
      ]
     },
     "execution_count": 83,
     "metadata": {},
     "output_type": "execute_result"
    }
   ],
   "source": [
    "# Liberamos el cache.\n",
    "df_cached.unpersist()"
   ]
  },
  {
   "cell_type": "markdown",
   "metadata": {},
   "source": [
    "# Funcion ETL para metadata-sitios"
   ]
  },
  {
   "cell_type": "code",
   "execution_count": 4,
   "metadata": {},
   "outputs": [],
   "source": [
    "# variables globales\n",
    "CATEGORIES_INCLUDE = [\"resort\", \"bar\", \"hotel\", \"sport\", \"turism\", \"gym\", \"theater\", \"pub\", \"restaurant\", \"food\"]\n",
    "CATEGORIES_EXCLUDE = [\"supplier\"]\n",
    "REGEX_PATTERN_INCLUDE = r\"(?i)\\b(\" + \"|\".join([re.escape(word) for word in CATEGORIES_INCLUDE]) + r\")\\b\"\n",
    "REGEX_PATTERN_EXCLUDE = r\"(?i)\\b(\" + \"|\".join([re.escape(word) for word in CATEGORIES_EXCLUDE]) + r\")\\b\"\n",
    "\n",
    "# funcion\n",
    "def metadata_treatment(spark_df):\n",
    "    # Dropeado de columnas\n",
    "    spark_df = spark_df.drop(*[\"description\", \"hours\", \"price\", \"state\", \"url\"])\n",
    "\n",
    "    # Explosion and Inclusion and exclusion. Extraemos las gmaps_id deseadas\n",
    "    select_gmap_id = spark_df.select(\"gmap_id\", explode(\"category\").alias(\"category\")).filter(col(\"category\").rlike(REGEX_PATTERN_INCLUDE))\\\n",
    "        .filter(~col(\"category\").rlike(REGEX_PATTERN_EXCLUDE)).dropDuplicates([\"gmap_id\"]).select(\"gmap_id\")\n",
    "\n",
    "    # filtramos el dataset original en base a la lista obtenida\n",
    "    spark_df_filtered = spark_df.join(select_gmap_id, on=\"gmap_id\", how=\"inner\").dropDuplicates([\"gmap_id\"])\n",
    "\n",
    "    # Anexamos la columna \"state\" en referencia al estado . ie. california: CA.\n",
    "    state_regexp = r\",\\s([A-Z]{2})\\s\\d{5}\"\n",
    "    spark_df_filtered = spark_df_filtered.withColumn(\"state\", regexp_extract(\"address\", state_regexp, 1))\n",
    "    spark_df_filtered = spark_df_filtered.dropna(subset=\"state\")\n",
    "    \n",
    "    return spark_df_filtered\n"
   ]
  },
  {
   "cell_type": "code",
   "execution_count": 9,
   "metadata": {},
   "outputs": [],
   "source": [
    "# Test\n",
    "filtered_df = metadata_treatment(df_cached)"
   ]
  },
  {
   "cell_type": "code",
   "execution_count": 10,
   "metadata": {},
   "outputs": [
    {
     "name": "stdout",
     "output_type": "stream",
     "text": [
      "15530\n",
      "+--------------------+--------------------+--------------------+----------+--------------------+------------------+------------------+--------------------+--------------+--------------------+-----+\n",
      "|             gmap_id|                MISC|             address|avg_rating|            category|          latitude|         longitude|                name|num_of_reviews|    relative_results|state|\n",
      "+--------------------+--------------------+--------------------+----------+--------------------+------------------+------------------+--------------------+--------------+--------------------+-----+\n",
      "|0x145c2bc56025f08...|{[Wheelchair acce...|La Posada Del Rey...|       4.8|[Mexican restaurant]|        29.5051316|       -98.4581639|   La Posada Del Rey|             8|[0x865cf6cdb7fee6...|   TX|\n",
      "|0x14e198ad826a117...|{[Wheelchair acce...|Bellflower Fish &...|       4.2|[Fish & chips res...|         33.888707|      -118.1377589|Bellflower Fish &...|             5|                NULL|   CA|\n",
      "|0x407636ffaaab494...|{NULL, NULL, NULL...|Rob's Lunch Box D...|       4.8|[Restaurant, Rest...|        38.3551241|      -122.7086001|Rob's Lunch Box D...|             4|[0x808435fc75063e...|   CA|\n",
      "|0x4cad85e6d5f862d...|{NULL, NULL, NULL...|New Meadows Seafo...|       4.8|[Seafood market, ...|        43.9280587|       -69.8585195|New Meadows Seafo...|             8|[0x4cad85aba0a97d...|   ME|\n",
      "|0x4cad87dbad1b7c5...|{[Wheelchair acce...|Maine St. Steak &...|       4.7|        [Restaurant]|43.914668299999995|-69.96528889999999|Maine St. Steak &...|            47|                NULL|   ME|\n",
      "|0x4cadd1b6ebb70ed...|{[Wheelchair acce...|Taco Bell, 1096 C...|       3.4|[Mexican restaura...|        44.1287491|       -69.0952696|           Taco Bell|            24|[0x4cadd1b6ebb70e...|   ME|\n",
      "|0x4cae0f2aa4c8596...|{[Wheelchair acce...|Circle K, 498 Bel...|       3.8|[Convenience stor...|        44.3854665|-69.35962119999999|            Circle K|             8|[0x4cae08d54da07b...|   ME|\n",
      "|0x4cae45b3bcbcbc7...|{[Wheelchair acce...|Rosie's Diner, 13...|       1.0|        [Restaurant]|44.637535299999996|        -68.845534|       Rosie's Diner|             1|[0x4cae45b3e864ea...|   ME|\n",
      "|0x4caebd15f22f56e...|{[Wheelchair acce...|Joey's Place Spor...|       4.6|[Sports bar, Bar,...|44.282329499999996|       -68.3264567|Joey's Place Spor...|            78|[0x4caebd3b2f73ed...|   ME|\n",
      "|0x4caebf47c3cd88b...|{NULL, NULL, [Bar...|The Annex - by Si...|       4.9|        [Restaurant]|44.388207799999996|       -68.2063757|The Annex - by Si...|            18|[0x4caebf634eab03...|   ME|\n",
      "|0x4caef02f3d37ad2...|{[Wheelchair acce...|Hancock Food Inc,...|       4.5|[Food processing ...|        44.5527648|       -68.3836441|    Hancock Food Inc|             4|[0x4caeef05d56ff8...|   ME|\n",
      "|0x4cb02ed870ec6dd...|{NULL, NULL, [Goo...|All Aboard Restau...|       3.4|        [Restaurant]|        45.0297285|-69.28741219999999|All Aboard Restau...|            33|[0x4cb02ecfc28a5b...|   ME|\n",
      "|0x4cb20135e1ed609...|{[Wheelchair acce...|The Gin Mill, 302...|       4.6|         [Mill, Bar]|        44.3143118|       -69.7749062|        The Gin Mill|             8|[0x4cb203ff80d085...|   ME|\n",
      "|0x4cb206edd808421...|{NULL, NULL, [Goo...|Kennebec Pizza Co...|       4.2|  [Pizza restaurant]|        44.2857199|       -69.7899789|   Kennebec Pizza Co|            18|[0x4cb20808c32310...|   ME|\n",
      "|0x4cb278a2163dd72...|{NULL, NULL, NULL...|Thai Villa Restau...|       4.6|[Takeout Restaura...|         43.911804|-69.99602999999999|Thai Villa Restau...|            38|[0x4cad876c377a64...|   ME|\n",
      "|0x4cb27ce253de87f...|{NULL, NULL, [Goo...|Edna & Lucy's, 40...|       4.7|        [Restaurant]|        43.8915576|       -70.1845117|       Edna & Lucy's|            28|[0x4cb27eefb7b13a...|   ME|\n",
      "|0x4cb29bf96216f9a...|{NULL, NULL, [Goo...|Big J's Chicken S...|       3.5|[Fried chicken ta...|        43.6515947|       -70.2905482|Big J's Chicken S...|            36|[0x4cb29c063c04e2...|   ME|\n",
      "|0x4cb29c1dea53f29...|{NULL, NULL, [Goo...|Benny's Famous Fr...|       2.8|        [Restaurant]|43.643365499999994|       -70.2724568|Benny's Famous Fr...|            17|[0x4cb29ebe47f077...|   ME|\n",
      "|0x4cb2a1cb2889a9d...|{[Wheelchair acce...|Domino's Pizza, 8...|       3.9|[Pizza delivery, ...|43.514828099999995|       -70.3785523|      Domino's Pizza|            24|                NULL|   ME|\n",
      "|0x4cb30993e09e7d0...|{[Wheelchair acce...|Core Community Fi...|       4.7|  [Gym, Yoga studio]|44.006169299999996|       -71.0756634|Core Community Fi...|             8|[0x4cb309be9ceba8...|   NH|\n",
      "+--------------------+--------------------+--------------------+----------+--------------------+------------------+------------------+--------------------+--------------+--------------------+-----+\n",
      "only showing top 20 rows\n",
      "\n"
     ]
    }
   ],
   "source": [
    "print(filtered_df.count())\n",
    "filtered_df.show()"
   ]
  },
  {
   "cell_type": "code",
   "execution_count": 11,
   "metadata": {},
   "outputs": [],
   "source": [
    "# Guardamos el esquema de salida.\n",
    "output_schema = filtered_df.schema"
   ]
  },
  {
   "cell_type": "code",
   "execution_count": 105,
   "metadata": {},
   "outputs": [
    {
     "name": "stdout",
     "output_type": "stream",
     "text": [
      "root\n",
      " |-- gmap_id: string (nullable = true)\n",
      " |-- MISC: struct (nullable = true)\n",
      " |    |-- Accessibility: array (nullable = true)\n",
      " |    |    |-- element: string (containsNull = true)\n",
      " |    |-- Activities: array (nullable = true)\n",
      " |    |    |-- element: string (containsNull = true)\n",
      " |    |-- Amenities: array (nullable = true)\n",
      " |    |    |-- element: string (containsNull = true)\n",
      " |    |-- Atmosphere: array (nullable = true)\n",
      " |    |    |-- element: string (containsNull = true)\n",
      " |    |-- Crowd: array (nullable = true)\n",
      " |    |    |-- element: string (containsNull = true)\n",
      " |    |-- Dining options: array (nullable = true)\n",
      " |    |    |-- element: string (containsNull = true)\n",
      " |    |-- From the business: array (nullable = true)\n",
      " |    |    |-- element: string (containsNull = true)\n",
      " |    |-- Getting here: array (nullable = true)\n",
      " |    |    |-- element: string (containsNull = true)\n",
      " |    |-- Health & safety: array (nullable = true)\n",
      " |    |    |-- element: string (containsNull = true)\n",
      " |    |-- Highlights: array (nullable = true)\n",
      " |    |    |-- element: string (containsNull = true)\n",
      " |    |-- Offerings: array (nullable = true)\n",
      " |    |    |-- element: string (containsNull = true)\n",
      " |    |-- Payments: array (nullable = true)\n",
      " |    |    |-- element: string (containsNull = true)\n",
      " |    |-- Planning: array (nullable = true)\n",
      " |    |    |-- element: string (containsNull = true)\n",
      " |    |-- Popular for: array (nullable = true)\n",
      " |    |    |-- element: string (containsNull = true)\n",
      " |    |-- Recycling: array (nullable = true)\n",
      " |    |    |-- element: string (containsNull = true)\n",
      " |    |-- Service options: array (nullable = true)\n",
      " |    |    |-- element: string (containsNull = true)\n",
      " |-- address: string (nullable = true)\n",
      " |-- avg_rating: double (nullable = true)\n",
      " |-- category: array (nullable = true)\n",
      " |    |-- element: string (containsNull = true)\n",
      " |-- latitude: double (nullable = true)\n",
      " |-- longitude: double (nullable = true)\n",
      " |-- name: string (nullable = true)\n",
      " |-- num_of_reviews: long (nullable = true)\n",
      " |-- relative_results: array (nullable = true)\n",
      " |    |-- element: string (containsNull = true)\n",
      " |-- state: string (nullable = true)\n",
      "\n"
     ]
    }
   ],
   "source": [
    "filtered_df.printSchema()"
   ]
  },
  {
   "cell_type": "markdown",
   "metadata": {},
   "source": [
    "# Rutina para union de datasets metadata\n",
    "Definimos una rutina para aplicar el ETL a cada archivo presente."
   ]
  },
  {
   "cell_type": "code",
   "execution_count": 12,
   "metadata": {},
   "outputs": [],
   "source": [
    "# Definición del folder\n",
    "folder_path = r\"F:\\DataScience\\PF - DataNova\\datasets\\Google Maps\\metadata-sitios\""
   ]
  },
  {
   "cell_type": "markdown",
   "metadata": {},
   "source": [
    "### Opcion 1: Crear un solo archivo y ir anexando cada dataset despues de filtrado"
   ]
  },
  {
   "cell_type": "code",
   "execution_count": 13,
   "metadata": {},
   "outputs": [
    {
     "name": "stdout",
     "output_type": "stream",
     "text": [
      "Iteración:  1\n",
      "Iteración:  2\n",
      "Iteración:  3\n",
      "Iteración:  4\n",
      "Iteración:  5\n",
      "Iteración:  6\n",
      "Iteración:  7\n",
      "Iteración:  8\n",
      "Iteración:  9\n",
      "Iteración:  10\n",
      "Iteración:  11\n"
     ]
    }
   ],
   "source": [
    "count = 0\n",
    "\n",
    "for file_name in os.listdir(folder_path):\n",
    "    \n",
    "    # recuperamos el nombre de cada archivo.\n",
    "    file_path = os.path.join(folder_path, file_name)\n",
    "\n",
    "    # cargamos el archivo a un df de spark\n",
    "    df = spark.read.schema(output_schema).json(file_path)\n",
    "\n",
    "    # aplicamos los métodos ETL.\n",
    "    df_ETLed = metadata_treatment(df)\n",
    "\n",
    "    if count == 0:\n",
    "        union_df = df_ETLed.select(\"*\")\n",
    "    else:\n",
    "        union_df = union_df.union(df_ETLed)\n",
    "\n",
    "    count+=1\n",
    "    print(\"Iteración: \", count)\n",
    "    \n"
   ]
  },
  {
   "cell_type": "code",
   "execution_count": 14,
   "metadata": {},
   "outputs": [
    {
     "data": {
      "text/plain": [
       "296047"
      ]
     },
     "execution_count": 14,
     "metadata": {},
     "output_type": "execute_result"
    }
   ],
   "source": [
    "union_df.count()"
   ]
  },
  {
   "cell_type": "code",
   "execution_count": 17,
   "metadata": {},
   "outputs": [
    {
     "ename": "Py4JJavaError",
     "evalue": "An error occurred while calling o631.json.\n: java.lang.RuntimeException: java.io.FileNotFoundException: java.io.FileNotFoundException: HADOOP_HOME and hadoop.home.dir are unset. -see https://wiki.apache.org/hadoop/WindowsProblems\r\n\tat org.apache.hadoop.util.Shell.getWinUtilsPath(Shell.java:735)\r\n\tat org.apache.hadoop.util.Shell.getSetPermissionCommand(Shell.java:270)\r\n\tat org.apache.hadoop.util.Shell.getSetPermissionCommand(Shell.java:286)\r\n\tat org.apache.hadoop.fs.RawLocalFileSystem.setPermission(RawLocalFileSystem.java:978)\r\n\tat org.apache.hadoop.fs.RawLocalFileSystem.mkOneDirWithMode(RawLocalFileSystem.java:660)\r\n\tat org.apache.hadoop.fs.RawLocalFileSystem.mkdirsWithOptionalPermission(RawLocalFileSystem.java:700)\r\n\tat org.apache.hadoop.fs.RawLocalFileSystem.mkdirs(RawLocalFileSystem.java:672)\r\n\tat org.apache.hadoop.fs.RawLocalFileSystem.mkdirsWithOptionalPermission(RawLocalFileSystem.java:699)\r\n\tat org.apache.hadoop.fs.RawLocalFileSystem.mkdirs(RawLocalFileSystem.java:672)\r\n\tat org.apache.hadoop.fs.RawLocalFileSystem.mkdirsWithOptionalPermission(RawLocalFileSystem.java:699)\r\n\tat org.apache.hadoop.fs.RawLocalFileSystem.mkdirs(RawLocalFileSystem.java:672)\r\n\tat org.apache.hadoop.fs.ChecksumFileSystem.mkdirs(ChecksumFileSystem.java:788)\r\n\tat org.apache.hadoop.mapreduce.lib.output.FileOutputCommitter.setupJob(FileOutputCommitter.java:356)\r\n\tat org.apache.spark.internal.io.HadoopMapReduceCommitProtocol.setupJob(HadoopMapReduceCommitProtocol.scala:188)\r\n\tat org.apache.spark.sql.execution.datasources.FileFormatWriter$.writeAndCommit(FileFormatWriter.scala:269)\r\n\tat org.apache.spark.sql.execution.datasources.FileFormatWriter$.executeWrite(FileFormatWriter.scala:304)\r\n\tat org.apache.spark.sql.execution.datasources.FileFormatWriter$.write(FileFormatWriter.scala:190)\r\n\tat org.apache.spark.sql.execution.datasources.InsertIntoHadoopFsRelationCommand.run(InsertIntoHadoopFsRelationCommand.scala:190)\r\n\tat org.apache.spark.sql.execution.command.DataWritingCommandExec.sideEffectResult$lzycompute(commands.scala:113)\r\n\tat org.apache.spark.sql.execution.command.DataWritingCommandExec.sideEffectResult(commands.scala:111)\r\n\tat org.apache.spark.sql.execution.command.DataWritingCommandExec.executeCollect(commands.scala:125)\r\n\tat org.apache.spark.sql.execution.adaptive.AdaptiveSparkPlanExec.$anonfun$executeCollect$1(AdaptiveSparkPlanExec.scala:390)\r\n\tat org.apache.spark.sql.execution.adaptive.AdaptiveSparkPlanExec.withFinalPlanUpdate(AdaptiveSparkPlanExec.scala:418)\r\n\tat org.apache.spark.sql.execution.adaptive.AdaptiveSparkPlanExec.executeCollect(AdaptiveSparkPlanExec.scala:390)\r\n\tat org.apache.spark.sql.execution.QueryExecution$$anonfun$eagerlyExecuteCommands$1.$anonfun$applyOrElse$1(QueryExecution.scala:107)\r\n\tat org.apache.spark.sql.execution.SQLExecution$.$anonfun$withNewExecutionId$6(SQLExecution.scala:125)\r\n\tat org.apache.spark.sql.execution.SQLExecution$.withSQLConfPropagated(SQLExecution.scala:201)\r\n\tat org.apache.spark.sql.execution.SQLExecution$.$anonfun$withNewExecutionId$1(SQLExecution.scala:108)\r\n\tat org.apache.spark.sql.SparkSession.withActive(SparkSession.scala:900)\r\n\tat org.apache.spark.sql.execution.SQLExecution$.withNewExecutionId(SQLExecution.scala:66)\r\n\tat org.apache.spark.sql.execution.QueryExecution$$anonfun$eagerlyExecuteCommands$1.applyOrElse(QueryExecution.scala:107)\r\n\tat org.apache.spark.sql.execution.QueryExecution$$anonfun$eagerlyExecuteCommands$1.applyOrElse(QueryExecution.scala:98)\r\n\tat org.apache.spark.sql.catalyst.trees.TreeNode.$anonfun$transformDownWithPruning$1(TreeNode.scala:461)\r\n\tat org.apache.spark.sql.catalyst.trees.CurrentOrigin$.withOrigin(origin.scala:76)\r\n\tat org.apache.spark.sql.catalyst.trees.TreeNode.transformDownWithPruning(TreeNode.scala:461)\r\n\tat org.apache.spark.sql.catalyst.plans.logical.LogicalPlan.org$apache$spark$sql$catalyst$plans$logical$AnalysisHelper$$super$transformDownWithPruning(LogicalPlan.scala:32)\r\n\tat org.apache.spark.sql.catalyst.plans.logical.AnalysisHelper.transformDownWithPruning(AnalysisHelper.scala:267)\r\n\tat org.apache.spark.sql.catalyst.plans.logical.AnalysisHelper.transformDownWithPruning$(AnalysisHelper.scala:263)\r\n\tat org.apache.spark.sql.catalyst.plans.logical.LogicalPlan.transformDownWithPruning(LogicalPlan.scala:32)\r\n\tat org.apache.spark.sql.catalyst.plans.logical.LogicalPlan.transformDownWithPruning(LogicalPlan.scala:32)\r\n\tat org.apache.spark.sql.catalyst.trees.TreeNode.transformDown(TreeNode.scala:437)\r\n\tat org.apache.spark.sql.execution.QueryExecution.eagerlyExecuteCommands(QueryExecution.scala:98)\r\n\tat org.apache.spark.sql.execution.QueryExecution.commandExecuted$lzycompute(QueryExecution.scala:85)\r\n\tat org.apache.spark.sql.execution.QueryExecution.commandExecuted(QueryExecution.scala:83)\r\n\tat org.apache.spark.sql.execution.QueryExecution.assertCommandExecuted(QueryExecution.scala:142)\r\n\tat org.apache.spark.sql.DataFrameWriter.runCommand(DataFrameWriter.scala:869)\r\n\tat org.apache.spark.sql.DataFrameWriter.saveToV1Source(DataFrameWriter.scala:391)\r\n\tat org.apache.spark.sql.DataFrameWriter.saveInternal(DataFrameWriter.scala:364)\r\n\tat org.apache.spark.sql.DataFrameWriter.save(DataFrameWriter.scala:243)\r\n\tat org.apache.spark.sql.DataFrameWriter.json(DataFrameWriter.scala:784)\r\n\tat sun.reflect.NativeMethodAccessorImpl.invoke0(Native Method)\r\n\tat sun.reflect.NativeMethodAccessorImpl.invoke(Unknown Source)\r\n\tat sun.reflect.DelegatingMethodAccessorImpl.invoke(Unknown Source)\r\n\tat java.lang.reflect.Method.invoke(Unknown Source)\r\n\tat py4j.reflection.MethodInvoker.invoke(MethodInvoker.java:244)\r\n\tat py4j.reflection.ReflectionEngine.invoke(ReflectionEngine.java:374)\r\n\tat py4j.Gateway.invoke(Gateway.java:282)\r\n\tat py4j.commands.AbstractCommand.invokeMethod(AbstractCommand.java:132)\r\n\tat py4j.commands.CallCommand.execute(CallCommand.java:79)\r\n\tat py4j.ClientServerConnection.waitForCommands(ClientServerConnection.java:182)\r\n\tat py4j.ClientServerConnection.run(ClientServerConnection.java:106)\r\n\tat java.lang.Thread.run(Unknown Source)\r\nCaused by: java.io.FileNotFoundException: java.io.FileNotFoundException: HADOOP_HOME and hadoop.home.dir are unset. -see https://wiki.apache.org/hadoop/WindowsProblems\r\n\tat org.apache.hadoop.util.Shell.fileNotFoundException(Shell.java:547)\r\n\tat org.apache.hadoop.util.Shell.getHadoopHomeDir(Shell.java:568)\r\n\tat org.apache.hadoop.util.Shell.getQualifiedBin(Shell.java:591)\r\n\tat org.apache.hadoop.util.Shell.<clinit>(Shell.java:688)\r\n\tat org.apache.hadoop.util.StringUtils.<clinit>(StringUtils.java:79)\r\n\tat org.apache.hadoop.conf.Configuration.getTimeDurationHelper(Configuration.java:1907)\r\n\tat org.apache.hadoop.conf.Configuration.getTimeDuration(Configuration.java:1867)\r\n\tat org.apache.hadoop.conf.Configuration.getTimeDuration(Configuration.java:1840)\r\n\tat org.apache.hadoop.util.ShutdownHookManager.getShutdownTimeout(ShutdownHookManager.java:183)\r\n\tat org.apache.hadoop.util.ShutdownHookManager$HookEntry.<init>(ShutdownHookManager.java:207)\r\n\tat org.apache.hadoop.util.ShutdownHookManager.addShutdownHook(ShutdownHookManager.java:304)\r\n\tat org.apache.spark.util.SparkShutdownHookManager.install(ShutdownHookManager.scala:181)\r\n\tat org.apache.spark.util.ShutdownHookManager$.shutdownHooks$lzycompute(ShutdownHookManager.scala:50)\r\n\tat org.apache.spark.util.ShutdownHookManager$.shutdownHooks(ShutdownHookManager.scala:48)\r\n\tat org.apache.spark.util.ShutdownHookManager$.addShutdownHook(ShutdownHookManager.scala:153)\r\n\tat org.apache.spark.util.ShutdownHookManager$.<init>(ShutdownHookManager.scala:58)\r\n\tat org.apache.spark.util.ShutdownHookManager$.<clinit>(ShutdownHookManager.scala)\r\n\tat org.apache.spark.util.Utils$.createTempDir(Utils.scala:242)\r\n\tat org.apache.spark.util.SparkFileUtils.createTempDir(SparkFileUtils.scala:103)\r\n\tat org.apache.spark.util.SparkFileUtils.createTempDir$(SparkFileUtils.scala:102)\r\n\tat org.apache.spark.util.Utils$.createTempDir(Utils.scala:94)\r\n\tat org.apache.spark.deploy.SparkSubmit.prepareSubmitEnvironment(SparkSubmit.scala:372)\r\n\tat org.apache.spark.deploy.SparkSubmit.org$apache$spark$deploy$SparkSubmit$$runMain(SparkSubmit.scala:964)\r\n\tat org.apache.spark.deploy.SparkSubmit.doRunMain$1(SparkSubmit.scala:194)\r\n\tat org.apache.spark.deploy.SparkSubmit.submit(SparkSubmit.scala:217)\r\n\tat org.apache.spark.deploy.SparkSubmit.doSubmit(SparkSubmit.scala:91)\r\n\tat org.apache.spark.deploy.SparkSubmit$$anon$2.doSubmit(SparkSubmit.scala:1120)\r\n\tat org.apache.spark.deploy.SparkSubmit$.main(SparkSubmit.scala:1129)\r\n\tat org.apache.spark.deploy.SparkSubmit.main(SparkSubmit.scala)\r\nCaused by: java.io.FileNotFoundException: HADOOP_HOME and hadoop.home.dir are unset.\r\n\tat org.apache.hadoop.util.Shell.checkHadoopHomeInner(Shell.java:467)\r\n\tat org.apache.hadoop.util.Shell.checkHadoopHome(Shell.java:438)\r\n\tat org.apache.hadoop.util.Shell.<clinit>(Shell.java:515)\r\n\t... 25 more\r\n",
     "output_type": "error",
     "traceback": [
      "\u001b[1;31m---------------------------------------------------------------------------\u001b[0m",
      "\u001b[1;31mPy4JJavaError\u001b[0m                             Traceback (most recent call last)",
      "Cell \u001b[1;32mIn[17], line 1\u001b[0m\n\u001b[1;32m----> 1\u001b[0m \u001b[43munion_df\u001b[49m\u001b[38;5;241;43m.\u001b[39;49m\u001b[43mwrite\u001b[49m\u001b[38;5;241;43m.\u001b[39;49m\u001b[43mmode\u001b[49m\u001b[43m(\u001b[49m\u001b[38;5;124;43m\"\u001b[39;49m\u001b[38;5;124;43moverwrite\u001b[39;49m\u001b[38;5;124;43m\"\u001b[39;49m\u001b[43m)\u001b[49m\u001b[38;5;241;43m.\u001b[39;49m\u001b[43mjson\u001b[49m\u001b[43m(\u001b[49m\u001b[38;5;124;43mr\u001b[39;49m\u001b[38;5;124;43m\"\u001b[39;49m\u001b[38;5;124;43mF:\u001b[39;49m\u001b[38;5;124;43m\\\u001b[39;49m\u001b[38;5;124;43mDataScience\u001b[39;49m\u001b[38;5;124;43m\\\u001b[39;49m\u001b[38;5;124;43mPF - DataNova\u001b[39;49m\u001b[38;5;124;43m\\\u001b[39;49m\u001b[38;5;124;43mdatasets\u001b[39;49m\u001b[38;5;124;43m\\\u001b[39;49m\u001b[38;5;124;43msummarized\u001b[39;49m\u001b[38;5;124;43m\\\u001b[39;49m\u001b[38;5;124;43mgoogle\u001b[39;49m\u001b[38;5;124;43m\\\u001b[39;49m\u001b[38;5;124;43mmetadata-sitios-summ.json\u001b[39;49m\u001b[38;5;124;43m\"\u001b[39;49m\u001b[43m)\u001b[49m\n",
      "File \u001b[1;32mF:\\DataScience\\spark\\spark-3.5.3-bin-hadoop3\\spark-3.5.3-bin-hadoop3\\python\\pyspark\\sql\\readwriter.py:1658\u001b[0m, in \u001b[0;36mDataFrameWriter.json\u001b[1;34m(self, path, mode, compression, dateFormat, timestampFormat, lineSep, encoding, ignoreNullFields)\u001b[0m\n\u001b[0;32m   1649\u001b[0m \u001b[38;5;28mself\u001b[39m\u001b[38;5;241m.\u001b[39mmode(mode)\n\u001b[0;32m   1650\u001b[0m \u001b[38;5;28mself\u001b[39m\u001b[38;5;241m.\u001b[39m_set_opts(\n\u001b[0;32m   1651\u001b[0m     compression\u001b[38;5;241m=\u001b[39mcompression,\n\u001b[0;32m   1652\u001b[0m     dateFormat\u001b[38;5;241m=\u001b[39mdateFormat,\n\u001b[1;32m   (...)\u001b[0m\n\u001b[0;32m   1656\u001b[0m     ignoreNullFields\u001b[38;5;241m=\u001b[39mignoreNullFields,\n\u001b[0;32m   1657\u001b[0m )\n\u001b[1;32m-> 1658\u001b[0m \u001b[38;5;28;43mself\u001b[39;49m\u001b[38;5;241;43m.\u001b[39;49m\u001b[43m_jwrite\u001b[49m\u001b[38;5;241;43m.\u001b[39;49m\u001b[43mjson\u001b[49m\u001b[43m(\u001b[49m\u001b[43mpath\u001b[49m\u001b[43m)\u001b[49m\n",
      "File \u001b[1;32mF:\\DataScience\\spark\\spark-3.5.3-bin-hadoop3\\spark-3.5.3-bin-hadoop3\\python\\lib\\py4j-0.10.9.7-src.zip\\py4j\\java_gateway.py:1322\u001b[0m, in \u001b[0;36mJavaMember.__call__\u001b[1;34m(self, *args)\u001b[0m\n\u001b[0;32m   1316\u001b[0m command \u001b[38;5;241m=\u001b[39m proto\u001b[38;5;241m.\u001b[39mCALL_COMMAND_NAME \u001b[38;5;241m+\u001b[39m\\\n\u001b[0;32m   1317\u001b[0m     \u001b[38;5;28mself\u001b[39m\u001b[38;5;241m.\u001b[39mcommand_header \u001b[38;5;241m+\u001b[39m\\\n\u001b[0;32m   1318\u001b[0m     args_command \u001b[38;5;241m+\u001b[39m\\\n\u001b[0;32m   1319\u001b[0m     proto\u001b[38;5;241m.\u001b[39mEND_COMMAND_PART\n\u001b[0;32m   1321\u001b[0m answer \u001b[38;5;241m=\u001b[39m \u001b[38;5;28mself\u001b[39m\u001b[38;5;241m.\u001b[39mgateway_client\u001b[38;5;241m.\u001b[39msend_command(command)\n\u001b[1;32m-> 1322\u001b[0m return_value \u001b[38;5;241m=\u001b[39m \u001b[43mget_return_value\u001b[49m\u001b[43m(\u001b[49m\n\u001b[0;32m   1323\u001b[0m \u001b[43m    \u001b[49m\u001b[43manswer\u001b[49m\u001b[43m,\u001b[49m\u001b[43m \u001b[49m\u001b[38;5;28;43mself\u001b[39;49m\u001b[38;5;241;43m.\u001b[39;49m\u001b[43mgateway_client\u001b[49m\u001b[43m,\u001b[49m\u001b[43m \u001b[49m\u001b[38;5;28;43mself\u001b[39;49m\u001b[38;5;241;43m.\u001b[39;49m\u001b[43mtarget_id\u001b[49m\u001b[43m,\u001b[49m\u001b[43m \u001b[49m\u001b[38;5;28;43mself\u001b[39;49m\u001b[38;5;241;43m.\u001b[39;49m\u001b[43mname\u001b[49m\u001b[43m)\u001b[49m\n\u001b[0;32m   1325\u001b[0m \u001b[38;5;28;01mfor\u001b[39;00m temp_arg \u001b[38;5;129;01min\u001b[39;00m temp_args:\n\u001b[0;32m   1326\u001b[0m     \u001b[38;5;28;01mif\u001b[39;00m \u001b[38;5;28mhasattr\u001b[39m(temp_arg, \u001b[38;5;124m\"\u001b[39m\u001b[38;5;124m_detach\u001b[39m\u001b[38;5;124m\"\u001b[39m):\n",
      "File \u001b[1;32mF:\\DataScience\\spark\\spark-3.5.3-bin-hadoop3\\spark-3.5.3-bin-hadoop3\\python\\pyspark\\errors\\exceptions\\captured.py:179\u001b[0m, in \u001b[0;36mcapture_sql_exception.<locals>.deco\u001b[1;34m(*a, **kw)\u001b[0m\n\u001b[0;32m    177\u001b[0m \u001b[38;5;28;01mdef\u001b[39;00m \u001b[38;5;21mdeco\u001b[39m(\u001b[38;5;241m*\u001b[39ma: Any, \u001b[38;5;241m*\u001b[39m\u001b[38;5;241m*\u001b[39mkw: Any) \u001b[38;5;241m-\u001b[39m\u001b[38;5;241m>\u001b[39m Any:\n\u001b[0;32m    178\u001b[0m     \u001b[38;5;28;01mtry\u001b[39;00m:\n\u001b[1;32m--> 179\u001b[0m         \u001b[38;5;28;01mreturn\u001b[39;00m \u001b[43mf\u001b[49m\u001b[43m(\u001b[49m\u001b[38;5;241;43m*\u001b[39;49m\u001b[43ma\u001b[49m\u001b[43m,\u001b[49m\u001b[43m \u001b[49m\u001b[38;5;241;43m*\u001b[39;49m\u001b[38;5;241;43m*\u001b[39;49m\u001b[43mkw\u001b[49m\u001b[43m)\u001b[49m\n\u001b[0;32m    180\u001b[0m     \u001b[38;5;28;01mexcept\u001b[39;00m Py4JJavaError \u001b[38;5;28;01mas\u001b[39;00m e:\n\u001b[0;32m    181\u001b[0m         converted \u001b[38;5;241m=\u001b[39m convert_exception(e\u001b[38;5;241m.\u001b[39mjava_exception)\n",
      "File \u001b[1;32mF:\\DataScience\\spark\\spark-3.5.3-bin-hadoop3\\spark-3.5.3-bin-hadoop3\\python\\lib\\py4j-0.10.9.7-src.zip\\py4j\\protocol.py:326\u001b[0m, in \u001b[0;36mget_return_value\u001b[1;34m(answer, gateway_client, target_id, name)\u001b[0m\n\u001b[0;32m    324\u001b[0m value \u001b[38;5;241m=\u001b[39m OUTPUT_CONVERTER[\u001b[38;5;28mtype\u001b[39m](answer[\u001b[38;5;241m2\u001b[39m:], gateway_client)\n\u001b[0;32m    325\u001b[0m \u001b[38;5;28;01mif\u001b[39;00m answer[\u001b[38;5;241m1\u001b[39m] \u001b[38;5;241m==\u001b[39m REFERENCE_TYPE:\n\u001b[1;32m--> 326\u001b[0m     \u001b[38;5;28;01mraise\u001b[39;00m Py4JJavaError(\n\u001b[0;32m    327\u001b[0m         \u001b[38;5;124m\"\u001b[39m\u001b[38;5;124mAn error occurred while calling \u001b[39m\u001b[38;5;132;01m{0}\u001b[39;00m\u001b[38;5;132;01m{1}\u001b[39;00m\u001b[38;5;132;01m{2}\u001b[39;00m\u001b[38;5;124m.\u001b[39m\u001b[38;5;130;01m\\n\u001b[39;00m\u001b[38;5;124m\"\u001b[39m\u001b[38;5;241m.\u001b[39m\n\u001b[0;32m    328\u001b[0m         \u001b[38;5;28mformat\u001b[39m(target_id, \u001b[38;5;124m\"\u001b[39m\u001b[38;5;124m.\u001b[39m\u001b[38;5;124m\"\u001b[39m, name), value)\n\u001b[0;32m    329\u001b[0m \u001b[38;5;28;01melse\u001b[39;00m:\n\u001b[0;32m    330\u001b[0m     \u001b[38;5;28;01mraise\u001b[39;00m Py4JError(\n\u001b[0;32m    331\u001b[0m         \u001b[38;5;124m\"\u001b[39m\u001b[38;5;124mAn error occurred while calling \u001b[39m\u001b[38;5;132;01m{0}\u001b[39;00m\u001b[38;5;132;01m{1}\u001b[39;00m\u001b[38;5;132;01m{2}\u001b[39;00m\u001b[38;5;124m. Trace:\u001b[39m\u001b[38;5;130;01m\\n\u001b[39;00m\u001b[38;5;132;01m{3}\u001b[39;00m\u001b[38;5;130;01m\\n\u001b[39;00m\u001b[38;5;124m\"\u001b[39m\u001b[38;5;241m.\u001b[39m\n\u001b[0;32m    332\u001b[0m         \u001b[38;5;28mformat\u001b[39m(target_id, \u001b[38;5;124m\"\u001b[39m\u001b[38;5;124m.\u001b[39m\u001b[38;5;124m\"\u001b[39m, name, value))\n",
      "\u001b[1;31mPy4JJavaError\u001b[0m: An error occurred while calling o631.json.\n: java.lang.RuntimeException: java.io.FileNotFoundException: java.io.FileNotFoundException: HADOOP_HOME and hadoop.home.dir are unset. -see https://wiki.apache.org/hadoop/WindowsProblems\r\n\tat org.apache.hadoop.util.Shell.getWinUtilsPath(Shell.java:735)\r\n\tat org.apache.hadoop.util.Shell.getSetPermissionCommand(Shell.java:270)\r\n\tat org.apache.hadoop.util.Shell.getSetPermissionCommand(Shell.java:286)\r\n\tat org.apache.hadoop.fs.RawLocalFileSystem.setPermission(RawLocalFileSystem.java:978)\r\n\tat org.apache.hadoop.fs.RawLocalFileSystem.mkOneDirWithMode(RawLocalFileSystem.java:660)\r\n\tat org.apache.hadoop.fs.RawLocalFileSystem.mkdirsWithOptionalPermission(RawLocalFileSystem.java:700)\r\n\tat org.apache.hadoop.fs.RawLocalFileSystem.mkdirs(RawLocalFileSystem.java:672)\r\n\tat org.apache.hadoop.fs.RawLocalFileSystem.mkdirsWithOptionalPermission(RawLocalFileSystem.java:699)\r\n\tat org.apache.hadoop.fs.RawLocalFileSystem.mkdirs(RawLocalFileSystem.java:672)\r\n\tat org.apache.hadoop.fs.RawLocalFileSystem.mkdirsWithOptionalPermission(RawLocalFileSystem.java:699)\r\n\tat org.apache.hadoop.fs.RawLocalFileSystem.mkdirs(RawLocalFileSystem.java:672)\r\n\tat org.apache.hadoop.fs.ChecksumFileSystem.mkdirs(ChecksumFileSystem.java:788)\r\n\tat org.apache.hadoop.mapreduce.lib.output.FileOutputCommitter.setupJob(FileOutputCommitter.java:356)\r\n\tat org.apache.spark.internal.io.HadoopMapReduceCommitProtocol.setupJob(HadoopMapReduceCommitProtocol.scala:188)\r\n\tat org.apache.spark.sql.execution.datasources.FileFormatWriter$.writeAndCommit(FileFormatWriter.scala:269)\r\n\tat org.apache.spark.sql.execution.datasources.FileFormatWriter$.executeWrite(FileFormatWriter.scala:304)\r\n\tat org.apache.spark.sql.execution.datasources.FileFormatWriter$.write(FileFormatWriter.scala:190)\r\n\tat org.apache.spark.sql.execution.datasources.InsertIntoHadoopFsRelationCommand.run(InsertIntoHadoopFsRelationCommand.scala:190)\r\n\tat org.apache.spark.sql.execution.command.DataWritingCommandExec.sideEffectResult$lzycompute(commands.scala:113)\r\n\tat org.apache.spark.sql.execution.command.DataWritingCommandExec.sideEffectResult(commands.scala:111)\r\n\tat org.apache.spark.sql.execution.command.DataWritingCommandExec.executeCollect(commands.scala:125)\r\n\tat org.apache.spark.sql.execution.adaptive.AdaptiveSparkPlanExec.$anonfun$executeCollect$1(AdaptiveSparkPlanExec.scala:390)\r\n\tat org.apache.spark.sql.execution.adaptive.AdaptiveSparkPlanExec.withFinalPlanUpdate(AdaptiveSparkPlanExec.scala:418)\r\n\tat org.apache.spark.sql.execution.adaptive.AdaptiveSparkPlanExec.executeCollect(AdaptiveSparkPlanExec.scala:390)\r\n\tat org.apache.spark.sql.execution.QueryExecution$$anonfun$eagerlyExecuteCommands$1.$anonfun$applyOrElse$1(QueryExecution.scala:107)\r\n\tat org.apache.spark.sql.execution.SQLExecution$.$anonfun$withNewExecutionId$6(SQLExecution.scala:125)\r\n\tat org.apache.spark.sql.execution.SQLExecution$.withSQLConfPropagated(SQLExecution.scala:201)\r\n\tat org.apache.spark.sql.execution.SQLExecution$.$anonfun$withNewExecutionId$1(SQLExecution.scala:108)\r\n\tat org.apache.spark.sql.SparkSession.withActive(SparkSession.scala:900)\r\n\tat org.apache.spark.sql.execution.SQLExecution$.withNewExecutionId(SQLExecution.scala:66)\r\n\tat org.apache.spark.sql.execution.QueryExecution$$anonfun$eagerlyExecuteCommands$1.applyOrElse(QueryExecution.scala:107)\r\n\tat org.apache.spark.sql.execution.QueryExecution$$anonfun$eagerlyExecuteCommands$1.applyOrElse(QueryExecution.scala:98)\r\n\tat org.apache.spark.sql.catalyst.trees.TreeNode.$anonfun$transformDownWithPruning$1(TreeNode.scala:461)\r\n\tat org.apache.spark.sql.catalyst.trees.CurrentOrigin$.withOrigin(origin.scala:76)\r\n\tat org.apache.spark.sql.catalyst.trees.TreeNode.transformDownWithPruning(TreeNode.scala:461)\r\n\tat org.apache.spark.sql.catalyst.plans.logical.LogicalPlan.org$apache$spark$sql$catalyst$plans$logical$AnalysisHelper$$super$transformDownWithPruning(LogicalPlan.scala:32)\r\n\tat org.apache.spark.sql.catalyst.plans.logical.AnalysisHelper.transformDownWithPruning(AnalysisHelper.scala:267)\r\n\tat org.apache.spark.sql.catalyst.plans.logical.AnalysisHelper.transformDownWithPruning$(AnalysisHelper.scala:263)\r\n\tat org.apache.spark.sql.catalyst.plans.logical.LogicalPlan.transformDownWithPruning(LogicalPlan.scala:32)\r\n\tat org.apache.spark.sql.catalyst.plans.logical.LogicalPlan.transformDownWithPruning(LogicalPlan.scala:32)\r\n\tat org.apache.spark.sql.catalyst.trees.TreeNode.transformDown(TreeNode.scala:437)\r\n\tat org.apache.spark.sql.execution.QueryExecution.eagerlyExecuteCommands(QueryExecution.scala:98)\r\n\tat org.apache.spark.sql.execution.QueryExecution.commandExecuted$lzycompute(QueryExecution.scala:85)\r\n\tat org.apache.spark.sql.execution.QueryExecution.commandExecuted(QueryExecution.scala:83)\r\n\tat org.apache.spark.sql.execution.QueryExecution.assertCommandExecuted(QueryExecution.scala:142)\r\n\tat org.apache.spark.sql.DataFrameWriter.runCommand(DataFrameWriter.scala:869)\r\n\tat org.apache.spark.sql.DataFrameWriter.saveToV1Source(DataFrameWriter.scala:391)\r\n\tat org.apache.spark.sql.DataFrameWriter.saveInternal(DataFrameWriter.scala:364)\r\n\tat org.apache.spark.sql.DataFrameWriter.save(DataFrameWriter.scala:243)\r\n\tat org.apache.spark.sql.DataFrameWriter.json(DataFrameWriter.scala:784)\r\n\tat sun.reflect.NativeMethodAccessorImpl.invoke0(Native Method)\r\n\tat sun.reflect.NativeMethodAccessorImpl.invoke(Unknown Source)\r\n\tat sun.reflect.DelegatingMethodAccessorImpl.invoke(Unknown Source)\r\n\tat java.lang.reflect.Method.invoke(Unknown Source)\r\n\tat py4j.reflection.MethodInvoker.invoke(MethodInvoker.java:244)\r\n\tat py4j.reflection.ReflectionEngine.invoke(ReflectionEngine.java:374)\r\n\tat py4j.Gateway.invoke(Gateway.java:282)\r\n\tat py4j.commands.AbstractCommand.invokeMethod(AbstractCommand.java:132)\r\n\tat py4j.commands.CallCommand.execute(CallCommand.java:79)\r\n\tat py4j.ClientServerConnection.waitForCommands(ClientServerConnection.java:182)\r\n\tat py4j.ClientServerConnection.run(ClientServerConnection.java:106)\r\n\tat java.lang.Thread.run(Unknown Source)\r\nCaused by: java.io.FileNotFoundException: java.io.FileNotFoundException: HADOOP_HOME and hadoop.home.dir are unset. -see https://wiki.apache.org/hadoop/WindowsProblems\r\n\tat org.apache.hadoop.util.Shell.fileNotFoundException(Shell.java:547)\r\n\tat org.apache.hadoop.util.Shell.getHadoopHomeDir(Shell.java:568)\r\n\tat org.apache.hadoop.util.Shell.getQualifiedBin(Shell.java:591)\r\n\tat org.apache.hadoop.util.Shell.<clinit>(Shell.java:688)\r\n\tat org.apache.hadoop.util.StringUtils.<clinit>(StringUtils.java:79)\r\n\tat org.apache.hadoop.conf.Configuration.getTimeDurationHelper(Configuration.java:1907)\r\n\tat org.apache.hadoop.conf.Configuration.getTimeDuration(Configuration.java:1867)\r\n\tat org.apache.hadoop.conf.Configuration.getTimeDuration(Configuration.java:1840)\r\n\tat org.apache.hadoop.util.ShutdownHookManager.getShutdownTimeout(ShutdownHookManager.java:183)\r\n\tat org.apache.hadoop.util.ShutdownHookManager$HookEntry.<init>(ShutdownHookManager.java:207)\r\n\tat org.apache.hadoop.util.ShutdownHookManager.addShutdownHook(ShutdownHookManager.java:304)\r\n\tat org.apache.spark.util.SparkShutdownHookManager.install(ShutdownHookManager.scala:181)\r\n\tat org.apache.spark.util.ShutdownHookManager$.shutdownHooks$lzycompute(ShutdownHookManager.scala:50)\r\n\tat org.apache.spark.util.ShutdownHookManager$.shutdownHooks(ShutdownHookManager.scala:48)\r\n\tat org.apache.spark.util.ShutdownHookManager$.addShutdownHook(ShutdownHookManager.scala:153)\r\n\tat org.apache.spark.util.ShutdownHookManager$.<init>(ShutdownHookManager.scala:58)\r\n\tat org.apache.spark.util.ShutdownHookManager$.<clinit>(ShutdownHookManager.scala)\r\n\tat org.apache.spark.util.Utils$.createTempDir(Utils.scala:242)\r\n\tat org.apache.spark.util.SparkFileUtils.createTempDir(SparkFileUtils.scala:103)\r\n\tat org.apache.spark.util.SparkFileUtils.createTempDir$(SparkFileUtils.scala:102)\r\n\tat org.apache.spark.util.Utils$.createTempDir(Utils.scala:94)\r\n\tat org.apache.spark.deploy.SparkSubmit.prepareSubmitEnvironment(SparkSubmit.scala:372)\r\n\tat org.apache.spark.deploy.SparkSubmit.org$apache$spark$deploy$SparkSubmit$$runMain(SparkSubmit.scala:964)\r\n\tat org.apache.spark.deploy.SparkSubmit.doRunMain$1(SparkSubmit.scala:194)\r\n\tat org.apache.spark.deploy.SparkSubmit.submit(SparkSubmit.scala:217)\r\n\tat org.apache.spark.deploy.SparkSubmit.doSubmit(SparkSubmit.scala:91)\r\n\tat org.apache.spark.deploy.SparkSubmit$$anon$2.doSubmit(SparkSubmit.scala:1120)\r\n\tat org.apache.spark.deploy.SparkSubmit$.main(SparkSubmit.scala:1129)\r\n\tat org.apache.spark.deploy.SparkSubmit.main(SparkSubmit.scala)\r\nCaused by: java.io.FileNotFoundException: HADOOP_HOME and hadoop.home.dir are unset.\r\n\tat org.apache.hadoop.util.Shell.checkHadoopHomeInner(Shell.java:467)\r\n\tat org.apache.hadoop.util.Shell.checkHadoopHome(Shell.java:438)\r\n\tat org.apache.hadoop.util.Shell.<clinit>(Shell.java:515)\r\n\t... 25 more\r\n"
     ]
    }
   ],
   "source": [
    "union_df.write.mode(\"overwrite\").json(r\"F:\\DataScience\\PF - DataNova\\datasets\\summarized\\google\\metadata-sitios-summ.json\")"
   ]
  },
  {
   "cell_type": "markdown",
   "metadata": {},
   "source": [
    "# Finalización tarea de Spark"
   ]
  },
  {
   "cell_type": "code",
   "execution_count": 53,
   "metadata": {},
   "outputs": [],
   "source": [
    "spark.stop()"
   ]
  }
 ],
 "metadata": {
  "kernelspec": {
   "display_name": "datanova_env",
   "language": "python",
   "name": "python3"
  },
  "language_info": {
   "codemirror_mode": {
    "name": "ipython",
    "version": 3
   },
   "file_extension": ".py",
   "mimetype": "text/x-python",
   "name": "python",
   "nbconvert_exporter": "python",
   "pygments_lexer": "ipython3",
   "version": "3.12.6"
  }
 },
 "nbformat": 4,
 "nbformat_minor": 2
}
