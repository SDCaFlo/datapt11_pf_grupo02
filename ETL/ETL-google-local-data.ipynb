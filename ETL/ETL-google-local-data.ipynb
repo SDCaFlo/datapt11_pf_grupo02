{
 "cells": [
  {
   "cell_type": "markdown",
   "metadata": {},
   "source": [
    "# ETL Google.\n",
    "Vamos a adaptar las tablas de google al esquema E/R definido y cargar las tablas a BigQuery usando el connector respectivo."
   ]
  },
  {
   "cell_type": "code",
   "execution_count": 212,
   "metadata": {},
   "outputs": [],
   "source": [
    "import os\n",
    "\n",
    "# SPARK trabaja con hadoop, se especifica los directorios de instalacion\n",
    "os.environ[\"SPARK_HOME\"] = r\"F:\\DataScience\\spark\\spark-3.5.3-bin-hadoop3\\spark-3.5.3-bin-hadoop3\"\n",
    "os.environ[\"HADOOP_HOME\"] = r\"F:\\DataScience\\hadoop\\hadoop-3.4.0\"\n",
    "os.environ[\"HADOOP_CONF_DIR\"] = r\"F:\\DataScience\\hadoop\\hadoop-3.4.0\\etc\\hadoop\"\n",
    "\n",
    "import findspark\n",
    "import pickle\n",
    "import pandas as pd\n",
    "import numpy as np\n",
    "\n",
    "findspark.init()\n",
    "\n",
    "\n",
    "# Asignación de recursos locales para SPARK.\n",
    "from pyspark.sql import SparkSession\n",
    "spark = SparkSession.builder.master(\"local[10]\")\\\n",
    "    .config(\"spark.executor.memory\", \"24g\")\\\n",
    "    .config(\"spark.driver.memory\", \"6g\")\\\n",
    "    .config(\"spark.sql.shuffle.partitions\", \"30\")\\\n",
    "    .config('spark.jars', r'F:\\DataScience\\PF - DataNova\\JARs\\spark-3.5-bigquery-0.41.1.jar')\\\n",
    "    .appName(\"PySpark\").getOrCreate()"
   ]
  },
  {
   "cell_type": "code",
   "execution_count": 260,
   "metadata": {},
   "outputs": [],
   "source": [
    "# Funciones de spark\n",
    "from pyspark.sql import functions as F\n",
    "\n",
    "# Funciones para graficar.\n",
    "import seaborn as sns\n",
    "import matplotlib.pyplot as plt"
   ]
  },
  {
   "cell_type": "markdown",
   "metadata": {},
   "source": [
    "# Tabla Metadata"
   ]
  },
  {
   "cell_type": "code",
   "execution_count": 3,
   "metadata": {},
   "outputs": [],
   "source": [
    "metadata_df = spark.read.json(r'F:\\DataScience\\PF - DataNova\\datasets\\Google Maps\\metadata-sitios\\*.json')\n",
    "metadata_df_cached = metadata_df.cache()"
   ]
  },
  {
   "cell_type": "code",
   "execution_count": 4,
   "metadata": {},
   "outputs": [],
   "source": [
    "food_keywords = ['coffee', 'espresso', 'bistro', 'cafe\\\\\\\\b', 'roaster' ]  # Se usara cafe\\\\\\\\b para evitiar matches con Cafeterias. \n",
    "regex_pattern = '|'.join(food_keywords)"
   ]
  },
  {
   "cell_type": "code",
   "execution_count": 5,
   "metadata": {},
   "outputs": [
    {
     "name": "stdout",
     "output_type": "stream",
     "text": [
      "+-------------------------------------------------------------------------------------------------------------------------------------------------------------------------------------------------------------------------------------------------------------------------------------------------------------------------------------------------------------------------------------------------------------------------------------------------------------------------------------------------------------------------------------------------------------------------------------------------------------------+-------------------------------------------------------------------------------------+----------+---------------------------------------------------------------------------------------------------------------------------------------------------+---------------------------------------------------------------------------------------------------+-------------------------------------+---------------------------------------------------------------------------------------------------------------------------------------------------------------------------------------+------------------+-------------------+--------------------------------------+--------------+-----+---------------------------------------------------------------------------------------------------------------------------------------------------------------------------------------------------+-------------------+----------------------------------------------------------------------------------------------------------------+\n",
      "|MISC                                                                                                                                                                                                                                                                                                                                                                                                                                                                                                                                                                                                               |address                                                                              |avg_rating|category                                                                                                                                           |description                                                                                        |gmap_id                              |hours                                                                                                                                                                                  |latitude          |longitude          |name                                  |num_of_reviews|price|relative_results                                                                                                                                                                                   |state              |url                                                                                                             |\n",
      "+-------------------------------------------------------------------------------------------------------------------------------------------------------------------------------------------------------------------------------------------------------------------------------------------------------------------------------------------------------------------------------------------------------------------------------------------------------------------------------------------------------------------------------------------------------------------------------------------------------------------+-------------------------------------------------------------------------------------+----------+---------------------------------------------------------------------------------------------------------------------------------------------------+---------------------------------------------------------------------------------------------------+-------------------------------------+---------------------------------------------------------------------------------------------------------------------------------------------------------------------------------------+------------------+-------------------+--------------------------------------+--------------+-----+---------------------------------------------------------------------------------------------------------------------------------------------------------------------------------------------------+-------------------+----------------------------------------------------------------------------------------------------------------+\n",
      "|{[Wheelchair accessible entrance], NULL, NULL, NULL, NULL, NULL, NULL, NULL, [Mask required, Staff required to disinfect surfaces between visits], NULL, NULL, NULL, NULL, [NFC mobile payments], [Quick visit], NULL, NULL, [In-store pickup, In-store shopping, Delivery]}                                                                                                                                                                                                                                                                                                                                       |Cadence Cycling and Cafe - Center City, 201 S 25th St, Philadelphia, PA 19103        |4.8       |[Bicycle Shop, Bicycle repair shop, Coffee shop, Sporting goods store]                                                                             |NULL                                                                                               |0x89c6c715d1821fe3:0x9cfa8308c0ce2289|[[Thursday, 7AM–7PM], [Friday, 7AM–7PM], [Saturday, 9AM–5PM], [Sunday, 9AM–5PM], [Monday, 7AM–7PM], [Tuesday, 7AM–7PM], [Wednesday, 7AM–7PM]]                                          |39.9500781        |-75.1807287        |Cadence Cycling and Cafe - Center City|38            |NULL |[0x89c6c7d1a79d4103:0x2476b0fe30eb0871, 0x89c6c7d84645270d:0x34c1faf6ca84b9a9]                                                                                                                     |Open ⋅ Closes 7PM  |https://www.google.com/maps/place//data=!4m2!3m1!1s0x89c6c715d1821fe3:0x9cfa8308c0ce2289?authuser=-1&hl=en&gl=us|\n",
      "|{NULL, NULL, NULL, [Casual], [College students, Tourists], NULL, NULL, NULL, NULL, NULL, [Fast service, Great coffee, Great tea selection], NULL, [Coffee], [NFC mobile payments], NULL, NULL, NULL, [Curbside pickup, No-contact delivery, Delivery, Drive-through, Takeout, Dine-in]}                                                                                                                                                                                                                                                                                                                            |Kraken Coffee Kahului, 520 Keolani Pl, Kahului, HI 96732                             |4.8       |[Coffee shop]                                                                                                                                      |NULL                                                                                               |0x7954d370921ff6bd:0x3193ba783e26d032|[[Thursday, 6:30AM–7PM], [Friday, 6:30AM–7PM], [Saturday, 6:30AM–7PM], [Sunday, 6:30AM–7PM], [Monday, 6:30AM–7PM], [Tuesday, 6:30AM–7PM], [Wednesday, 6:30AM–7PM]]                     |20.888237699999998|-156.4506136       |Kraken Coffee Kahului                 |8             |$    |NULL                                                                                                                                                                                               |Open ⋅ Closes 7PM  |https://www.google.com/maps/place//data=!4m2!3m1!1s0x7954d370921ff6bd:0x3193ba783e26d032?authuser=-1&hl=en&gl=us|\n",
      "|{[Wheelchair accessible entrance], NULL, NULL, NULL, NULL, NULL, NULL, NULL, NULL, NULL, NULL, NULL, NULL, NULL, NULL, NULL, NULL, [Takeout, Dine-in, Delivery]}                                                                                                                                                                                                                                                                                                                                                                                                                                                   |The Center Inn, 209 Main St, Readlyn, IA 50668                                       |4.5       |[Restaurant or cafe]                                                                                                                               |NULL                                                                                               |0x87faba1e67ff3e8d:0xdb90d5f5c33c5a6e|NULL                                                                                                                                                                                   |42.7019409        |-92.2255426        |The Center Inn                        |15            |NULL |[0x87fabda95135027f:0x2980ce34edf3c7f6, 0x87faba1e40bbc395:0x9744181be2dea4cd, 0x87facec31556cfe1:0x4387515c071b0213]                                                                              |NULL               |https://www.google.com/maps/place//data=!4m2!3m1!1s0x87faba1e67ff3e8d:0xdb90d5f5c33c5a6e?authuser=-1&hl=en&gl=us|\n",
      "|{[Wheelchair accessible entrance, Wheelchair accessible parking lot], NULL, [Restroom], [Casual], [Family-friendly, Groups], [Lunch, Dessert, Seating], NULL, NULL, NULL, NULL, [Fast service, Great coffee, Great tea selection, LGBTQ friendly], NULL, [Coffee, Quick bite], [Debit cards, NFC mobile payments, Credit cards], NULL, [Breakfast, Lunch, Solo dining], NULL, [Takeout, Dine-in, Delivery]}                                                                                                                                                                                                        |Castle Coffee, Excalibur Hotel and Casino, 3850 S Las Vegas Blvd, Las Vegas, NV 89109|3.2       |[Coffee shop]                                                                                                                                      |NULL                                                                                               |0x80c8c5cdced316b5:0xaf1ea0b1e42132a9|[[Thursday, 6AM–2PM], [Friday, 6AM–2PM], [Saturday, 6AM–2PM], [Sunday, 6AM–2PM], [Monday, 6AM–2PM], [Tuesday, 6AM–2PM], [Wednesday, 6AM–2PM]]                                          |36.099575         |-115.1763381       |Castle Coffee                         |24            |NULL |[0x80c8c5c561857ea1:0x1649d82cf55356b1, 0x80c8c430e6e45925:0x4e4f521881084719, 0x80c8c5cdbd541d9b:0xdf19bba0b69f9e76, 0x80c8c5c5618a121d:0x150e8fcb55695b33, 0x80c8c543a804cc19:0x8bdb016b5f8e8368]|Open ⋅ Closes 2PM  |https://www.google.com/maps/place//data=!4m2!3m1!1s0x80c8c5cdced316b5:0xaf1ea0b1e42132a9?authuser=-1&hl=en&gl=us|\n",
      "|{[Wheelchair accessible entrance, Wheelchair accessible parking lot], NULL, NULL, NULL, NULL, NULL, NULL, NULL, NULL, NULL, NULL, NULL, NULL, NULL, NULL, NULL, NULL, NULL}                                                                                                                                                                                                                                                                                                                                                                                                                                        |Blue Dragon Sweepstakes, 2008 Poole Rd, Raleigh, NC 27610                            |4.2       |[Internet cafe]                                                                                                                                    |NULL                                                                                               |0x89ac5f9990c10c4b:0xd5a96da0fd76a3e3|[[Thursday, 9AM–12AM], [Friday, 9AM–2AM], [Saturday, 9AM–2AM], [Sunday, 9AM–12AM], [Monday, 9AM–12AM], [Tuesday, 9AM–12AM], [Wednesday, 9AM–12AM]]                                     |35.7760119        |-78.6106796        |Blue Dragon Sweepstakes               |33            |NULL |[0x89ac5902b8c95e7d:0x566937245e32319f, 0x89ac59e545d3bee7:0x28ada2358a811e12, 0x89acf5bae499aca3:0xfec9e3d356aeecf3, 0x89ac596fc83b7943:0xae8d2a774f1093a1, 0x89ac6065aa6c523f:0x8c4af0492c774027]|Open ⋅ Closes 12AM |https://www.google.com/maps/place//data=!4m2!3m1!1s0x89ac5f9990c10c4b:0xd5a96da0fd76a3e3?authuser=-1&hl=en&gl=us|\n",
      "|{[Wheelchair accessible entrance], NULL, [Good for kids, Wi-Fi], [Casual], [Family-friendly, Tourists], [Breakfast, Lunch, Dessert], NULL, NULL, NULL, NULL, [Fast service, Great coffee], NULL, [Coffee, Comfort food, Happy hour drinks, Late-night food, Quick bite], [Debit cards, NFC mobile payments], NULL, [Breakfast, Solo dining], NULL, [Delivery, Takeout, Dine-in]}                                                                                                                                                                                                                                   |Dunkin', 4008 Bell Blvd, Queens, NY 11361                                            |3.5       |[Coffee shop, Bagel shop, Bakery, Breakfast restaurant, Donut shop, Fast food restaurant, Takeout Restaurant]                                      |Long-running chain serving signature breakfast items & a variety of coffee drinks.                 |0x89c261f60bdf13db:0x38da730e4687a97b|[[Thursday, 6AM–7PM], [Friday, 6AM–7PM], [Saturday, 6AM–7PM], [Sunday, 6AM–7PM], [Monday, 6AM–7PM], [Tuesday, 6AM–7PM], [Wednesday, 6AM–7PM]]                                          |40.7639851        |-73.77142979999999 |Dunkin'                               |8             |$    |[0x89c3ab9229879ec3:0x3f4b2b46d7d2c503, 0x89c25b95afd60215:0xe10552c10c47bb9d, 0x89c25ed34e200f1f:0x1282d48674698a31]                                                                              |Open ⋅ Closes 7PM  |https://www.google.com/maps/place//data=!4m2!3m1!1s0x89c261f60bdf13db:0x38da730e4687a97b?authuser=-1&hl=en&gl=us|\n",
      "|{[Wheelchair accessible entrance, Wheelchair accessible parking lot, Wheelchair accessible restroom], NULL, [Bar onsite, Gender-neutral restroom, Good for kids, Restroom, Wi-Fi], [Casual], NULL, [Breakfast, Lunch, Dinner, Dessert, Seating], NULL, NULL, NULL, NULL, NULL, NULL, [Alcohol, Beer, Coffee, Comfort food, Organic dishes, Vegetarian options, Wine], [Debit cards, Credit cards], NULL, [Lunch, Dinner, Solo dining], NULL, [Takeout, Dine-in]}                                                                                                                                                   |Bar Cicotti, 202 Grand Ave, Bellingham, WA 98225                                     |4.2       |[Restaurant, Coffee shop, Italian restaurant, Wine bar]                                                                                            |NULL                                                                                               |0x5485a3347991033d:0x5415b7890f774c35|[[Thursday, 8AM–9PM], [Friday, 8AM–9PM], [Saturday, 8AM–9PM], [Sunday, Closed], [Monday, Closed], [Tuesday, 8AM–9PM], [Wednesday, 8AM–9PM]]                                            |48.753263999999994|-122.4791183       |Bar Cicotti                           |8             |NULL |NULL                                                                                                                                                                                               |Closed ⋅ Opens 8AM |https://www.google.com/maps/place//data=!4m2!3m1!1s0x5485a3347991033d:0x5415b7890f774c35?authuser=-1&hl=en&gl=us|\n",
      "|{[Wheelchair accessible entrance, Wheelchair accessible parking lot], NULL, [Wi-Fi], [Casual, Cozy], [College students, Family-friendly, Groups], [Dessert, Seating], [Identifies as women-led], NULL, NULL, NULL, [Fast service, Great coffee, Great tea selection], NULL, [Coffee], [Debit cards, NFC mobile payments, Credit cards], NULL, NULL, NULL, [Delivery, Takeout, Dine-in]}                                                                                                                                                                                                                            |Daily Dose Craft Bar, Inc., 11643 Beach Blvd Unit B, Jacksonville, FL 32246          |5.0       |[Coffee shop, Bubble tea store, Cafe]                                                                                                              |NULL                                                                                               |0x88e5b53b107a2609:0x40106d3b48960d9d|[[Thursday, 10AM–8PM], [Friday, 10AM–8PM], [Saturday, 10AM–8PM], [Sunday, Closed], [Monday, 10AM–8PM], [Tuesday, 10AM–8PM], [Wednesday, 10AM–8PM]]                                     |30.287835599999998|-81.51750129999999 |Daily Dose Craft Bar, Inc.            |27            |NULL |NULL                                                                                                                                                                                               |Closed ⋅ Opens 10AM|https://www.google.com/maps/place//data=!4m2!3m1!1s0x88e5b53b107a2609:0x40106d3b48960d9d?authuser=-1&hl=en&gl=us|\n",
      "|{NULL, NULL, NULL, NULL, NULL, NULL, NULL, NULL, NULL, NULL, NULL, NULL, [Coffee], NULL, NULL, NULL, NULL, [Delivery]}                                                                                                                                                                                                                                                                                                                                                                                                                                                                                             |G & S Cafe, 25 Sigourney St, Hartford, CT 06106                                      |1.0       |[Cafe]                                                                                                                                             |NULL                                                                                               |0x89e6534451cfa24f:0x543b1ed69e88390b|[[Thursday, 7AM–4:30PM], [Friday, 7AM–4:30PM], [Saturday, 7AM–4:30PM], [Sunday, Closed], [Monday, 7AM–4:30PM], [Tuesday, 7AM–4:30PM], [Wednesday, 7AM–4:30PM]]                         |41.7627126        |-72.69457299999999 |G & S Cafe                            |1             |NULL |NULL                                                                                                                                                                                               |Permanently closed |https://www.google.com/maps/place//data=!4m2!3m1!1s0x89e6534451cfa24f:0x543b1ed69e88390b?authuser=-1&hl=en&gl=us|\n",
      "|{[Wheelchair accessible seating], NULL, NULL, [Casual, Cozy], NULL, [Breakfast, Lunch], NULL, NULL, NULL, NULL, NULL, NULL, [Comfort food, Healthy options], NULL, NULL, NULL, NULL, [Delivery]}                                                                                                                                                                                                                                                                                                                                                                                                                   |The Classic Cafe, 27 Jackson St, Newnan, GA 30263                                    |5.0       |[Cafe]                                                                                                                                             |NULL                                                                                               |0x88f4c85f542e4a89:0x225fb32669786be3|[[Thursday, 9AM–3PM], [Friday, 9AM–3PM], [Saturday, 9AM–3PM], [Sunday, 11PM–12AM], [Monday, 12AM–3PM], [Tuesday, 9AM–3PM], [Wednesday, 9AM–3PM]]                                       |33.377093699999996|-84.79997519999999 |The Classic Cafe                      |1             |NULL |[0x88f4c956c6d1a605:0x9ad5e2b5be96d648, 0x88f4c858a9762abf:0x2ee34c66e03b78fd, 0x88f4c622f7365c63:0x7d31082fa27558f0, 0x88f4b7f74b7cffe3:0xf644153e018f6d58]                                       |Permanently closed |https://www.google.com/maps/place//data=!4m2!3m1!1s0x88f4c85f542e4a89:0x225fb32669786be3?authuser=-1&hl=en&gl=us|\n",
      "|{NULL, NULL, [Good for kids], NULL, NULL, NULL, NULL, NULL, NULL, NULL, NULL, NULL, [Coffee], NULL, NULL, NULL, NULL, [Delivery]}                                                                                                                                                                                                                                                                                                                                                                                                                                                                                  |Vintage Cafe, 651 Main St, Woodville, MS 39669                                       |4.5       |[Cafe]                                                                                                                                             |NULL                                                                                               |0x8625da3b1f5d024b:0x4cdf2cb7806fd9f6|NULL                                                                                                                                                                                   |31.1038797        |-91.3003244        |Vintage Cafe                          |8             |NULL |[0x8625da2661bcb607:0x66023286e635765c, 0x8625da24cba982af:0x80e32f21f7db87d5, 0x8625da244cde96b1:0x795e7a5e96813339, 0x8625da26c3d31ef3:0x710e7c72ed104ea4]                                       |NULL               |https://www.google.com/maps/place//data=!4m2!3m1!1s0x8625da3b1f5d024b:0x4cdf2cb7806fd9f6?authuser=-1&hl=en&gl=us|\n",
      "|{NULL, NULL, [Good for kids], [Casual, Cozy], [Groups], [Dessert], NULL, NULL, NULL, NULL, [Fast service, Great coffee, Great tea selection], NULL, [Coffee, Quick bite], NULL, NULL, [Solo dining, Good for working on laptop], NULL, [Delivery]}                                                                                                                                                                                                                                                                                                                                                                 |U OK Coffee, 1028 Roanoke Ave, Roanoke Rapids, NC 27870                              |4.3       |[Coffee shop, Coffee roasters]                                                                                                                     |NULL                                                                                               |0x89ae174c895415c7:0xdb0a234deff1f88b|NULL                                                                                                                                                                                   |36.454935899999995|-77.657336         |U OK Coffee                           |8             |NULL |NULL                                                                                                                                                                                               |NULL               |https://www.google.com/maps/place//data=!4m2!3m1!1s0x89ae174c895415c7:0xdb0a234deff1f88b?authuser=-1&hl=en&gl=us|\n",
      "|{NULL, NULL, [Good for kids], [Casual, Cozy], [Tourists], NULL, NULL, NULL, NULL, NULL, [Fast service, Great coffee, Great tea selection], NULL, [Coffee], NULL, NULL, NULL, NULL, [Takeout, Dine-in, Delivery]}                                                                                                                                                                                                                                                                                                                                                                                                   |Hob's Coffee Shop, 745 N 2nd St, Cherokee, IA 51012                                  |5.0       |[Coffee shop]                                                                                                                                      |NULL                                                                                               |0x878d129ab3c98067:0x89aeceaba6f209dc|[[Thursday, 8AM–6PM], [Friday, 8AM–6PM], [Saturday, 8AM–6PM], [Sunday, Closed], [Monday, 8AM–6PM], [Tuesday, 8AM–6PM], [Wednesday, 8AM–6PM]]                                           |42.7584721        |-95.55161369999999 |Hob's Coffee Shop                     |4             |NULL |[0x878d12988f30b753:0xe5b54e3b7eb225a2, 0x878d1287f0c753b7:0xe974b9c16278ad19]                                                                                                                     |Closed ⋅ Opens 8AM |https://www.google.com/maps/place//data=!4m2!3m1!1s0x878d129ab3c98067:0x89aeceaba6f209dc?authuser=-1&hl=en&gl=us|\n",
      "|{[Wheelchair accessible entrance, Wheelchair accessible parking lot], NULL, NULL, NULL, NULL, NULL, NULL, NULL, [Mask required, Staff required to disinfect surfaces between visits, Safety dividers at checkout], NULL, NULL, NULL, NULL, NULL, [Quick visit], NULL, NULL, [In-store shopping, Delivery]}                                                                                                                                                                                                                                                                                                         |Circle K, 16331 Lakeshore Dr, Lake Elsinore, CA 92530                                |3.5       |[Convenience store, ATM, Coffee shop, Coffee store, Public bathroom, Snack bar, Soft drinks shop]                                                  |Convenience store chain offering a wide variety of hot & cold drinks & snacks. Many offer fuel.    |0x80dc976f028eb61d:0x1a5ed32889a67122|[[Thursday, Open 24 hours], [Friday, Open 24 hours], [Saturday, Open 24 hours], [Sunday, Open 24 hours], [Monday, Open 24 hours], [Tuesday, Open 24 hours], [Wednesday, Open 24 hours]]|33.689861799999996|-117.37615129999999|Circle K                              |24            |$    |[0x80dc99d523c8983b:0x5bcf75a72567785e, 0x80dc9987b7c81be7:0x9de20147825c505f, 0x80dc99bfce7c6659:0xbf01089552971200, 0x80dc9bc438c0455b:0x5b9e20ad0f11a91d, 0x80dc9760a794c19d:0x862f9be360863337]|Open 24 hours      |https://www.google.com/maps/place//data=!4m2!3m1!1s0x80dc976f028eb61d:0x1a5ed32889a67122?authuser=-1&hl=en&gl=us|\n",
      "|{NULL, NULL, NULL, [Casual, Cozy], NULL, NULL, NULL, NULL, NULL, NULL, NULL, NULL, NULL, NULL, NULL, NULL, NULL, [Delivery]}                                                                                                                                                                                                                                                                                                                                                                                                                                                                                       |Village 631, 631 Ninth Ave, San Diego, CA 92101                                      |4.7       |[Wine bar, Cafe, Coffee shop]                                                                                                                      |Trendy destination offering cafe standards along with wine & beer in spacious, art-filled environs.|0x80d9535949c40413:0x3c4a25f3e208a826|[[Thursday, 7AM–8PM], [Friday, 7AM–8PM], [Saturday, 7AM–8PM], [Sunday, 7AM–8PM], [Monday, 7AM–8PM], [Tuesday, 7AM–8PM], [Wednesday, 7AM–8PM]]                                          |32.7118459        |-117.1562084       |Village 631                           |6             |$$   |NULL                                                                                                                                                                                               |Permanently closed |https://www.google.com/maps/place//data=!4m2!3m1!1s0x80d9535949c40413:0x3c4a25f3e208a826?authuser=-1&hl=en&gl=us|\n",
      "|{[Wheelchair accessible entrance, Wheelchair accessible parking lot, Wheelchair accessible restroom, Wheelchair accessible seating], NULL, [Good for kids, Restroom, Wi-Fi], NULL, [Family-friendly], [Breakfast, Lunch, Dessert, Seating], [Identifies as women-led], NULL, NULL, NULL, [LGBTQ friendly, Live music, Live performances, Transgender safespace], NULL, [Coffee, Comfort food, Organic dishes, Prepared foods, Small plates, Vegetarian options], [Debit cards, Credit cards], NULL, NULL, NULL, [Outdoor seating, Curbside pickup, No-contact delivery, Drive-through, Takeout, Dine-in, Delivery]}|Purple Cow, 101 W 3rd St, Palisade, CO 81526                                         |4.7       |[Coffee shop, Ice cream shop, Restaurant]                                                                                                          |NULL                                                                                               |0x874721c4e741fc93:0x27ac3e71bdcce99b|[[Thursday, 9AM–5PM], [Friday, Closed], [Saturday, Closed], [Sunday, Closed], [Monday, 9AM–5PM], [Tuesday, 9AM–5PM], [Wednesday, 9AM–5PM]]                                             |39.110189         |-108.35110759999999|Purple Cow                            |18            |NULL |NULL                                                                                                                                                                                               |Permanently closed |https://www.google.com/maps/place//data=!4m2!3m1!1s0x874721c4e741fc93:0x27ac3e71bdcce99b?authuser=-1&hl=en&gl=us|\n",
      "|{[Wheelchair accessible entrance], NULL, [Good for kids], [Casual], [Family-friendly, Tourists], NULL, NULL, NULL, NULL, NULL, [Fast service, Great coffee, Great tea selection], NULL, [Coffee, Quick bite], [Debit cards, Credit cards], NULL, [Breakfast, Solo dining], NULL, [Drive-through, Takeout, Delivery]}                                                                                                                                                                                                                                                                                               |SheBrews Coffee & Espresso, 6505 Jackrabbit Ln, Belgrade, MT 59714                   |4.9       |[Coffee shop]                                                                                                                                      |NULL                                                                                               |0x534537fdcd5e7739:0xe37641e55ae1af3f|[[Thursday, 5AM–3PM], [Friday, 5AM–3PM], [Saturday, 6AM–3PM], [Sunday, 6AM–3PM], [Monday, 5AM–3PM], [Tuesday, 5AM–3PM], [Wednesday, 5AM–3PM]]                                          |45.7655081        |-111.1862355       |SheBrews Coffee & Espresso            |27            |NULL |[0x5345381ea1d4f203:0xc0b9b562c3b029a2, 0x534537f7fda34247:0x2d7e42b9b65a2dd4, 0x5345381b0e16af4f:0x9111abcddf0a7667, 0x5345381d93b88113:0xb46918a43dbf049f]                                       |Closed ⋅ Opens 5AM |https://www.google.com/maps/place//data=!4m2!3m1!1s0x534537fdcd5e7739:0xe37641e55ae1af3f?authuser=-1&hl=en&gl=us|\n",
      "|{NULL, NULL, [Wi-Fi], NULL, NULL, [Dessert], NULL, NULL, [Mask required], NULL, [Fast service, LGBTQ friendly], NULL, NULL, NULL, [Quick visit], NULL, NULL, [In-store pickup, In-store shopping, Takeout, Dine-in, Delivery]}                                                                                                                                                                                                                                                                                                                                                                                     |Violet Sky Chocolate, 1215 E Mishawaka Ave, South Bend, IN 46615                     |5.0       |[Chocolate shop, Cafe]                                                                                                                             |NULL                                                                                               |0x8816cd20f66cd853:0xc431dd296460e41 |[[Thursday, 8AM–5PM], [Friday, 8AM–5PM], [Saturday, 8AM–4PM], [Sunday, Closed], [Monday, Closed], [Tuesday, Closed], [Wednesday, 8AM–5PM]]                                             |41.6664799        |-86.2320281        |Violet Sky Chocolate                  |4             |NULL |[0x8816cd36bf5878a9:0xbbd1059564502a72, 0x8816d532b250cd7d:0x359c9bbf0dff7f51, 0x8816cd1b3a454e0f:0x812e7887a513b969, 0x88113275e21122e1:0x397cad46c1a5d0c5]                                       |Closed ⋅ Opens 8AM |https://www.google.com/maps/place//data=!4m2!3m1!1s0x8816cd20f66cd853:0xc431dd296460e41?authuser=-1&hl=en&gl=us |\n",
      "|{[Wheelchair accessible entrance], NULL, NULL, NULL, NULL, NULL, NULL, NULL, [Mask required, Staff required to disinfect surfaces between visits, Safety dividers at checkout], NULL, NULL, NULL, NULL, [NFC mobile payments, Credit cards], [Quick visit], NULL, NULL, [Curbside pickup, Delivery, In-store pickup, In-store shopping]}                                                                                                                                                                                                                                                                           |Wawa, 870 2nd St Pike, Richboro, PA 18954                                            |3.6       |[Convenience store, Breakfast restaurant, Cafe, Candy store, Cheesesteak restaurant, Coffee shop, Fast food restaurant, Gas station, Sandwich shop]|Convenience store chain known for sandwiches & coffee. Many offer fuel & are open 24/7.            |0x89c6ac87db2a14b9:0x574dceb7c72ce463|[[Thursday, Open 24 hours], [Friday, Open 24 hours], [Saturday, Open 24 hours], [Sunday, Open 24 hours], [Monday, Open 24 hours], [Tuesday, Open 24 hours], [Wednesday, Open 24 hours]]|40.210823         |-75.01208          |Wawa                                  |34            |$    |[0x89c6ac81316ab97d:0x7c7c1d86ebfb1d04, 0x89c6ac86e61af5ad:0x4b59c2e413ca14c, 0x89c6ac88ffac5817:0x66ecb080e36a8c00, 0x89c6ac7e72ccb3a9:0x6f97a3f37e203f3]                                         |Open 24 hours      |https://www.google.com/maps/place//data=!4m2!3m1!1s0x89c6ac87db2a14b9:0x574dceb7c72ce463?authuser=-1&hl=en&gl=us|\n",
      "|{[Wheelchair accessible entrance], NULL, NULL, NULL, NULL, NULL, NULL, NULL, [Mask required, Safety dividers at checkout], NULL, NULL, NULL, NULL, NULL, [Quick visit], NULL, NULL, [In-store shopping, Delivery]}                                                                                                                                                                                                                                                                                                                                                                                                 |Circle K, 4310 SE Hawthorne Rd, Gainesville, FL 32641                                |3.5       |[Convenience store, ATM, Coffee shop, Gas station, Soft drinks shop]                                                                               |Convenience store chain offering a wide variety of hot & cold drinks & snacks. Many offer fuel.    |0x88e8a13da9b3fea3:0x59a99647bb951969|[[Thursday, Open 24 hours], [Friday, Open 24 hours], [Saturday, Open 24 hours], [Sunday, Open 24 hours], [Monday, Open 24 hours], [Tuesday, Open 24 hours], [Wednesday, Open 24 hours]]|29.635547         |-82.2720159        |Circle K                              |4             |$    |[0x88e8a13da7ed53fd:0x366e2bfd764f921e, 0x88e8a3fc16b8a4d3:0xd38473753e3a7139, 0x88e6176e3dbe8db5:0xad3ed81903bbea2, 0x88e8a2c359baf181:0x9bcf52a4c316cc93, 0x88e8a3fa97feb7d9:0x607775be9bfb001d] |Open 24 hours      |https://www.google.com/maps/place//data=!4m2!3m1!1s0x88e8a13da9b3fea3:0x59a99647bb951969?authuser=-1&hl=en&gl=us|\n",
      "+-------------------------------------------------------------------------------------------------------------------------------------------------------------------------------------------------------------------------------------------------------------------------------------------------------------------------------------------------------------------------------------------------------------------------------------------------------------------------------------------------------------------------------------------------------------------------------------------------------------------+-------------------------------------------------------------------------------------+----------+---------------------------------------------------------------------------------------------------------------------------------------------------+---------------------------------------------------------------------------------------------------+-------------------------------------+---------------------------------------------------------------------------------------------------------------------------------------------------------------------------------------+------------------+-------------------+--------------------------------------+--------------+-----+---------------------------------------------------------------------------------------------------------------------------------------------------------------------------------------------------+-------------------+----------------------------------------------------------------------------------------------------------------+\n",
      "only showing top 20 rows\n",
      "\n"
     ]
    }
   ],
   "source": [
    "df_filtered = metadata_df_cached.filter(\n",
    "    F.expr(f\"array_contains(transform(category, x -> lower(x) rlike '{regex_pattern}'), true)\")\n",
    ")\n",
    "\n",
    "df_filtered.show(truncate=False)"
   ]
  },
  {
   "cell_type": "code",
   "execution_count": 106,
   "metadata": {},
   "outputs": [
    {
     "name": "stdout",
     "output_type": "stream",
     "text": [
      "root\n",
      " |-- MISC: struct (nullable = true)\n",
      " |    |-- Accessibility: array (nullable = true)\n",
      " |    |    |-- element: string (containsNull = true)\n",
      " |    |-- Activities: array (nullable = true)\n",
      " |    |    |-- element: string (containsNull = true)\n",
      " |    |-- Amenities: array (nullable = true)\n",
      " |    |    |-- element: string (containsNull = true)\n",
      " |    |-- Atmosphere: array (nullable = true)\n",
      " |    |    |-- element: string (containsNull = true)\n",
      " |    |-- Crowd: array (nullable = true)\n",
      " |    |    |-- element: string (containsNull = true)\n",
      " |    |-- Dining options: array (nullable = true)\n",
      " |    |    |-- element: string (containsNull = true)\n",
      " |    |-- From the business: array (nullable = true)\n",
      " |    |    |-- element: string (containsNull = true)\n",
      " |    |-- Getting here: array (nullable = true)\n",
      " |    |    |-- element: string (containsNull = true)\n",
      " |    |-- Health & safety: array (nullable = true)\n",
      " |    |    |-- element: string (containsNull = true)\n",
      " |    |-- Health and safety: array (nullable = true)\n",
      " |    |    |-- element: string (containsNull = true)\n",
      " |    |-- Highlights: array (nullable = true)\n",
      " |    |    |-- element: string (containsNull = true)\n",
      " |    |-- Lodging options: array (nullable = true)\n",
      " |    |    |-- element: string (containsNull = true)\n",
      " |    |-- Offerings: array (nullable = true)\n",
      " |    |    |-- element: string (containsNull = true)\n",
      " |    |-- Payments: array (nullable = true)\n",
      " |    |    |-- element: string (containsNull = true)\n",
      " |    |-- Planning: array (nullable = true)\n",
      " |    |    |-- element: string (containsNull = true)\n",
      " |    |-- Popular for: array (nullable = true)\n",
      " |    |    |-- element: string (containsNull = true)\n",
      " |    |-- Recycling: array (nullable = true)\n",
      " |    |    |-- element: string (containsNull = true)\n",
      " |    |-- Service options: array (nullable = true)\n",
      " |    |    |-- element: string (containsNull = true)\n",
      " |-- address: string (nullable = true)\n",
      " |-- avg_rating: double (nullable = true)\n",
      " |-- category: array (nullable = true)\n",
      " |    |-- element: string (containsNull = true)\n",
      " |-- description: string (nullable = true)\n",
      " |-- gmap_id: string (nullable = true)\n",
      " |-- hours: array (nullable = true)\n",
      " |    |-- element: array (containsNull = true)\n",
      " |    |    |-- element: string (containsNull = true)\n",
      " |-- latitude: double (nullable = true)\n",
      " |-- longitude: double (nullable = true)\n",
      " |-- name: string (nullable = true)\n",
      " |-- num_of_reviews: long (nullable = true)\n",
      " |-- price: string (nullable = true)\n",
      " |-- relative_results: array (nullable = true)\n",
      " |    |-- element: string (containsNull = true)\n",
      " |-- state: string (nullable = true)\n",
      " |-- url: string (nullable = true)\n",
      "\n"
     ]
    }
   ],
   "source": [
    "df_filtered.printSchema()"
   ]
  },
  {
   "cell_type": "code",
   "execution_count": 6,
   "metadata": {},
   "outputs": [],
   "source": [
    "locations_df = df_filtered.select('gmap_id','latitude','longitude').toPandas()"
   ]
  },
  {
   "cell_type": "code",
   "execution_count": 7,
   "metadata": {},
   "outputs": [
    {
     "data": {
      "text/html": [
       "<div>\n",
       "<style scoped>\n",
       "    .dataframe tbody tr th:only-of-type {\n",
       "        vertical-align: middle;\n",
       "    }\n",
       "\n",
       "    .dataframe tbody tr th {\n",
       "        vertical-align: top;\n",
       "    }\n",
       "\n",
       "    .dataframe thead th {\n",
       "        text-align: right;\n",
       "    }\n",
       "</style>\n",
       "<table border=\"1\" class=\"dataframe\">\n",
       "  <thead>\n",
       "    <tr style=\"text-align: right;\">\n",
       "      <th></th>\n",
       "      <th>gmap_id</th>\n",
       "      <th>latitude</th>\n",
       "      <th>longitude</th>\n",
       "    </tr>\n",
       "  </thead>\n",
       "  <tbody>\n",
       "    <tr>\n",
       "      <th>0</th>\n",
       "      <td>0x89c6c715d1821fe3:0x9cfa8308c0ce2289</td>\n",
       "      <td>39.950078</td>\n",
       "      <td>-75.180729</td>\n",
       "    </tr>\n",
       "    <tr>\n",
       "      <th>1</th>\n",
       "      <td>0x7954d370921ff6bd:0x3193ba783e26d032</td>\n",
       "      <td>20.888238</td>\n",
       "      <td>-156.450614</td>\n",
       "    </tr>\n",
       "    <tr>\n",
       "      <th>2</th>\n",
       "      <td>0x87faba1e67ff3e8d:0xdb90d5f5c33c5a6e</td>\n",
       "      <td>42.701941</td>\n",
       "      <td>-92.225543</td>\n",
       "    </tr>\n",
       "    <tr>\n",
       "      <th>3</th>\n",
       "      <td>0x80c8c5cdced316b5:0xaf1ea0b1e42132a9</td>\n",
       "      <td>36.099575</td>\n",
       "      <td>-115.176338</td>\n",
       "    </tr>\n",
       "    <tr>\n",
       "      <th>4</th>\n",
       "      <td>0x89ac5f9990c10c4b:0xd5a96da0fd76a3e3</td>\n",
       "      <td>35.776012</td>\n",
       "      <td>-78.610680</td>\n",
       "    </tr>\n",
       "  </tbody>\n",
       "</table>\n",
       "</div>"
      ],
      "text/plain": [
       "                                 gmap_id   latitude   longitude\n",
       "0  0x89c6c715d1821fe3:0x9cfa8308c0ce2289  39.950078  -75.180729\n",
       "1  0x7954d370921ff6bd:0x3193ba783e26d032  20.888238 -156.450614\n",
       "2  0x87faba1e67ff3e8d:0xdb90d5f5c33c5a6e  42.701941  -92.225543\n",
       "3  0x80c8c5cdced316b5:0xaf1ea0b1e42132a9  36.099575 -115.176338\n",
       "4  0x89ac5f9990c10c4b:0xd5a96da0fd76a3e3  35.776012  -78.610680"
      ]
     },
     "execution_count": 7,
     "metadata": {},
     "output_type": "execute_result"
    }
   ],
   "source": [
    "locations_df.head(5)"
   ]
  },
  {
   "cell_type": "markdown",
   "metadata": {},
   "source": [
    "Vamos a agregar la ciudad y el estado, ya que es parte del esquema de nuestra tabla."
   ]
  },
  {
   "cell_type": "markdown",
   "metadata": {},
   "source": [
    "# Estado"
   ]
  },
  {
   "cell_type": "code",
   "execution_count": 8,
   "metadata": {},
   "outputs": [],
   "source": [
    "# Vamos a usar un shapefile para esta tarea.\n",
    "import geopandas as gpd\n",
    "from shapely.geometry import Point"
   ]
  },
  {
   "cell_type": "code",
   "execution_count": 9,
   "metadata": {},
   "outputs": [],
   "source": [
    "# Se lee el archivo shp\n",
    "states = gpd.read_file(r\"F:\\DataScience\\PF - DataNova\\datasets\\External Data\\shapefile\\cb_2018_us_state_500k\\cb_2018_us_state_500k.shp\") "
   ]
  },
  {
   "cell_type": "code",
   "execution_count": 10,
   "metadata": {},
   "outputs": [
    {
     "data": {
      "text/html": [
       "<div>\n",
       "<style scoped>\n",
       "    .dataframe tbody tr th:only-of-type {\n",
       "        vertical-align: middle;\n",
       "    }\n",
       "\n",
       "    .dataframe tbody tr th {\n",
       "        vertical-align: top;\n",
       "    }\n",
       "\n",
       "    .dataframe thead th {\n",
       "        text-align: right;\n",
       "    }\n",
       "</style>\n",
       "<table border=\"1\" class=\"dataframe\">\n",
       "  <thead>\n",
       "    <tr style=\"text-align: right;\">\n",
       "      <th></th>\n",
       "      <th>STATEFP</th>\n",
       "      <th>STATENS</th>\n",
       "      <th>AFFGEOID</th>\n",
       "      <th>GEOID</th>\n",
       "      <th>STUSPS</th>\n",
       "      <th>NAME</th>\n",
       "      <th>LSAD</th>\n",
       "      <th>ALAND</th>\n",
       "      <th>AWATER</th>\n",
       "      <th>geometry</th>\n",
       "    </tr>\n",
       "  </thead>\n",
       "  <tbody>\n",
       "    <tr>\n",
       "      <th>0</th>\n",
       "      <td>28</td>\n",
       "      <td>01779790</td>\n",
       "      <td>0400000US28</td>\n",
       "      <td>28</td>\n",
       "      <td>MS</td>\n",
       "      <td>Mississippi</td>\n",
       "      <td>00</td>\n",
       "      <td>121533519481</td>\n",
       "      <td>3926919758</td>\n",
       "      <td>MULTIPOLYGON (((-88.50297 30.21524, -88.49176 ...</td>\n",
       "    </tr>\n",
       "    <tr>\n",
       "      <th>1</th>\n",
       "      <td>37</td>\n",
       "      <td>01027616</td>\n",
       "      <td>0400000US37</td>\n",
       "      <td>37</td>\n",
       "      <td>NC</td>\n",
       "      <td>North Carolina</td>\n",
       "      <td>00</td>\n",
       "      <td>125923656064</td>\n",
       "      <td>13466071395</td>\n",
       "      <td>MULTIPOLYGON (((-75.72681 35.93584, -75.71827 ...</td>\n",
       "    </tr>\n",
       "    <tr>\n",
       "      <th>2</th>\n",
       "      <td>40</td>\n",
       "      <td>01102857</td>\n",
       "      <td>0400000US40</td>\n",
       "      <td>40</td>\n",
       "      <td>OK</td>\n",
       "      <td>Oklahoma</td>\n",
       "      <td>00</td>\n",
       "      <td>177662925723</td>\n",
       "      <td>3374587997</td>\n",
       "      <td>POLYGON ((-103.00256 36.52659, -103.00219 36.6...</td>\n",
       "    </tr>\n",
       "    <tr>\n",
       "      <th>3</th>\n",
       "      <td>51</td>\n",
       "      <td>01779803</td>\n",
       "      <td>0400000US51</td>\n",
       "      <td>51</td>\n",
       "      <td>VA</td>\n",
       "      <td>Virginia</td>\n",
       "      <td>00</td>\n",
       "      <td>102257717110</td>\n",
       "      <td>8528531774</td>\n",
       "      <td>MULTIPOLYGON (((-75.74241 37.80835, -75.74151 ...</td>\n",
       "    </tr>\n",
       "    <tr>\n",
       "      <th>4</th>\n",
       "      <td>54</td>\n",
       "      <td>01779805</td>\n",
       "      <td>0400000US54</td>\n",
       "      <td>54</td>\n",
       "      <td>WV</td>\n",
       "      <td>West Virginia</td>\n",
       "      <td>00</td>\n",
       "      <td>62266474513</td>\n",
       "      <td>489028543</td>\n",
       "      <td>POLYGON ((-82.6432 38.16909, -82.643 38.16956,...</td>\n",
       "    </tr>\n",
       "  </tbody>\n",
       "</table>\n",
       "</div>"
      ],
      "text/plain": [
       "  STATEFP   STATENS     AFFGEOID GEOID STUSPS            NAME LSAD  \\\n",
       "0      28  01779790  0400000US28    28     MS     Mississippi   00   \n",
       "1      37  01027616  0400000US37    37     NC  North Carolina   00   \n",
       "2      40  01102857  0400000US40    40     OK        Oklahoma   00   \n",
       "3      51  01779803  0400000US51    51     VA        Virginia   00   \n",
       "4      54  01779805  0400000US54    54     WV   West Virginia   00   \n",
       "\n",
       "          ALAND       AWATER  \\\n",
       "0  121533519481   3926919758   \n",
       "1  125923656064  13466071395   \n",
       "2  177662925723   3374587997   \n",
       "3  102257717110   8528531774   \n",
       "4   62266474513    489028543   \n",
       "\n",
       "                                            geometry  \n",
       "0  MULTIPOLYGON (((-88.50297 30.21524, -88.49176 ...  \n",
       "1  MULTIPOLYGON (((-75.72681 35.93584, -75.71827 ...  \n",
       "2  POLYGON ((-103.00256 36.52659, -103.00219 36.6...  \n",
       "3  MULTIPOLYGON (((-75.74241 37.80835, -75.74151 ...  \n",
       "4  POLYGON ((-82.6432 38.16909, -82.643 38.16956,...  "
      ]
     },
     "execution_count": 10,
     "metadata": {},
     "output_type": "execute_result"
    }
   ],
   "source": [
    "# Visualizacion\n",
    "states.head()"
   ]
  },
  {
   "cell_type": "code",
   "execution_count": 11,
   "metadata": {},
   "outputs": [
    {
     "data": {
      "text/html": [
       "<div>\n",
       "<style scoped>\n",
       "    .dataframe tbody tr th:only-of-type {\n",
       "        vertical-align: middle;\n",
       "    }\n",
       "\n",
       "    .dataframe tbody tr th {\n",
       "        vertical-align: top;\n",
       "    }\n",
       "\n",
       "    .dataframe thead th {\n",
       "        text-align: right;\n",
       "    }\n",
       "</style>\n",
       "<table border=\"1\" class=\"dataframe\">\n",
       "  <thead>\n",
       "    <tr style=\"text-align: right;\">\n",
       "      <th></th>\n",
       "      <th>gmap_id</th>\n",
       "      <th>latitude</th>\n",
       "      <th>longitude</th>\n",
       "      <th>geometry</th>\n",
       "      <th>index_right</th>\n",
       "      <th>STATEFP</th>\n",
       "      <th>STATENS</th>\n",
       "      <th>AFFGEOID</th>\n",
       "      <th>GEOID</th>\n",
       "      <th>STUSPS</th>\n",
       "      <th>NAME</th>\n",
       "      <th>LSAD</th>\n",
       "      <th>ALAND</th>\n",
       "      <th>AWATER</th>\n",
       "    </tr>\n",
       "  </thead>\n",
       "  <tbody>\n",
       "    <tr>\n",
       "      <th>0</th>\n",
       "      <td>0x89c6c715d1821fe3:0x9cfa8308c0ce2289</td>\n",
       "      <td>39.950078</td>\n",
       "      <td>-75.180729</td>\n",
       "      <td>POINT (-75.18073 39.95008)</td>\n",
       "      <td>19.0</td>\n",
       "      <td>42</td>\n",
       "      <td>01779798</td>\n",
       "      <td>0400000US42</td>\n",
       "      <td>42</td>\n",
       "      <td>PA</td>\n",
       "      <td>Pennsylvania</td>\n",
       "      <td>00</td>\n",
       "      <td>1.158844e+11</td>\n",
       "      <td>3.394590e+09</td>\n",
       "    </tr>\n",
       "    <tr>\n",
       "      <th>1</th>\n",
       "      <td>0x7954d370921ff6bd:0x3193ba783e26d032</td>\n",
       "      <td>20.888238</td>\n",
       "      <td>-156.450614</td>\n",
       "      <td>POINT (-156.45061 20.88824)</td>\n",
       "      <td>42.0</td>\n",
       "      <td>15</td>\n",
       "      <td>01779782</td>\n",
       "      <td>0400000US15</td>\n",
       "      <td>15</td>\n",
       "      <td>HI</td>\n",
       "      <td>Hawaii</td>\n",
       "      <td>00</td>\n",
       "      <td>1.663399e+10</td>\n",
       "      <td>1.177781e+10</td>\n",
       "    </tr>\n",
       "    <tr>\n",
       "      <th>2</th>\n",
       "      <td>0x87faba1e67ff3e8d:0xdb90d5f5c33c5a6e</td>\n",
       "      <td>42.701941</td>\n",
       "      <td>-92.225543</td>\n",
       "      <td>POINT (-92.22554 42.70194)</td>\n",
       "      <td>32.0</td>\n",
       "      <td>19</td>\n",
       "      <td>01779785</td>\n",
       "      <td>0400000US19</td>\n",
       "      <td>19</td>\n",
       "      <td>IA</td>\n",
       "      <td>Iowa</td>\n",
       "      <td>00</td>\n",
       "      <td>1.446613e+11</td>\n",
       "      <td>1.084181e+09</td>\n",
       "    </tr>\n",
       "    <tr>\n",
       "      <th>3</th>\n",
       "      <td>0x80c8c5cdced316b5:0xaf1ea0b1e42132a9</td>\n",
       "      <td>36.099575</td>\n",
       "      <td>-115.176338</td>\n",
       "      <td>POINT (-115.17634 36.09958)</td>\n",
       "      <td>28.0</td>\n",
       "      <td>32</td>\n",
       "      <td>01779793</td>\n",
       "      <td>0400000US32</td>\n",
       "      <td>32</td>\n",
       "      <td>NV</td>\n",
       "      <td>Nevada</td>\n",
       "      <td>00</td>\n",
       "      <td>2.843295e+11</td>\n",
       "      <td>2.047206e+09</td>\n",
       "    </tr>\n",
       "    <tr>\n",
       "      <th>4</th>\n",
       "      <td>0x89ac5f9990c10c4b:0xd5a96da0fd76a3e3</td>\n",
       "      <td>35.776012</td>\n",
       "      <td>-78.610680</td>\n",
       "      <td>POINT (-78.61068 35.77601)</td>\n",
       "      <td>1.0</td>\n",
       "      <td>37</td>\n",
       "      <td>01027616</td>\n",
       "      <td>0400000US37</td>\n",
       "      <td>37</td>\n",
       "      <td>NC</td>\n",
       "      <td>North Carolina</td>\n",
       "      <td>00</td>\n",
       "      <td>1.259237e+11</td>\n",
       "      <td>1.346607e+10</td>\n",
       "    </tr>\n",
       "    <tr>\n",
       "      <th>...</th>\n",
       "      <td>...</td>\n",
       "      <td>...</td>\n",
       "      <td>...</td>\n",
       "      <td>...</td>\n",
       "      <td>...</td>\n",
       "      <td>...</td>\n",
       "      <td>...</td>\n",
       "      <td>...</td>\n",
       "      <td>...</td>\n",
       "      <td>...</td>\n",
       "      <td>...</td>\n",
       "      <td>...</td>\n",
       "      <td>...</td>\n",
       "      <td>...</td>\n",
       "    </tr>\n",
       "    <tr>\n",
       "      <th>43153</th>\n",
       "      <td>0x54011e1ea303d8fb:0x6926865e295a2860</td>\n",
       "      <td>58.366200</td>\n",
       "      <td>-134.591000</td>\n",
       "      <td>POINT (-134.591 58.3662)</td>\n",
       "      <td>27.0</td>\n",
       "      <td>02</td>\n",
       "      <td>01785533</td>\n",
       "      <td>0400000US02</td>\n",
       "      <td>02</td>\n",
       "      <td>AK</td>\n",
       "      <td>Alaska</td>\n",
       "      <td>00</td>\n",
       "      <td>1.478840e+12</td>\n",
       "      <td>2.454816e+11</td>\n",
       "    </tr>\n",
       "    <tr>\n",
       "      <th>43154</th>\n",
       "      <td>0x89c25af6e18e56a5:0x9b38fce3dbd88098</td>\n",
       "      <td>40.674726</td>\n",
       "      <td>-73.997918</td>\n",
       "      <td>POINT (-73.99792 40.67473)</td>\n",
       "      <td>25.0</td>\n",
       "      <td>36</td>\n",
       "      <td>01779796</td>\n",
       "      <td>0400000US36</td>\n",
       "      <td>36</td>\n",
       "      <td>NY</td>\n",
       "      <td>New York</td>\n",
       "      <td>00</td>\n",
       "      <td>1.220491e+11</td>\n",
       "      <td>1.924699e+10</td>\n",
       "    </tr>\n",
       "    <tr>\n",
       "      <th>43155</th>\n",
       "      <td>0x874108492da42871:0xffdd87f3eeced9c2</td>\n",
       "      <td>39.520075</td>\n",
       "      <td>-107.319044</td>\n",
       "      <td>POINT (-107.31904 39.52007)</td>\n",
       "      <td>21.0</td>\n",
       "      <td>08</td>\n",
       "      <td>01779779</td>\n",
       "      <td>0400000US08</td>\n",
       "      <td>08</td>\n",
       "      <td>CO</td>\n",
       "      <td>Colorado</td>\n",
       "      <td>00</td>\n",
       "      <td>2.684229e+11</td>\n",
       "      <td>1.181622e+09</td>\n",
       "    </tr>\n",
       "    <tr>\n",
       "      <th>43156</th>\n",
       "      <td>0x80dcd91a30eeb005:0xda3db9bb93ef4937</td>\n",
       "      <td>33.734955</td>\n",
       "      <td>-117.868623</td>\n",
       "      <td>POINT (-117.86862 33.73495)</td>\n",
       "      <td>16.0</td>\n",
       "      <td>06</td>\n",
       "      <td>01779778</td>\n",
       "      <td>0400000US06</td>\n",
       "      <td>06</td>\n",
       "      <td>CA</td>\n",
       "      <td>California</td>\n",
       "      <td>00</td>\n",
       "      <td>4.035039e+11</td>\n",
       "      <td>2.046387e+10</td>\n",
       "    </tr>\n",
       "    <tr>\n",
       "      <th>43157</th>\n",
       "      <td>0x880e24f4782ae337:0x65542e133847bbde</td>\n",
       "      <td>41.679302</td>\n",
       "      <td>-87.664750</td>\n",
       "      <td>POINT (-87.66475 41.6793)</td>\n",
       "      <td>29.0</td>\n",
       "      <td>17</td>\n",
       "      <td>01779784</td>\n",
       "      <td>0400000US17</td>\n",
       "      <td>17</td>\n",
       "      <td>IL</td>\n",
       "      <td>Illinois</td>\n",
       "      <td>00</td>\n",
       "      <td>1.437806e+11</td>\n",
       "      <td>6.214825e+09</td>\n",
       "    </tr>\n",
       "  </tbody>\n",
       "</table>\n",
       "<p>43158 rows × 14 columns</p>\n",
       "</div>"
      ],
      "text/plain": [
       "                                     gmap_id   latitude   longitude  \\\n",
       "0      0x89c6c715d1821fe3:0x9cfa8308c0ce2289  39.950078  -75.180729   \n",
       "1      0x7954d370921ff6bd:0x3193ba783e26d032  20.888238 -156.450614   \n",
       "2      0x87faba1e67ff3e8d:0xdb90d5f5c33c5a6e  42.701941  -92.225543   \n",
       "3      0x80c8c5cdced316b5:0xaf1ea0b1e42132a9  36.099575 -115.176338   \n",
       "4      0x89ac5f9990c10c4b:0xd5a96da0fd76a3e3  35.776012  -78.610680   \n",
       "...                                      ...        ...         ...   \n",
       "43153  0x54011e1ea303d8fb:0x6926865e295a2860  58.366200 -134.591000   \n",
       "43154  0x89c25af6e18e56a5:0x9b38fce3dbd88098  40.674726  -73.997918   \n",
       "43155  0x874108492da42871:0xffdd87f3eeced9c2  39.520075 -107.319044   \n",
       "43156  0x80dcd91a30eeb005:0xda3db9bb93ef4937  33.734955 -117.868623   \n",
       "43157  0x880e24f4782ae337:0x65542e133847bbde  41.679302  -87.664750   \n",
       "\n",
       "                          geometry  index_right STATEFP   STATENS  \\\n",
       "0       POINT (-75.18073 39.95008)         19.0      42  01779798   \n",
       "1      POINT (-156.45061 20.88824)         42.0      15  01779782   \n",
       "2       POINT (-92.22554 42.70194)         32.0      19  01779785   \n",
       "3      POINT (-115.17634 36.09958)         28.0      32  01779793   \n",
       "4       POINT (-78.61068 35.77601)          1.0      37  01027616   \n",
       "...                            ...          ...     ...       ...   \n",
       "43153     POINT (-134.591 58.3662)         27.0      02  01785533   \n",
       "43154   POINT (-73.99792 40.67473)         25.0      36  01779796   \n",
       "43155  POINT (-107.31904 39.52007)         21.0      08  01779779   \n",
       "43156  POINT (-117.86862 33.73495)         16.0      06  01779778   \n",
       "43157    POINT (-87.66475 41.6793)         29.0      17  01779784   \n",
       "\n",
       "          AFFGEOID GEOID STUSPS            NAME LSAD         ALAND  \\\n",
       "0      0400000US42    42     PA    Pennsylvania   00  1.158844e+11   \n",
       "1      0400000US15    15     HI          Hawaii   00  1.663399e+10   \n",
       "2      0400000US19    19     IA            Iowa   00  1.446613e+11   \n",
       "3      0400000US32    32     NV          Nevada   00  2.843295e+11   \n",
       "4      0400000US37    37     NC  North Carolina   00  1.259237e+11   \n",
       "...            ...   ...    ...             ...  ...           ...   \n",
       "43153  0400000US02    02     AK          Alaska   00  1.478840e+12   \n",
       "43154  0400000US36    36     NY        New York   00  1.220491e+11   \n",
       "43155  0400000US08    08     CO        Colorado   00  2.684229e+11   \n",
       "43156  0400000US06    06     CA      California   00  4.035039e+11   \n",
       "43157  0400000US17    17     IL        Illinois   00  1.437806e+11   \n",
       "\n",
       "             AWATER  \n",
       "0      3.394590e+09  \n",
       "1      1.177781e+10  \n",
       "2      1.084181e+09  \n",
       "3      2.047206e+09  \n",
       "4      1.346607e+10  \n",
       "...             ...  \n",
       "43153  2.454816e+11  \n",
       "43154  1.924699e+10  \n",
       "43155  1.181622e+09  \n",
       "43156  2.046387e+10  \n",
       "43157  6.214825e+09  \n",
       "\n",
       "[43158 rows x 14 columns]"
      ]
     },
     "execution_count": 11,
     "metadata": {},
     "output_type": "execute_result"
    }
   ],
   "source": [
    "# Aqui vamos a hacer el cruce de información.\n",
    "geometry = [Point(lon, lat) for lon, lat in zip(locations_df['longitude'], locations_df['latitude'])]\n",
    "gdf_puntos = gpd.GeoDataFrame(locations_df, geometry=geometry)\n",
    "\n",
    "gdf_puntos.crs = \"EPSG:4326\"  # WGS84\n",
    "states = states.to_crs(\"EPSG:4326\")  \n",
    "\n",
    "gdf_joined = gpd.sjoin(gdf_puntos, states, how=\"left\")\n",
    "\n",
    "gdf_joined"
   ]
  },
  {
   "cell_type": "code",
   "execution_count": 12,
   "metadata": {},
   "outputs": [
    {
     "name": "stderr",
     "output_type": "stream",
     "text": [
      "C:\\Users\\Une\\AppData\\Local\\Temp\\ipykernel_24848\\3467693935.py:3: SettingWithCopyWarning: \n",
      "A value is trying to be set on a copy of a slice from a DataFrame\n",
      "\n",
      "See the caveats in the documentation: https://pandas.pydata.org/pandas-docs/stable/user_guide/indexing.html#returning-a-view-versus-a-copy\n",
      "  locations_df.rename(columns={'NAME':'state'}, inplace=True)\n"
     ]
    },
    {
     "data": {
      "text/html": [
       "<div>\n",
       "<style scoped>\n",
       "    .dataframe tbody tr th:only-of-type {\n",
       "        vertical-align: middle;\n",
       "    }\n",
       "\n",
       "    .dataframe tbody tr th {\n",
       "        vertical-align: top;\n",
       "    }\n",
       "\n",
       "    .dataframe thead th {\n",
       "        text-align: right;\n",
       "    }\n",
       "</style>\n",
       "<table border=\"1\" class=\"dataframe\">\n",
       "  <thead>\n",
       "    <tr style=\"text-align: right;\">\n",
       "      <th></th>\n",
       "      <th>gmap_id</th>\n",
       "      <th>latitude</th>\n",
       "      <th>longitude</th>\n",
       "      <th>state</th>\n",
       "    </tr>\n",
       "  </thead>\n",
       "  <tbody>\n",
       "    <tr>\n",
       "      <th>0</th>\n",
       "      <td>0x89c6c715d1821fe3:0x9cfa8308c0ce2289</td>\n",
       "      <td>39.950078</td>\n",
       "      <td>-75.180729</td>\n",
       "      <td>Pennsylvania</td>\n",
       "    </tr>\n",
       "    <tr>\n",
       "      <th>1</th>\n",
       "      <td>0x7954d370921ff6bd:0x3193ba783e26d032</td>\n",
       "      <td>20.888238</td>\n",
       "      <td>-156.450614</td>\n",
       "      <td>Hawaii</td>\n",
       "    </tr>\n",
       "    <tr>\n",
       "      <th>2</th>\n",
       "      <td>0x87faba1e67ff3e8d:0xdb90d5f5c33c5a6e</td>\n",
       "      <td>42.701941</td>\n",
       "      <td>-92.225543</td>\n",
       "      <td>Iowa</td>\n",
       "    </tr>\n",
       "    <tr>\n",
       "      <th>3</th>\n",
       "      <td>0x80c8c5cdced316b5:0xaf1ea0b1e42132a9</td>\n",
       "      <td>36.099575</td>\n",
       "      <td>-115.176338</td>\n",
       "      <td>Nevada</td>\n",
       "    </tr>\n",
       "    <tr>\n",
       "      <th>4</th>\n",
       "      <td>0x89ac5f9990c10c4b:0xd5a96da0fd76a3e3</td>\n",
       "      <td>35.776012</td>\n",
       "      <td>-78.610680</td>\n",
       "      <td>North Carolina</td>\n",
       "    </tr>\n",
       "  </tbody>\n",
       "</table>\n",
       "</div>"
      ],
      "text/plain": [
       "                                 gmap_id   latitude   longitude  \\\n",
       "0  0x89c6c715d1821fe3:0x9cfa8308c0ce2289  39.950078  -75.180729   \n",
       "1  0x7954d370921ff6bd:0x3193ba783e26d032  20.888238 -156.450614   \n",
       "2  0x87faba1e67ff3e8d:0xdb90d5f5c33c5a6e  42.701941  -92.225543   \n",
       "3  0x80c8c5cdced316b5:0xaf1ea0b1e42132a9  36.099575 -115.176338   \n",
       "4  0x89ac5f9990c10c4b:0xd5a96da0fd76a3e3  35.776012  -78.610680   \n",
       "\n",
       "            state  \n",
       "0    Pennsylvania  \n",
       "1          Hawaii  \n",
       "2            Iowa  \n",
       "3          Nevada  \n",
       "4  North Carolina  "
      ]
     },
     "execution_count": 12,
     "metadata": {},
     "output_type": "execute_result"
    }
   ],
   "source": [
    "# Seleccionamos solamente las columnas necesarias.\n",
    "locations_df = gdf_joined[['gmap_id', 'latitude', 'longitude', 'NAME']]\n",
    "locations_df.rename(columns={'NAME':'state'}, inplace=True)\n",
    "locations_df.head(5)"
   ]
  },
  {
   "cell_type": "markdown",
   "metadata": {},
   "source": [
    "# Ciudad"
   ]
  },
  {
   "cell_type": "code",
   "execution_count": null,
   "metadata": {},
   "outputs": [],
   "source": [
    "# Leemos y concatenamos todos los SHP files.\n",
    "shp_path  = r\"F:\\DataScience\\PF - DataNova\\datasets\\External Data\\shapefile\\TIGER\"\n",
    "\n",
    "iter_counter = 0\n",
    "for file in os.listdir(shp_path):\n",
    "    if file.endswith('.shp'):\n",
    "\n",
    "        file_path = shp_path + \"\\\\\" + file\n",
    "        cities = gpd.read_file(file_path)\n",
    "\n",
    "        if iter_counter==0:\n",
    "            iter_counter+=1\n",
    "            cities_geo = cities.copy()\n",
    "        else:\n",
    "            cities_geo = pd.concat([cities_geo, cities], ignore_index=True)\n",
    "\n"
   ]
  },
  {
   "cell_type": "code",
   "execution_count": 76,
   "metadata": {},
   "outputs": [],
   "source": [
    "# Realizamos nuestro cruce con los locales obtenidos.\n",
    "geometry = [Point(lon, lat) for lon, lat in zip(locations_df['longitude'], locations_df['latitude'])]\n",
    "gdf_puntos = gpd.GeoDataFrame(locations_df, geometry=geometry)\n",
    "gdf_puntos.crs = \"EPSG:4326\"  # WGS84\n",
    "cities = cities_geo.to_crs(\"EPSG:4326\")  \n",
    "gdf_joined = gpd.sjoin(gdf_puntos, cities, how=\"left\")"
   ]
  },
  {
   "cell_type": "code",
   "execution_count": 79,
   "metadata": {},
   "outputs": [
    {
     "data": {
      "text/plain": [
       "Index(['gmap_id', 'latitude', 'longitude', 'state', 'geometry', 'index_right',\n",
       "       'STATEFP', 'PLACEFP', 'PLACENS', 'GEOID', 'GEOIDFQ', 'NAME', 'NAMELSAD',\n",
       "       'LSAD', 'CLASSFP', 'PCICBSA', 'MTFCC', 'FUNCSTAT', 'ALAND', 'AWATER',\n",
       "       'INTPTLAT', 'INTPTLON'],\n",
       "      dtype='object')"
      ]
     },
     "execution_count": 79,
     "metadata": {},
     "output_type": "execute_result"
    }
   ],
   "source": [
    "gdf_joined.columns"
   ]
  },
  {
   "cell_type": "code",
   "execution_count": 80,
   "metadata": {},
   "outputs": [
    {
     "name": "stderr",
     "output_type": "stream",
     "text": [
      "C:\\Users\\Une\\AppData\\Local\\Temp\\ipykernel_24848\\2257291677.py:2: SettingWithCopyWarning: \n",
      "A value is trying to be set on a copy of a slice from a DataFrame\n",
      "\n",
      "See the caveats in the documentation: https://pandas.pydata.org/pandas-docs/stable/user_guide/indexing.html#returning-a-view-versus-a-copy\n",
      "  locations_df.rename(columns={'NAME':'city'}, inplace=True)\n"
     ]
    },
    {
     "data": {
      "text/html": [
       "<div>\n",
       "<style scoped>\n",
       "    .dataframe tbody tr th:only-of-type {\n",
       "        vertical-align: middle;\n",
       "    }\n",
       "\n",
       "    .dataframe tbody tr th {\n",
       "        vertical-align: top;\n",
       "    }\n",
       "\n",
       "    .dataframe thead th {\n",
       "        text-align: right;\n",
       "    }\n",
       "</style>\n",
       "<table border=\"1\" class=\"dataframe\">\n",
       "  <thead>\n",
       "    <tr style=\"text-align: right;\">\n",
       "      <th></th>\n",
       "      <th>gmap_id</th>\n",
       "      <th>state</th>\n",
       "      <th>latitude</th>\n",
       "      <th>longitude</th>\n",
       "      <th>city</th>\n",
       "    </tr>\n",
       "  </thead>\n",
       "  <tbody>\n",
       "    <tr>\n",
       "      <th>0</th>\n",
       "      <td>0x89c6c715d1821fe3:0x9cfa8308c0ce2289</td>\n",
       "      <td>Pennsylvania</td>\n",
       "      <td>39.950078</td>\n",
       "      <td>-75.180729</td>\n",
       "      <td>Philadelphia</td>\n",
       "    </tr>\n",
       "    <tr>\n",
       "      <th>1</th>\n",
       "      <td>0x7954d370921ff6bd:0x3193ba783e26d032</td>\n",
       "      <td>Hawaii</td>\n",
       "      <td>20.888238</td>\n",
       "      <td>-156.450614</td>\n",
       "      <td>Kahului</td>\n",
       "    </tr>\n",
       "    <tr>\n",
       "      <th>2</th>\n",
       "      <td>0x87faba1e67ff3e8d:0xdb90d5f5c33c5a6e</td>\n",
       "      <td>Iowa</td>\n",
       "      <td>42.701941</td>\n",
       "      <td>-92.225543</td>\n",
       "      <td>Readlyn</td>\n",
       "    </tr>\n",
       "    <tr>\n",
       "      <th>3</th>\n",
       "      <td>0x80c8c5cdced316b5:0xaf1ea0b1e42132a9</td>\n",
       "      <td>Nevada</td>\n",
       "      <td>36.099575</td>\n",
       "      <td>-115.176338</td>\n",
       "      <td>Paradise</td>\n",
       "    </tr>\n",
       "    <tr>\n",
       "      <th>4</th>\n",
       "      <td>0x89ac5f9990c10c4b:0xd5a96da0fd76a3e3</td>\n",
       "      <td>North Carolina</td>\n",
       "      <td>35.776012</td>\n",
       "      <td>-78.610680</td>\n",
       "      <td>Raleigh</td>\n",
       "    </tr>\n",
       "  </tbody>\n",
       "</table>\n",
       "</div>"
      ],
      "text/plain": [
       "                                 gmap_id           state   latitude  \\\n",
       "0  0x89c6c715d1821fe3:0x9cfa8308c0ce2289    Pennsylvania  39.950078   \n",
       "1  0x7954d370921ff6bd:0x3193ba783e26d032          Hawaii  20.888238   \n",
       "2  0x87faba1e67ff3e8d:0xdb90d5f5c33c5a6e            Iowa  42.701941   \n",
       "3  0x80c8c5cdced316b5:0xaf1ea0b1e42132a9          Nevada  36.099575   \n",
       "4  0x89ac5f9990c10c4b:0xd5a96da0fd76a3e3  North Carolina  35.776012   \n",
       "\n",
       "    longitude          city  \n",
       "0  -75.180729  Philadelphia  \n",
       "1 -156.450614       Kahului  \n",
       "2  -92.225543       Readlyn  \n",
       "3 -115.176338      Paradise  \n",
       "4  -78.610680       Raleigh  "
      ]
     },
     "execution_count": 80,
     "metadata": {},
     "output_type": "execute_result"
    }
   ],
   "source": [
    "locations_df = gdf_joined[['gmap_id', 'state', 'latitude', 'longitude', 'NAME']]\n",
    "locations_df.rename(columns={'NAME':'city'}, inplace=True)\n",
    "locations_df.head(5)"
   ]
  },
  {
   "cell_type": "markdown",
   "metadata": {},
   "source": [
    "# Remoción de vacíos"
   ]
  },
  {
   "cell_type": "code",
   "execution_count": 86,
   "metadata": {},
   "outputs": [
    {
     "name": "stderr",
     "output_type": "stream",
     "text": [
      "C:\\Users\\Une\\AppData\\Local\\Temp\\ipykernel_24848\\1444285571.py:1: SettingWithCopyWarning: \n",
      "A value is trying to be set on a copy of a slice from a DataFrame\n",
      "\n",
      "See the caveats in the documentation: https://pandas.pydata.org/pandas-docs/stable/user_guide/indexing.html#returning-a-view-versus-a-copy\n",
      "  locations_df.dropna(inplace=True)\n"
     ]
    }
   ],
   "source": [
    "locations_df.dropna(inplace=True)\n",
    "locations_df.reset_index(drop=True, inplace=True)"
   ]
  },
  {
   "cell_type": "code",
   "execution_count": 87,
   "metadata": {},
   "outputs": [
    {
     "data": {
      "text/html": [
       "<div>\n",
       "<style scoped>\n",
       "    .dataframe tbody tr th:only-of-type {\n",
       "        vertical-align: middle;\n",
       "    }\n",
       "\n",
       "    .dataframe tbody tr th {\n",
       "        vertical-align: top;\n",
       "    }\n",
       "\n",
       "    .dataframe thead th {\n",
       "        text-align: right;\n",
       "    }\n",
       "</style>\n",
       "<table border=\"1\" class=\"dataframe\">\n",
       "  <thead>\n",
       "    <tr style=\"text-align: right;\">\n",
       "      <th></th>\n",
       "      <th>gmap_id</th>\n",
       "      <th>state</th>\n",
       "      <th>latitude</th>\n",
       "      <th>longitude</th>\n",
       "      <th>city</th>\n",
       "    </tr>\n",
       "  </thead>\n",
       "  <tbody>\n",
       "    <tr>\n",
       "      <th>0</th>\n",
       "      <td>0x89c6c715d1821fe3:0x9cfa8308c0ce2289</td>\n",
       "      <td>Pennsylvania</td>\n",
       "      <td>39.950078</td>\n",
       "      <td>-75.180729</td>\n",
       "      <td>Philadelphia</td>\n",
       "    </tr>\n",
       "    <tr>\n",
       "      <th>1</th>\n",
       "      <td>0x7954d370921ff6bd:0x3193ba783e26d032</td>\n",
       "      <td>Hawaii</td>\n",
       "      <td>20.888238</td>\n",
       "      <td>-156.450614</td>\n",
       "      <td>Kahului</td>\n",
       "    </tr>\n",
       "    <tr>\n",
       "      <th>2</th>\n",
       "      <td>0x87faba1e67ff3e8d:0xdb90d5f5c33c5a6e</td>\n",
       "      <td>Iowa</td>\n",
       "      <td>42.701941</td>\n",
       "      <td>-92.225543</td>\n",
       "      <td>Readlyn</td>\n",
       "    </tr>\n",
       "    <tr>\n",
       "      <th>3</th>\n",
       "      <td>0x80c8c5cdced316b5:0xaf1ea0b1e42132a9</td>\n",
       "      <td>Nevada</td>\n",
       "      <td>36.099575</td>\n",
       "      <td>-115.176338</td>\n",
       "      <td>Paradise</td>\n",
       "    </tr>\n",
       "    <tr>\n",
       "      <th>4</th>\n",
       "      <td>0x89ac5f9990c10c4b:0xd5a96da0fd76a3e3</td>\n",
       "      <td>North Carolina</td>\n",
       "      <td>35.776012</td>\n",
       "      <td>-78.610680</td>\n",
       "      <td>Raleigh</td>\n",
       "    </tr>\n",
       "    <tr>\n",
       "      <th>...</th>\n",
       "      <td>...</td>\n",
       "      <td>...</td>\n",
       "      <td>...</td>\n",
       "      <td>...</td>\n",
       "      <td>...</td>\n",
       "    </tr>\n",
       "    <tr>\n",
       "      <th>38411</th>\n",
       "      <td>0x54011e1ea303d8fb:0x6926865e295a2860</td>\n",
       "      <td>Alaska</td>\n",
       "      <td>58.366200</td>\n",
       "      <td>-134.591000</td>\n",
       "      <td>Juneau</td>\n",
       "    </tr>\n",
       "    <tr>\n",
       "      <th>38412</th>\n",
       "      <td>0x89c25af6e18e56a5:0x9b38fce3dbd88098</td>\n",
       "      <td>New York</td>\n",
       "      <td>40.674726</td>\n",
       "      <td>-73.997918</td>\n",
       "      <td>New York</td>\n",
       "    </tr>\n",
       "    <tr>\n",
       "      <th>38413</th>\n",
       "      <td>0x874108492da42871:0xffdd87f3eeced9c2</td>\n",
       "      <td>Colorado</td>\n",
       "      <td>39.520075</td>\n",
       "      <td>-107.319044</td>\n",
       "      <td>Glenwood Springs</td>\n",
       "    </tr>\n",
       "    <tr>\n",
       "      <th>38414</th>\n",
       "      <td>0x80dcd91a30eeb005:0xda3db9bb93ef4937</td>\n",
       "      <td>California</td>\n",
       "      <td>33.734955</td>\n",
       "      <td>-117.868623</td>\n",
       "      <td>Santa Ana</td>\n",
       "    </tr>\n",
       "    <tr>\n",
       "      <th>38415</th>\n",
       "      <td>0x880e24f4782ae337:0x65542e133847bbde</td>\n",
       "      <td>Illinois</td>\n",
       "      <td>41.679302</td>\n",
       "      <td>-87.664750</td>\n",
       "      <td>Chicago</td>\n",
       "    </tr>\n",
       "  </tbody>\n",
       "</table>\n",
       "<p>38416 rows × 5 columns</p>\n",
       "</div>"
      ],
      "text/plain": [
       "                                     gmap_id           state   latitude  \\\n",
       "0      0x89c6c715d1821fe3:0x9cfa8308c0ce2289    Pennsylvania  39.950078   \n",
       "1      0x7954d370921ff6bd:0x3193ba783e26d032          Hawaii  20.888238   \n",
       "2      0x87faba1e67ff3e8d:0xdb90d5f5c33c5a6e            Iowa  42.701941   \n",
       "3      0x80c8c5cdced316b5:0xaf1ea0b1e42132a9          Nevada  36.099575   \n",
       "4      0x89ac5f9990c10c4b:0xd5a96da0fd76a3e3  North Carolina  35.776012   \n",
       "...                                      ...             ...        ...   \n",
       "38411  0x54011e1ea303d8fb:0x6926865e295a2860          Alaska  58.366200   \n",
       "38412  0x89c25af6e18e56a5:0x9b38fce3dbd88098        New York  40.674726   \n",
       "38413  0x874108492da42871:0xffdd87f3eeced9c2        Colorado  39.520075   \n",
       "38414  0x80dcd91a30eeb005:0xda3db9bb93ef4937      California  33.734955   \n",
       "38415  0x880e24f4782ae337:0x65542e133847bbde        Illinois  41.679302   \n",
       "\n",
       "        longitude              city  \n",
       "0      -75.180729      Philadelphia  \n",
       "1     -156.450614           Kahului  \n",
       "2      -92.225543           Readlyn  \n",
       "3     -115.176338          Paradise  \n",
       "4      -78.610680           Raleigh  \n",
       "...           ...               ...  \n",
       "38411 -134.591000            Juneau  \n",
       "38412  -73.997918          New York  \n",
       "38413 -107.319044  Glenwood Springs  \n",
       "38414 -117.868623         Santa Ana  \n",
       "38415  -87.664750           Chicago  \n",
       "\n",
       "[38416 rows x 5 columns]"
      ]
     },
     "execution_count": 87,
     "metadata": {},
     "output_type": "execute_result"
    }
   ],
   "source": [
    "locations_df"
   ]
  },
  {
   "cell_type": "markdown",
   "metadata": {},
   "source": [
    "# Cruce de datos"
   ]
  },
  {
   "cell_type": "code",
   "execution_count": null,
   "metadata": {},
   "outputs": [
    {
     "data": {
      "text/html": [
       "<div>\n",
       "<style scoped>\n",
       "    .dataframe tbody tr th:only-of-type {\n",
       "        vertical-align: middle;\n",
       "    }\n",
       "\n",
       "    .dataframe tbody tr th {\n",
       "        vertical-align: top;\n",
       "    }\n",
       "\n",
       "    .dataframe thead th {\n",
       "        text-align: right;\n",
       "    }\n",
       "</style>\n",
       "<table border=\"1\" class=\"dataframe\">\n",
       "  <thead>\n",
       "    <tr style=\"text-align: right;\">\n",
       "      <th></th>\n",
       "      <th>gmap_id</th>\n",
       "      <th>name</th>\n",
       "      <th>address</th>\n",
       "      <th>latitude</th>\n",
       "      <th>longitude</th>\n",
       "      <th>avg_rating</th>\n",
       "      <th>num_of_reviews</th>\n",
       "      <th>MISC</th>\n",
       "      <th>category</th>\n",
       "    </tr>\n",
       "  </thead>\n",
       "  <tbody>\n",
       "    <tr>\n",
       "      <th>0</th>\n",
       "      <td>0x89c6c715d1821fe3:0x9cfa8308c0ce2289</td>\n",
       "      <td>Cadence Cycling and Cafe - Center City</td>\n",
       "      <td>Cadence Cycling and Cafe - Center City, 201 S ...</td>\n",
       "      <td>39.950078</td>\n",
       "      <td>-75.180729</td>\n",
       "      <td>4.8</td>\n",
       "      <td>38</td>\n",
       "      <td>([Wheelchair accessible entrance], None, None,...</td>\n",
       "      <td>[Bicycle Shop, Bicycle repair shop, Coffee sho...</td>\n",
       "    </tr>\n",
       "    <tr>\n",
       "      <th>1</th>\n",
       "      <td>0x7954d370921ff6bd:0x3193ba783e26d032</td>\n",
       "      <td>Kraken Coffee Kahului</td>\n",
       "      <td>Kraken Coffee Kahului, 520 Keolani Pl, Kahului...</td>\n",
       "      <td>20.888238</td>\n",
       "      <td>-156.450614</td>\n",
       "      <td>4.8</td>\n",
       "      <td>8</td>\n",
       "      <td>(None, None, None, [Casual], [College students...</td>\n",
       "      <td>[Coffee shop]</td>\n",
       "    </tr>\n",
       "    <tr>\n",
       "      <th>2</th>\n",
       "      <td>0x87faba1e67ff3e8d:0xdb90d5f5c33c5a6e</td>\n",
       "      <td>The Center Inn</td>\n",
       "      <td>The Center Inn, 209 Main St, Readlyn, IA 50668</td>\n",
       "      <td>42.701941</td>\n",
       "      <td>-92.225543</td>\n",
       "      <td>4.5</td>\n",
       "      <td>15</td>\n",
       "      <td>([Wheelchair accessible entrance], None, None,...</td>\n",
       "      <td>[Restaurant or cafe]</td>\n",
       "    </tr>\n",
       "    <tr>\n",
       "      <th>3</th>\n",
       "      <td>0x80c8c5cdced316b5:0xaf1ea0b1e42132a9</td>\n",
       "      <td>Castle Coffee</td>\n",
       "      <td>Castle Coffee, Excalibur Hotel and Casino, 385...</td>\n",
       "      <td>36.099575</td>\n",
       "      <td>-115.176338</td>\n",
       "      <td>3.2</td>\n",
       "      <td>24</td>\n",
       "      <td>([Wheelchair accessible entrance, Wheelchair a...</td>\n",
       "      <td>[Coffee shop]</td>\n",
       "    </tr>\n",
       "    <tr>\n",
       "      <th>4</th>\n",
       "      <td>0x89ac5f9990c10c4b:0xd5a96da0fd76a3e3</td>\n",
       "      <td>Blue Dragon Sweepstakes</td>\n",
       "      <td>Blue Dragon Sweepstakes, 2008 Poole Rd, Raleig...</td>\n",
       "      <td>35.776012</td>\n",
       "      <td>-78.610680</td>\n",
       "      <td>4.2</td>\n",
       "      <td>33</td>\n",
       "      <td>([Wheelchair accessible entrance, Wheelchair a...</td>\n",
       "      <td>[Internet cafe]</td>\n",
       "    </tr>\n",
       "  </tbody>\n",
       "</table>\n",
       "</div>"
      ],
      "text/plain": [
       "                                 gmap_id  \\\n",
       "0  0x89c6c715d1821fe3:0x9cfa8308c0ce2289   \n",
       "1  0x7954d370921ff6bd:0x3193ba783e26d032   \n",
       "2  0x87faba1e67ff3e8d:0xdb90d5f5c33c5a6e   \n",
       "3  0x80c8c5cdced316b5:0xaf1ea0b1e42132a9   \n",
       "4  0x89ac5f9990c10c4b:0xd5a96da0fd76a3e3   \n",
       "\n",
       "                                     name  \\\n",
       "0  Cadence Cycling and Cafe - Center City   \n",
       "1                   Kraken Coffee Kahului   \n",
       "2                          The Center Inn   \n",
       "3                           Castle Coffee   \n",
       "4                 Blue Dragon Sweepstakes   \n",
       "\n",
       "                                             address   latitude   longitude  \\\n",
       "0  Cadence Cycling and Cafe - Center City, 201 S ...  39.950078  -75.180729   \n",
       "1  Kraken Coffee Kahului, 520 Keolani Pl, Kahului...  20.888238 -156.450614   \n",
       "2     The Center Inn, 209 Main St, Readlyn, IA 50668  42.701941  -92.225543   \n",
       "3  Castle Coffee, Excalibur Hotel and Casino, 385...  36.099575 -115.176338   \n",
       "4  Blue Dragon Sweepstakes, 2008 Poole Rd, Raleig...  35.776012  -78.610680   \n",
       "\n",
       "   avg_rating  num_of_reviews  \\\n",
       "0         4.8              38   \n",
       "1         4.8               8   \n",
       "2         4.5              15   \n",
       "3         3.2              24   \n",
       "4         4.2              33   \n",
       "\n",
       "                                                MISC  \\\n",
       "0  ([Wheelchair accessible entrance], None, None,...   \n",
       "1  (None, None, None, [Casual], [College students...   \n",
       "2  ([Wheelchair accessible entrance], None, None,...   \n",
       "3  ([Wheelchair accessible entrance, Wheelchair a...   \n",
       "4  ([Wheelchair accessible entrance, Wheelchair a...   \n",
       "\n",
       "                                            category  \n",
       "0  [Bicycle Shop, Bicycle repair shop, Coffee sho...  \n",
       "1                                      [Coffee shop]  \n",
       "2                               [Restaurant or cafe]  \n",
       "3                                      [Coffee shop]  \n",
       "4                                    [Internet cafe]  "
      ]
     },
     "execution_count": 92,
     "metadata": {},
     "output_type": "execute_result"
    }
   ],
   "source": [
    "# Extramos las columnas necesarias\n",
    "business_df = df_filtered.select('gmap_id', 'name', 'address', 'latitude', 'longitude', 'avg_rating', 'num_of_reviews', 'MISC', 'category').toPandas()\n",
    "business_df.head()"
   ]
  },
  {
   "cell_type": "code",
   "execution_count": 98,
   "metadata": {},
   "outputs": [],
   "source": [
    "merged_df = pd.merge(left=business_df, right=locations_df[['gmap_id', 'city', 'state']], how='inner', on='gmap_id')[['gmap_id', 'name', 'address', 'latitude', 'longitude', 'avg_rating', 'num_of_reviews',\n",
    "                                                                           'category', 'state', 'city', 'MISC']]"
   ]
  },
  {
   "cell_type": "code",
   "execution_count": 107,
   "metadata": {},
   "outputs": [
    {
     "data": {
      "text/plain": [
       "Index(['gmap_id', 'name', 'address', 'latitude', 'longitude', 'avg_rating',\n",
       "       'num_of_reviews', 'category', 'state', 'city', 'MISC'],\n",
       "      dtype='object')"
      ]
     },
     "execution_count": 107,
     "metadata": {},
     "output_type": "execute_result"
    }
   ],
   "source": [
    "merged_df.columns"
   ]
  },
  {
   "cell_type": "code",
   "execution_count": 223,
   "metadata": {},
   "outputs": [],
   "source": [
    "merged_df.to_parquet(r'F:\\DataScience\\PF - DataNova\\ETL\\ETL-Datasets\\business_google.parquet')"
   ]
  },
  {
   "cell_type": "markdown",
   "metadata": {},
   "source": [
    "# Carga a Bigquery"
   ]
  },
  {
   "cell_type": "markdown",
   "metadata": {},
   "source": [
    "### Tabla business"
   ]
  },
  {
   "cell_type": "code",
   "execution_count": 108,
   "metadata": {},
   "outputs": [],
   "source": [
    "# Acomodamos los datos al esquema.\n",
    "renamer = {'gmap_id' : 'business_id',\n",
    "           'avg_rating' : 'business_star',\n",
    "           'num_of_reviews' : 'review_count',\n",
    "           'category' : 'categories'}\n",
    "\n",
    "merged_df.rename(columns=renamer, inplace=True)"
   ]
  },
  {
   "cell_type": "code",
   "execution_count": 110,
   "metadata": {},
   "outputs": [
    {
     "data": {
      "text/plain": [
       "Index(['business_id', 'name', 'address', 'latitude', 'longitude',\n",
       "       'business_star', 'review_count', 'categories', 'state', 'city', 'MISC'],\n",
       "      dtype='object')"
      ]
     },
     "execution_count": 110,
     "metadata": {},
     "output_type": "execute_result"
    }
   ],
   "source": [
    "merged_df.columns"
   ]
  },
  {
   "cell_type": "code",
   "execution_count": 111,
   "metadata": {},
   "outputs": [],
   "source": [
    "business_df = merged_df[['business_id', 'name', 'address', 'city', 'state', 'business_star','latitude', 'longitude', 'categories',\n",
    "        'review_count']]"
   ]
  },
  {
   "cell_type": "code",
   "execution_count": 112,
   "metadata": {},
   "outputs": [],
   "source": [
    "business_df['app_source'] = 'Google'"
   ]
  },
  {
   "cell_type": "code",
   "execution_count": 115,
   "metadata": {},
   "outputs": [],
   "source": [
    "business_df = business_df[['business_id', 'name', 'address', 'city', 'state', 'business_star','latitude', 'longitude', 'app_source', 'categories',\n",
    "        'review_count']]"
   ]
  },
  {
   "cell_type": "code",
   "execution_count": 146,
   "metadata": {},
   "outputs": [],
   "source": [
    "# Definimos la ruta de environment donde guardamos nuestra credencial de GCP.\n",
    "os.environ[\"GOOGLE_APPLICATION_CREDENTIALS\"] = r\"F:\\DataScience\\PF - DataNova\\gcp key\\bamboo-zone-445202-a3-be5b705efba8.json\""
   ]
  },
  {
   "cell_type": "code",
   "execution_count": 102,
   "metadata": {},
   "outputs": [],
   "source": [
    "from google.cloud import bigquery"
   ]
  },
  {
   "cell_type": "code",
   "execution_count": 121,
   "metadata": {},
   "outputs": [],
   "source": [
    "project_id = \"bamboo-zone-445202-a3\"\n",
    "dataset_id = \"Datanova_CoffeeShops\"\n",
    "table_id = \"business\""
   ]
  },
  {
   "cell_type": "code",
   "execution_count": 150,
   "metadata": {},
   "outputs": [],
   "source": [
    "client = bigquery.Client()\n",
    "\n",
    "# Define el nombre completo de la tabla\n",
    "table_full_id = f\"{project_id}.{dataset_id}.{table_id}\""
   ]
  },
  {
   "cell_type": "code",
   "execution_count": 151,
   "metadata": {},
   "outputs": [
    {
     "data": {
      "text/plain": [
       "LoadJob<project=bamboo-zone-445202-a3, location=US, id=a5c4db40-3083-4a78-af78-88f97525bfc6>"
      ]
     },
     "execution_count": 151,
     "metadata": {},
     "output_type": "execute_result"
    }
   ],
   "source": [
    "job = client.load_table_from_dataframe(\n",
    "    business_df,  # Tu DataFrame\n",
    "    table_full_id,\n",
    "    job_config=bigquery.LoadJobConfig(\n",
    "        write_disposition=\"WRITE_APPEND\",\n",
    "        autodetect=False  # Sobrescribe si la tabla ya existe\n",
    "    )\n",
    ")\n",
    "\n",
    "job.result()"
   ]
  },
  {
   "cell_type": "code",
   "execution_count": 187,
   "metadata": {},
   "outputs": [
    {
     "data": {
      "text/plain": [
       "list"
      ]
     },
     "execution_count": 187,
     "metadata": {},
     "output_type": "execute_result"
    }
   ],
   "source": [
    "business_df.loc[0, 'categories']"
   ]
  },
  {
   "cell_type": "markdown",
   "metadata": {},
   "source": [
    "### Tabla Google_misc"
   ]
  },
  {
   "cell_type": "code",
   "execution_count": 290,
   "metadata": {},
   "outputs": [],
   "source": [
    "misc_df = merged_df[['business_id', 'MISC']]"
   ]
  },
  {
   "cell_type": "code",
   "execution_count": 291,
   "metadata": {},
   "outputs": [],
   "source": [
    "def list_maker(row):\n",
    "    try:\n",
    "        return list(row)\n",
    "    except:\n",
    "        return []"
   ]
  },
  {
   "cell_type": "code",
   "execution_count": 298,
   "metadata": {},
   "outputs": [
    {
     "name": "stderr",
     "output_type": "stream",
     "text": [
      "C:\\Users\\Une\\AppData\\Local\\Temp\\ipykernel_24848\\819243773.py:1: SettingWithCopyWarning: \n",
      "A value is trying to be set on a copy of a slice from a DataFrame.\n",
      "Try using .loc[row_indexer,col_indexer] = value instead\n",
      "\n",
      "See the caveats in the documentation: https://pandas.pydata.org/pandas-docs/stable/user_guide/indexing.html#returning-a-view-versus-a-copy\n",
      "  misc_df['MISC'] = misc_df['MISC'].apply(str)\n"
     ]
    }
   ],
   "source": [
    "misc_df['MISC'] = misc_df['MISC'].apply(str)"
   ]
  },
  {
   "cell_type": "code",
   "execution_count": 301,
   "metadata": {},
   "outputs": [
    {
     "data": {
      "text/plain": [
       "str"
      ]
     },
     "execution_count": 301,
     "metadata": {},
     "output_type": "execute_result"
    }
   ],
   "source": [
    "type(misc_df.iloc[0,1])"
   ]
  },
  {
   "cell_type": "code",
   "execution_count": 302,
   "metadata": {},
   "outputs": [],
   "source": [
    "table_full_id = \"bamboo-zone-445202-a3.Datanova_CoffeeShops.google_misc\""
   ]
  },
  {
   "cell_type": "code",
   "execution_count": 303,
   "metadata": {},
   "outputs": [
    {
     "data": {
      "text/plain": [
       "LoadJob<project=bamboo-zone-445202-a3, location=US, id=ddcfce31-840d-4d9b-a14b-d2f6bea2b05f>"
      ]
     },
     "execution_count": 303,
     "metadata": {},
     "output_type": "execute_result"
    }
   ],
   "source": [
    "job = client.load_table_from_dataframe(\n",
    "    misc_df,  # Tu DataFrame\n",
    "    table_full_id,\n",
    "    job_config=bigquery.LoadJobConfig(\n",
    "        write_disposition=\"WRITE_APPEND\",\n",
    "        autodetect=False  # Sobrescribe si la tabla ya existe\n",
    "    )\n",
    ")\n",
    "\n",
    "job.result()"
   ]
  },
  {
   "cell_type": "markdown",
   "metadata": {},
   "source": [
    "# Dataset reviews"
   ]
  },
  {
   "cell_type": "code",
   "execution_count": 231,
   "metadata": {},
   "outputs": [],
   "source": [
    "# Leemos el dataset reviews\n",
    "reviews_df = spark.read.json(r'F:\\DataScience\\PF - DataNova\\datasets\\Google Maps\\reviews-estados\\**\\*.json')\n",
    "reviews_df_cached = reviews_df.cache()"
   ]
  },
  {
   "cell_type": "code",
   "execution_count": 235,
   "metadata": {},
   "outputs": [
    {
     "name": "stdout",
     "output_type": "stream",
     "text": [
      "root\n",
      " |-- gmap_id: string (nullable = true)\n",
      " |-- name: string (nullable = true)\n",
      " |-- pics: array (nullable = true)\n",
      " |    |-- element: struct (containsNull = true)\n",
      " |    |    |-- url: array (nullable = true)\n",
      " |    |    |    |-- element: string (containsNull = true)\n",
      " |-- rating: long (nullable = true)\n",
      " |-- resp: struct (nullable = true)\n",
      " |    |-- text: string (nullable = true)\n",
      " |    |-- time: long (nullable = true)\n",
      " |-- text: string (nullable = true)\n",
      " |-- time: long (nullable = true)\n",
      " |-- user_id: string (nullable = true)\n",
      "\n"
     ]
    }
   ],
   "source": [
    "# Revisamos el schema\n",
    "reviews_df_cached.printSchema()"
   ]
  },
  {
   "cell_type": "code",
   "execution_count": 233,
   "metadata": {},
   "outputs": [],
   "source": [
    "# Leemos el dataset de business_df\n",
    "business_df = spark.read.parquet(r'F:\\DataScience\\PF - DataNova\\ETL\\ETL-Datasets\\business_google.parquet')\n",
    "business_df_cached = business_df.cache()"
   ]
  },
  {
   "cell_type": "code",
   "execution_count": 236,
   "metadata": {},
   "outputs": [
    {
     "name": "stdout",
     "output_type": "stream",
     "text": [
      "root\n",
      " |-- business_id: string (nullable = true)\n",
      " |-- name: string (nullable = true)\n",
      " |-- address: string (nullable = true)\n",
      " |-- latitude: double (nullable = true)\n",
      " |-- longitude: double (nullable = true)\n",
      " |-- business_star: double (nullable = true)\n",
      " |-- review_count: long (nullable = true)\n",
      " |-- categories: array (nullable = true)\n",
      " |    |-- element: string (containsNull = true)\n",
      " |-- state: string (nullable = true)\n",
      " |-- city: string (nullable = true)\n",
      " |-- MISC: array (nullable = true)\n",
      " |    |-- element: array (containsNull = true)\n",
      " |    |    |-- element: string (containsNull = true)\n",
      "\n"
     ]
    }
   ],
   "source": [
    "# Verificamos el esquema\n",
    "business_df_cached.printSchema()"
   ]
  },
  {
   "cell_type": "code",
   "execution_count": null,
   "metadata": {},
   "outputs": [],
   "source": [
    "# Renombramos las columnas\n",
    "reviews_df_cached = reviews_df_cached.withColumnRenamed(\"gmap_id\", \"business_id\")\n",
    "# Realizamos un merge. \n",
    "reviews_filtered_df = reviews_df_cached.join(business_df_cached.select('business_id'), on='business_id', how='inner')"
   ]
  },
  {
   "cell_type": "code",
   "execution_count": 238,
   "metadata": {},
   "outputs": [],
   "source": [
    "# Almacenamos en cache.\n",
    "reviews_filtered_df_cached = reviews_filtered_df.cache()"
   ]
  },
  {
   "cell_type": "code",
   "execution_count": 243,
   "metadata": {},
   "outputs": [],
   "source": [
    "# Dropeamos duplicados.\n",
    "reviews_filtered_df_cached = reviews_filtered_df_cached.dropDuplicates()"
   ]
  },
  {
   "cell_type": "code",
   "execution_count": 246,
   "metadata": {},
   "outputs": [
    {
     "name": "stdout",
     "output_type": "stream",
     "text": [
      "+--------------------+-----+--------------------+-------------+--------------------+\n",
      "|         business_id|stars|                text|         date|             user_id|\n",
      "+--------------------+-----+--------------------+-------------+--------------------+\n",
      "|0x874fa3d02119e08...|    5|Classy dining are...|1617988434370|11781109703466512...|\n",
      "|0x87530ede9bbcf81...|    4|                NULL|1580408757173|11474481699655525...|\n",
      "|0x87530ede9bbcf81...|    2|                NULL|1575244750143|10528073849571460...|\n",
      "|0x875272bc3684140...|    4|Cute little store...|1570589160899|11462465646238487...|\n",
      "|0x87526196e3fbe2d...|    5|Coffee was splend...|1628972565979|11773814681191421...|\n",
      "|0x87526196e3fbe2d...|    3|Fun that this cof...|1629043699731|10208622639739157...|\n",
      "|0x87525f8cfa0b583...|    3|                NULL|1550375437540|11656403510487355...|\n",
      "|0x87525f8cfa0b583...|    5|                NULL|1531439036948|11177574547299381...|\n",
      "|0x87525f8d1b54aac...|    5|Friendly staff, q...|1458666527738|11463145965754867...|\n",
      "|0x874d9171bce4831...|    5|First thing throu...|1579158696085|10586043047218261...|\n",
      "|0x87541355a660e37...|    5|                NULL|1618759896954|10131302604094050...|\n",
      "|0x8752859e320918b...|    5|                NULL|1624048023452|10836112327941892...|\n",
      "|0x87528bc7a0c67e6...|    5|I usually shop at...|1546020061769|10763593781309040...|\n",
      "|0x87528bc7a0c67e6...|    5|5 x 5 guys we lov...|1574660549404|11105083472979432...|\n",
      "|0x87528bc7a0c67e6...|    4|                NULL|1593903885944|11234161890999565...|\n",
      "|0x87528bc7a0c67e6...|    5|                NULL|1554503829417|10016154549922006...|\n",
      "|0x875261ded7b8153...|    4|                NULL|1535626437754|10747343150090128...|\n",
      "|0x874fa302ce7fe35...|    4|I live in slc whe...|1563389438555|11486542959845177...|\n",
      "|0x874fa302ce7fe35...|    5|Love this coffee ...|1566320272380|11378555102191556...|\n",
      "|0x874fa302ce7fe35...|    5|Delicious crepes ...|1570570763098|10497646972593635...|\n",
      "+--------------------+-----+--------------------+-------------+--------------------+\n",
      "only showing top 20 rows\n",
      "\n"
     ]
    }
   ],
   "source": [
    "# Seleccionamos las columnas que requerimos, y renombramos.\n",
    "reviews_df = reviews_filtered_df_cached.select('business_id', 'rating', 'text', 'time', 'user_id')\n",
    "reviews_df = reviews_df.withColumnRenamed('rating', 'stars')\n",
    "reviews_df = reviews_df.withColumnRenamed('time', 'date')\n",
    "reviews_df.show()"
   ]
  },
  {
   "cell_type": "code",
   "execution_count": 250,
   "metadata": {},
   "outputs": [],
   "source": [
    "# Agregamos un identificador unico para el review.\n",
    "from pyspark.sql.functions import expr\n",
    "\n",
    "reviews_df = reviews_df.withColumn(\"review_id\", expr(\"uuid()\"))\n"
   ]
  },
  {
   "cell_type": "code",
   "execution_count": null,
   "metadata": {},
   "outputs": [],
   "source": [
    "# Agregamos al columna app_source.\n",
    "from pyspark.sql.functions import lit\n",
    "\n",
    "reviews_df = reviews_df.withColumn(\"app_source\", lit(\"Google\"))"
   ]
  },
  {
   "cell_type": "code",
   "execution_count": 266,
   "metadata": {},
   "outputs": [
    {
     "name": "stdout",
     "output_type": "stream",
     "text": [
      "+--------------------+-----+--------------------+--------------------+--------------------+----------+-------------------+\n",
      "|         business_id|stars|                text|             user_id|           review_id|app_source|               date|\n",
      "+--------------------+-----+--------------------+--------------------+--------------------+----------+-------------------+\n",
      "|0x874fa3d02119e08...|    5|Classy dining are...|11781109703466512...|a19970a0-b59b-446...|    Google|2021-04-09 12:13:54|\n",
      "|0x87530ede9bbcf81...|    4|                NULL|11474481699655525...|85f97315-4a78-457...|    Google|2020-01-30 13:25:57|\n",
      "|0x87530ede9bbcf81...|    2|                NULL|10528073849571460...|2ab1fe34-aff0-46d...|    Google|2019-12-01 18:59:10|\n",
      "|0x875272bc3684140...|    4|Cute little store...|11462465646238487...|088ee1cb-d3d1-482...|    Google|2019-10-08 21:46:00|\n",
      "|0x87526196e3fbe2d...|    5|Coffee was splend...|11773814681191421...|ccdb5803-98a0-404...|    Google|2021-08-14 15:22:45|\n",
      "|0x87526196e3fbe2d...|    3|Fun that this cof...|10208622639739157...|ef5985d5-4e95-45e...|    Google|2021-08-15 11:08:19|\n",
      "|0x87525f8cfa0b583...|    3|                NULL|11656403510487355...|232a4b8b-5437-4db...|    Google|2019-02-16 22:50:37|\n",
      "|0x87525f8cfa0b583...|    5|                NULL|11177574547299381...|4140d301-b77f-445...|    Google|2018-07-12 18:43:56|\n",
      "|0x87525f8d1b54aac...|    5|Friendly staff, q...|11463145965754867...|997c79d6-87fc-44a...|    Google|2016-03-22 12:08:47|\n",
      "|0x874d9171bce4831...|    5|First thing throu...|10586043047218261...|fb593209-9da7-4c4...|    Google|2020-01-16 02:11:36|\n",
      "|0x87541355a660e37...|    5|                NULL|10131302604094050...|d8000f41-052c-4f2...|    Google|2021-04-18 10:31:36|\n",
      "|0x8752859e320918b...|    5|                NULL|10836112327941892...|577143a6-7d8c-4d8...|    Google|2021-06-18 15:27:03|\n",
      "|0x87528bc7a0c67e6...|    5|I usually shop at...|10763593781309040...|1bb7aafc-11b3-4f3...|    Google|2018-12-28 13:01:01|\n",
      "|0x87528bc7a0c67e6...|    5|5 x 5 guys we lov...|11105083472979432...|571f2400-5503-407...|    Google|2019-11-25 00:42:29|\n",
      "|0x87528bc7a0c67e6...|    4|                NULL|11234161890999565...|db2f0b56-ec4a-44f...|    Google|2020-07-04 18:04:45|\n",
      "|0x87528bc7a0c67e6...|    5|                NULL|10016154549922006...|dd27de7f-1c8c-4a8...|    Google|2019-04-05 17:37:09|\n",
      "|0x875261ded7b8153...|    4|                NULL|10747343150090128...|bc4e8f28-6188-4ee...|    Google|2018-08-30 05:53:57|\n",
      "|0x874fa302ce7fe35...|    4|I live in slc whe...|11486542959845177...|0f0b6c7c-52f2-406...|    Google|2019-07-17 13:50:38|\n",
      "|0x874fa302ce7fe35...|    5|Love this coffee ...|11378555102191556...|902d21ed-eab8-486...|    Google|2019-08-20 11:57:52|\n",
      "|0x874fa302ce7fe35...|    5|Delicious crepes ...|10497646972593635...|d900a6d0-0987-406...|    Google|2019-10-08 16:39:23|\n",
      "+--------------------+-----+--------------------+--------------------+--------------------+----------+-------------------+\n",
      "only showing top 20 rows\n",
      "\n"
     ]
    }
   ],
   "source": [
    "# Damos formato a la columna date\n",
    "reviews_df = reviews_df.withColumn(\"date_column_timestamp\", F.from_unixtime(F.col(\"date\") / 1000).cast(\"timestamp\"))\n",
    "reviews_df = reviews_df.drop('date')\n",
    "reviews_df = reviews_df.withColumnRenamed('date_column_timestamp','date')\n",
    "reviews_df.show()\n"
   ]
  },
  {
   "cell_type": "code",
   "execution_count": 267,
   "metadata": {},
   "outputs": [
    {
     "name": "stdout",
     "output_type": "stream",
     "text": [
      "root\n",
      " |-- business_id: string (nullable = true)\n",
      " |-- stars: long (nullable = true)\n",
      " |-- text: string (nullable = true)\n",
      " |-- user_id: string (nullable = true)\n",
      " |-- review_id: string (nullable = false)\n",
      " |-- app_source: string (nullable = false)\n",
      " |-- date: timestamp (nullable = true)\n",
      "\n"
     ]
    }
   ],
   "source": [
    "reviews_df.printSchema()"
   ]
  },
  {
   "cell_type": "code",
   "execution_count": 258,
   "metadata": {},
   "outputs": [
    {
     "name": "stdout",
     "output_type": "stream",
     "text": [
      "root\n",
      " |-- business_id: string (nullable = true)\n",
      " |-- stars: long (nullable = true)\n",
      " |-- text: string (nullable = true)\n",
      " |-- date: long (nullable = true)\n",
      " |-- user_id: string (nullable = true)\n",
      " |-- review_id: string (nullable = false)\n",
      " |-- app_source: string (nullable = false)\n",
      "\n"
     ]
    }
   ],
   "source": [
    "reviews_df.printSchema()"
   ]
  },
  {
   "cell_type": "markdown",
   "metadata": {},
   "source": [
    "### Carga a BQ"
   ]
  },
  {
   "cell_type": "code",
   "execution_count": 270,
   "metadata": {},
   "outputs": [],
   "source": [
    "reviews_df_pd = reviews_df.toPandas()"
   ]
  },
  {
   "cell_type": "code",
   "execution_count": 273,
   "metadata": {},
   "outputs": [
    {
     "data": {
      "text/html": [
       "<div>\n",
       "<style scoped>\n",
       "    .dataframe tbody tr th:only-of-type {\n",
       "        vertical-align: middle;\n",
       "    }\n",
       "\n",
       "    .dataframe tbody tr th {\n",
       "        vertical-align: top;\n",
       "    }\n",
       "\n",
       "    .dataframe thead th {\n",
       "        text-align: right;\n",
       "    }\n",
       "</style>\n",
       "<table border=\"1\" class=\"dataframe\">\n",
       "  <thead>\n",
       "    <tr style=\"text-align: right;\">\n",
       "      <th></th>\n",
       "      <th>business_id</th>\n",
       "      <th>stars</th>\n",
       "      <th>text</th>\n",
       "      <th>user_id</th>\n",
       "      <th>review_id</th>\n",
       "      <th>app_source</th>\n",
       "      <th>date</th>\n",
       "    </tr>\n",
       "  </thead>\n",
       "  <tbody>\n",
       "    <tr>\n",
       "      <th>0</th>\n",
       "      <td>0x874fa3d02119e087:0xe4ba10bcfa0d6127</td>\n",
       "      <td>5</td>\n",
       "      <td>Classy dining area, friendly, professional ser...</td>\n",
       "      <td>117811097034665127052</td>\n",
       "      <td>a19970a0-b59b-446e-9a1a-970f04482e8c</td>\n",
       "      <td>Google</td>\n",
       "      <td>2021-04-09 12:13:54</td>\n",
       "    </tr>\n",
       "    <tr>\n",
       "      <th>1</th>\n",
       "      <td>0x87530ede9bbcf81d:0xddefad57493a84de</td>\n",
       "      <td>4</td>\n",
       "      <td>None</td>\n",
       "      <td>114744816996555254159</td>\n",
       "      <td>85f97315-4a78-4572-80fe-84117269c5bb</td>\n",
       "      <td>Google</td>\n",
       "      <td>2020-01-30 13:25:57</td>\n",
       "    </tr>\n",
       "    <tr>\n",
       "      <th>2</th>\n",
       "      <td>0x87530ede9bbcf81d:0xddefad57493a84de</td>\n",
       "      <td>2</td>\n",
       "      <td>None</td>\n",
       "      <td>105280738495714606114</td>\n",
       "      <td>2ab1fe34-aff0-46d9-9fff-e8ab9e540190</td>\n",
       "      <td>Google</td>\n",
       "      <td>2019-12-01 18:59:10</td>\n",
       "    </tr>\n",
       "    <tr>\n",
       "      <th>3</th>\n",
       "      <td>0x875272bc36841409:0xc5db06be11185f97</td>\n",
       "      <td>4</td>\n",
       "      <td>Cute little store with a lot of eclectic finds...</td>\n",
       "      <td>114624656462384879979</td>\n",
       "      <td>088ee1cb-d3d1-4828-b0e0-a54b4394d591</td>\n",
       "      <td>Google</td>\n",
       "      <td>2019-10-08 21:46:00</td>\n",
       "    </tr>\n",
       "    <tr>\n",
       "      <th>4</th>\n",
       "      <td>0x87526196e3fbe2d9:0x18cdf54050d62d90</td>\n",
       "      <td>5</td>\n",
       "      <td>Coffee was splendid and we loved spending time...</td>\n",
       "      <td>117738146811914218396</td>\n",
       "      <td>ccdb5803-98a0-4043-9ce4-68477281d0e9</td>\n",
       "      <td>Google</td>\n",
       "      <td>2021-08-14 15:22:45</td>\n",
       "    </tr>\n",
       "    <tr>\n",
       "      <th>...</th>\n",
       "      <td>...</td>\n",
       "      <td>...</td>\n",
       "      <td>...</td>\n",
       "      <td>...</td>\n",
       "      <td>...</td>\n",
       "      <td>...</td>\n",
       "      <td>...</td>\n",
       "    </tr>\n",
       "    <tr>\n",
       "      <th>1511202</th>\n",
       "      <td>0x884a67ca224fb353:0xd33fa06a2d3b9000</td>\n",
       "      <td>5</td>\n",
       "      <td>Always excellent!</td>\n",
       "      <td>108706145744307561085</td>\n",
       "      <td>8f227355-4f06-4706-86bc-a71bebf1279e</td>\n",
       "      <td>Google</td>\n",
       "      <td>2019-09-07 19:30:11</td>\n",
       "    </tr>\n",
       "    <tr>\n",
       "      <th>1511203</th>\n",
       "      <td>0x884a67ca224fb353:0xd33fa06a2d3b9000</td>\n",
       "      <td>4</td>\n",
       "      <td>None</td>\n",
       "      <td>107907487505808249243</td>\n",
       "      <td>16dc7830-118a-40cb-a804-e3acb789ecd7</td>\n",
       "      <td>Google</td>\n",
       "      <td>2018-01-24 20:41:44</td>\n",
       "    </tr>\n",
       "    <tr>\n",
       "      <th>1511204</th>\n",
       "      <td>0x884a67ca224fb353:0xd33fa06a2d3b9000</td>\n",
       "      <td>5</td>\n",
       "      <td>None</td>\n",
       "      <td>114570371641063236705</td>\n",
       "      <td>72d5b14d-fb52-4dad-8026-74fb0f41224f</td>\n",
       "      <td>Google</td>\n",
       "      <td>2019-09-01 10:41:45</td>\n",
       "    </tr>\n",
       "    <tr>\n",
       "      <th>1511205</th>\n",
       "      <td>0x8835d98f80ed05e1:0xc4ff258dba24f48c</td>\n",
       "      <td>5</td>\n",
       "      <td>Good price for the food</td>\n",
       "      <td>101321919402153608581</td>\n",
       "      <td>d0f39726-0229-47e6-90ec-167a9c7cc88c</td>\n",
       "      <td>Google</td>\n",
       "      <td>2019-05-27 06:14:49</td>\n",
       "    </tr>\n",
       "    <tr>\n",
       "      <th>1511206</th>\n",
       "      <td>0x8835d98f80ed05e1:0xc4ff258dba24f48c</td>\n",
       "      <td>5</td>\n",
       "      <td>Best wings around</td>\n",
       "      <td>117548793520437100572</td>\n",
       "      <td>159415a3-d9e7-43ac-a13b-aca5c837e01b</td>\n",
       "      <td>Google</td>\n",
       "      <td>2013-03-24 16:53:38</td>\n",
       "    </tr>\n",
       "  </tbody>\n",
       "</table>\n",
       "<p>1511207 rows × 7 columns</p>\n",
       "</div>"
      ],
      "text/plain": [
       "                                   business_id  stars  \\\n",
       "0        0x874fa3d02119e087:0xe4ba10bcfa0d6127      5   \n",
       "1        0x87530ede9bbcf81d:0xddefad57493a84de      4   \n",
       "2        0x87530ede9bbcf81d:0xddefad57493a84de      2   \n",
       "3        0x875272bc36841409:0xc5db06be11185f97      4   \n",
       "4        0x87526196e3fbe2d9:0x18cdf54050d62d90      5   \n",
       "...                                        ...    ...   \n",
       "1511202  0x884a67ca224fb353:0xd33fa06a2d3b9000      5   \n",
       "1511203  0x884a67ca224fb353:0xd33fa06a2d3b9000      4   \n",
       "1511204  0x884a67ca224fb353:0xd33fa06a2d3b9000      5   \n",
       "1511205  0x8835d98f80ed05e1:0xc4ff258dba24f48c      5   \n",
       "1511206  0x8835d98f80ed05e1:0xc4ff258dba24f48c      5   \n",
       "\n",
       "                                                      text  \\\n",
       "0        Classy dining area, friendly, professional ser...   \n",
       "1                                                     None   \n",
       "2                                                     None   \n",
       "3        Cute little store with a lot of eclectic finds...   \n",
       "4        Coffee was splendid and we loved spending time...   \n",
       "...                                                    ...   \n",
       "1511202                                  Always excellent!   \n",
       "1511203                                               None   \n",
       "1511204                                               None   \n",
       "1511205                            Good price for the food   \n",
       "1511206                                  Best wings around   \n",
       "\n",
       "                       user_id                             review_id  \\\n",
       "0        117811097034665127052  a19970a0-b59b-446e-9a1a-970f04482e8c   \n",
       "1        114744816996555254159  85f97315-4a78-4572-80fe-84117269c5bb   \n",
       "2        105280738495714606114  2ab1fe34-aff0-46d9-9fff-e8ab9e540190   \n",
       "3        114624656462384879979  088ee1cb-d3d1-4828-b0e0-a54b4394d591   \n",
       "4        117738146811914218396  ccdb5803-98a0-4043-9ce4-68477281d0e9   \n",
       "...                        ...                                   ...   \n",
       "1511202  108706145744307561085  8f227355-4f06-4706-86bc-a71bebf1279e   \n",
       "1511203  107907487505808249243  16dc7830-118a-40cb-a804-e3acb789ecd7   \n",
       "1511204  114570371641063236705  72d5b14d-fb52-4dad-8026-74fb0f41224f   \n",
       "1511205  101321919402153608581  d0f39726-0229-47e6-90ec-167a9c7cc88c   \n",
       "1511206  117548793520437100572  159415a3-d9e7-43ac-a13b-aca5c837e01b   \n",
       "\n",
       "        app_source                date  \n",
       "0           Google 2021-04-09 12:13:54  \n",
       "1           Google 2020-01-30 13:25:57  \n",
       "2           Google 2019-12-01 18:59:10  \n",
       "3           Google 2019-10-08 21:46:00  \n",
       "4           Google 2021-08-14 15:22:45  \n",
       "...            ...                 ...  \n",
       "1511202     Google 2019-09-07 19:30:11  \n",
       "1511203     Google 2018-01-24 20:41:44  \n",
       "1511204     Google 2019-09-01 10:41:45  \n",
       "1511205     Google 2019-05-27 06:14:49  \n",
       "1511206     Google 2013-03-24 16:53:38  \n",
       "\n",
       "[1511207 rows x 7 columns]"
      ]
     },
     "execution_count": 273,
     "metadata": {},
     "output_type": "execute_result"
    }
   ],
   "source": [
    "reviews_df_pd"
   ]
  },
  {
   "cell_type": "code",
   "execution_count": 268,
   "metadata": {},
   "outputs": [],
   "source": [
    "table_path = \"bamboo-zone-445202-a3.Datanova_CoffeeShops.reviews\""
   ]
  },
  {
   "cell_type": "code",
   "execution_count": 272,
   "metadata": {},
   "outputs": [
    {
     "data": {
      "text/plain": [
       "LoadJob<project=bamboo-zone-445202-a3, location=US, id=af8314ae-b4ef-45e5-9b42-78b1b742df74>"
      ]
     },
     "execution_count": 272,
     "metadata": {},
     "output_type": "execute_result"
    }
   ],
   "source": [
    "job = client.load_table_from_dataframe(\n",
    "    reviews_df_pd,  # Tu DataFrame\n",
    "    table_path,\n",
    "    job_config=bigquery.LoadJobConfig(\n",
    "        write_disposition=\"WRITE_APPEND\",\n",
    "        autodetect=False  # Sobrescribe si la tabla ya existe\n",
    "    )\n",
    ")\n",
    "\n",
    "job.result()"
   ]
  },
  {
   "cell_type": "markdown",
   "metadata": {},
   "source": [
    "# Tabla Users\n",
    "Google no tiene una tabla users. La extraeremos de reviews"
   ]
  },
  {
   "cell_type": "code",
   "execution_count": 305,
   "metadata": {},
   "outputs": [],
   "source": [
    "spark.catalog.clearCache()"
   ]
  },
  {
   "cell_type": "code",
   "execution_count": 307,
   "metadata": {},
   "outputs": [],
   "source": [
    "reviews_filtered_df_cached = reviews_filtered_df_cached.cache()"
   ]
  },
  {
   "cell_type": "code",
   "execution_count": 308,
   "metadata": {},
   "outputs": [
    {
     "name": "stdout",
     "output_type": "stream",
     "text": [
      "+--------------------+------------------+--------------------+------+--------------------+--------------------+-------------+--------------------+\n",
      "|         business_id|              name|                pics|rating|                resp|                text|         time|             user_id|\n",
      "+--------------------+------------------+--------------------+------+--------------------+--------------------+-------------+--------------------+\n",
      "|0x874fa3d02119e08...|    Marlyn Knudsen|                NULL|     5|                NULL|Classy dining are...|1617988434370|11781109703466512...|\n",
      "|0x87530ede9bbcf81...|    Travis Finster|                NULL|     4|                NULL|                NULL|1580408757173|11474481699655525...|\n",
      "|0x87530ede9bbcf81...|    Juliana Pulido|                NULL|     2|                NULL|                NULL|1575244750143|10528073849571460...|\n",
      "|0x875272bc3684140...|       Beth Heyden|                NULL|     4|{Thanks for visit...|Cute little store...|1570589160899|11462465646238487...|\n",
      "|0x87526196e3fbe2d...|            T Pham|[{[https://lh5.go...|     5|                NULL|Coffee was splend...|1628972565979|11773814681191421...|\n",
      "|0x87526196e3fbe2d...|  Chelsea Fiexchel|                NULL|     3|{Morning!\\n\\nI wa...|Fun that this cof...|1629043699731|10208622639739157...|\n",
      "|0x87525f8cfa0b583...|         Britney C|                NULL|     3|                NULL|                NULL|1550375437540|11656403510487355...|\n",
      "|0x87525f8cfa0b583...|     Laurel Fortun|                NULL|     5|                NULL|                NULL|1531439036948|11177574547299381...|\n",
      "|0x87525f8d1b54aac...|          Bianca B|                NULL|     5|                NULL|Friendly staff, q...|1458666527738|11463145965754867...|\n",
      "|0x874d9171bce4831...|        Eric Mutch|                NULL|     5|                NULL|First thing throu...|1579158696085|10586043047218261...|\n",
      "|0x87541355a660e37...|  Jaron Vansambeek|                NULL|     5|{Thanks Jaron for...|                NULL|1618759896954|10131302604094050...|\n",
      "|0x8752859e320918b...|           CAT GUN|                NULL|     5|                NULL|                NULL|1624048023452|10836112327941892...|\n",
      "|0x87528bc7a0c67e6...|     marisol orona|                NULL|     5|{Thank you for ta...|I usually shop at...|1546020061769|10763593781309040...|\n",
      "|0x87528bc7a0c67e6...|    Mustafa Mohsin|                NULL|     5|{Thank you for ta...|5 x 5 guys we lov...|1574660549404|11105083472979432...|\n",
      "|0x87528bc7a0c67e6...|Anees Alsammarraie|                NULL|     4|{Thank you for ta...|                NULL|1593903885944|11234161890999565...|\n",
      "|0x87528bc7a0c67e6...|        Rand Abbas|                NULL|     5|{Thank you for ta...|                NULL|1554503829417|10016154549922006...|\n",
      "|0x875261ded7b8153...|      Konstantin G|                NULL|     4|                NULL|                NULL|1535626437754|10747343150090128...|\n",
      "|0x874fa302ce7fe35...|       Chelsea Bea|                NULL|     4|                NULL|I live in slc whe...|1563389438555|11486542959845177...|\n",
      "|0x874fa302ce7fe35...|     kathryn Black|                NULL|     5|                NULL|Love this coffee ...|1566320272380|11378555102191556...|\n",
      "|0x874fa302ce7fe35...|      Charly Combe|                NULL|     5|                NULL|Delicious crepes ...|1570570763098|10497646972593635...|\n",
      "+--------------------+------------------+--------------------+------+--------------------+--------------------+-------------+--------------------+\n",
      "only showing top 20 rows\n",
      "\n"
     ]
    }
   ],
   "source": [
    "reviews_filtered_df_cached.show()"
   ]
  },
  {
   "cell_type": "code",
   "execution_count": 309,
   "metadata": {},
   "outputs": [
    {
     "data": {
      "text/plain": [
       "1511207"
      ]
     },
     "execution_count": 309,
     "metadata": {},
     "output_type": "execute_result"
    }
   ],
   "source": [
    "reviews_filtered_df_cached.count()"
   ]
  },
  {
   "cell_type": "code",
   "execution_count": 312,
   "metadata": {},
   "outputs": [],
   "source": [
    "user_df = reviews_filtered_df_cached.groupBy('user_id', 'name').agg(\n",
    "    F.count('business_id').alias('review_count'),\n",
    "    F.avg('rating').alias('average_stars'))"
   ]
  },
  {
   "cell_type": "code",
   "execution_count": 314,
   "metadata": {},
   "outputs": [
    {
     "data": {
      "text/plain": [
       "1250070"
      ]
     },
     "execution_count": 314,
     "metadata": {},
     "output_type": "execute_result"
    }
   ],
   "source": [
    "user_df.count()"
   ]
  },
  {
   "cell_type": "code",
   "execution_count": 316,
   "metadata": {},
   "outputs": [],
   "source": [
    "user_df = user_df.withColumn('app_source', lit('Google'))"
   ]
  },
  {
   "cell_type": "code",
   "execution_count": 317,
   "metadata": {},
   "outputs": [
    {
     "name": "stdout",
     "output_type": "stream",
     "text": [
      "+--------------------+------------------+------------+------------------+----------+\n",
      "|             user_id|              name|review_count|     average_stars|app_source|\n",
      "+--------------------+------------------+------------+------------------+----------+\n",
      "|11264278833015883...|       Anna Lensch|           1|               5.0|    Google|\n",
      "|11072859995682382...|     Jennifer Dean|           1|               5.0|    Google|\n",
      "|11730908388943399...|      Bob Borkovec|           3| 4.333333333333333|    Google|\n",
      "|11697525190344988...|     Teri Hansford|           1|               5.0|    Google|\n",
      "|10870509505599109...|  Patricia Whitman|           1|               5.0|    Google|\n",
      "|11078859066613529...|        Queen Lucy|           1|               5.0|    Google|\n",
      "|11121890834243035...|     Christina New|           2|               5.0|    Google|\n",
      "|10586996229479852...|   Vanessa Flowers|           1|               5.0|    Google|\n",
      "|10221721553634831...|   Karen Hernandez|           2|               1.5|    Google|\n",
      "|10307049008540548...|      Todd Pollard|           1|               5.0|    Google|\n",
      "|10137001413814615...|  Monica Garibaldi|           1|               5.0|    Google|\n",
      "|10018659067912833...|     Liz Castaneda|           3|3.6666666666666665|    Google|\n",
      "|11285945663751236...|    Sara Boghosian|           1|               5.0|    Google|\n",
      "|10919847251524776...|           Libby G|           1|               5.0|    Google|\n",
      "|10666392539376902...|     Sharon Rumley|           5|               4.2|    Google|\n",
      "|11099883013446253...|        Cody Banks|           1|               5.0|    Google|\n",
      "|11475098412125894...|       Wade Raynes|           1|               5.0|    Google|\n",
      "|11359375717833257...|         Peter Mac|           1|               5.0|    Google|\n",
      "|10904557347929592...|        Nam Nguyen|           1|               5.0|    Google|\n",
      "|10079517126825384...|Claudia Desantiago|           1|               1.0|    Google|\n",
      "+--------------------+------------------+------------+------------------+----------+\n",
      "only showing top 20 rows\n",
      "\n"
     ]
    }
   ],
   "source": [
    "user_df.show()"
   ]
  },
  {
   "cell_type": "code",
   "execution_count": 318,
   "metadata": {},
   "outputs": [],
   "source": [
    "user_df_pd = user_df.toPandas()"
   ]
  },
  {
   "cell_type": "markdown",
   "metadata": {},
   "source": [
    "### Carga a BQ"
   ]
  },
  {
   "cell_type": "code",
   "execution_count": 319,
   "metadata": {},
   "outputs": [],
   "source": [
    "path= \"bamboo-zone-445202-a3.Datanova_CoffeeShops.user\""
   ]
  },
  {
   "cell_type": "code",
   "execution_count": 320,
   "metadata": {},
   "outputs": [
    {
     "data": {
      "text/plain": [
       "LoadJob<project=bamboo-zone-445202-a3, location=US, id=ae66a0e0-22b0-4494-ae3e-c76b7ed082e1>"
      ]
     },
     "execution_count": 320,
     "metadata": {},
     "output_type": "execute_result"
    }
   ],
   "source": [
    "job = client.load_table_from_dataframe(\n",
    "    user_df_pd,  # Tu DataFrame\n",
    "    path,\n",
    "    job_config=bigquery.LoadJobConfig(\n",
    "        write_disposition=\"WRITE_APPEND\",\n",
    "        autodetect=False  # Sobrescribe si la tabla ya existe\n",
    "    )\n",
    ")\n",
    "\n",
    "job.result()"
   ]
  },
  {
   "cell_type": "markdown",
   "metadata": {},
   "source": [
    "# Pendientes"
   ]
  },
  {
   "cell_type": "markdown",
   "metadata": {},
   "source": [
    "1. Cargar tabla MISC - DONE\n",
    "2. Realizar ETL de reviews (cruce con los negocios, mapear las columnas requeridas, y cargar a gcloud.) - DONE\n",
    "3. Cargar tabla USERs de Google - DONE\n",
    "3. API de GoogleCloud, proceso de carga automatica (Cloud Functions, Cloud Scheduler) . Pendiente"
   ]
  },
  {
   "cell_type": "markdown",
   "metadata": {},
   "source": []
  }
 ],
 "metadata": {
  "kernelspec": {
   "display_name": "datanova_env",
   "language": "python",
   "name": "python3"
  },
  "language_info": {
   "codemirror_mode": {
    "name": "ipython",
    "version": 3
   },
   "file_extension": ".py",
   "mimetype": "text/x-python",
   "name": "python",
   "nbconvert_exporter": "python",
   "pygments_lexer": "ipython3",
   "version": "3.12.6"
  }
 },
 "nbformat": 4,
 "nbformat_minor": 2
}
