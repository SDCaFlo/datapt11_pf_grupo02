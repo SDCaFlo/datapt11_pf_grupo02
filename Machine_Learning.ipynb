{
 "cells": [
  {
   "cell_type": "markdown",
   "metadata": {},
   "source": [
    "1. Simular dataset\n",
    "Supongamos que tenemos las siguientes columnas de un dataset combinado de Yelp y Google Maps:"
   ]
  },
  {
   "cell_type": "code",
   "execution_count": 5,
   "metadata": {},
   "outputs": [
    {
     "name": "stdout",
     "output_type": "stream",
     "text": [
      "  business_id        name categories   latitude   longitude  review_count  \\\n",
      "0       biz_1  Business_1        Gym  37.872847 -122.213471           311   \n",
      "1       biz_2  Business_2      Salon  37.726053 -122.471166           358   \n",
      "2       biz_3  Business_3        Bar  37.778660 -122.471497           374   \n",
      "3       biz_4  Business_4      Salon  37.869000 -122.495157           466   \n",
      "4       biz_5  Business_5      Salon  37.782895 -122.117399           154   \n",
      "\n",
      "      stars  average_sentiment  competitors_nearby  success  \n",
      "0  1.181277          -0.609606                  15        0  \n",
      "1  2.399780           0.356982                  13        0  \n",
      "2  4.717154          -0.353801                  19        1  \n",
      "3  2.516906           0.975499                  19        0  \n",
      "4  4.325471          -0.348630                   5        0  \n"
     ]
    }
   ],
   "source": [
    "import pandas as pd\n",
    "import numpy as np\n",
    "\n",
    "# Crear dataset simulado\n",
    "np.random.seed(42)\n",
    "\n",
    "data = {\n",
    "    'business_id': [f'biz_{i}' for i in range(1, 1001)],\n",
    "    'name': [f'Business_{i}' for i in range(1, 1001)],\n",
    "    'categories': np.random.choice(['Restaurant', 'Cafe', 'Bar', 'Gym', 'Salon'], 1000),\n",
    "    'latitude': np.random.uniform(37.5, 37.9, 1000),\n",
    "    'longitude': np.random.uniform(-122.5, -122.1, 1000),\n",
    "    'review_count': np.random.randint(1, 500, 1000),\n",
    "    'stars': np.random.uniform(1, 5, 1000),\n",
    "    'average_sentiment': np.random.uniform(-1, 1, 1000),\n",
    "    'competitors_nearby': np.random.randint(0, 20, 1000),\n",
    "}\n",
    "\n",
    "df = pd.DataFrame(data)\n",
    "\n",
    "# Agregar éxito (éxito = 1 si tiene más de 4 estrellas y más de 200 reseñas)\n",
    "df['success'] = ((df['stars'] > 4) & (df['review_count'] > 200)).astype(int)\n",
    "\n",
    "print(df.head())\n"
   ]
  },
  {
   "cell_type": "markdown",
   "metadata": {},
   "source": [
    "2. Preprocesamiento de datos\n",
    "Limpieza, codificación de categorías, y división en conjunto de entrenamiento y prueba."
   ]
  },
  {
   "cell_type": "code",
   "execution_count": 6,
   "metadata": {},
   "outputs": [],
   "source": [
    "from sklearn.model_selection import train_test_split\n",
    "from sklearn.preprocessing import StandardScaler, LabelEncoder\n",
    "\n",
    "# Codificar categorías\n",
    "df['categories_encoded'] = LabelEncoder().fit_transform(df['categories'])\n",
    "\n",
    "# Seleccionar características relevantes y la etiqueta\n",
    "features = ['latitude', 'longitude', 'review_count', 'stars', 'average_sentiment', 'competitors_nearby', 'categories_encoded']\n",
    "X = df[features]\n",
    "y = df['success']\n",
    "\n",
    "# Dividir en conjuntos de entrenamiento y prueba\n",
    "X_train, X_test, y_train, y_test = train_test_split(X, y, test_size=0.2, random_state=42)\n",
    "\n",
    "# Escalar características numéricas\n",
    "scaler = StandardScaler()\n",
    "X_train = scaler.fit_transform(X_train)\n",
    "X_test = scaler.transform(X_test)\n"
   ]
  },
  {
   "cell_type": "markdown",
   "metadata": {},
   "source": [
    "3. Entrenar un modelo\n",
    "Usaremos Random Forest como modelo base para la clasificación del éxito."
   ]
  },
  {
   "cell_type": "code",
   "execution_count": 7,
   "metadata": {},
   "outputs": [
    {
     "name": "stdout",
     "output_type": "stream",
     "text": [
      "Matriz de confusión:\n",
      "[[169   0]\n",
      " [  0  31]]\n",
      "\n",
      "Reporte de clasificación:\n",
      "              precision    recall  f1-score   support\n",
      "\n",
      "           0       1.00      1.00      1.00       169\n",
      "           1       1.00      1.00      1.00        31\n",
      "\n",
      "    accuracy                           1.00       200\n",
      "   macro avg       1.00      1.00      1.00       200\n",
      "weighted avg       1.00      1.00      1.00       200\n",
      "\n",
      "\n",
      "Precisión del modelo:\n",
      "1.0\n"
     ]
    }
   ],
   "source": [
    "from sklearn.ensemble import RandomForestClassifier\n",
    "from sklearn.metrics import classification_report, confusion_matrix, accuracy_score\n",
    "\n",
    "# Entrenar el modelo\n",
    "model = RandomForestClassifier(random_state=42, n_estimators=100)\n",
    "model.fit(X_train, y_train)\n",
    "\n",
    "# Predicciones\n",
    "y_pred = model.predict(X_test)\n",
    "\n",
    "# Evaluar el modelo\n",
    "print(\"Matriz de confusión:\")\n",
    "print(confusion_matrix(y_test, y_pred))\n",
    "print(\"\\nReporte de clasificación:\")\n",
    "print(classification_report(y_test, y_pred))\n",
    "print(\"\\nPrecisión del modelo:\")\n",
    "print(accuracy_score(y_test, y_pred))\n"
   ]
  },
  {
   "cell_type": "markdown",
   "metadata": {},
   "source": [
    "4. Importancia de características\n",
    "Identificar qué factores son más influyentes en el éxito de un negocio."
   ]
  },
  {
   "cell_type": "code",
   "execution_count": 8,
   "metadata": {},
   "outputs": [
    {
     "data": {
      "image/png": "[encoded data removed]",
      "text/plain": [
       "<Figure size 1000x600 with 1 Axes>"
      ]
     },
     "metadata": {},
     "output_type": "display_data"
    }
   ],
   "source": [
    "import matplotlib.pyplot as plt\n",
    "\n",
    "# Importancia de las características\n",
    "importances = model.feature_importances_\n",
    "feature_names = features\n",
    "\n",
    "plt.figure(figsize=(10, 6))\n",
    "plt.barh(feature_names, importances)\n",
    "plt.xlabel(\"Importancia\")\n",
    "plt.title(\"Importancia de características\")\n",
    "plt.show()"
   ]
  },
  {
   "cell_type": "markdown",
   "metadata": {},
   "source": [
    "5. Visualización en un mapa\n",
    "Visualizar los negocios exitosos y no exitosos en un mapa interactivo."
   ]
  },
  {
   "cell_type": "code",
   "execution_count": 10,
   "metadata": {},
   "outputs": [],
   "source": [
    "import folium\n",
    "\n",
    "# Crear un mapa de los negocios\n",
    "mapa = folium.Map(location=[37.7, -122.3], zoom_start=10)\n",
    "\n",
    "for _, row in df.iterrows():\n",
    "    color = 'green' if row['success'] == 1 else 'red'\n",
    "    folium.CircleMarker(\n",
    "        location=[row['latitude'], row['longitude']],\n",
    "        radius=5,\n",
    "        color=color,\n",
    "        fill=True,\n",
    "        fill_opacity=0.7,\n",
    "        popup=f\"{row['name']} - {row['categories']} ({row['stars']} stars)\",\n",
    "    ).add_to(mapa)\n",
    "\n",
    "# Guardar el mapa\n",
    "mapa.save(\"business_success_map.html\")"
   ]
  }
 ],
 "metadata": {
  "kernelspec": {
   "display_name": "proyectofinal",
   "language": "python",
   "name": "python3"
  },
  "language_info": {
   "codemirror_mode": {
    "name": "ipython",
    "version": 3
   },
   "file_extension": ".py",
   "mimetype": "text/x-python",
   "name": "python",
   "nbconvert_exporter": "python",
   "pygments_lexer": "ipython3",
   "version": "3.13.0"
  }
 },
 "nbformat": 4,
 "nbformat_minor": 2
}
