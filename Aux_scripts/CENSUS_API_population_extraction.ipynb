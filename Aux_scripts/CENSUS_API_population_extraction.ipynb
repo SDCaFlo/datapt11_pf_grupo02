{
 "cells": [
  {
   "cell_type": "code",
   "execution_count": 3,
   "metadata": {},
   "outputs": [],
   "source": [
    "import pandas as pd\n",
    "import requests"
   ]
  },
  {
   "cell_type": "markdown",
   "metadata": {},
   "source": [
    "# Population\n",
    "Ejemplo de tratamiento de datos de CENSUS. Se extrae datos de la API."
   ]
  },
  {
   "cell_type": "code",
   "execution_count": 118,
   "metadata": {},
   "outputs": [],
   "source": [
    "url = r\"https://api.census.gov/data/2023/acs/acs1/subject?get=group(S0101)&ucgid=pseudo(0100000US$0400000)\""
   ]
  },
  {
   "cell_type": "code",
   "execution_count": 119,
   "metadata": {},
   "outputs": [],
   "source": [
    "response = requests.get(url)"
   ]
  },
  {
   "cell_type": "code",
   "execution_count": 120,
   "metadata": {},
   "outputs": [],
   "source": [
    "df = pd.DataFrame(data=response.json())"
   ]
  },
  {
   "cell_type": "code",
   "execution_count": 110,
   "metadata": {},
   "outputs": [
    {
     "data": {
      "text/html": [
       "<div>\n",
       "<style scoped>\n",
       "    .dataframe tbody tr th:only-of-type {\n",
       "        vertical-align: middle;\n",
       "    }\n",
       "\n",
       "    .dataframe tbody tr th {\n",
       "        vertical-align: top;\n",
       "    }\n",
       "\n",
       "    .dataframe thead th {\n",
       "        text-align: right;\n",
       "    }\n",
       "</style>\n",
       "<table border=\"1\" class=\"dataframe\">\n",
       "  <thead>\n",
       "    <tr style=\"text-align: right;\">\n",
       "      <th></th>\n",
       "      <th>0</th>\n",
       "      <th>1</th>\n",
       "      <th>2</th>\n",
       "      <th>3</th>\n",
       "      <th>4</th>\n",
       "      <th>5</th>\n",
       "      <th>6</th>\n",
       "      <th>7</th>\n",
       "      <th>8</th>\n",
       "      <th>9</th>\n",
       "      <th>...</th>\n",
       "      <th>905</th>\n",
       "      <th>906</th>\n",
       "      <th>907</th>\n",
       "      <th>908</th>\n",
       "      <th>909</th>\n",
       "      <th>910</th>\n",
       "      <th>911</th>\n",
       "      <th>912</th>\n",
       "      <th>913</th>\n",
       "      <th>914</th>\n",
       "    </tr>\n",
       "  </thead>\n",
       "  <tbody>\n",
       "    <tr>\n",
       "      <th>0</th>\n",
       "      <td>GEO_ID</td>\n",
       "      <td>NAME</td>\n",
       "      <td>S0101_C01_001E</td>\n",
       "      <td>S0101_C01_001EA</td>\n",
       "      <td>S0101_C01_001M</td>\n",
       "      <td>S0101_C01_001MA</td>\n",
       "      <td>S0101_C01_002E</td>\n",
       "      <td>S0101_C01_002EA</td>\n",
       "      <td>S0101_C01_002M</td>\n",
       "      <td>S0101_C01_002MA</td>\n",
       "      <td>...</td>\n",
       "      <td>S0101_C06_036MA</td>\n",
       "      <td>S0101_C06_037E</td>\n",
       "      <td>S0101_C06_037EA</td>\n",
       "      <td>S0101_C06_037M</td>\n",
       "      <td>S0101_C06_037MA</td>\n",
       "      <td>S0101_C06_038E</td>\n",
       "      <td>S0101_C06_038EA</td>\n",
       "      <td>S0101_C06_038M</td>\n",
       "      <td>S0101_C06_038MA</td>\n",
       "      <td>ucgid</td>\n",
       "    </tr>\n",
       "    <tr>\n",
       "      <th>1</th>\n",
       "      <td>0400000US01</td>\n",
       "      <td>Alabama</td>\n",
       "      <td>5108468</td>\n",
       "      <td>None</td>\n",
       "      <td>-555555555</td>\n",
       "      <td>*****</td>\n",
       "      <td>288019</td>\n",
       "      <td>None</td>\n",
       "      <td>3288</td>\n",
       "      <td>None</td>\n",
       "      <td>...</td>\n",
       "      <td>(X)</td>\n",
       "      <td>-888888888</td>\n",
       "      <td>(X)</td>\n",
       "      <td>-888888888</td>\n",
       "      <td>(X)</td>\n",
       "      <td>-888888888</td>\n",
       "      <td>(X)</td>\n",
       "      <td>-888888888</td>\n",
       "      <td>(X)</td>\n",
       "      <td>0400000US01</td>\n",
       "    </tr>\n",
       "    <tr>\n",
       "      <th>2</th>\n",
       "      <td>0400000US02</td>\n",
       "      <td>Alaska</td>\n",
       "      <td>733406</td>\n",
       "      <td>None</td>\n",
       "      <td>-555555555</td>\n",
       "      <td>*****</td>\n",
       "      <td>45211</td>\n",
       "      <td>None</td>\n",
       "      <td>1366</td>\n",
       "      <td>None</td>\n",
       "      <td>...</td>\n",
       "      <td>(X)</td>\n",
       "      <td>-888888888</td>\n",
       "      <td>(X)</td>\n",
       "      <td>-888888888</td>\n",
       "      <td>(X)</td>\n",
       "      <td>-888888888</td>\n",
       "      <td>(X)</td>\n",
       "      <td>-888888888</td>\n",
       "      <td>(X)</td>\n",
       "      <td>0400000US02</td>\n",
       "    </tr>\n",
       "    <tr>\n",
       "      <th>3</th>\n",
       "      <td>0400000US04</td>\n",
       "      <td>Arizona</td>\n",
       "      <td>7431344</td>\n",
       "      <td>None</td>\n",
       "      <td>-555555555</td>\n",
       "      <td>*****</td>\n",
       "      <td>391142</td>\n",
       "      <td>None</td>\n",
       "      <td>1573</td>\n",
       "      <td>None</td>\n",
       "      <td>...</td>\n",
       "      <td>(X)</td>\n",
       "      <td>-888888888</td>\n",
       "      <td>(X)</td>\n",
       "      <td>-888888888</td>\n",
       "      <td>(X)</td>\n",
       "      <td>-888888888</td>\n",
       "      <td>(X)</td>\n",
       "      <td>-888888888</td>\n",
       "      <td>(X)</td>\n",
       "      <td>0400000US04</td>\n",
       "    </tr>\n",
       "    <tr>\n",
       "      <th>4</th>\n",
       "      <td>0400000US05</td>\n",
       "      <td>Arkansas</td>\n",
       "      <td>3067732</td>\n",
       "      <td>None</td>\n",
       "      <td>-555555555</td>\n",
       "      <td>*****</td>\n",
       "      <td>176908</td>\n",
       "      <td>None</td>\n",
       "      <td>2503</td>\n",
       "      <td>None</td>\n",
       "      <td>...</td>\n",
       "      <td>(X)</td>\n",
       "      <td>-888888888</td>\n",
       "      <td>(X)</td>\n",
       "      <td>-888888888</td>\n",
       "      <td>(X)</td>\n",
       "      <td>-888888888</td>\n",
       "      <td>(X)</td>\n",
       "      <td>-888888888</td>\n",
       "      <td>(X)</td>\n",
       "      <td>0400000US05</td>\n",
       "    </tr>\n",
       "  </tbody>\n",
       "</table>\n",
       "<p>5 rows × 915 columns</p>\n",
       "</div>"
      ],
      "text/plain": [
       "           0         1               2                3               4    \\\n",
       "0       GEO_ID      NAME  S0101_C01_001E  S0101_C01_001EA  S0101_C01_001M   \n",
       "1  0400000US01   Alabama         5108468             None      -555555555   \n",
       "2  0400000US02    Alaska          733406             None      -555555555   \n",
       "3  0400000US04   Arizona         7431344             None      -555555555   \n",
       "4  0400000US05  Arkansas         3067732             None      -555555555   \n",
       "\n",
       "               5               6                7               8    \\\n",
       "0  S0101_C01_001MA  S0101_C01_002E  S0101_C01_002EA  S0101_C01_002M   \n",
       "1            *****          288019             None            3288   \n",
       "2            *****           45211             None            1366   \n",
       "3            *****          391142             None            1573   \n",
       "4            *****          176908             None            2503   \n",
       "\n",
       "               9    ...              905             906              907  \\\n",
       "0  S0101_C01_002MA  ...  S0101_C06_036MA  S0101_C06_037E  S0101_C06_037EA   \n",
       "1             None  ...              (X)      -888888888              (X)   \n",
       "2             None  ...              (X)      -888888888              (X)   \n",
       "3             None  ...              (X)      -888888888              (X)   \n",
       "4             None  ...              (X)      -888888888              (X)   \n",
       "\n",
       "              908              909             910              911  \\\n",
       "0  S0101_C06_037M  S0101_C06_037MA  S0101_C06_038E  S0101_C06_038EA   \n",
       "1      -888888888              (X)      -888888888              (X)   \n",
       "2      -888888888              (X)      -888888888              (X)   \n",
       "3      -888888888              (X)      -888888888              (X)   \n",
       "4      -888888888              (X)      -888888888              (X)   \n",
       "\n",
       "              912              913          914  \n",
       "0  S0101_C06_038M  S0101_C06_038MA        ucgid  \n",
       "1      -888888888              (X)  0400000US01  \n",
       "2      -888888888              (X)  0400000US02  \n",
       "3      -888888888              (X)  0400000US04  \n",
       "4      -888888888              (X)  0400000US05  \n",
       "\n",
       "[5 rows x 915 columns]"
      ]
     },
     "execution_count": 110,
     "metadata": {},
     "output_type": "execute_result"
    }
   ],
   "source": [
    "df.head()"
   ]
  },
  {
   "cell_type": "code",
   "execution_count": 90,
   "metadata": {},
   "outputs": [],
   "source": [
    "url = r\"https://api.census.gov/data/2022/acs/acs1/subject?get=group(S0101)&ucgid=pseudo(0100000US$0400000)\"\n",
    "response = requests.get(url)\n",
    "df = pd.DataFrame(data=response.json())"
   ]
  },
  {
   "cell_type": "code",
   "execution_count": 96,
   "metadata": {},
   "outputs": [],
   "source": [
    "# Ejemplo de tratamiento de tabla\n",
    "df.columns = df.iloc[0]\n",
    "df.drop(0, inplace=True)"
   ]
  },
  {
   "cell_type": "markdown",
   "metadata": {},
   "source": [
    "## Funcion de tratamiento\n",
    "En base al proceso anterior, definimos una funcion"
   ]
  },
  {
   "cell_type": "code",
   "execution_count": 4,
   "metadata": {},
   "outputs": [],
   "source": [
    "def df_treatment(df):\n",
    "    df_copy = df.copy()\n",
    "    df_copy.columns = df_copy.iloc[0]\n",
    "    df_copy.drop(0, inplace=True)\n",
    "    df_copy = df_copy.iloc[:, :3]\n",
    "    return df_copy"
   ]
  },
  {
   "cell_type": "code",
   "execution_count": 125,
   "metadata": {},
   "outputs": [],
   "source": [
    "df_copy = df_treatment(df)"
   ]
  },
  {
   "cell_type": "code",
   "execution_count": 150,
   "metadata": {},
   "outputs": [
    {
     "data": {
      "text/html": [
       "<div>\n",
       "<style scoped>\n",
       "    .dataframe tbody tr th:only-of-type {\n",
       "        vertical-align: middle;\n",
       "    }\n",
       "\n",
       "    .dataframe tbody tr th {\n",
       "        vertical-align: top;\n",
       "    }\n",
       "\n",
       "    .dataframe thead th {\n",
       "        text-align: right;\n",
       "    }\n",
       "</style>\n",
       "<table border=\"1\" class=\"dataframe\">\n",
       "  <thead>\n",
       "    <tr style=\"text-align: right;\">\n",
       "      <th></th>\n",
       "      <th>GEO_ID</th>\n",
       "      <th>NAME</th>\n",
       "      <th>S0101_C01_001E</th>\n",
       "    </tr>\n",
       "  </thead>\n",
       "  <tbody>\n",
       "    <tr>\n",
       "      <th>1</th>\n",
       "      <td>0400000US01</td>\n",
       "      <td>Alabama</td>\n",
       "      <td>5108468</td>\n",
       "    </tr>\n",
       "    <tr>\n",
       "      <th>2</th>\n",
       "      <td>0400000US02</td>\n",
       "      <td>Alaska</td>\n",
       "      <td>733406</td>\n",
       "    </tr>\n",
       "    <tr>\n",
       "      <th>3</th>\n",
       "      <td>0400000US04</td>\n",
       "      <td>Arizona</td>\n",
       "      <td>7431344</td>\n",
       "    </tr>\n",
       "    <tr>\n",
       "      <th>4</th>\n",
       "      <td>0400000US05</td>\n",
       "      <td>Arkansas</td>\n",
       "      <td>3067732</td>\n",
       "    </tr>\n",
       "    <tr>\n",
       "      <th>5</th>\n",
       "      <td>0400000US06</td>\n",
       "      <td>California</td>\n",
       "      <td>38965193</td>\n",
       "    </tr>\n",
       "  </tbody>\n",
       "</table>\n",
       "</div>"
      ],
      "text/plain": [
       "0       GEO_ID        NAME S0101_C01_001E\n",
       "1  0400000US01     Alabama        5108468\n",
       "2  0400000US02      Alaska         733406\n",
       "3  0400000US04     Arizona        7431344\n",
       "4  0400000US05    Arkansas        3067732\n",
       "5  0400000US06  California       38965193"
      ]
     },
     "execution_count": 150,
     "metadata": {},
     "output_type": "execute_result"
    }
   ],
   "source": [
    "df_copy.head()"
   ]
  },
  {
   "cell_type": "markdown",
   "metadata": {},
   "source": [
    "# Iteracion"
   ]
  },
  {
   "cell_type": "code",
   "execution_count": 5,
   "metadata": {},
   "outputs": [],
   "source": [
    "import time"
   ]
  },
  {
   "cell_type": "code",
   "execution_count": 6,
   "metadata": {},
   "outputs": [],
   "source": [
    "# Definimos los años.\n",
    "year_range = range(2014, 2024, 1)"
   ]
  },
  {
   "cell_type": "code",
   "execution_count": 7,
   "metadata": {},
   "outputs": [
    {
     "name": "stdout",
     "output_type": "stream",
     "text": [
      "1 2014\n",
      "2 2015\n",
      "3 2016\n",
      "4 2017\n",
      "5 2018\n",
      "6 2019\n",
      "Expecting value: line 1 column 1 (char 0)\n",
      "6 2020\n",
      "7 2021\n",
      "8 2022\n",
      "9 2023\n"
     ]
    }
   ],
   "source": [
    "merged_df = pd.DataFrame()\n",
    "iter_count = 0\n",
    "\n",
    "for year in year_range:\n",
    "    # Obtener DF\n",
    "    url = rf\"https://api.census.gov/data/{year}/acs/acs1/subject?get=group(S0101)&ucgid=pseudo(0100000US$0400000)\"\n",
    "\n",
    "    # Intentamos obtener los datos via REQUESTS de la API de Census.\n",
    "    try:\n",
    "        response = requests.get(url)\n",
    "        df = pd.DataFrame(data=response.json())\n",
    "        # Realizar tratamiento:\n",
    "        df = df_treatment(df)\n",
    "        column = df.columns[2]\n",
    "        df.rename(columns={column : 'population '+ str(year)},inplace=True)\n",
    "        df.drop(columns='GEO_ID', inplace=True)\n",
    "    except Exception as e:\n",
    "        print(e)\n",
    "        print(iter_count, year)\n",
    "        continue\n",
    "    \n",
    "    # Intentamos hacer merge.\n",
    "    if iter_count==0:\n",
    "        iter_count+=1\n",
    "        merged_df = df.copy()\n",
    "    else:\n",
    "        try: \n",
    "            merged_df = pd.merge(merged_df, df , on='NAME')\n",
    "            iter_count+=1\n",
    "        except Exception as e:\n",
    "            print(e)\n",
    "\n",
    "    # Imprimimos un log.\n",
    "    print(iter_count, year)\n",
    "\n",
    "    time.sleep(1) # tiempo entre consulta: 1 segundo.\n",
    "    "
   ]
  },
  {
   "cell_type": "markdown",
   "metadata": {},
   "source": [
    "# Tratamiento final"
   ]
  },
  {
   "cell_type": "code",
   "execution_count": 8,
   "metadata": {},
   "outputs": [],
   "source": [
    "# Damos forma al dataset\n",
    "state_population_df = pd.melt(merged_df, id_vars='NAME', value_vars=merged_df.columns[1:], var_name='year', value_name='population' ).sort_values(by='NAME')"
   ]
  },
  {
   "cell_type": "code",
   "execution_count": 9,
   "metadata": {},
   "outputs": [],
   "source": [
    "# Convertimos los datos de la columna year.\n",
    "state_population_df['year'] = state_population_df['year'].str.split(' ').apply(lambda row: row[1])"
   ]
  },
  {
   "cell_type": "code",
   "execution_count": 10,
   "metadata": {},
   "outputs": [],
   "source": [
    "state_population_df.reset_index(drop=True, inplace=True)"
   ]
  },
  {
   "cell_type": "code",
   "execution_count": 11,
   "metadata": {},
   "outputs": [],
   "source": [
    "state_population_df.rename(columns={\n",
    "    'NAME': 'state'\n",
    "}, inplace=True)"
   ]
  },
  {
   "cell_type": "code",
   "execution_count": 12,
   "metadata": {},
   "outputs": [
    {
     "name": "stdout",
     "output_type": "stream",
     "text": [
      "<class 'pandas.core.frame.DataFrame'>\n",
      "RangeIndex: 468 entries, 0 to 467\n",
      "Data columns (total 3 columns):\n",
      " #   Column      Non-Null Count  Dtype \n",
      "---  ------      --------------  ----- \n",
      " 0   state       468 non-null    object\n",
      " 1   year        468 non-null    object\n",
      " 2   population  468 non-null    object\n",
      "dtypes: object(3)\n",
      "memory usage: 11.1+ KB\n"
     ]
    }
   ],
   "source": [
    "state_population_df.info()"
   ]
  },
  {
   "cell_type": "markdown",
   "metadata": {},
   "source": [
    "# Carga a BigQuery"
   ]
  },
  {
   "cell_type": "code",
   "execution_count": null,
   "metadata": {},
   "outputs": [],
   "source": [
    "from google.cloud import bigquery\n",
    "import os\n",
    "# Definimos nuestra variable de entorno para credenciales de BQ\n",
    "os.environ[\"GOOGLE_APPLICATION_CREDENTIALS\"] = r\"F:\\DataScience\\PF - DataNova\\gcp key\\bamboo-zone-445202-a3-be5b705efba8.json\""
   ]
  },
  {
   "cell_type": "code",
   "execution_count": 184,
   "metadata": {},
   "outputs": [],
   "source": [
    "client = bigquery.Client()"
   ]
  },
  {
   "cell_type": "code",
   "execution_count": 185,
   "metadata": {},
   "outputs": [],
   "source": [
    "table_full_id = 'bamboo-zone-445202-a3.Datanova_CoffeeShops.population_per_state'"
   ]
  },
  {
   "cell_type": "code",
   "execution_count": 186,
   "metadata": {},
   "outputs": [
    {
     "data": {
      "text/plain": [
       "LoadJob<project=bamboo-zone-445202-a3, location=US, id=841b3a4e-78c2-4222-8d25-57922dee84a4>"
      ]
     },
     "execution_count": 186,
     "metadata": {},
     "output_type": "execute_result"
    }
   ],
   "source": [
    "job = client.load_table_from_dataframe(\n",
    "    state_population_df,  \n",
    "    table_full_id,\n",
    "    job_config=bigquery.LoadJobConfig(\n",
    "        write_disposition=\"WRITE_TRUNCATE\",\n",
    "        autodetect=False  \n",
    "    )\n",
    ")\n",
    "\n",
    "job.result()"
   ]
  },
  {
   "cell_type": "markdown",
   "metadata": {},
   "source": [
    "# Guardado local"
   ]
  },
  {
   "cell_type": "code",
   "execution_count": null,
   "metadata": {},
   "outputs": [],
   "source": [
    "state_population_df.to_csv(r'F:\\DataScience\\PF - DataNova\\Aux_scripts\\output\\population.csv')"
   ]
  }
 ],
 "metadata": {
  "kernelspec": {
   "display_name": "datanova_env",
   "language": "python",
   "name": "python3"
  },
  "language_info": {
   "codemirror_mode": {
    "name": "ipython",
    "version": 3
   },
   "file_extension": ".py",
   "mimetype": "text/x-python",
   "name": "python",
   "nbconvert_exporter": "python",
   "pygments_lexer": "ipython3",
   "version": "3.12.6"
  }
 },
 "nbformat": 4,
 "nbformat_minor": 2
}
