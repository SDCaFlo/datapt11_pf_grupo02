{
 "cells": [
  {
   "cell_type": "markdown",
   "metadata": {},
   "source": [
    "# Analisis Preliminar Calidad Datos - Dataset Google"
   ]
  },
  {
   "cell_type": "code",
   "execution_count": 1,
   "metadata": {},
   "outputs": [],
   "source": [
    "import os\n",
    "os.environ[\"SPARK_HOME\"] = r\"F:\\DataScience\\spark\\spark-3.5.3-bin-hadoop3\\spark-3.5.3-bin-hadoop3\"\n",
    "os.environ[\"HADOOP_HOME\"] = r\"F:\\DataScience\\hadoop\\hadoop-3.4.0\"\n",
    "os.environ[\"HADOOP_CONF_DIR\"] = r\"F:\\DataScience\\hadoop\\hadoop-3.4.0\\etc\\hadoop\"\n",
    "\n",
    "import findspark\n",
    "import pickle\n",
    "import pandas as pd\n",
    "import numpy as np\n",
    "\n",
    "findspark.init()\n",
    "\n",
    "\n",
    "# Asignación de recursos locales para SPARK.\n",
    "from pyspark.sql import SparkSession\n",
    "spark = SparkSession.builder.master(\"local[10]\")\\\n",
    "    .config(\"spark.executor.memory\", \"24g\")\\\n",
    "    .config(\"spark.driver.memory\", \"6g\")\\\n",
    "    .config(\"spark.sql.shuffle.partitions\", \"30\")\\\n",
    "    .appName(\"PySpark\").getOrCreate()"
   ]
  },
  {
   "cell_type": "code",
   "execution_count": 2,
   "metadata": {},
   "outputs": [],
   "source": [
    "# Funciones de spark\n",
    "from pyspark.sql import functions as F"
   ]
  },
  {
   "cell_type": "code",
   "execution_count": 3,
   "metadata": {},
   "outputs": [],
   "source": [
    "# Funciones para graficar.\n",
    "import seaborn as sns\n",
    "import matplotlib.pyplot as plt"
   ]
  },
  {
   "cell_type": "markdown",
   "metadata": {},
   "source": [
    "# Dataframe: metadata-sitios"
   ]
  },
  {
   "cell_type": "code",
   "execution_count": null,
   "metadata": {},
   "outputs": [],
   "source": [
    "# Lectura de la carpeta metadata.\n",
    "metadata_df = spark.read.json(r'F:\\DataScience\\PF - DataNova\\datasets\\Google Maps\\metadata-sitios\\*.json')"
   ]
  },
  {
   "cell_type": "code",
   "execution_count": 29,
   "metadata": {},
   "outputs": [],
   "source": [
    "# Cargamos el dataset en cache.\n",
    "metadata_df_cached = metadata_df.cache()"
   ]
  },
  {
   "cell_type": "markdown",
   "metadata": {},
   "source": [
    "## Cantidad total de filas:"
   ]
  },
  {
   "cell_type": "code",
   "execution_count": 44,
   "metadata": {},
   "outputs": [
    {
     "data": {
      "text/plain": [
       "3025011"
      ]
     },
     "execution_count": 44,
     "metadata": {},
     "output_type": "execute_result"
    }
   ],
   "source": [
    "total_rows = metadata_df_cached.count()\n",
    "total_rows"
   ]
  },
  {
   "cell_type": "markdown",
   "metadata": {},
   "source": [
    "## Cantidad de columnas"
   ]
  },
  {
   "cell_type": "code",
   "execution_count": 32,
   "metadata": {},
   "outputs": [
    {
     "name": "stdout",
     "output_type": "stream",
     "text": [
      "Total columnas:  15\n",
      "['MISC', 'address', 'avg_rating', 'category', 'description', 'gmap_id', 'hours', 'latitude', 'longitude', 'name', 'num_of_reviews', 'price', 'relative_results', 'state', 'url']\n"
     ]
    }
   ],
   "source": [
    "print('Total columnas: ',len(metadata_df_cached.columns))\n",
    "print(metadata_df_cached.columns)"
   ]
  },
  {
   "cell_type": "markdown",
   "metadata": {},
   "source": [
    "## Tipos de datos"
   ]
  },
  {
   "cell_type": "code",
   "execution_count": null,
   "metadata": {},
   "outputs": [
    {
     "name": "stdout",
     "output_type": "stream",
     "text": [
      "root\n",
      " |-- MISC: struct (nullable = true)\n",
      " |    |-- Accessibility: array (nullable = true)\n",
      " |    |    |-- element: string (containsNull = true)\n",
      " |    |-- Activities: array (nullable = true)\n",
      " |    |    |-- element: string (containsNull = true)\n",
      " |    |-- Amenities: array (nullable = true)\n",
      " |    |    |-- element: string (containsNull = true)\n",
      " |    |-- Atmosphere: array (nullable = true)\n",
      " |    |    |-- element: string (containsNull = true)\n",
      " |    |-- Crowd: array (nullable = true)\n",
      " |    |    |-- element: string (containsNull = true)\n",
      " |    |-- Dining options: array (nullable = true)\n",
      " |    |    |-- element: string (containsNull = true)\n",
      " |    |-- From the business: array (nullable = true)\n",
      " |    |    |-- element: string (containsNull = true)\n",
      " |    |-- Getting here: array (nullable = true)\n",
      " |    |    |-- element: string (containsNull = true)\n",
      " |    |-- Health & safety: array (nullable = true)\n",
      " |    |    |-- element: string (containsNull = true)\n",
      " |    |-- Health and safety: array (nullable = true)\n",
      " |    |    |-- element: string (containsNull = true)\n",
      " |    |-- Highlights: array (nullable = true)\n",
      " |    |    |-- element: string (containsNull = true)\n",
      " |    |-- Lodging options: array (nullable = true)\n",
      " |    |    |-- element: string (containsNull = true)\n",
      " |    |-- Offerings: array (nullable = true)\n",
      " |    |    |-- element: string (containsNull = true)\n",
      " |    |-- Payments: array (nullable = true)\n",
      " |    |    |-- element: string (containsNull = true)\n",
      " |    |-- Planning: array (nullable = true)\n",
      " |    |    |-- element: string (containsNull = true)\n",
      " |    |-- Popular for: array (nullable = true)\n",
      " |    |    |-- element: string (containsNull = true)\n",
      " |    |-- Recycling: array (nullable = true)\n",
      " |    |    |-- element: string (containsNull = true)\n",
      " |    |-- Service options: array (nullable = true)\n",
      " |    |    |-- element: string (containsNull = true)\n",
      " |-- address: string (nullable = true)\n",
      " |-- avg_rating: double (nullable = true)\n",
      " |-- category: array (nullable = true)\n",
      " |    |-- element: string (containsNull = true)\n",
      " |-- description: string (nullable = true)\n",
      " |-- gmap_id: string (nullable = true)\n",
      " |-- hours: array (nullable = true)\n",
      " |    |-- element: array (containsNull = true)\n",
      " |    |    |-- element: string (containsNull = true)\n",
      " |-- latitude: double (nullable = true)\n",
      " |-- longitude: double (nullable = true)\n",
      " |-- name: string (nullable = true)\n",
      " |-- num_of_reviews: long (nullable = true)\n",
      " |-- price: string (nullable = true)\n",
      " |-- relative_results: array (nullable = true)\n",
      " |    |-- element: string (containsNull = true)\n",
      " |-- state: string (nullable = true)\n",
      " |-- url: string (nullable = true)\n",
      "\n"
     ]
    }
   ],
   "source": [
    "# Esquema\n",
    "metadata_df_cached.printSchema()"
   ]
  },
  {
   "cell_type": "code",
   "execution_count": 38,
   "metadata": {},
   "outputs": [
    {
     "name": "stdout",
     "output_type": "stream",
     "text": [
      "+---------------------------------------------------------------------------------------------------------------------------------------------------------------------------------------------------------------------------------------------------+------------------------------------------------------+----------+-------------------+-----------+-------------------------------------+------------------------------------------------------------------------------------------------------------------------------------------------------------+----------+------------+----------------+--------------+-----+---------------------------------------------------------------------------------------------------------------------------------------------------------------------------------------------------+-----------------+----------------------------------------------------------------------------------------------------------------+\n",
      "|MISC                                                                                                                                                                                                                                               |address                                               |avg_rating|category           |description|gmap_id                              |hours                                                                                                                                                       |latitude  |longitude   |name            |num_of_reviews|price|relative_results                                                                                                                                                                                   |state            |url                                                                                                             |\n",
      "+---------------------------------------------------------------------------------------------------------------------------------------------------------------------------------------------------------------------------------------------------+------------------------------------------------------+----------+-------------------+-----------+-------------------------------------+------------------------------------------------------------------------------------------------------------------------------------------------------------+----------+------------+----------------+--------------+-----+---------------------------------------------------------------------------------------------------------------------------------------------------------------------------------------------------+-----------------+----------------------------------------------------------------------------------------------------------------+\n",
      "|{[Wheelchair accessible entrance], NULL, NULL, NULL, NULL, NULL, NULL, NULL, [Mask required, Staff required to disinfect surfaces between visits], NULL, NULL, NULL, NULL, NULL, [Quick visit], NULL, NULL, [In-store shopping, Same-day delivery]}|Porter Pharmacy, 129 N Second St, Cochran, GA 31014   |4.9       |[Pharmacy]         |NULL       |0x88f16e41928ff687:0x883dad4fd048e8f8|[[Friday, 8AM–6PM], [Saturday, 8AM–12PM], [Sunday, Closed], [Monday, 8AM–6PM], [Tuesday, 8AM–6PM], [Wednesday, 8AM–12PM], [Thursday, 8AM–6PM]]              |32.3883   |-83.3571    |Porter Pharmacy |16            |NULL |[0x88f16e41929435cf:0x5b2532a2885e9ef6, 0x88f16c32716531c1:0x5f19bdaa5044e4fa, 0x88f16e6e3f4a21df:0xcf495da9bb4d89ea]                                                                              |Open ⋅ Closes 6PM|https://www.google.com/maps/place//data=!4m2!3m1!1s0x88f16e41928ff687:0x883dad4fd048e8f8?authuser=-1&hl=en&gl=us|\n",
      "|NULL                                                                                                                                                                                                                                               |City Textile, 3001 E Pico Blvd, Los Angeles, CA 90023 |4.5       |[Textile exporter] |NULL       |0x80c2c98c0e3c16fd:0x29ec8a728764fdf9|NULL                                                                                                                                                        |34.0188913|-118.2152898|City Textile    |6             |NULL |[0x80c2c624136ea88b:0xb0315367ed448771, 0x80c2c97cb7c52f17:0xb66ee68c1c366f2d]                                                                                                                     |Open now         |https://www.google.com/maps/place//data=!4m2!3m1!1s0x80c2c98c0e3c16fd:0x29ec8a728764fdf9?authuser=-1&hl=en&gl=us|\n",
      "|{[Wheelchair accessible entrance], NULL, [Good for kids], [Casual], NULL, NULL, NULL, NULL, NULL, NULL, NULL, NULL, [Comfort food], NULL, NULL, NULL, NULL, [Takeout, Dine-in, Delivery]}                                                          |San Soo Dang, 761 S Vermont Ave, Los Angeles, CA 90005|4.4       |[Korean restaurant]|NULL       |0x80c2c778e3b73d33:0xbdc58662a4a97d49|[[Thursday, 6:30AM–6PM], [Friday, 6:30AM–6PM], [Saturday, 6:30AM–6PM], [Sunday, 7AM–12PM], [Monday, Closed], [Tuesday, 6:30AM–6PM], [Wednesday, 6:30AM–6PM]]|34.0580917|-118.2921295|San Soo Dang    |18            |NULL |[0x80c2c78249aba68f:0x35bf16ce61be751d, 0x80c2c79998f75fff:0xd7ca5c67e96fb778, 0x80c2b899146d7507:0xf4162c12c9cf65f8, 0x80c2c77f2d419951:0x26285631b21e324c, 0x80c2b8add9016015:0x15836f81a963b35f]|Open ⋅ Closes 6PM|https://www.google.com/maps/place//data=!4m2!3m1!1s0x80c2c778e3b73d33:0xbdc58662a4a97d49?authuser=-1&hl=en&gl=us|\n",
      "|{NULL, NULL, NULL, NULL, NULL, NULL, NULL, NULL, NULL, NULL, NULL, NULL, NULL, [Checks, Debit cards, Credit cards], NULL, NULL, NULL, [In-store shopping]}                                                                                         |Nova Fabrics, 2200 E 11th St, Los Angeles, CA 90021   |3.3       |[Fabric store]     |NULL       |0x80c2c89923b27a41:0x32041559418d447 |[[Thursday, 9AM–5PM], [Friday, 9AM–5PM], [Saturday, Closed], [Sunday, Closed], [Monday, 9AM–5PM], [Tuesday, 9AM–5PM], [Wednesday, 9AM–5PM]]                 |34.0236689|-118.2329297|Nova Fabrics    |6             |NULL |[0x80c2c8811477253f:0x23a8a492df1918f7, 0x80c2c6333ea5aaa7:0x38c93218b0d5751b, 0x80c2c633235effa1:0x384bf96fe70cbbc7, 0x80c2c6295991d031:0x8516999f61103f87, 0x80c2c63331db7ec5:0x507f59d850d36691]|Open ⋅ Closes 5PM|https://www.google.com/maps/place//data=!4m2!3m1!1s0x80c2c89923b27a41:0x32041559418d447?authuser=-1&hl=en&gl=us |\n",
      "|{NULL, NULL, NULL, NULL, NULL, NULL, NULL, NULL, NULL, NULL, NULL, NULL, NULL, NULL, NULL, NULL, NULL, [In-store pickup]}                                                                                                                          |Nobel Textile Co, 719 E 9th St, Los Angeles, CA 90021 |4.3       |[Fabric store]     |NULL       |0x80c2c632f933b073:0xc31785961fe826a6|[[Thursday, 9AM–5PM], [Friday, 9AM–5PM], [Saturday, Closed], [Sunday, Closed], [Monday, 9AM–5PM], [Tuesday, 9AM–5PM], [Wednesday, 9AM–5PM]]                 |34.0366942|-118.2494208|Nobel Textile Co|7             |NULL |[0x80c2c62c496083d1:0xdefa11317fe870a1, 0x80c2c6333ea5aaa7:0x38c93218b0d5751b, 0x80c2c632158d209d:0xe23b0235cc969407, 0x80c2c881faa0ca0f:0xe0806e3c88dbd1]                                         |Open ⋅ Closes 5PM|https://www.google.com/maps/place//data=!4m2!3m1!1s0x80c2c632f933b073:0xc31785961fe826a6?authuser=-1&hl=en&gl=us|\n",
      "+---------------------------------------------------------------------------------------------------------------------------------------------------------------------------------------------------------------------------------------------------+------------------------------------------------------+----------+-------------------+-----------+-------------------------------------+------------------------------------------------------------------------------------------------------------------------------------------------------------+----------+------------+----------------+--------------+-----+---------------------------------------------------------------------------------------------------------------------------------------------------------------------------------------------------+-----------------+----------------------------------------------------------------------------------------------------------------+\n",
      "only showing top 5 rows\n",
      "\n"
     ]
    }
   ],
   "source": [
    "# Visualización.\n",
    "metadata_df_cached.show(5, truncate=False)"
   ]
  },
  {
   "cell_type": "markdown",
   "metadata": {},
   "source": [
    "Observaciones:\n",
    "- MISC: Struct : Estructura con diversas características del local. \n",
    "    - StrucType: Array : Cada structype es un array(lista) de strings.\n",
    "- address: String :  Dirección del negocio\n",
    "- avg_rating: Double : Score promedio del local\n",
    "- category: Array : Lista de categorias asignadas al local.\n",
    "- description: String : Descripcion de la localidad.\n",
    "- gmap_id: String : Identificador del local dentro de google maps.\n",
    "- hours: array : Lista de horarios en los cuales se encuentra abierto el local.\n",
    "    - Formato: [dia, hora_inicio - hora_fin]\n",
    "- latitude: double: Latitud geografica.\n",
    "- longitude: double: Longitud geográfica.\n",
    "- name: string: Denominación del local\n",
    "- num_of_reviews: long: cantidad total de reviews.\n",
    "- price: string: Parece ser el precio medio por persona que se gasta en el local.\n",
    "- relative_results: array: lista de gmap_id's relacionados al local.\n",
    "- state: string: Muestra el estado del local al recolectar la data. Estados como: abierto: cerrado: permanentemente cerrado.\n",
    "- url: string: Url de googlemaps del sitio."
   ]
  },
  {
   "cell_type": "markdown",
   "metadata": {},
   "source": [
    "## Nulos"
   ]
  },
  {
   "cell_type": "code",
   "execution_count": null,
   "metadata": {},
   "outputs": [
    {
     "name": "stdout",
     "output_type": "stream",
     "text": [
      "+-----+-------+----------+--------+-----------+-------+-----+--------+---------+----+--------------+-----+----------------+-----+---+\n",
      "| MISC|address|avg_rating|category|description|gmap_id|hours|latitude|longitude|name|num_of_reviews|price|relative_results|state|url|\n",
      "+-----+-------+----------+--------+-----------+-------+-----+--------+---------+----+--------------+-----+----------------+-----+---+\n",
      "|22.84|   2.66|       0.0|    0.58|      91.59|    0.0|26.03|     0.0|      0.0| 0.0|           0.0| 90.9|            9.75|24.68|0.0|\n",
      "+-----+-------+----------+--------+-----------+-------+-----+--------+---------+----+--------------+-----+----------------+-----+---+\n",
      "\n"
     ]
    }
   ],
   "source": [
    "# Vamos a calcular el porcentaje de nulos por columna:\n",
    "null_counts = metadata_df_cached.select([F.round\\\n",
    "                                         (F.sum(F.col(c).isNull().cast(\"int\"))/total_rows*100, 2).alias(c) \\\n",
    "                                            for c in metadata_df_cached.columns])\n",
    "null_counts.show()"
   ]
  },
  {
   "cell_type": "markdown",
   "metadata": {},
   "source": [
    "Observaciones:\n",
    "- Columnas con gran cantidad de nulos:\n",
    "    - MISC. 22%\n",
    "    - description 91%\n",
    "    - hours 26%\n",
    "    - price 90%\n",
    "    - relative_results 10%\n",
    "    - state 24%"
   ]
  },
  {
   "cell_type": "markdown",
   "metadata": {},
   "source": [
    "## Duplicados"
   ]
  },
  {
   "cell_type": "code",
   "execution_count": null,
   "metadata": {},
   "outputs": [
    {
     "name": "stdout",
     "output_type": "stream",
     "text": [
      "+--------------------+--------------------+----------+--------------------+-----------+--------------------+--------------------+------------------+-------------------+--------------------+--------------+-----+--------------------+--------------------+--------------------+-----+\n",
      "|                MISC|             address|avg_rating|            category|description|             gmap_id|               hours|          latitude|          longitude|                name|num_of_reviews|price|    relative_results|               state|                 url|count|\n",
      "+--------------------+--------------------+----------+--------------------+-----------+--------------------+--------------------+------------------+-------------------+--------------------+--------------+-----+--------------------+--------------------+--------------------+-----+\n",
      "|{NULL, NULL, NULL...|BB&T, 12220 Fairf...|       2.0|[Bank, Car financ...|       NULL|0x0:0x2df66ccfc30...|[[Wednesday, 9AM–...|        38.8660911|        -77.3697057|                BB&T|             8| NULL|[0x89b64f1280f112...|  Closed ⋅ Opens 9AM|https://www.googl...|    2|\n",
      "|{[Wheelchair acce...|NextGen Managemen...|       3.1|[Property managem...|       NULL|0x1412cbb00840265...|[[Thursday, 8:30A...|         26.108331|         -80.352868|  NextGen Management|            48| NULL|[0x88d907ee28ae85...|Closed ⋅ Opens 8:...|https://www.googl...|    2|\n",
      "|{[Wheelchair acce...|Anant Patel, MD, ...|       5.0|      [Neurosurgeon]|       NULL|0x1458b95ff840602...|[[Wednesday, 8AM–...|        30.4078898|        -97.7040399|Anant Patel, MD, ...|            18| NULL|[0x1458b95ff84060...|   Open ⋅ Closes 5PM|https://www.googl...|    2|\n",
      "|                NULL|H & W Fence Compa...|       3.0|  [Fence contractor]|       NULL|0x1458b9a7e1e0006...|[[Wednesday, 7:30...|         30.365893|         -81.753337| H & W Fence Company|            27| NULL|[0x88e5b079192c0e...|Closed ⋅ Opens 7:...|https://www.googl...|    2|\n",
      "|{[Wheelchair acce...|Fulshear Police D...|       3.9| [Police department]|       NULL|0x145e90b6cd351e7...|[[Wednesday, Open...|29.690111199999997|        -95.8809622|Fulshear Police D...|            18| NULL|[0x8641267fbf5ff0...|       Open 24 hours|https://www.googl...|    2|\n",
      "|{[Wheelchair acce...|Bar 91, 400 Ave o...|       3.9|[Bar & grill, Bar...|       NULL|0x146c6711a70d799...|[[Wednesday, 6:30...|26.828990899999997|         -80.141201|              Bar 91|             8| NULL|[0x88ded52e4b87e2...|Closed ⋅ Opens 6:...|https://www.googl...|    2|\n",
      "|{[Wheelchair acce...|Infectious Diseas...|       4.0|    [Medical clinic]|       NULL|0x14e035bef67240b...|                NULL|        34.1671113|        -84.1238693|Infectious Diseas...|             4| NULL|[0x88f59ad90aaab2...|                NULL|https://www.googl...|    2|\n",
      "|{[Wheelchair acce...|Douglasville Neur...|       3.9|       [Neurologist]|       NULL|0x14e17911dae2d02...|[[Wednesday, 8:30...|        33.7369376|        -84.7267289|Douglasville Neur...|            68| NULL|[0x88f526f77f5aee...|Closed ⋅ Opens 8:...|https://www.googl...|    2|\n",
      "|{[Wheelchair acce...|Health Insurance ...|       3.2|[Health insurance...|       NULL|0x14e19eedc2febda...|[[Wednesday, 7AM–...|        34.0223151|        -84.3081497|Health Insurance USA|             5| NULL|[0x88f5095dd59e56...|  Closed ⋅ Opens 7AM|https://www.googl...|    2|\n",
      "|                NULL|Equinox Software,...|       5.0|  [Software company]|       NULL|0x14e1bad9a0df464...|                NULL|        33.9834728| -84.17016129999999|    Equinox Software|             2| NULL|[0x88f5989b03f6ee...|                NULL|https://www.googl...|    2|\n",
      "|{[Wheelchair acce...|Acquire Realty, 1...|       3.4|[Real estate agency]|       NULL|0x14e3c18c2dae318...|[[Tuesday, 9AM–4P...|33.602717399999996|-112.29260909999999|      Acquire Realty|            18| NULL|[0x872b1249105129...|Closed ⋅ Opens 9A...|https://www.googl...|    2|\n",
      "|{[Wheelchair acce...|Santiago Pediatri...|       4.4|      [Pediatrician]|       NULL|0x14e3db08c18c468...|[[Tuesday, 8:30AM...|33.626973899999996|       -117.7036127| Santiago Pediatrics|             7| NULL|[0x80dce85835a30c...|Closed ⋅ Opens 8:...|https://www.googl...|    2|\n",
      "|{[Wheelchair acce...|Inovio Pharmaceut...|       5.0|[Pharmaceutical c...|       NULL|0x14e4a2a556b7df0...|[[Wednesday, 8AM–...|         32.897656|       -117.2084771|Inovio Pharmaceut...|             4| NULL|[0x80dc065fac6a3d...|  Closed ⋅ Opens 8AM|https://www.googl...|    2|\n",
      "|{[Wheelchair acce...|Shearer Supply Da...|       4.7|[Air conditioning...|       NULL|0x14e4bd32664e076...|[[Tuesday, 8AM–5P...|        32.8952895|        -96.7034482|Shearer Supply Da...|            35| NULL|[0x864ea72bc2d4b1...|Closed ⋅ Opens 8A...|https://www.googl...|    2|\n",
      "|{[Wheelchair acce...|H. Lorimer Corpor...|       5.0|[Mechanical engin...|       NULL|0x14fb1f0aa096250...|[[Thursday, 8AM–5...|        32.3846778| -94.72325889999999|H. Lorimer Corpor...|             1| NULL|[0x86363972224aaf...|   Open ⋅ Closes 5PM|https://www.googl...|    2|\n",
      "|                NULL|Ian Whitehead Pho...|       5.0|      [Photographer]|       NULL|0x1520153c4abb802...|                NULL|         34.833387|        -111.863945|Ian Whitehead Pho...|             2| NULL|[0x872da15343b9e1...|                NULL|https://www.googl...|    2|\n",
      "|{[Wheelchair acce...|Dyson Janzen Arch...|       5.0|         [Architect]|       NULL|0x152fa515ebe5a3d...|[[Tuesday, 8:30AM...|         36.759338|        -119.801272|Dyson Janzen Arch...|             2| NULL|[0x80945e2248dd15...|Closed ⋅ Opens 8:...|https://www.googl...|    2|\n",
      "|{[Wheelchair acce...|Chivamex Soccer, ...|       3.8|       [Soccer club]|       NULL|0x1532f7a8f975138...|[[Wednesday, 9AM–...|        37.7744304|       -122.2186163|     Chivamex Soccer|            24| NULL|[0x808f8665409dbe...|  Closed ⋅ Opens 9AM|https://www.googl...|    2|\n",
      "|                NULL|                NULL|       5.0|[Elevator service...|       NULL|0x2720f6e0df358e6...|[[Wednesday, Open...|        34.0146575| -78.01203989999999|    The Elevator Guy|             2| NULL|                NULL|       Open 24 hours|https://www.googl...|    2|\n",
      "|                NULL|                NULL|       4.5|[Dog trainer, Ser...|       NULL|0x27bc4adb05a67b7...|[[Wednesday, 8AM–...|         28.102272|        -82.3966478|Highland Canine T...|             6| NULL|                NULL|  Closed ⋅ Opens 8AM|https://www.googl...|    2|\n",
      "+--------------------+--------------------+----------+--------------------+-----------+--------------------+--------------------+------------------+-------------------+--------------------+--------------+-----+--------------------+--------------------+--------------------+-----+\n",
      "only showing top 20 rows\n",
      "\n"
     ]
    }
   ],
   "source": [
    "# Visualizamos las entradas duplicadas en su totalidad (coincidencia exacta de todos los campos)\n",
    "duplicates = metadata_df_cached.groupBy(metadata_df_cached.columns).count().filter(\"count > 1\")\n",
    "\n",
    "# Mostrar las filas duplicadas\n",
    "duplicates.sort(F.asc('gmap_id')).show()"
   ]
  },
  {
   "cell_type": "code",
   "execution_count": null,
   "metadata": {},
   "outputs": [
    {
     "data": {
      "text/plain": [
       "26573"
      ]
     },
     "execution_count": 48,
     "metadata": {},
     "output_type": "execute_result"
    }
   ],
   "source": [
    "# Contamos : Un total de 26 573 duplicados.\n",
    "duplicates.count()"
   ]
  },
  {
   "cell_type": "code",
   "execution_count": null,
   "metadata": {},
   "outputs": [
    {
     "name": "stdout",
     "output_type": "stream",
     "text": [
      "+--------------------+-----+\n",
      "|             gmap_id|count|\n",
      "+--------------------+-----+\n",
      "|0x8084d0c62e26baa...|    2|\n",
      "|0x864741ea3489d6c...|    2|\n",
      "|0x88c33f1c8e1f99a...|    2|\n",
      "|0x881614ed3a8e45a...|    2|\n",
      "|0x89d0ba60af135b2...|    2|\n",
      "|0x88f5a284e80502b...|    2|\n",
      "|0x88f5a262358cae1...|    2|\n",
      "|0x89c8b8ba089dbdc...|    2|\n",
      "|0x89c8127d9fb00a8...|    2|\n",
      "|0x88d9b373ab13888...|    2|\n",
      "|0x88d9bb0ade90b1b...|    2|\n",
      "|0x8814b742fa934f5...|    2|\n",
      "|0x88315d25d1d7608...|    2|\n",
      "|0x54afb44118f430d...|    2|\n",
      "|0x8644cbd8a859939...|    2|\n",
      "|0x87f07545743ecf4...|    2|\n",
      "|0x88342edd9887e79...|    2|\n",
      "|0x88c2c73fcb9cb85...|    2|\n",
      "|0x80dcebb0f57d204...|    2|\n",
      "|0x80c8c6a03032332...|    2|\n",
      "+--------------------+-----+\n",
      "only showing top 20 rows\n",
      "\n"
     ]
    }
   ],
   "source": [
    "# Duplicados de solo los IDs de gmap_id.\n",
    "duplicated_ids = metadata_df_cached.select('gmap_id').groupBy('gmap_id').count().filter(\"count > 1\")\n",
    "duplicated_ids.show()"
   ]
  },
  {
   "cell_type": "code",
   "execution_count": null,
   "metadata": {},
   "outputs": [
    {
     "data": {
      "text/plain": [
       "26573"
      ]
     },
     "execution_count": 51,
     "metadata": {},
     "output_type": "execute_result"
    }
   ],
   "source": [
    "# Se trata de las mismas entradas.\n",
    "duplicated_ids.count()"
   ]
  },
  {
   "cell_type": "code",
   "execution_count": 52,
   "metadata": {},
   "outputs": [
    {
     "data": {
      "text/plain": [
       "0.8784430866532387"
      ]
     },
     "execution_count": 52,
     "metadata": {},
     "output_type": "execute_result"
    }
   ],
   "source": [
    "# Porcentaje de duplicados:\n",
    "duplicated_ids.count()/total_rows*100"
   ]
  },
  {
   "cell_type": "markdown",
   "metadata": {},
   "source": [
    "Tenemos un total de 26573 filas duplicadas, lo que representa el 0.87% del dataframe."
   ]
  },
  {
   "cell_type": "markdown",
   "metadata": {},
   "source": [
    "## Outliers"
   ]
  },
  {
   "cell_type": "code",
   "execution_count": null,
   "metadata": {},
   "outputs": [],
   "source": [
    "# Transformamos el dataset a pandas para poder graficar\n",
    "metadata_pd = metadata_df_cached.select(\"avg_rating\",  \"num_of_reviews\").toPandas()"
   ]
  },
  {
   "cell_type": "code",
   "execution_count": 68,
   "metadata": {},
   "outputs": [
    {
     "data": {
      "text/html": [
       "<div>\n",
       "<style scoped>\n",
       "    .dataframe tbody tr th:only-of-type {\n",
       "        vertical-align: middle;\n",
       "    }\n",
       "\n",
       "    .dataframe tbody tr th {\n",
       "        vertical-align: top;\n",
       "    }\n",
       "\n",
       "    .dataframe thead th {\n",
       "        text-align: right;\n",
       "    }\n",
       "</style>\n",
       "<table border=\"1\" class=\"dataframe\">\n",
       "  <thead>\n",
       "    <tr style=\"text-align: right;\">\n",
       "      <th></th>\n",
       "      <th>avg_rating</th>\n",
       "      <th>num_of_reviews</th>\n",
       "    </tr>\n",
       "  </thead>\n",
       "  <tbody>\n",
       "    <tr>\n",
       "      <th>count</th>\n",
       "      <td>3.025011e+06</td>\n",
       "      <td>3.025011e+06</td>\n",
       "    </tr>\n",
       "    <tr>\n",
       "      <th>mean</th>\n",
       "      <td>4.303736e+00</td>\n",
       "      <td>4.362911e+01</td>\n",
       "    </tr>\n",
       "    <tr>\n",
       "      <th>std</th>\n",
       "      <td>7.127077e-01</td>\n",
       "      <td>1.429952e+02</td>\n",
       "    </tr>\n",
       "    <tr>\n",
       "      <th>min</th>\n",
       "      <td>1.000000e+00</td>\n",
       "      <td>1.000000e+00</td>\n",
       "    </tr>\n",
       "    <tr>\n",
       "      <th>25%</th>\n",
       "      <td>4.000000e+00</td>\n",
       "      <td>7.000000e+00</td>\n",
       "    </tr>\n",
       "    <tr>\n",
       "      <th>50%</th>\n",
       "      <td>4.500000e+00</td>\n",
       "      <td>1.700000e+01</td>\n",
       "    </tr>\n",
       "    <tr>\n",
       "      <th>75%</th>\n",
       "      <td>4.800000e+00</td>\n",
       "      <td>4.300000e+01</td>\n",
       "    </tr>\n",
       "    <tr>\n",
       "      <th>max</th>\n",
       "      <td>5.000000e+00</td>\n",
       "      <td>9.998000e+03</td>\n",
       "    </tr>\n",
       "  </tbody>\n",
       "</table>\n",
       "</div>"
      ],
      "text/plain": [
       "         avg_rating  num_of_reviews\n",
       "count  3.025011e+06    3.025011e+06\n",
       "mean   4.303736e+00    4.362911e+01\n",
       "std    7.127077e-01    1.429952e+02\n",
       "min    1.000000e+00    1.000000e+00\n",
       "25%    4.000000e+00    7.000000e+00\n",
       "50%    4.500000e+00    1.700000e+01\n",
       "75%    4.800000e+00    4.300000e+01\n",
       "max    5.000000e+00    9.998000e+03"
      ]
     },
     "execution_count": 68,
     "metadata": {},
     "output_type": "execute_result"
    }
   ],
   "source": [
    "statistics_pd = metadata_pd.describe()\n",
    "statistics_pd"
   ]
  },
  {
   "cell_type": "code",
   "execution_count": 67,
   "metadata": {},
   "outputs": [
    {
     "data": {
      "text/plain": [
       "131978537"
      ]
     },
     "execution_count": 67,
     "metadata": {},
     "output_type": "execute_result"
    }
   ],
   "source": [
    "# Total de 131 978 537 reviews (132 millones)\n",
    "total_reviews = metadata_pd['num_of_reviews'].sum()\n",
    "total_reviews"
   ]
  },
  {
   "cell_type": "code",
   "execution_count": 60,
   "metadata": {},
   "outputs": [
    {
     "data": {
      "text/html": [
       "<div>\n",
       "<style scoped>\n",
       "    .dataframe tbody tr th:only-of-type {\n",
       "        vertical-align: middle;\n",
       "    }\n",
       "\n",
       "    .dataframe tbody tr th {\n",
       "        vertical-align: top;\n",
       "    }\n",
       "\n",
       "    .dataframe thead th {\n",
       "        text-align: right;\n",
       "    }\n",
       "</style>\n",
       "<table border=\"1\" class=\"dataframe\">\n",
       "  <thead>\n",
       "    <tr style=\"text-align: right;\">\n",
       "      <th></th>\n",
       "      <th>avg_rating</th>\n",
       "      <th>num_of_reviews</th>\n",
       "    </tr>\n",
       "  </thead>\n",
       "  <tbody>\n",
       "    <tr>\n",
       "      <th>0</th>\n",
       "      <td>4.9</td>\n",
       "      <td>16</td>\n",
       "    </tr>\n",
       "    <tr>\n",
       "      <th>1</th>\n",
       "      <td>4.5</td>\n",
       "      <td>6</td>\n",
       "    </tr>\n",
       "    <tr>\n",
       "      <th>2</th>\n",
       "      <td>4.4</td>\n",
       "      <td>18</td>\n",
       "    </tr>\n",
       "    <tr>\n",
       "      <th>3</th>\n",
       "      <td>3.3</td>\n",
       "      <td>6</td>\n",
       "    </tr>\n",
       "    <tr>\n",
       "      <th>4</th>\n",
       "      <td>4.3</td>\n",
       "      <td>7</td>\n",
       "    </tr>\n",
       "    <tr>\n",
       "      <th>...</th>\n",
       "      <td>...</td>\n",
       "      <td>...</td>\n",
       "    </tr>\n",
       "    <tr>\n",
       "      <th>3025006</th>\n",
       "      <td>4.0</td>\n",
       "      <td>424</td>\n",
       "    </tr>\n",
       "    <tr>\n",
       "      <th>3025007</th>\n",
       "      <td>3.1</td>\n",
       "      <td>268</td>\n",
       "    </tr>\n",
       "    <tr>\n",
       "      <th>3025008</th>\n",
       "      <td>4.5</td>\n",
       "      <td>194</td>\n",
       "    </tr>\n",
       "    <tr>\n",
       "      <th>3025009</th>\n",
       "      <td>3.7</td>\n",
       "      <td>24</td>\n",
       "    </tr>\n",
       "    <tr>\n",
       "      <th>3025010</th>\n",
       "      <td>5.0</td>\n",
       "      <td>498</td>\n",
       "    </tr>\n",
       "  </tbody>\n",
       "</table>\n",
       "<p>3025011 rows × 2 columns</p>\n",
       "</div>"
      ],
      "text/plain": [
       "         avg_rating  num_of_reviews\n",
       "0               4.9              16\n",
       "1               4.5               6\n",
       "2               4.4              18\n",
       "3               3.3               6\n",
       "4               4.3               7\n",
       "...             ...             ...\n",
       "3025006         4.0             424\n",
       "3025007         3.1             268\n",
       "3025008         4.5             194\n",
       "3025009         3.7              24\n",
       "3025010         5.0             498\n",
       "\n",
       "[3025011 rows x 2 columns]"
      ]
     },
     "execution_count": 60,
     "metadata": {},
     "output_type": "execute_result"
    }
   ],
   "source": [
    "metadata_pd"
   ]
  },
  {
   "cell_type": "code",
   "execution_count": null,
   "metadata": {},
   "outputs": [
    {
     "data": {
      "text/plain": [
       "<Axes: xlabel='avg_rating', ylabel='Count'>"
      ]
     },
     "execution_count": 84,
     "metadata": {},
     "output_type": "execute_result"
    },
    {
     "data": {
      "image/png": "[encoded data removed]",
      "text/plain": [
       "<Figure size 640x480 with 1 Axes>"
      ]
     },
     "metadata": {},
     "output_type": "display_data"
    }
   ],
   "source": [
    "# Visualizamos la distribución del rating en el dataset.\n",
    "sns.histplot(data=metadata_pd, x='avg_rating', bins=10)"
   ]
  },
  {
   "cell_type": "code",
   "execution_count": null,
   "metadata": {},
   "outputs": [
    {
     "data": {
      "text/plain": [
       "<Axes: xlabel='num_of_reviews', ylabel='Count'>"
      ]
     },
     "execution_count": 88,
     "metadata": {},
     "output_type": "execute_result"
    },
    {
     "data": {
      "image/png": "[encoded data removed]",
      "text/plain": [
       "<Figure size 640x480 with 1 Axes>"
      ]
     },
     "metadata": {},
     "output_type": "display_data"
    }
   ],
   "source": [
    "# Visualizamos la distribución de total_reviews en el dataset.\n",
    "sns.histplot(data=metadata_pd, x='num_of_reviews', bins=50)"
   ]
  },
  {
   "cell_type": "markdown",
   "metadata": {},
   "source": [
    "### Outliers avg_rating"
   ]
  },
  {
   "cell_type": "code",
   "execution_count": null,
   "metadata": {},
   "outputs": [
    {
     "data": {
      "text/plain": [
       "<Axes: xlabel='avg_rating'>"
      ]
     },
     "execution_count": 70,
     "metadata": {},
     "output_type": "execute_result"
    },
    {
     "data": {
      "image/png": "[encoded data removed]",
      "text/plain": [
       "<Figure size 640x480 with 1 Axes>"
      ]
     },
     "metadata": {},
     "output_type": "display_data"
    }
   ],
   "source": [
    "sns.boxplot(data=metadata_pd, x='avg_rating')"
   ]
  },
  {
   "cell_type": "code",
   "execution_count": null,
   "metadata": {},
   "outputs": [
    {
     "data": {
      "text/plain": [
       "2.8000000000000003"
      ]
     },
     "execution_count": 75,
     "metadata": {},
     "output_type": "execute_result"
    }
   ],
   "source": [
    "# Calculamos el IQR para luego filtrar valores outliers.\n",
    "IQR = statistics_pd.loc['75%','avg_rating'] - statistics_pd.loc['25%','avg_rating']\n",
    "min_value = statistics_pd.loc['25%','avg_rating'] - 1.5*IQR\n",
    "min_value"
   ]
  },
  {
   "cell_type": "code",
   "execution_count": 89,
   "metadata": {},
   "outputs": [
    {
     "name": "stdout",
     "output_type": "stream",
     "text": [
      "Total avg_rating outliers:  137842\n",
      "% stablishments:  4.556743760601202 %\n",
      "Total reviews in outliers:  2962103\n",
      "% of reviews in avg_rating outliers:  2.2443823574131603 %\n"
     ]
    }
   ],
   "source": [
    "# Filtramos y obtenemos el total de datos outliers en la columna avg_rating\n",
    "outliers_rating = metadata_pd[metadata_pd['avg_rating']<min_value]\n",
    "total_outliers_reviews = outliers_rating['num_of_reviews'].sum()\n",
    "outliers_count = outliers_rating.shape[0]\n",
    "print('Total avg_rating outliers: ', outliers_count)\n",
    "print('% stablishments: ', outliers_count / metadata_pd.shape[0] * 100, '%' )\n",
    "print('Total reviews in outliers: ', total_outliers_reviews)\n",
    "print('% of reviews in avg_rating outliers: ', total_outliers_reviews/total_reviews*100, '%')"
   ]
  },
  {
   "cell_type": "markdown",
   "metadata": {},
   "source": [
    "### Outliers num_of_reviews"
   ]
  },
  {
   "cell_type": "code",
   "execution_count": 61,
   "metadata": {},
   "outputs": [
    {
     "data": {
      "text/plain": [
       "<Axes: xlabel='num_of_reviews'>"
      ]
     },
     "execution_count": 61,
     "metadata": {},
     "output_type": "execute_result"
    },
    {
     "data": {
      "image/png": "[encoded data removed]",
      "text/plain": [
       "<Figure size 640x480 with 1 Axes>"
      ]
     },
     "metadata": {},
     "output_type": "display_data"
    }
   ],
   "source": [
    "sns.boxplot(data=metadata_pd, x='num_of_reviews')"
   ]
  },
  {
   "cell_type": "code",
   "execution_count": null,
   "metadata": {},
   "outputs": [
    {
     "data": {
      "text/plain": [
       "97.0"
      ]
     },
     "execution_count": 79,
     "metadata": {},
     "output_type": "execute_result"
    }
   ],
   "source": [
    "IQR = statistics_pd.loc['75%', 'num_of_reviews'] - statistics_pd.loc['25%', 'num_of_reviews']\n",
    "max_value = statistics_pd.loc['75%', 'num_of_reviews'] + 1.5*IQR\n",
    "max_value\n",
    "\n",
    "# Aparentemente lo normal es que los establecimientos tengo menos de 97 reviews"
   ]
  },
  {
   "cell_type": "code",
   "execution_count": 82,
   "metadata": {},
   "outputs": [
    {
     "name": "stdout",
     "output_type": "stream",
     "text": [
      "Total num_of_reviews outliers:  284233\n",
      "% stablishments:  9.396098063775636 %\n",
      "Total reviews in outliers:  71590730\n",
      "% of reviews in avg_rating outliers:  54.24422154338625 %\n"
     ]
    }
   ],
   "source": [
    "outliers_reviews = metadata_pd[metadata_pd['num_of_reviews']>97]\n",
    "total_outliers_reviews = outliers_reviews.shape[0]\n",
    "outliers_reviews_sum = outliers_reviews['num_of_reviews'].sum()\n",
    "\n",
    "print('Total num_of_reviews outliers: ', total_outliers_reviews)\n",
    "print('% stablishments: ', total_outliers_reviews / metadata_pd.shape[0] * 100, '%' )\n",
    "print('Total reviews in outliers: ', outliers_reviews_sum)\n",
    "print('% of reviews in avg_rating outliers: ', outliers_reviews_sum/total_reviews*100, '%')"
   ]
  },
  {
   "cell_type": "markdown",
   "metadata": {},
   "source": [
    "Observaciones:\n",
    "- Tenemos outliers en la columna avg_rating, tratandose de lugares con muy bajo rating. Estos sitios con bajo rating representan el 5% de establecimiento y conglomeran el 2.2% del total de reviews.\n",
    "- Respecto a los outliers en la columna num_of_reviews, contamos con un total de 284mil outliers, que poseen mas de 97 reviews. Estos establecimientos representan el 9.3% de todos los establecimientos, al parecer son establecimientos populares. A nivel de reviews, representan el 54% del total de los reviews en todo el dataset. "
   ]
  },
  {
   "cell_type": "markdown",
   "metadata": {},
   "source": [
    "# Dataframe reviews-estados"
   ]
  },
  {
   "cell_type": "code",
   "execution_count": null,
   "metadata": {},
   "outputs": [
    {
     "data": {
      "text/plain": [
       "DataFrame[MISC: struct<Accessibility:array<string>,Activities:array<string>,Amenities:array<string>,Atmosphere:array<string>,Crowd:array<string>,Dining options:array<string>,From the business:array<string>,Getting here:array<string>,Health & safety:array<string>,Health and safety:array<string>,Highlights:array<string>,Lodging options:array<string>,Offerings:array<string>,Payments:array<string>,Planning:array<string>,Popular for:array<string>,Recycling:array<string>,Service options:array<string>>, address: string, avg_rating: double, category: array<string>, description: string, gmap_id: string, hours: array<array<string>>, latitude: double, longitude: double, name: string, num_of_reviews: bigint, price: string, relative_results: array<string>, state: string, url: string]"
      ]
     },
     "execution_count": 90,
     "metadata": {},
     "output_type": "execute_result"
    }
   ],
   "source": [
    "# Liberamos el dataset previo del cache.\n",
    "metadata_df_cached.unpersist()"
   ]
  },
  {
   "cell_type": "code",
   "execution_count": 4,
   "metadata": {},
   "outputs": [],
   "source": [
    "reviews_df = spark.read.json(r'F:\\DataScience\\PF - DataNova\\datasets\\Google Maps\\reviews-estados\\**\\*.json')"
   ]
  },
  {
   "cell_type": "code",
   "execution_count": 5,
   "metadata": {},
   "outputs": [],
   "source": [
    "reviews_df_cached = reviews_df.cache()"
   ]
  },
  {
   "cell_type": "code",
   "execution_count": 102,
   "metadata": {},
   "outputs": [
    {
     "name": "stdout",
     "output_type": "stream",
     "text": [
      "+-------------------------------------+----------------+----+------+--------------------------------------------------------------------------------------------------------------------------------------------------------------------------------------------------------------------------------------------------------------------------------------------------------------------------------+-----------------------------------------------------------------------------------------------------------------------------------------------------------------------------------------------------------------------------------------------------------------------------------------+-------------+---------------------+\n",
      "|gmap_id                              |name            |pics|rating|resp                                                                                                                                                                                                                                                                                                                            |text                                                                                                                                                                                                                                                                                     |time         |user_id              |\n",
      "+-------------------------------------+----------------+----+------+--------------------------------------------------------------------------------------------------------------------------------------------------------------------------------------------------------------------------------------------------------------------------------------------------------------------------------+-----------------------------------------------------------------------------------------------------------------------------------------------------------------------------------------------------------------------------------------------------------------------------------------+-------------+---------------------+\n",
      "|0x87528767d0ec0e4d:0x7a2f1637a6fb6925|Liz W Poch      |NULL|5     |NULL                                                                                                                                                                                                                                                                                                                            |Paige is the best! Everyone at this branch is super friendly and incredibly helpful! They always go the extra mile to make sure I have a great experience. I'm always so impressed with the staff when I stop by. Thank you!                                                             |1627085008811|111182595077674366891|\n",
      "|0x87528767d0ec0e4d:0x7a2f1637a6fb6925|Mario D'Ambrosio|NULL|1     |NULL                                                                                                                                                                                                                                                                                                                            |I have updated my systems on two titles for cars to be sent to the correct address and both were not updated by UfCU so now I get to waste my time because of their mistake. I would not recommend this group. Will not do business with them again.                                     |1626437133578|117689170846448249054|\n",
      "|0x87528767d0ec0e4d:0x7a2f1637a6fb6925|Kathleen Hambly |NULL|5     |NULL                                                                                                                                                                                                                                                                                                                            |Simone is the best. She helped me to defer my car loan in these weird times. She was not only respectful but she was funny and the most helpful person that I have talked to all day. Thank you so much Simone. you are the best.                                                        |1585165423975|115834685654999484011|\n",
      "|0x87528767d0ec0e4d:0x7a2f1637a6fb6925|Crystal Olsen   |NULL|1     |NULL                                                                                                                                                                                                                                                                                                                            |Ive called several times and there customer service is horrible! Train your staff to be more helpful and treat there customers with some respect and not like we are a problem when we call!                                                                                             |1591629458998|112679611213731715979|\n",
      "|0x87528767d0ec0e4d:0x7a2f1637a6fb6925|Sarah Jensen    |NULL|5     |{Thank you for your kind review Sarah! Our staff love to hear about the positive ways they have helped our members. We will continue to work hard and provide the very best service for you at any of our University Federal Credit Union Locations.\\n\\nThank you!\\n\\n-David S.\\nUniversity Federal Credit Union, 1514404059776}|My fiance and I had an awesome stress-free experience with our first auto loan here. Paige is very kind and helpful!! She was very patient answering all our questions and helping us through the whole process. Highly recommend her and the whole team here. Really a great experience.|1510264647735|108599429350262421326|\n",
      "+-------------------------------------+----------------+----+------+--------------------------------------------------------------------------------------------------------------------------------------------------------------------------------------------------------------------------------------------------------------------------------------------------------------------------------+-----------------------------------------------------------------------------------------------------------------------------------------------------------------------------------------------------------------------------------------------------------------------------------------+-------------+---------------------+\n",
      "only showing top 5 rows\n",
      "\n"
     ]
    }
   ],
   "source": [
    "reviews_df_cached.show(5, truncate=False)"
   ]
  },
  {
   "cell_type": "markdown",
   "metadata": {},
   "source": [
    "## Cantidad filas y columnas"
   ]
  },
  {
   "cell_type": "code",
   "execution_count": 101,
   "metadata": {},
   "outputs": [
    {
     "name": "stdout",
     "output_type": "stream",
     "text": [
      "Total reviews:  89946359\n"
     ]
    }
   ],
   "source": [
    "# Total Reviews\n",
    "total_reviews = reviews_df_cached.count()\n",
    "print('Total reviews: ', total_reviews)"
   ]
  },
  {
   "cell_type": "code",
   "execution_count": 100,
   "metadata": {},
   "outputs": [
    {
     "name": "stdout",
     "output_type": "stream",
     "text": [
      "Cantidad de columnas:  8\n"
     ]
    },
    {
     "data": {
      "text/plain": [
       "['gmap_id', 'name', 'pics', 'rating', 'resp', 'text', 'time', 'user_id']"
      ]
     },
     "execution_count": 100,
     "metadata": {},
     "output_type": "execute_result"
    }
   ],
   "source": [
    "print(\"Cantidad de columnas: \", len(reviews_df_cached.columns))\n",
    "reviews_df_cached.columns"
   ]
  },
  {
   "cell_type": "markdown",
   "metadata": {},
   "source": [
    "## Tipos de datos"
   ]
  },
  {
   "cell_type": "code",
   "execution_count": 103,
   "metadata": {},
   "outputs": [
    {
     "name": "stdout",
     "output_type": "stream",
     "text": [
      "root\n",
      " |-- gmap_id: string (nullable = true)\n",
      " |-- name: string (nullable = true)\n",
      " |-- pics: array (nullable = true)\n",
      " |    |-- element: struct (containsNull = true)\n",
      " |    |    |-- url: array (nullable = true)\n",
      " |    |    |    |-- element: string (containsNull = true)\n",
      " |-- rating: long (nullable = true)\n",
      " |-- resp: struct (nullable = true)\n",
      " |    |-- text: string (nullable = true)\n",
      " |    |-- time: long (nullable = true)\n",
      " |-- text: string (nullable = true)\n",
      " |-- time: long (nullable = true)\n",
      " |-- user_id: string (nullable = true)\n",
      "\n"
     ]
    }
   ],
   "source": [
    "reviews_df_cached.printSchema()"
   ]
  },
  {
   "cell_type": "markdown",
   "metadata": {},
   "source": [
    "Observaciones:\n",
    "- gmap_id: string: Id del establecimiento. Unico en gmap.\n",
    "- name: string: Nombre del establecimiento.\n",
    "- pics: array: Lista de urls de imagenes.\n",
    "- rating: long: rating del 1 al 5. Podría representarse con un integer.\n",
    "- resp: struct: respuesta del establecimiento, \n",
    "    - text: string: texto de respuesta\n",
    "    - time: long: fecha de respuesta\n",
    "- text: string: text del review.\n",
    "- time: long: fecha del comentario. En formato long, es posible requiera que se cambie el formato.\n",
    "- user_id: string: id del usuario que realiza el comentario."
   ]
  },
  {
   "cell_type": "markdown",
   "metadata": {},
   "source": [
    "## Nulos"
   ]
  },
  {
   "cell_type": "code",
   "execution_count": 105,
   "metadata": {},
   "outputs": [
    {
     "name": "stdout",
     "output_type": "stream",
     "text": [
      "+-------+----+-----+------+-----+----+----+-------+\n",
      "|gmap_id|name| pics|rating| resp|text|time|user_id|\n",
      "+-------+----+-----+------+-----+----+----+-------+\n",
      "|    0.0| 0.0|97.23|   0.0|87.74|43.7| 0.0|    0.0|\n",
      "+-------+----+-----+------+-----+----+----+-------+\n",
      "\n"
     ]
    }
   ],
   "source": [
    "null_counts = reviews_df_cached.select([F.round\\\n",
    "                                         (F.sum(F.col(c).isNull().cast(\"int\"))/total_reviews*100, 2).alias(c) \\\n",
    "                                            for c in reviews_df_cached.columns])\n",
    "null_counts.show()"
   ]
  },
  {
   "cell_type": "markdown",
   "metadata": {},
   "source": [
    "Observaciones:\n",
    "- El 97% de los reviews no tienen imagenes. Ademas, no vamos a realizar ninguna operacion sobre imagenes en este estudio, por lo cual, podríamos prescindir de la columna.\n",
    "- El 87% de los reviews no cuentan con una respuesta del negocio. \n",
    "- text: el 43.7% de los reviews no cuentan con texto, solo una puntuacion. Estos reviews no podrian usarse para sentiment analysis."
   ]
  },
  {
   "cell_type": "markdown",
   "metadata": {},
   "source": [
    "## Duplicados"
   ]
  },
  {
   "cell_type": "code",
   "execution_count": 106,
   "metadata": {},
   "outputs": [
    {
     "name": "stdout",
     "output_type": "stream",
     "text": [
      "+--------------------+--------------------+----+------+--------------------+--------------------+-------------+--------------------+-----+\n",
      "|             gmap_id|                name|pics|rating|                resp|                text|         time|             user_id|count|\n",
      "+--------------------+--------------------+----+------+--------------------+--------------------+-------------+--------------------+-----+\n",
      "|0x0:0x9edcb14b0cf...|               Glenn|NULL|     1|{Absolutely a fal...|Terrible service....|1528759896087|10299142920017057...|    2|\n",
      "|0x103bf4c1810a4b5...|       Dominia Frank|NULL|     5|                NULL|Been going here f...|1551850282463|10985741773741928...|    2|\n",
      "|0x103bf4c1810a4b5...|        Janis Mathis|NULL|     5|                NULL|             Love it|1544175012772|10836693939501203...|    2|\n",
      "|0x103bf4c1810a4b5...|        Edward Brown|NULL|     5|                NULL|        Love it here|1500180712509|10067677726894377...|    2|\n",
      "|0x103bf4c1810a4b5...|        Denise Avila|NULL|     5|                NULL|           God bless|1501733548841|10545207238713423...|    2|\n",
      "|0x103bf4c1810a4b5...|        Isabel Santi|NULL|     5|                NULL|number 1 for me a...|1567547756627|10832859302109936...|    2|\n",
      "|0x103bf4c1810a4b5...|          Mary Gomez|NULL|     5|                NULL|Uplifting and fri...|1544991916674|10069596691410290...|    2|\n",
      "|0x103bf4c1810a4b5...|                 J D|NULL|     5|                NULL|This is MY church...|1550967081538|10755822462755405...|    2|\n",
      "|0x103bf4c1810a4b5...|  Alex Martin Grande|NULL|     5|                NULL|         God is good|1577680234260|10284876982896603...|    2|\n",
      "|0x103bf4c1810a4b5...|      Jennifer Ramos|NULL|     5|                NULL|Friendliest churc...|1559214320118|11520769628665848...|    2|\n",
      "|0x103bf4c1810a4b5...|      Minerva Carter|NULL|     5|                NULL|Warm, friendly. C...|1556969828188|10426446844337306...|    2|\n",
      "|0x103bf4c1810a4b5...|           Marc Long|NULL|     5|                NULL|  Feeling refreshed!|1489281209813|10880153113667553...|    2|\n",
      "|0x103bf4c1810a4b5...|      Dewald Viljoen|NULL|     5|                NULL|Encouraging exper...|1499658370383|11747155163980798...|    2|\n",
      "|0x103bf4c1810a4b5...|         Rhonda Meek|NULL|     5|                NULL|Love their Celebr...|1556203414885|10845407408857848...|    2|\n",
      "|0x103bf4c1810a4b5...|                 ICA|NULL|     1|                NULL|They have a store...|1467420161854|10443341423897588...|    2|\n",
      "|0x103bf4c1810a4b5...|         Scott Cohen|NULL|     5|                NULL|Joel Osteen is an...|1510496157384|11696588893534761...|    2|\n",
      "|0x103bf4c1810a4b5...|      Herver Galindo|NULL|     5|                NULL|(Translated by Go...|1452571464089|11762848726763480...|    2|\n",
      "|0x103bf4c1810a4b5...|       Janeth Rivero|NULL|     5|                NULL|  Excellent church!!|1581426481428|10441580369648938...|    2|\n",
      "|0x103bf4c1810a4b5...|      Virginia Allen|NULL|     5|                NULL|Love Lakewood church|1515620805265|11099372441470927...|    2|\n",
      "|0x103bf4c1810a4b5...|Gloria “Big Glo” ...|NULL|     5|                NULL|   Great Atmosphere.|1526056855620|11032145576042706...|    2|\n",
      "+--------------------+--------------------+----+------+--------------------+--------------------+-------------+--------------------+-----+\n",
      "only showing top 20 rows\n",
      "\n"
     ]
    }
   ],
   "source": [
    "duplicates = reviews_df_cached.groupBy(reviews_df_cached.columns).count().filter(\"count > 1\")\n",
    "\n",
    "# Mostrar las filas duplicadas\n",
    "duplicates_cached = duplicates.cache()\n",
    "duplicates_cached.sort(F.asc('gmap_id')).show()"
   ]
  },
  {
   "cell_type": "code",
   "execution_count": 108,
   "metadata": {},
   "outputs": [
    {
     "name": "stdout",
     "output_type": "stream",
     "text": [
      "Se encontraron:  1386843  duplicados.\n",
      "Esta cantidad representa el  1.5418556297537291 % del total de reviews\n"
     ]
    }
   ],
   "source": [
    "total_duplicates = duplicates_cached.count()\n",
    "print(\"Se encontraron: \", total_duplicates, \" duplicados.\")\n",
    "print(\"Esta cantidad representa el \", total_duplicates/total_reviews*100, \"% del total de reviews\")"
   ]
  },
  {
   "cell_type": "markdown",
   "metadata": {},
   "source": [
    "Observaciones:\n",
    "Se encontraron 1386843 entradas duplicadas dentro del dataset, lo que representa el 1.54% del total de reviews."
   ]
  },
  {
   "cell_type": "code",
   "execution_count": 110,
   "metadata": {},
   "outputs": [
    {
     "data": {
      "text/plain": [
       "DataFrame[gmap_id: string, name: string, pics: array<struct<url:array<string>>>, rating: bigint, resp: struct<text:string,time:bigint>, text: string, time: bigint, user_id: string, count: bigint]"
      ]
     },
     "execution_count": 110,
     "metadata": {},
     "output_type": "execute_result"
    }
   ],
   "source": [
    "duplicates_cached.unpersist()"
   ]
  },
  {
   "cell_type": "markdown",
   "metadata": {},
   "source": [
    "## Outliers"
   ]
  },
  {
   "cell_type": "markdown",
   "metadata": {},
   "source": [
    "Aqui la unica columna que nos podría interesar evaluar es la columna rating."
   ]
  },
  {
   "cell_type": "code",
   "execution_count": null,
   "metadata": {},
   "outputs": [
    {
     "name": "stdout",
     "output_type": "stream",
     "text": [
      "+-------+------------------+\n",
      "|summary|            rating|\n",
      "+-------+------------------+\n",
      "|  count|          89946359|\n",
      "|   mean|4.3019362128932865|\n",
      "| stddev|1.1007920513773455|\n",
      "|    min|                 1|\n",
      "|    max|                 5|\n",
      "+-------+------------------+\n",
      "\n"
     ]
    }
   ],
   "source": [
    "reviews_df_cached.select('rating').describe().show()"
   ]
  },
  {
   "cell_type": "code",
   "execution_count": 12,
   "metadata": {},
   "outputs": [
    {
     "name": "stdout",
     "output_type": "stream",
     "text": [
      "Limite inferior:  0.9999999999999996\n",
      "Limite superior:  7.6\n"
     ]
    }
   ],
   "source": [
    "# Vamos a calcular los valores atípicos basados en z-score.\n",
    "mean= 4.3\n",
    "stddev = 1.1\n",
    "\n",
    "lower_bound = mean - 3 * stddev\n",
    "upper_bound = mean + 3 * stddev\n",
    "\n",
    "print('Limite inferior: ',lower_bound)\n",
    "print('Limite superior: ',upper_bound)\n"
   ]
  },
  {
   "cell_type": "code",
   "execution_count": 13,
   "metadata": {},
   "outputs": [],
   "source": [
    "agg_review_rating = reviews_df_cached.select('rating').groupBy('rating').count()"
   ]
  },
  {
   "cell_type": "code",
   "execution_count": 14,
   "metadata": {},
   "outputs": [
    {
     "name": "stdout",
     "output_type": "stream",
     "text": [
      "+------+--------+\n",
      "|rating|   count|\n",
      "+------+--------+\n",
      "|     5|55313177|\n",
      "|     2| 2914929|\n",
      "|     4|18690909|\n",
      "|     3| 8378388|\n",
      "|     1| 4648956|\n",
      "+------+--------+\n",
      "\n"
     ]
    }
   ],
   "source": [
    "agg_review_rating.show()"
   ]
  },
  {
   "cell_type": "code",
   "execution_count": 15,
   "metadata": {},
   "outputs": [],
   "source": [
    "review_hist_data = agg_review_rating.toPandas()"
   ]
  },
  {
   "cell_type": "code",
   "execution_count": 19,
   "metadata": {},
   "outputs": [
    {
     "data": {
      "text/plain": [
       "<Axes: xlabel='rating', ylabel='count'>"
      ]
     },
     "execution_count": 19,
     "metadata": {},
     "output_type": "execute_result"
    },
    {
     "data": {
      "image/png": "[encoded data removed]",
      "text/plain": [
       "<Figure size 640x480 with 1 Axes>"
      ]
     },
     "metadata": {},
     "output_type": "display_data"
    }
   ],
   "source": [
    "sns.barplot(data=review_hist_data.sort_values(by='rating'), x='rating', y='count')"
   ]
  },
  {
   "cell_type": "markdown",
   "metadata": {},
   "source": [
    "No podemos decir que los valores 1 y 2 sean outliers, ya que se trata de una escala discreta acotada. Sin embargo, podemos concluir que los usuarios suelen dejar ratings bajos en menor medida."
   ]
  }
 ],
 "metadata": {
  "kernelspec": {
   "display_name": "datanova_env",
   "language": "python",
   "name": "python3"
  },
  "language_info": {
   "codemirror_mode": {
    "name": "ipython",
    "version": 3
   },
   "file_extension": ".py",
   "mimetype": "text/x-python",
   "name": "python",
   "nbconvert_exporter": "python",
   "pygments_lexer": "ipython3",
   "version": "3.12.6"
  }
 },
 "nbformat": 4,
 "nbformat_minor": 2
}
