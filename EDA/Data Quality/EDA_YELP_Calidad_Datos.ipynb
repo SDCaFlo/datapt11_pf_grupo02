{
 "cells": [
  {
   "cell_type": "markdown",
   "metadata": {},
   "source": [
    "Análisis de Calidad de Datos YELP"
   ]
  },
  {
   "cell_type": "code",
   "execution_count": 26,
   "metadata": {},
   "outputs": [],
   "source": [
    "import pandas as pd\n",
    "import numpy as np\n",
    "import matplotlib.pyplot as plt\n",
    "import seaborn as sns\n",
    "from collections import Counter\n",
    "from scipy import stats"
   ]
  },
  {
   "cell_type": "code",
   "execution_count": 3,
   "metadata": {},
   "outputs": [],
   "source": [
    "df_business = pd.read_pickle(r'C:\\HENRY\\PROYECTOS HENRY 11\\PROYECTO GRUPAL\\Datasets\\business.pkl')\n",
    "df_checkin = pd.read_json(r'C:\\HENRY\\PROYECTOS HENRY 11\\PROYECTO GRUPAL\\Datasets\\checkin.json', lines=True)\n",
    "df_tip = pd.read_json(r'C:\\HENRY\\PROYECTOS HENRY 11\\PROYECTO GRUPAL\\Datasets\\tip.json', lines=True)\n",
    "df_user = pd.read_parquet(r'C:\\HENRY\\PROYECTOS HENRY 11\\PROYECTO GRUPAL\\Datasets\\user.parquet')\n"
   ]
  },
  {
   "cell_type": "code",
   "execution_count": 4,
   "metadata": {},
   "outputs": [],
   "source": [
    "df_review = pd.read_parquet(r'C:\\HENRY\\PROYECTOS HENRY 11\\PROYECTO GRUPAL\\Datasets\\df_review.parquet')"
   ]
  },
  {
   "cell_type": "markdown",
   "metadata": {},
   "source": [
    "<h2 style=\"color: lightblue;\">CALIDAD DE DATOS TABLA BUSINESS </h2>"
   ]
  },
  {
   "cell_type": "markdown",
   "metadata": {},
   "source": [
    "<h5 style=\"color: black;\">RESUMEN GENERAL<h5> \n",
    "<h6>Total de Columnas = 28 <br>\n",
    "Columnas Duplicadas = 14 <br>\n",
    "Tipos de Datos = Object 28 columnas<br>\n",
    "Total Registros = 150346</h6>"
   ]
  },
  {
   "cell_type": "markdown",
   "metadata": {},
   "source": [
    "<h5 style=\"color: black;\">COMPLETITUD (Resumen de datos faltantes)<h5> \n",
    "<h6>Valores faltantes por columna: <br>\n",
    "No hay valores nulos</h6>"
   ]
  },
  {
   "cell_type": "markdown",
   "metadata": {},
   "source": [
    "<h5 style=\"color: black;\">CONSISTENCIA (Valores Unicos)<h5> \n",
    "<h6>Conteo de valores únicos por columna:<br>\n",
    "business_id -------150346 <br>\n",
    "name -------------114117 <br>\n",
    "address -----------122844 <br>\n",
    "city ------------------1416 <br>\n",
    "state -------------------28 <br>\n",
    "postal_code ---------3362 <br>\n",
    "latitude -----------135593 <br>\n",
    "longitude ---------131918 <br>\n",
    "stars ---------------------9 <br>\n",
    "review_count --------1158 <br>\n",
    "is_open ------------------2 <br>\n",
    "attributes -----------87662 <br>\n",
    "categories ----------83161 <br>\n",
    "hours ---------------49823</h6>"
   ]
  },
  {
   "cell_type": "markdown",
   "metadata": {},
   "source": [
    "<h5 style=\"color: black;\">DUPLICADOS<h5> \n",
    "<h6>No hay datos duplicados</h6>"
   ]
  },
  {
   "cell_type": "markdown",
   "metadata": {},
   "source": [
    "<h5 style=\"color: black;\">VALORES ATÍPICOS (Outliers)<h5> \n",
    "<h6>No hay valores atípicos</h6>"
   ]
  },
  {
   "cell_type": "markdown",
   "metadata": {},
   "source": [
    "<h5 style=\"color: black;\">Recomendaciones<h5> \n",
    "<h6>Eliminar Columnas Duplicadas <br>\n",
    "Asignar tipos de datos a cada columna </h6>"
   ]
  },
  {
   "cell_type": "markdown",
   "metadata": {},
   "source": [
    "<h2 style=\"color: lightblue;\">CALIDAD DE DATOS TABLA CHECKIN </h2>"
   ]
  },
  {
   "cell_type": "markdown",
   "metadata": {},
   "source": [
    "<h5 style=\"color: black;\">RESUMEN GENERAL<h5> \n",
    "<h6>Total de Columnas = 2 <br>\n",
    "Tipos de Datos = Object 2 columnas<br>\n",
    "Total Registros = 131930</h6>"
   ]
  },
  {
   "cell_type": "markdown",
   "metadata": {},
   "source": [
    "<h5 style=\"color: black;\">COMPLETITUD (Resumen de datos faltantes)<h5> \n",
    "<h6>Valores faltantes por columna: <br>\n",
    "No hay valores nulos</h6>"
   ]
  },
  {
   "cell_type": "markdown",
   "metadata": {},
   "source": [
    "<h5 style=\"color: black;\">CONSISTENCIA (Valores Unicos)<h5> \n",
    "<h6>Conteo de valores únicos por columna:<br>\n",
    "business_id -------131930 <br>\n",
    "date ---------------131930 <br>\n",
    "</h6>"
   ]
  },
  {
   "cell_type": "markdown",
   "metadata": {},
   "source": [
    "<h5 style=\"color: black;\">DUPLICADOS<h5> \n",
    "<h6>No hay datos duplicados</h6>"
   ]
  },
  {
   "cell_type": "markdown",
   "metadata": {},
   "source": [
    "<h5 style=\"color: black;\">VALORES ATÍPICOS (Outliers)<h5> \n",
    "<h6>No hay valores atípicos</h6>"
   ]
  },
  {
   "cell_type": "markdown",
   "metadata": {},
   "source": [
    "<h5 style=\"color: black;\">Recomendaciones<h5> \n",
    "<h6>\n",
    "Asignar tipos de datos a cada columna </h6>"
   ]
  },
  {
   "cell_type": "markdown",
   "metadata": {},
   "source": [
    "<h2 style=\"color: lightblue;\">CALIDAD DE DATOS TABLA TIP </h2>"
   ]
  },
  {
   "cell_type": "markdown",
   "metadata": {},
   "source": [
    "<h5 style=\"color: black;\">RESUMEN GENERAL<h5> \n",
    "<h6>Total de Columnas = 5 <br>\n",
    "Tipos de Datos: <br>\n",
    "user_id ---------------------object <br>\n",
    "business_id ----------------object <br>\n",
    "text -------------------------object <br>\n",
    "date-------------------datetime64<br>\n",
    "compliment_count ----------int64<br>\n",
    "Total Registros = 908915</h6>"
   ]
  },
  {
   "cell_type": "markdown",
   "metadata": {},
   "source": [
    "<h5 style=\"color: black;\">COMPLETITUD (Resumen de datos faltantes)<h5> \n",
    "<h6>Valores faltantes por columna: <br>\n",
    "No hay valores nulos</h6>"
   ]
  },
  {
   "cell_type": "markdown",
   "metadata": {},
   "source": [
    "<h5 style=\"color: black;\">CONSISTENCIA (Valores Unicos)<h5> \n",
    "<h6>Conteo de valores únicos por columna:<br>\n",
    "user_id --------------301758 <br>\n",
    "business_id ---------106193 <br>\n",
    "text ------------------851033 <br>\n",
    "date -----------------906694 <br>\n",
    "compliment_count --------7<br>\n",
    "</h6>"
   ]
  },
  {
   "cell_type": "markdown",
   "metadata": {},
   "source": [
    "<h5 style=\"color: black;\">DUPLICADOS<h5> \n",
    "<h6>67 datos duplicados</h6>"
   ]
  },
  {
   "cell_type": "markdown",
   "metadata": {},
   "source": [
    "<h5 style=\"color: black;\">VALORES ATÍPICOS (Outliers)<h5> \n",
    "<h6>No hay valores atípicos</h6>"
   ]
  },
  {
   "cell_type": "markdown",
   "metadata": {},
   "source": [
    "<h5 style=\"color: black;\">Recomendaciones<h5> \n",
    "<h6>Eliminar datos Duplicados <br>\n",
    " </h6>"
   ]
  },
  {
   "cell_type": "markdown",
   "metadata": {},
   "source": [
    "<h2 style=\"color: lightblue;\">CALIDAD DE DATOS TABLA USER </h2>"
   ]
  },
  {
   "cell_type": "markdown",
   "metadata": {},
   "source": [
    "<h5 style=\"color: black;\">RESUMEN GENERAL<h5> \n",
    "<h6>Total de Columnas = 22 <br>\n",
    "Tipos de Datos: <br>\n",
    "user_id ---------------- object <br>\n",
    "name ------------------object <br>\n",
    "review_count -----------int64 <br>\n",
    "yelping_since ----------object <br>\n",
    "useful ------------------ int64 <br>\n",
    "funny ------------------- int64 <br>\n",
    "cool--------------------- int64 <br>\n",
    "elite ------------------- object <br>\n",
    "friends ---------------- object <br>\n",
    "fans--------------------- int64 <br>\n",
    "average_stars ---------float64 <br>\n",
    "compliment_hot -------- int64 <br>\n",
    "compliment_more ------ int64 <br>\n",
    "compliment_profile-----  int64 <br>\n",
    "compliment_cute  ------- int64 <br>\n",
    "compliment_list --------- int64 <br>\n",
    "compliment_note ------- int64 <br>\n",
    "compliment_plain ------- int64 <br>\n",
    "compliment_cool -------- int64 <br>\n",
    "compliment_funny ------ int64 <br>\n",
    "compliment_writer ------ int64 <br>\n",
    "compliment_photos ------int64 <br>\n",
    "Total Registros = 2105597</h6>"
   ]
  },
  {
   "cell_type": "markdown",
   "metadata": {},
   "source": [
    "<h5 style=\"color: black;\">COMPLETITUD (Resumen de datos faltantes)<h5> \n",
    "<h6>Valores faltantes por columna: <br>\n",
    "No hay valores nulos</h6>"
   ]
  },
  {
   "cell_type": "markdown",
   "metadata": {},
   "source": [
    "<h5 style=\"color: black;\">CONSISTENCIA (Valores Unicos)<h5> \n",
    "<h6>Conteo de valores únicos por columna: <br>\n",
    "user_id ---------------1987897 <br>\n",
    "name ------------------132361 <br>\n",
    "review_count ------------1973 <br>\n",
    "yelping_since --------1980183 <br>\n",
    "useful --------------------5349 <br>\n",
    "funny --------------------3757 <br>\n",
    "cool ----------------------4532 <br>\n",
    "elite ----------------------1356 <br>\n",
    "friends ---------------1091999 <br>\n",
    "fans -----------------------691 <br>\n",
    "average_stars -------------401 <br>\n",
    "compliment_hot ---------1312 <br>\n",
    "compliment_more --------352 <br>\n",
    "compliment_profile -------345 <br>\n",
    "compliment_cute ---------308 <br>\n",
    "compliment_list -----------193 <br>\n",
    "compliment_note --------1010 <br>\n",
    "compliment_plain --------1663 <br>\n",
    "compliment_cool ---------1604 <br>\n",
    "compliment_funny -------1604 <br>\n",
    "compliment_writer ---------822 <br>\n",
    "compliment_photos ------1018 <br>\n",
    "</h6>"
   ]
  },
  {
   "cell_type": "markdown",
   "metadata": {},
   "source": [
    "<h5 style=\"color: black;\">DUPLICADOS<h5> \n",
    "<h6>117700 datos duplicados</h6>"
   ]
  },
  {
   "cell_type": "markdown",
   "metadata": {},
   "source": [
    "<h5 style=\"color: black;\">VALORES ATÍPICOS (Outliers)<h5> \n",
    "<h6>No hay valores atípicos</h6>"
   ]
  },
  {
   "cell_type": "markdown",
   "metadata": {},
   "source": [
    "<h5 style=\"color: black;\">Recomendaciones<h5> \n",
    "<h6>Eliminar datos Duplicados <br>\n",
    " </h6>"
   ]
  },
  {
   "cell_type": "markdown",
   "metadata": {},
   "source": [
    "<h2 style=\"color: lightblue;\">CALIDAD DE DATOS TABLA REVIEW </h2>"
   ]
  },
  {
   "cell_type": "markdown",
   "metadata": {},
   "source": [
    "<h5 style=\"color: black;\">RESUMEN GENERAL<h5> \n",
    "<h6>Total de Columnas = 9 <br>\n",
    "Tipos de Datos: <br>\n",
    "user_id -------------------object <br>\n",
    "review_id ----------------object <br>\n",
    "business_id --------------object <br>\n",
    "date-----------------datetime64<br>\n",
    "stars -----------------------int64<br>\n",
    "useful ---------------------int64<br>\n",
    "funny ---------------------int64<br>\n",
    "cool -----------------------int64<br>\n",
    "text ------------------------int64<br>\n",
    "Total Registros = 6990280</h6>"
   ]
  },
  {
   "cell_type": "markdown",
   "metadata": {},
   "source": [
    "<h5 style=\"color: black;\">COMPLETITUD (Resumen de datos faltantes)<h5> \n",
    "<h6>Valores faltantes por columna: <br>\n",
    "No hay valores nulos</h6>"
   ]
  },
  {
   "cell_type": "markdown",
   "metadata": {},
   "source": [
    "<h5 style=\"color: black;\">CONSISTENCIA (Valores Unicos)<h5> \n",
    "<h6>Conteo de valores únicos por columna:<br>\n",
    "user_id ---------------1987929 <br>\n",
    "business_id -----------150346 <br>\n",
    "review_id ------------6990280 <br>\n",
    "date -----------------6885665 <br>\n",
    "stars -------------------------5<br>\n",
    "useful ---------------------259<br>\n",
    "funny ---------------------201<br>\n",
    "cool -----------------------210<br>\n",
    "text ------------------6974127<br>\n",
    "</h6>"
   ]
  },
  {
   "cell_type": "markdown",
   "metadata": {},
   "source": [
    "<h5 style=\"color: black;\">DUPLICADOS<h5> \n",
    "<h6>No hay datos duplicados</h6>"
   ]
  },
  {
   "cell_type": "markdown",
   "metadata": {},
   "source": [
    "<h5 style=\"color: black;\">VALORES ATÍPICOS (Outliers)<h5> \n",
    "<h6>No hay valores atípicos</h6>"
   ]
  },
  {
   "cell_type": "markdown",
   "metadata": {},
   "source": [
    "<h3 style=\"color: black;text-align: center\">ANÁLISIS</h3>\n",
    "<h3 style=\"color: violet;\">BUSINESS</h3>"
   ]
  },
  {
   "cell_type": "code",
   "execution_count": 4,
   "metadata": {},
   "outputs": [
    {
     "data": {
      "text/plain": [
       "Index(['business_id', 'name', 'address', 'city', 'state', 'postal_code',\n",
       "       'latitude', 'longitude', 'stars', 'review_count', 'is_open',\n",
       "       'attributes', 'categories', 'hours', 'business_id', 'name', 'address',\n",
       "       'city', 'state', 'postal_code', 'latitude', 'longitude', 'stars',\n",
       "       'review_count', 'is_open', 'attributes', 'categories', 'hours'],\n",
       "      dtype='object')"
      ]
     },
     "execution_count": 4,
     "metadata": {},
     "output_type": "execute_result"
    }
   ],
   "source": [
    "df_business.columns"
   ]
  },
  {
   "cell_type": "code",
   "execution_count": 9,
   "metadata": {},
   "outputs": [],
   "source": [
    "df_business = df_business.loc[:, ~df_business.columns.duplicated()]"
   ]
  },
  {
   "cell_type": "code",
   "execution_count": 44,
   "metadata": {},
   "outputs": [
    {
     "data": {
      "text/plain": [
       "business_id     0\n",
       "name            0\n",
       "address         0\n",
       "city            0\n",
       "state           0\n",
       "postal_code     0\n",
       "latitude        0\n",
       "longitude       0\n",
       "stars           0\n",
       "review_count    0\n",
       "is_open         0\n",
       "attributes      0\n",
       "categories      0\n",
       "hours           0\n",
       "z_score         0\n",
       "dtype: int64"
      ]
     },
     "execution_count": 44,
     "metadata": {},
     "output_type": "execute_result"
    }
   ],
   "source": [
    "df_business.isnull().sum()"
   ]
  },
  {
   "cell_type": "code",
   "execution_count": 15,
   "metadata": {},
   "outputs": [
    {
     "data": {
      "text/plain": [
       "(150346, 14)"
      ]
     },
     "execution_count": 15,
     "metadata": {},
     "output_type": "execute_result"
    }
   ],
   "source": [
    "df_business.shape"
   ]
  },
  {
   "cell_type": "code",
   "execution_count": 41,
   "metadata": {},
   "outputs": [
    {
     "data": {
      "text/plain": [
       "2255190"
      ]
     },
     "execution_count": 41,
     "metadata": {},
     "output_type": "execute_result"
    }
   ],
   "source": [
    "df_business.size"
   ]
  },
  {
   "cell_type": "code",
   "execution_count": 10,
   "metadata": {},
   "outputs": [
    {
     "name": "stdout",
     "output_type": "stream",
     "text": [
      "business_id     object\n",
      "name            object\n",
      "address         object\n",
      "city            object\n",
      "state           object\n",
      "postal_code     object\n",
      "latitude        object\n",
      "longitude       object\n",
      "stars           object\n",
      "review_count    object\n",
      "is_open         object\n",
      "attributes      object\n",
      "categories      object\n",
      "hours           object\n",
      "dtype: object\n"
     ]
    }
   ],
   "source": [
    "# tipos de datos\n",
    "tipo_datos_business = df_business.dtypes\n",
    "print(tipo_datos_business)"
   ]
  },
  {
   "cell_type": "code",
   "execution_count": 11,
   "metadata": {},
   "outputs": [
    {
     "data": {
      "text/html": [
       "<div>\n",
       "<style scoped>\n",
       "    .dataframe tbody tr th:only-of-type {\n",
       "        vertical-align: middle;\n",
       "    }\n",
       "\n",
       "    .dataframe tbody tr th {\n",
       "        vertical-align: top;\n",
       "    }\n",
       "\n",
       "    .dataframe thead th {\n",
       "        text-align: right;\n",
       "    }\n",
       "</style>\n",
       "<table border=\"1\" class=\"dataframe\">\n",
       "  <thead>\n",
       "    <tr style=\"text-align: right;\">\n",
       "      <th></th>\n",
       "      <th>business_id</th>\n",
       "      <th>name</th>\n",
       "      <th>address</th>\n",
       "      <th>city</th>\n",
       "      <th>state</th>\n",
       "      <th>postal_code</th>\n",
       "      <th>latitude</th>\n",
       "      <th>longitude</th>\n",
       "      <th>stars</th>\n",
       "      <th>review_count</th>\n",
       "      <th>is_open</th>\n",
       "      <th>attributes</th>\n",
       "      <th>categories</th>\n",
       "      <th>hours</th>\n",
       "    </tr>\n",
       "  </thead>\n",
       "  <tbody>\n",
       "    <tr>\n",
       "      <th>count</th>\n",
       "      <td>150346</td>\n",
       "      <td>150346</td>\n",
       "      <td>150346</td>\n",
       "      <td>150346</td>\n",
       "      <td>150346</td>\n",
       "      <td>150346</td>\n",
       "      <td>150346</td>\n",
       "      <td>150346</td>\n",
       "      <td>150346</td>\n",
       "      <td>150346</td>\n",
       "      <td>150346</td>\n",
       "      <td>150346</td>\n",
       "      <td>150346</td>\n",
       "      <td>150346</td>\n",
       "    </tr>\n",
       "    <tr>\n",
       "      <th>unique</th>\n",
       "      <td>150346</td>\n",
       "      <td>114117</td>\n",
       "      <td>122844</td>\n",
       "      <td>1416</td>\n",
       "      <td>28</td>\n",
       "      <td>3362</td>\n",
       "      <td>135593</td>\n",
       "      <td>131918</td>\n",
       "      <td>9</td>\n",
       "      <td>1158</td>\n",
       "      <td>2</td>\n",
       "      <td>87662</td>\n",
       "      <td>83161</td>\n",
       "      <td>49823</td>\n",
       "    </tr>\n",
       "    <tr>\n",
       "      <th>top</th>\n",
       "      <td>jV_XOycEzSlTx-65W906pg</td>\n",
       "      <td>Starbucks</td>\n",
       "      <td></td>\n",
       "      <td>Philadelphia</td>\n",
       "      <td>PA</td>\n",
       "      <td>93101</td>\n",
       "      <td>34.420334</td>\n",
       "      <td>-119.7107494</td>\n",
       "      <td>4.0</td>\n",
       "      <td>5</td>\n",
       "      <td>1</td>\n",
       "      <td>None</td>\n",
       "      <td>Beauty &amp; Spas, Nail Salons</td>\n",
       "      <td>None</td>\n",
       "    </tr>\n",
       "    <tr>\n",
       "      <th>freq</th>\n",
       "      <td>1</td>\n",
       "      <td>724</td>\n",
       "      <td>5127</td>\n",
       "      <td>14569</td>\n",
       "      <td>34039</td>\n",
       "      <td>1866</td>\n",
       "      <td>146</td>\n",
       "      <td>146</td>\n",
       "      <td>31125</td>\n",
       "      <td>14921</td>\n",
       "      <td>119698</td>\n",
       "      <td>13744</td>\n",
       "      <td>1012</td>\n",
       "      <td>23223</td>\n",
       "    </tr>\n",
       "  </tbody>\n",
       "</table>\n",
       "</div>"
      ],
      "text/plain": [
       "                   business_id       name address          city   state  \\\n",
       "count                   150346     150346  150346        150346  150346   \n",
       "unique                  150346     114117  122844          1416      28   \n",
       "top     jV_XOycEzSlTx-65W906pg  Starbucks          Philadelphia      PA   \n",
       "freq                         1        724    5127         14569   34039   \n",
       "\n",
       "       postal_code   latitude     longitude   stars review_count is_open  \\\n",
       "count       150346     150346        150346  150346       150346  150346   \n",
       "unique        3362     135593        131918       9         1158       2   \n",
       "top          93101  34.420334  -119.7107494     4.0            5       1   \n",
       "freq          1866        146           146   31125        14921  119698   \n",
       "\n",
       "       attributes                  categories   hours  \n",
       "count      150346                      150346  150346  \n",
       "unique      87662                       83161   49823  \n",
       "top          None  Beauty & Spas, Nail Salons    None  \n",
       "freq        13744                        1012   23223  "
      ]
     },
     "execution_count": 11,
     "metadata": {},
     "output_type": "execute_result"
    }
   ],
   "source": [
    "df_business.describe()\n",
    "\n"
   ]
  },
  {
   "cell_type": "code",
   "execution_count": null,
   "metadata": {},
   "outputs": [
    {
     "name": "stdout",
     "output_type": "stream",
     "text": [
      "Conteo de valores únicos por columna:\n",
      "business_id     150346\n",
      "name            114117\n",
      "address         122844\n",
      "city              1416\n",
      "state               28\n",
      "postal_code       3362\n",
      "latitude        135593\n",
      "longitude       131918\n",
      "stars                9\n",
      "review_count      1158\n",
      "is_open              2\n",
      "attributes       87662\n",
      "categories       83161\n",
      "hours            49823\n",
      "dtype: int64\n"
     ]
    }
   ],
   "source": [
    "# Convertir columnas con diccionarios a cadenas de texto\n",
    "for col in df_business:\n",
    "    df_business.loc[:,col] = df_business[col].astype(str)\n",
    "\n",
    "unique_counts = df_business.nunique()\n",
    "\n",
    "print(\"Conteo de valores únicos por columna:\")\n",
    "print(unique_counts)\n"
   ]
  },
  {
   "cell_type": "code",
   "execution_count": 18,
   "metadata": {},
   "outputs": [
    {
     "data": {
      "text/plain": [
       "np.int64(0)"
      ]
     },
     "execution_count": 18,
     "metadata": {},
     "output_type": "execute_result"
    }
   ],
   "source": [
    "df_business.duplicated().sum()"
   ]
  },
  {
   "cell_type": "code",
   "execution_count": 22,
   "metadata": {},
   "outputs": [
    {
     "name": "stdout",
     "output_type": "stream",
     "text": [
      "float64\n"
     ]
    }
   ],
   "source": [
    "print(df_business['latitude'].dtype)"
   ]
  },
  {
   "cell_type": "markdown",
   "metadata": {},
   "source": [
    "Detectar Outliers"
   ]
  },
  {
   "cell_type": "code",
   "execution_count": null,
   "metadata": {},
   "outputs": [
    {
     "name": "stdout",
     "output_type": "stream",
     "text": [
      "float64\n",
      "Empty DataFrame\n",
      "Columns: [business_id, name, address, city, state, postal_code, latitude, longitude, stars, review_count, is_open, attributes, categories, hours, z_score]\n",
      "Index: []\n"
     ]
    }
   ],
   "source": [
    "# Convertir la columna 'latitude' a tipo numérico utilizando .loc\n",
    "df_business.loc[:, 'latitude'] = pd.to_numeric(df_business['latitude'], errors='coerce')\n",
    "\n",
    "# Verificar el tipo de datos después de la conversión\n",
    "print(df_business['latitude'].dtype)\n",
    "\n",
    "# Calcular Z-scores utilizando .loc\n",
    "df_business.loc[:, 'z_score'] = stats.zscore(df_business['latitude'])\n",
    "\n",
    "# Detectar outliers\n",
    "outliers = df_business[(df_business['z_score'] > 3) | (df_business['z_score'] < -3)]\n",
    "\n",
    "print(outliers)\n"
   ]
  },
  {
   "cell_type": "code",
   "execution_count": 35,
   "metadata": {},
   "outputs": [
    {
     "name": "stdout",
     "output_type": "stream",
     "text": [
      "Empty DataFrame\n",
      "Columns: [business_id, name, address, city, state, postal_code, latitude, longitude, stars, review_count, is_open, attributes, categories, hours, z_score]\n",
      "Index: []\n"
     ]
    }
   ],
   "source": [
    "# Convertir la columna 'longitude' a tipo numérico utilizando .loc\n",
    "df_business.loc[:, 'longitude'] = pd.to_numeric(df_business['longitude'], errors='coerce')\n",
    "\n",
    "# Calcular Z-scores utilizando .loc\n",
    "df_business.loc[:, 'z_score'] = stats.zscore(df_business['longitude'])\n",
    "\n",
    "# Detectar outliers\n",
    "outliers = df_business[(df_business['z_score'] > 3) | (df_business['z_score'] < -3)]\n",
    "\n",
    "print(outliers)"
   ]
  },
  {
   "cell_type": "markdown",
   "metadata": {},
   "source": [
    "<h3 style=\"color: violet;\">CHECKIN</h3>"
   ]
  },
  {
   "cell_type": "code",
   "execution_count": 45,
   "metadata": {},
   "outputs": [
    {
     "data": {
      "text/plain": [
       "Index(['business_id', 'date'], dtype='object')"
      ]
     },
     "execution_count": 45,
     "metadata": {},
     "output_type": "execute_result"
    }
   ],
   "source": [
    "df_checkin.columns"
   ]
  },
  {
   "cell_type": "code",
   "execution_count": 46,
   "metadata": {},
   "outputs": [
    {
     "data": {
      "text/plain": [
       "(131930, 2)"
      ]
     },
     "execution_count": 46,
     "metadata": {},
     "output_type": "execute_result"
    }
   ],
   "source": [
    "df_checkin.shape"
   ]
  },
  {
   "cell_type": "code",
   "execution_count": 47,
   "metadata": {},
   "outputs": [
    {
     "name": "stdout",
     "output_type": "stream",
     "text": [
      "business_id    object\n",
      "date           object\n",
      "dtype: object\n"
     ]
    }
   ],
   "source": [
    "# tipos de datos\n",
    "tipo_datos_checkin = df_checkin.dtypes\n",
    "print(tipo_datos_checkin)"
   ]
  },
  {
   "cell_type": "code",
   "execution_count": 48,
   "metadata": {},
   "outputs": [
    {
     "data": {
      "text/plain": [
       "business_id    0\n",
       "date           0\n",
       "dtype: int64"
      ]
     },
     "execution_count": 48,
     "metadata": {},
     "output_type": "execute_result"
    }
   ],
   "source": [
    "df_checkin.isnull().sum()"
   ]
  },
  {
   "cell_type": "code",
   "execution_count": 49,
   "metadata": {},
   "outputs": [
    {
     "data": {
      "text/plain": [
       "np.int64(0)"
      ]
     },
     "execution_count": 49,
     "metadata": {},
     "output_type": "execute_result"
    }
   ],
   "source": [
    "df_checkin.duplicated().sum()"
   ]
  },
  {
   "cell_type": "code",
   "execution_count": 50,
   "metadata": {},
   "outputs": [
    {
     "name": "stdout",
     "output_type": "stream",
     "text": [
      "Conteo de valores únicos por columna:\n",
      "business_id    131930\n",
      "date           131930\n",
      "dtype: int64\n"
     ]
    }
   ],
   "source": [
    "unique_counts = df_checkin.nunique()\n",
    "\n",
    "print(\"Conteo de valores únicos por columna:\")\n",
    "print(unique_counts)"
   ]
  },
  {
   "cell_type": "code",
   "execution_count": 53,
   "metadata": {},
   "outputs": [
    {
     "data": {
      "text/html": [
       "<div>\n",
       "<style scoped>\n",
       "    .dataframe tbody tr th:only-of-type {\n",
       "        vertical-align: middle;\n",
       "    }\n",
       "\n",
       "    .dataframe tbody tr th {\n",
       "        vertical-align: top;\n",
       "    }\n",
       "\n",
       "    .dataframe thead th {\n",
       "        text-align: right;\n",
       "    }\n",
       "</style>\n",
       "<table border=\"1\" class=\"dataframe\">\n",
       "  <thead>\n",
       "    <tr style=\"text-align: right;\">\n",
       "      <th></th>\n",
       "      <th>business_id</th>\n",
       "      <th>date</th>\n",
       "    </tr>\n",
       "  </thead>\n",
       "  <tbody>\n",
       "    <tr>\n",
       "      <th>count</th>\n",
       "      <td>131930</td>\n",
       "      <td>131930</td>\n",
       "    </tr>\n",
       "    <tr>\n",
       "      <th>unique</th>\n",
       "      <td>131930</td>\n",
       "      <td>131930</td>\n",
       "    </tr>\n",
       "    <tr>\n",
       "      <th>top</th>\n",
       "      <td>zzyx5x0Z7xXWWvWnZFuxlQ</td>\n",
       "      <td>2015-01-06 17:51:53</td>\n",
       "    </tr>\n",
       "    <tr>\n",
       "      <th>freq</th>\n",
       "      <td>1</td>\n",
       "      <td>1</td>\n",
       "    </tr>\n",
       "  </tbody>\n",
       "</table>\n",
       "</div>"
      ],
      "text/plain": [
       "                   business_id                 date\n",
       "count                   131930               131930\n",
       "unique                  131930               131930\n",
       "top     zzyx5x0Z7xXWWvWnZFuxlQ  2015-01-06 17:51:53\n",
       "freq                         1                    1"
      ]
     },
     "execution_count": 53,
     "metadata": {},
     "output_type": "execute_result"
    }
   ],
   "source": [
    "df_checkin.describe()"
   ]
  },
  {
   "cell_type": "markdown",
   "metadata": {},
   "source": [
    "<h3 style=\"color: violet;\">TIP</h3>"
   ]
  },
  {
   "cell_type": "code",
   "execution_count": 51,
   "metadata": {},
   "outputs": [
    {
     "data": {
      "text/plain": [
       "Index(['user_id', 'business_id', 'text', 'date', 'compliment_count'], dtype='object')"
      ]
     },
     "execution_count": 51,
     "metadata": {},
     "output_type": "execute_result"
    }
   ],
   "source": [
    "df_tip.columns"
   ]
  },
  {
   "cell_type": "code",
   "execution_count": 52,
   "metadata": {},
   "outputs": [
    {
     "data": {
      "text/plain": [
       "(908915, 5)"
      ]
     },
     "execution_count": 52,
     "metadata": {},
     "output_type": "execute_result"
    }
   ],
   "source": [
    "df_tip.shape"
   ]
  },
  {
   "cell_type": "code",
   "execution_count": 54,
   "metadata": {},
   "outputs": [
    {
     "name": "stdout",
     "output_type": "stream",
     "text": [
      "user_id                     object\n",
      "business_id                 object\n",
      "text                        object\n",
      "date                datetime64[ns]\n",
      "compliment_count             int64\n",
      "dtype: object\n"
     ]
    }
   ],
   "source": [
    "# tipos de datos\n",
    "tipo_datos_tip = df_tip.dtypes\n",
    "print(tipo_datos_tip)"
   ]
  },
  {
   "cell_type": "code",
   "execution_count": 55,
   "metadata": {},
   "outputs": [
    {
     "data": {
      "text/plain": [
       "user_id             0\n",
       "business_id         0\n",
       "text                0\n",
       "date                0\n",
       "compliment_count    0\n",
       "dtype: int64"
      ]
     },
     "execution_count": 55,
     "metadata": {},
     "output_type": "execute_result"
    }
   ],
   "source": [
    "df_tip.isnull().sum()"
   ]
  },
  {
   "cell_type": "code",
   "execution_count": 56,
   "metadata": {},
   "outputs": [
    {
     "data": {
      "text/plain": [
       "np.int64(67)"
      ]
     },
     "execution_count": 56,
     "metadata": {},
     "output_type": "execute_result"
    }
   ],
   "source": [
    "df_tip.duplicated().sum()"
   ]
  },
  {
   "cell_type": "code",
   "execution_count": 57,
   "metadata": {},
   "outputs": [
    {
     "name": "stdout",
     "output_type": "stream",
     "text": [
      "Conteo de valores únicos por columna:\n",
      "user_id             301758\n",
      "business_id         106193\n",
      "text                851033\n",
      "date                906694\n",
      "compliment_count         7\n",
      "dtype: int64\n"
     ]
    }
   ],
   "source": [
    "unique_counts = df_tip.nunique()\n",
    "\n",
    "print(\"Conteo de valores únicos por columna:\")\n",
    "print(unique_counts)"
   ]
  },
  {
   "cell_type": "code",
   "execution_count": 58,
   "metadata": {},
   "outputs": [
    {
     "data": {
      "text/html": [
       "<div>\n",
       "<style scoped>\n",
       "    .dataframe tbody tr th:only-of-type {\n",
       "        vertical-align: middle;\n",
       "    }\n",
       "\n",
       "    .dataframe tbody tr th {\n",
       "        vertical-align: top;\n",
       "    }\n",
       "\n",
       "    .dataframe thead th {\n",
       "        text-align: right;\n",
       "    }\n",
       "</style>\n",
       "<table border=\"1\" class=\"dataframe\">\n",
       "  <thead>\n",
       "    <tr style=\"text-align: right;\">\n",
       "      <th></th>\n",
       "      <th>date</th>\n",
       "      <th>compliment_count</th>\n",
       "    </tr>\n",
       "  </thead>\n",
       "  <tbody>\n",
       "    <tr>\n",
       "      <th>count</th>\n",
       "      <td>908915</td>\n",
       "      <td>908915.000000</td>\n",
       "    </tr>\n",
       "    <tr>\n",
       "      <th>mean</th>\n",
       "      <td>2015-06-14 10:13:53.302817280</td>\n",
       "      <td>0.012525</td>\n",
       "    </tr>\n",
       "    <tr>\n",
       "      <th>min</th>\n",
       "      <td>2009-04-16 13:11:49</td>\n",
       "      <td>0.000000</td>\n",
       "    </tr>\n",
       "    <tr>\n",
       "      <th>25%</th>\n",
       "      <td>2013-01-26 01:18:02.500000</td>\n",
       "      <td>0.000000</td>\n",
       "    </tr>\n",
       "    <tr>\n",
       "      <th>50%</th>\n",
       "      <td>2015-03-15 01:10:25</td>\n",
       "      <td>0.000000</td>\n",
       "    </tr>\n",
       "    <tr>\n",
       "      <th>75%</th>\n",
       "      <td>2017-08-02 06:19:55.500000</td>\n",
       "      <td>0.000000</td>\n",
       "    </tr>\n",
       "    <tr>\n",
       "      <th>max</th>\n",
       "      <td>2022-01-19 20:38:55</td>\n",
       "      <td>6.000000</td>\n",
       "    </tr>\n",
       "    <tr>\n",
       "      <th>std</th>\n",
       "      <td>NaN</td>\n",
       "      <td>0.120763</td>\n",
       "    </tr>\n",
       "  </tbody>\n",
       "</table>\n",
       "</div>"
      ],
      "text/plain": [
       "                                date  compliment_count\n",
       "count                         908915     908915.000000\n",
       "mean   2015-06-14 10:13:53.302817280          0.012525\n",
       "min              2009-04-16 13:11:49          0.000000\n",
       "25%       2013-01-26 01:18:02.500000          0.000000\n",
       "50%              2015-03-15 01:10:25          0.000000\n",
       "75%       2017-08-02 06:19:55.500000          0.000000\n",
       "max              2022-01-19 20:38:55          6.000000\n",
       "std                              NaN          0.120763"
      ]
     },
     "execution_count": 58,
     "metadata": {},
     "output_type": "execute_result"
    }
   ],
   "source": [
    "df_tip.describe()"
   ]
  },
  {
   "cell_type": "markdown",
   "metadata": {},
   "source": [
    "<h3 style=\"color: violet;\">USER</h3>"
   ]
  },
  {
   "cell_type": "code",
   "execution_count": 59,
   "metadata": {},
   "outputs": [
    {
     "data": {
      "text/plain": [
       "Index(['user_id', 'name', 'review_count', 'yelping_since', 'useful', 'funny',\n",
       "       'cool', 'elite', 'friends', 'fans', 'average_stars', 'compliment_hot',\n",
       "       'compliment_more', 'compliment_profile', 'compliment_cute',\n",
       "       'compliment_list', 'compliment_note', 'compliment_plain',\n",
       "       'compliment_cool', 'compliment_funny', 'compliment_writer',\n",
       "       'compliment_photos'],\n",
       "      dtype='object')"
      ]
     },
     "execution_count": 59,
     "metadata": {},
     "output_type": "execute_result"
    }
   ],
   "source": [
    "df_user.columns"
   ]
  },
  {
   "cell_type": "code",
   "execution_count": 60,
   "metadata": {},
   "outputs": [
    {
     "data": {
      "text/html": [
       "<div>\n",
       "<style scoped>\n",
       "    .dataframe tbody tr th:only-of-type {\n",
       "        vertical-align: middle;\n",
       "    }\n",
       "\n",
       "    .dataframe tbody tr th {\n",
       "        vertical-align: top;\n",
       "    }\n",
       "\n",
       "    .dataframe thead th {\n",
       "        text-align: right;\n",
       "    }\n",
       "</style>\n",
       "<table border=\"1\" class=\"dataframe\">\n",
       "  <thead>\n",
       "    <tr style=\"text-align: right;\">\n",
       "      <th></th>\n",
       "      <th>user_id</th>\n",
       "      <th>name</th>\n",
       "      <th>review_count</th>\n",
       "      <th>yelping_since</th>\n",
       "      <th>useful</th>\n",
       "      <th>funny</th>\n",
       "      <th>cool</th>\n",
       "      <th>elite</th>\n",
       "      <th>friends</th>\n",
       "      <th>fans</th>\n",
       "      <th>...</th>\n",
       "      <th>compliment_more</th>\n",
       "      <th>compliment_profile</th>\n",
       "      <th>compliment_cute</th>\n",
       "      <th>compliment_list</th>\n",
       "      <th>compliment_note</th>\n",
       "      <th>compliment_plain</th>\n",
       "      <th>compliment_cool</th>\n",
       "      <th>compliment_funny</th>\n",
       "      <th>compliment_writer</th>\n",
       "      <th>compliment_photos</th>\n",
       "    </tr>\n",
       "  </thead>\n",
       "  <tbody>\n",
       "    <tr>\n",
       "      <th>0</th>\n",
       "      <td>qVc8ODYU5SZjKXVBgXdI7w</td>\n",
       "      <td>Walker</td>\n",
       "      <td>585</td>\n",
       "      <td>2007-01-25 16:47:26</td>\n",
       "      <td>7217</td>\n",
       "      <td>1259</td>\n",
       "      <td>5994</td>\n",
       "      <td>2007</td>\n",
       "      <td>NSCy54eWehBJyZdG2iE84w, pe42u7DcCH2QmI81NX-8qA...</td>\n",
       "      <td>267</td>\n",
       "      <td>...</td>\n",
       "      <td>65</td>\n",
       "      <td>55</td>\n",
       "      <td>56</td>\n",
       "      <td>18</td>\n",
       "      <td>232</td>\n",
       "      <td>844</td>\n",
       "      <td>467</td>\n",
       "      <td>467</td>\n",
       "      <td>239</td>\n",
       "      <td>180</td>\n",
       "    </tr>\n",
       "    <tr>\n",
       "      <th>1</th>\n",
       "      <td>j14WgRoU_-2ZE1aw1dXrJg</td>\n",
       "      <td>Daniel</td>\n",
       "      <td>4333</td>\n",
       "      <td>2009-01-25 04:35:42</td>\n",
       "      <td>43091</td>\n",
       "      <td>13066</td>\n",
       "      <td>27281</td>\n",
       "      <td>2009,2010,2011,2012,2013,2014,2015,2016,2017,2...</td>\n",
       "      <td>ueRPE0CX75ePGMqOFVj6IQ, 52oH4DrRvzzl8wh5UXyU0A...</td>\n",
       "      <td>3138</td>\n",
       "      <td>...</td>\n",
       "      <td>264</td>\n",
       "      <td>184</td>\n",
       "      <td>157</td>\n",
       "      <td>251</td>\n",
       "      <td>1847</td>\n",
       "      <td>7054</td>\n",
       "      <td>3131</td>\n",
       "      <td>3131</td>\n",
       "      <td>1521</td>\n",
       "      <td>1946</td>\n",
       "    </tr>\n",
       "  </tbody>\n",
       "</table>\n",
       "<p>2 rows × 22 columns</p>\n",
       "</div>"
      ],
      "text/plain": [
       "                  user_id    name  review_count        yelping_since  useful  \\\n",
       "0  qVc8ODYU5SZjKXVBgXdI7w  Walker           585  2007-01-25 16:47:26    7217   \n",
       "1  j14WgRoU_-2ZE1aw1dXrJg  Daniel          4333  2009-01-25 04:35:42   43091   \n",
       "\n",
       "   funny   cool                                              elite  \\\n",
       "0   1259   5994                                               2007   \n",
       "1  13066  27281  2009,2010,2011,2012,2013,2014,2015,2016,2017,2...   \n",
       "\n",
       "                                             friends  fans  ...  \\\n",
       "0  NSCy54eWehBJyZdG2iE84w, pe42u7DcCH2QmI81NX-8qA...   267  ...   \n",
       "1  ueRPE0CX75ePGMqOFVj6IQ, 52oH4DrRvzzl8wh5UXyU0A...  3138  ...   \n",
       "\n",
       "   compliment_more  compliment_profile  compliment_cute  compliment_list  \\\n",
       "0               65                  55               56               18   \n",
       "1              264                 184              157              251   \n",
       "\n",
       "   compliment_note  compliment_plain  compliment_cool  compliment_funny  \\\n",
       "0              232               844              467               467   \n",
       "1             1847              7054             3131              3131   \n",
       "\n",
       "   compliment_writer  compliment_photos  \n",
       "0                239                180  \n",
       "1               1521               1946  \n",
       "\n",
       "[2 rows x 22 columns]"
      ]
     },
     "execution_count": 60,
     "metadata": {},
     "output_type": "execute_result"
    }
   ],
   "source": [
    "df_user.head(2)"
   ]
  },
  {
   "cell_type": "code",
   "execution_count": 61,
   "metadata": {},
   "outputs": [
    {
     "data": {
      "text/plain": [
       "(2105597, 22)"
      ]
     },
     "execution_count": 61,
     "metadata": {},
     "output_type": "execute_result"
    }
   ],
   "source": [
    "df_user.shape"
   ]
  },
  {
   "cell_type": "code",
   "execution_count": 62,
   "metadata": {},
   "outputs": [
    {
     "name": "stdout",
     "output_type": "stream",
     "text": [
      "user_id                object\n",
      "name                   object\n",
      "review_count            int64\n",
      "yelping_since          object\n",
      "useful                  int64\n",
      "funny                   int64\n",
      "cool                    int64\n",
      "elite                  object\n",
      "friends                object\n",
      "fans                    int64\n",
      "average_stars         float64\n",
      "compliment_hot          int64\n",
      "compliment_more         int64\n",
      "compliment_profile      int64\n",
      "compliment_cute         int64\n",
      "compliment_list         int64\n",
      "compliment_note         int64\n",
      "compliment_plain        int64\n",
      "compliment_cool         int64\n",
      "compliment_funny        int64\n",
      "compliment_writer       int64\n",
      "compliment_photos       int64\n",
      "dtype: object\n"
     ]
    }
   ],
   "source": [
    "# tipos de datos\n",
    "tipo_datos_user = df_user.dtypes\n",
    "print(tipo_datos_user)"
   ]
  },
  {
   "cell_type": "code",
   "execution_count": 63,
   "metadata": {},
   "outputs": [
    {
     "data": {
      "text/plain": [
       "user_id               0\n",
       "name                  0\n",
       "review_count          0\n",
       "yelping_since         0\n",
       "useful                0\n",
       "funny                 0\n",
       "cool                  0\n",
       "elite                 0\n",
       "friends               0\n",
       "fans                  0\n",
       "average_stars         0\n",
       "compliment_hot        0\n",
       "compliment_more       0\n",
       "compliment_profile    0\n",
       "compliment_cute       0\n",
       "compliment_list       0\n",
       "compliment_note       0\n",
       "compliment_plain      0\n",
       "compliment_cool       0\n",
       "compliment_funny      0\n",
       "compliment_writer     0\n",
       "compliment_photos     0\n",
       "dtype: int64"
      ]
     },
     "execution_count": 63,
     "metadata": {},
     "output_type": "execute_result"
    }
   ],
   "source": [
    "df_user.isnull().sum()"
   ]
  },
  {
   "cell_type": "code",
   "execution_count": 64,
   "metadata": {},
   "outputs": [
    {
     "data": {
      "text/plain": [
       "np.int64(117700)"
      ]
     },
     "execution_count": 64,
     "metadata": {},
     "output_type": "execute_result"
    }
   ],
   "source": [
    "df_user.duplicated().sum()"
   ]
  },
  {
   "cell_type": "code",
   "execution_count": 65,
   "metadata": {},
   "outputs": [
    {
     "data": {
      "text/html": [
       "<div>\n",
       "<style scoped>\n",
       "    .dataframe tbody tr th:only-of-type {\n",
       "        vertical-align: middle;\n",
       "    }\n",
       "\n",
       "    .dataframe tbody tr th {\n",
       "        vertical-align: top;\n",
       "    }\n",
       "\n",
       "    .dataframe thead th {\n",
       "        text-align: right;\n",
       "    }\n",
       "</style>\n",
       "<table border=\"1\" class=\"dataframe\">\n",
       "  <thead>\n",
       "    <tr style=\"text-align: right;\">\n",
       "      <th></th>\n",
       "      <th>review_count</th>\n",
       "      <th>useful</th>\n",
       "      <th>funny</th>\n",
       "      <th>cool</th>\n",
       "      <th>fans</th>\n",
       "      <th>average_stars</th>\n",
       "      <th>compliment_hot</th>\n",
       "      <th>compliment_more</th>\n",
       "      <th>compliment_profile</th>\n",
       "      <th>compliment_cute</th>\n",
       "      <th>compliment_list</th>\n",
       "      <th>compliment_note</th>\n",
       "      <th>compliment_plain</th>\n",
       "      <th>compliment_cool</th>\n",
       "      <th>compliment_funny</th>\n",
       "      <th>compliment_writer</th>\n",
       "      <th>compliment_photos</th>\n",
       "    </tr>\n",
       "  </thead>\n",
       "  <tbody>\n",
       "    <tr>\n",
       "      <th>count</th>\n",
       "      <td>2.105597e+06</td>\n",
       "      <td>2.105597e+06</td>\n",
       "      <td>2.105597e+06</td>\n",
       "      <td>2.105597e+06</td>\n",
       "      <td>2.105597e+06</td>\n",
       "      <td>2.105597e+06</td>\n",
       "      <td>2.105597e+06</td>\n",
       "      <td>2.105597e+06</td>\n",
       "      <td>2.105597e+06</td>\n",
       "      <td>2.105597e+06</td>\n",
       "      <td>2.105597e+06</td>\n",
       "      <td>2.105597e+06</td>\n",
       "      <td>2.105597e+06</td>\n",
       "      <td>2.105597e+06</td>\n",
       "      <td>2.105597e+06</td>\n",
       "      <td>2.105597e+06</td>\n",
       "      <td>2.105597e+06</td>\n",
       "    </tr>\n",
       "    <tr>\n",
       "      <th>mean</th>\n",
       "      <td>2.846875e+01</td>\n",
       "      <td>5.516853e+01</td>\n",
       "      <td>2.267667e+01</td>\n",
       "      <td>3.143013e+01</td>\n",
       "      <td>1.913746e+00</td>\n",
       "      <td>3.641863e+00</td>\n",
       "      <td>2.444596e+00</td>\n",
       "      <td>3.968618e-01</td>\n",
       "      <td>2.532631e-01</td>\n",
       "      <td>1.858665e-01</td>\n",
       "      <td>9.631663e-02</td>\n",
       "      <td>1.921464e+00</td>\n",
       "      <td>4.124809e+00</td>\n",
       "      <td>3.805567e+00</td>\n",
       "      <td>3.805567e+00</td>\n",
       "      <td>1.459133e+00</td>\n",
       "      <td>1.499514e+00</td>\n",
       "    </tr>\n",
       "    <tr>\n",
       "      <th>std</th>\n",
       "      <td>1.042146e+02</td>\n",
       "      <td>7.388068e+02</td>\n",
       "      <td>4.628811e+02</td>\n",
       "      <td>6.379274e+02</td>\n",
       "      <td>2.436510e+01</td>\n",
       "      <td>1.159519e+00</td>\n",
       "      <td>7.963704e+01</td>\n",
       "      <td>1.405658e+01</td>\n",
       "      <td>1.767698e+01</td>\n",
       "      <td>1.170051e+01</td>\n",
       "      <td>1.049796e+01</td>\n",
       "      <td>6.177753e+01</td>\n",
       "      <td>1.364953e+02</td>\n",
       "      <td>1.057484e+02</td>\n",
       "      <td>1.057484e+02</td>\n",
       "      <td>3.676692e+01</td>\n",
       "      <td>9.607754e+01</td>\n",
       "    </tr>\n",
       "    <tr>\n",
       "      <th>min</th>\n",
       "      <td>0.000000e+00</td>\n",
       "      <td>0.000000e+00</td>\n",
       "      <td>0.000000e+00</td>\n",
       "      <td>0.000000e+00</td>\n",
       "      <td>0.000000e+00</td>\n",
       "      <td>1.000000e+00</td>\n",
       "      <td>0.000000e+00</td>\n",
       "      <td>0.000000e+00</td>\n",
       "      <td>0.000000e+00</td>\n",
       "      <td>0.000000e+00</td>\n",
       "      <td>0.000000e+00</td>\n",
       "      <td>0.000000e+00</td>\n",
       "      <td>0.000000e+00</td>\n",
       "      <td>0.000000e+00</td>\n",
       "      <td>0.000000e+00</td>\n",
       "      <td>0.000000e+00</td>\n",
       "      <td>0.000000e+00</td>\n",
       "    </tr>\n",
       "    <tr>\n",
       "      <th>25%</th>\n",
       "      <td>2.000000e+00</td>\n",
       "      <td>0.000000e+00</td>\n",
       "      <td>0.000000e+00</td>\n",
       "      <td>0.000000e+00</td>\n",
       "      <td>0.000000e+00</td>\n",
       "      <td>3.000000e+00</td>\n",
       "      <td>0.000000e+00</td>\n",
       "      <td>0.000000e+00</td>\n",
       "      <td>0.000000e+00</td>\n",
       "      <td>0.000000e+00</td>\n",
       "      <td>0.000000e+00</td>\n",
       "      <td>0.000000e+00</td>\n",
       "      <td>0.000000e+00</td>\n",
       "      <td>0.000000e+00</td>\n",
       "      <td>0.000000e+00</td>\n",
       "      <td>0.000000e+00</td>\n",
       "      <td>0.000000e+00</td>\n",
       "    </tr>\n",
       "    <tr>\n",
       "      <th>50%</th>\n",
       "      <td>6.000000e+00</td>\n",
       "      <td>3.000000e+00</td>\n",
       "      <td>0.000000e+00</td>\n",
       "      <td>0.000000e+00</td>\n",
       "      <td>0.000000e+00</td>\n",
       "      <td>3.880000e+00</td>\n",
       "      <td>0.000000e+00</td>\n",
       "      <td>0.000000e+00</td>\n",
       "      <td>0.000000e+00</td>\n",
       "      <td>0.000000e+00</td>\n",
       "      <td>0.000000e+00</td>\n",
       "      <td>0.000000e+00</td>\n",
       "      <td>0.000000e+00</td>\n",
       "      <td>0.000000e+00</td>\n",
       "      <td>0.000000e+00</td>\n",
       "      <td>0.000000e+00</td>\n",
       "      <td>0.000000e+00</td>\n",
       "    </tr>\n",
       "    <tr>\n",
       "      <th>75%</th>\n",
       "      <td>1.900000e+01</td>\n",
       "      <td>1.500000e+01</td>\n",
       "      <td>3.000000e+00</td>\n",
       "      <td>4.000000e+00</td>\n",
       "      <td>0.000000e+00</td>\n",
       "      <td>4.500000e+00</td>\n",
       "      <td>0.000000e+00</td>\n",
       "      <td>0.000000e+00</td>\n",
       "      <td>0.000000e+00</td>\n",
       "      <td>0.000000e+00</td>\n",
       "      <td>0.000000e+00</td>\n",
       "      <td>0.000000e+00</td>\n",
       "      <td>0.000000e+00</td>\n",
       "      <td>0.000000e+00</td>\n",
       "      <td>0.000000e+00</td>\n",
       "      <td>0.000000e+00</td>\n",
       "      <td>0.000000e+00</td>\n",
       "    </tr>\n",
       "    <tr>\n",
       "      <th>max</th>\n",
       "      <td>1.747300e+04</td>\n",
       "      <td>2.062960e+05</td>\n",
       "      <td>1.858230e+05</td>\n",
       "      <td>1.998780e+05</td>\n",
       "      <td>1.249700e+04</td>\n",
       "      <td>5.000000e+00</td>\n",
       "      <td>2.578400e+04</td>\n",
       "      <td>1.350100e+04</td>\n",
       "      <td>1.418000e+04</td>\n",
       "      <td>1.365400e+04</td>\n",
       "      <td>1.266900e+04</td>\n",
       "      <td>5.903100e+04</td>\n",
       "      <td>1.010970e+05</td>\n",
       "      <td>4.996700e+04</td>\n",
       "      <td>4.996700e+04</td>\n",
       "      <td>1.593400e+04</td>\n",
       "      <td>8.263000e+04</td>\n",
       "    </tr>\n",
       "  </tbody>\n",
       "</table>\n",
       "</div>"
      ],
      "text/plain": [
       "       review_count        useful         funny          cool          fans  \\\n",
       "count  2.105597e+06  2.105597e+06  2.105597e+06  2.105597e+06  2.105597e+06   \n",
       "mean   2.846875e+01  5.516853e+01  2.267667e+01  3.143013e+01  1.913746e+00   \n",
       "std    1.042146e+02  7.388068e+02  4.628811e+02  6.379274e+02  2.436510e+01   \n",
       "min    0.000000e+00  0.000000e+00  0.000000e+00  0.000000e+00  0.000000e+00   \n",
       "25%    2.000000e+00  0.000000e+00  0.000000e+00  0.000000e+00  0.000000e+00   \n",
       "50%    6.000000e+00  3.000000e+00  0.000000e+00  0.000000e+00  0.000000e+00   \n",
       "75%    1.900000e+01  1.500000e+01  3.000000e+00  4.000000e+00  0.000000e+00   \n",
       "max    1.747300e+04  2.062960e+05  1.858230e+05  1.998780e+05  1.249700e+04   \n",
       "\n",
       "       average_stars  compliment_hot  compliment_more  compliment_profile  \\\n",
       "count   2.105597e+06    2.105597e+06     2.105597e+06        2.105597e+06   \n",
       "mean    3.641863e+00    2.444596e+00     3.968618e-01        2.532631e-01   \n",
       "std     1.159519e+00    7.963704e+01     1.405658e+01        1.767698e+01   \n",
       "min     1.000000e+00    0.000000e+00     0.000000e+00        0.000000e+00   \n",
       "25%     3.000000e+00    0.000000e+00     0.000000e+00        0.000000e+00   \n",
       "50%     3.880000e+00    0.000000e+00     0.000000e+00        0.000000e+00   \n",
       "75%     4.500000e+00    0.000000e+00     0.000000e+00        0.000000e+00   \n",
       "max     5.000000e+00    2.578400e+04     1.350100e+04        1.418000e+04   \n",
       "\n",
       "       compliment_cute  compliment_list  compliment_note  compliment_plain  \\\n",
       "count     2.105597e+06     2.105597e+06     2.105597e+06      2.105597e+06   \n",
       "mean      1.858665e-01     9.631663e-02     1.921464e+00      4.124809e+00   \n",
       "std       1.170051e+01     1.049796e+01     6.177753e+01      1.364953e+02   \n",
       "min       0.000000e+00     0.000000e+00     0.000000e+00      0.000000e+00   \n",
       "25%       0.000000e+00     0.000000e+00     0.000000e+00      0.000000e+00   \n",
       "50%       0.000000e+00     0.000000e+00     0.000000e+00      0.000000e+00   \n",
       "75%       0.000000e+00     0.000000e+00     0.000000e+00      0.000000e+00   \n",
       "max       1.365400e+04     1.266900e+04     5.903100e+04      1.010970e+05   \n",
       "\n",
       "       compliment_cool  compliment_funny  compliment_writer  compliment_photos  \n",
       "count     2.105597e+06      2.105597e+06       2.105597e+06       2.105597e+06  \n",
       "mean      3.805567e+00      3.805567e+00       1.459133e+00       1.499514e+00  \n",
       "std       1.057484e+02      1.057484e+02       3.676692e+01       9.607754e+01  \n",
       "min       0.000000e+00      0.000000e+00       0.000000e+00       0.000000e+00  \n",
       "25%       0.000000e+00      0.000000e+00       0.000000e+00       0.000000e+00  \n",
       "50%       0.000000e+00      0.000000e+00       0.000000e+00       0.000000e+00  \n",
       "75%       0.000000e+00      0.000000e+00       0.000000e+00       0.000000e+00  \n",
       "max       4.996700e+04      4.996700e+04       1.593400e+04       8.263000e+04  "
      ]
     },
     "execution_count": 65,
     "metadata": {},
     "output_type": "execute_result"
    }
   ],
   "source": [
    "df_user.describe()"
   ]
  },
  {
   "cell_type": "code",
   "execution_count": 66,
   "metadata": {},
   "outputs": [
    {
     "name": "stdout",
     "output_type": "stream",
     "text": [
      "Conteo de valores únicos por columna:\n",
      "user_id               1987897\n",
      "name                   132361\n",
      "review_count             1973\n",
      "yelping_since         1980183\n",
      "useful                   5349\n",
      "funny                    3757\n",
      "cool                     4532\n",
      "elite                    1356\n",
      "friends               1091999\n",
      "fans                      691\n",
      "average_stars             401\n",
      "compliment_hot           1312\n",
      "compliment_more           352\n",
      "compliment_profile        345\n",
      "compliment_cute           308\n",
      "compliment_list           193\n",
      "compliment_note          1010\n",
      "compliment_plain         1663\n",
      "compliment_cool          1604\n",
      "compliment_funny         1604\n",
      "compliment_writer         822\n",
      "compliment_photos        1018\n",
      "dtype: int64\n"
     ]
    }
   ],
   "source": [
    "unique_counts = df_user.nunique()\n",
    "\n",
    "print(\"Conteo de valores únicos por columna:\")\n",
    "print(unique_counts)"
   ]
  },
  {
   "cell_type": "markdown",
   "metadata": {},
   "source": [
    "<h3 style=\"color: violet;\">REVIEW</h3>"
   ]
  },
  {
   "cell_type": "code",
   "execution_count": 67,
   "metadata": {},
   "outputs": [
    {
     "data": {
      "text/plain": [
       "Index(['review_id', 'user_id', 'business_id', 'stars', 'useful', 'funny',\n",
       "       'cool', 'text', 'date'],\n",
       "      dtype='object')"
      ]
     },
     "execution_count": 67,
     "metadata": {},
     "output_type": "execute_result"
    }
   ],
   "source": [
    "df_review.columns"
   ]
  },
  {
   "cell_type": "code",
   "execution_count": 68,
   "metadata": {},
   "outputs": [
    {
     "data": {
      "text/plain": [
       "(6990280, 9)"
      ]
     },
     "execution_count": 68,
     "metadata": {},
     "output_type": "execute_result"
    }
   ],
   "source": [
    "df_review.shape"
   ]
  },
  {
   "cell_type": "code",
   "execution_count": 69,
   "metadata": {},
   "outputs": [
    {
     "name": "stdout",
     "output_type": "stream",
     "text": [
      "review_id              object\n",
      "user_id                object\n",
      "business_id            object\n",
      "stars                   int64\n",
      "useful                  int64\n",
      "funny                   int64\n",
      "cool                    int64\n",
      "text                   object\n",
      "date           datetime64[ns]\n",
      "dtype: object\n"
     ]
    }
   ],
   "source": [
    "# tipos de datos\n",
    "tipo_datos_review = df_review.dtypes\n",
    "print(tipo_datos_review)"
   ]
  },
  {
   "cell_type": "code",
   "execution_count": 70,
   "metadata": {},
   "outputs": [
    {
     "data": {
      "text/plain": [
       "review_id      0\n",
       "user_id        0\n",
       "business_id    0\n",
       "stars          0\n",
       "useful         0\n",
       "funny          0\n",
       "cool           0\n",
       "text           0\n",
       "date           0\n",
       "dtype: int64"
      ]
     },
     "execution_count": 70,
     "metadata": {},
     "output_type": "execute_result"
    }
   ],
   "source": [
    "df_review.isnull().sum()"
   ]
  },
  {
   "cell_type": "code",
   "execution_count": 71,
   "metadata": {},
   "outputs": [
    {
     "data": {
      "text/plain": [
       "np.int64(0)"
      ]
     },
     "execution_count": 71,
     "metadata": {},
     "output_type": "execute_result"
    }
   ],
   "source": [
    "df_review.duplicated().sum()"
   ]
  },
  {
   "cell_type": "code",
   "execution_count": 72,
   "metadata": {},
   "outputs": [
    {
     "name": "stdout",
     "output_type": "stream",
     "text": [
      "Conteo de valores únicos por columna:\n",
      "review_id      6990280\n",
      "user_id        1987929\n",
      "business_id     150346\n",
      "stars                5\n",
      "useful             259\n",
      "funny              201\n",
      "cool               210\n",
      "text           6974127\n",
      "date           6885665\n",
      "dtype: int64\n"
     ]
    }
   ],
   "source": [
    "unique_counts = df_review.nunique()\n",
    "\n",
    "print(\"Conteo de valores únicos por columna:\")\n",
    "print(unique_counts)"
   ]
  }
 ],
 "metadata": {
  "kernelspec": {
   "display_name": "Python 3",
   "language": "python",
   "name": "python3"
  },
  "language_info": {
   "codemirror_mode": {
    "name": "ipython",
    "version": 3
   },
   "file_extension": ".py",
   "mimetype": "text/x-python",
   "name": "python",
   "nbconvert_exporter": "python",
   "pygments_lexer": "ipython3",
   "version": "3.13.0"
  }
 },
 "nbformat": 4,
 "nbformat_minor": 2
}
